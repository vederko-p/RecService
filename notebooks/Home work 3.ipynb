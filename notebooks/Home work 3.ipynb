{
 "cells": [
  {
   "cell_type": "markdown",
   "id": "e3fa7545",
   "metadata": {},
   "source": [
    "# Dependencies"
   ]
  },
  {
   "cell_type": "code",
   "execution_count": 43,
   "id": "98c66c64",
   "metadata": {},
   "outputs": [],
   "source": [
    "import pandas as pd\n",
    "import numpy as np\n",
    "from tqdm.auto import tqdm\n",
    "import dill\n",
    "from implicit.nearest_neighbours import CosineRecommender,\\\n",
    "                                        TFIDFRecommender\n",
    "import warnings\n",
    "warnings.filterwarnings(\"ignore\")\n",
    "\n",
    "from rectools import Columns\n",
    "from rectools.dataset import Dataset\n",
    "from rectools.metrics import MAP, calc_metrics\n",
    "\n",
    "from userknn import UserKnn"
   ]
  },
  {
   "cell_type": "markdown",
   "id": "4b3d9a3d",
   "metadata": {},
   "source": [
    "# Dataset"
   ]
  },
  {
   "cell_type": "code",
   "execution_count": 2,
   "id": "6f8403fc",
   "metadata": {},
   "outputs": [],
   "source": [
    "interactions = pd.read_csv('kion_train/interactions.csv')\n",
    "users = pd.read_csv('kion_train/users.csv')\n",
    "items = pd.read_csv('kion_train/items.csv')"
   ]
  },
  {
   "cell_type": "code",
   "execution_count": 3,
   "id": "71b3f459",
   "metadata": {},
   "outputs": [],
   "source": [
    "# rename columns, convert timestamp\n",
    "interactions.rename(columns={'last_watch_dt': Columns.Datetime,\n",
    "                            'total_dur': Columns.Weight}, \n",
    "                    inplace=True) \n",
    "\n",
    "interactions['datetime'] = pd.to_datetime(interactions['datetime'])"
   ]
  },
  {
   "cell_type": "code",
   "execution_count": 4,
   "id": "e0562b4d",
   "metadata": {},
   "outputs": [
    {
     "data": {
      "text/html": [
       "<div>\n",
       "<style scoped>\n",
       "    .dataframe tbody tr th:only-of-type {\n",
       "        vertical-align: middle;\n",
       "    }\n",
       "\n",
       "    .dataframe tbody tr th {\n",
       "        vertical-align: top;\n",
       "    }\n",
       "\n",
       "    .dataframe thead th {\n",
       "        text-align: right;\n",
       "    }\n",
       "</style>\n",
       "<table border=\"1\" class=\"dataframe\">\n",
       "  <thead>\n",
       "    <tr style=\"text-align: right;\">\n",
       "      <th></th>\n",
       "      <th>user_id</th>\n",
       "      <th>item_id</th>\n",
       "      <th>datetime</th>\n",
       "      <th>weight</th>\n",
       "      <th>watched_pct</th>\n",
       "    </tr>\n",
       "  </thead>\n",
       "  <tbody>\n",
       "    <tr>\n",
       "      <th>0</th>\n",
       "      <td>176549</td>\n",
       "      <td>9506</td>\n",
       "      <td>2021-05-11</td>\n",
       "      <td>4250</td>\n",
       "      <td>72.0</td>\n",
       "    </tr>\n",
       "    <tr>\n",
       "      <th>5476250</th>\n",
       "      <td>319709</td>\n",
       "      <td>4436</td>\n",
       "      <td>2021-08-15</td>\n",
       "      <td>3921</td>\n",
       "      <td>45.0</td>\n",
       "    </tr>\n",
       "  </tbody>\n",
       "</table>\n",
       "</div>"
      ],
      "text/plain": [
       "         user_id  item_id   datetime  weight  watched_pct\n",
       "0         176549     9506 2021-05-11    4250         72.0\n",
       "5476250   319709     4436 2021-08-15    3921         45.0"
      ]
     },
     "execution_count": 4,
     "metadata": {},
     "output_type": "execute_result"
    }
   ],
   "source": [
    "pd.concat([interactions.head(1), interactions.tail(1)])"
   ]
  },
  {
   "cell_type": "code",
   "execution_count": 5,
   "id": "c1303d2f",
   "metadata": {},
   "outputs": [
    {
     "data": {
      "text/html": [
       "<div>\n",
       "<style scoped>\n",
       "    .dataframe tbody tr th:only-of-type {\n",
       "        vertical-align: middle;\n",
       "    }\n",
       "\n",
       "    .dataframe tbody tr th {\n",
       "        vertical-align: top;\n",
       "    }\n",
       "\n",
       "    .dataframe thead th {\n",
       "        text-align: right;\n",
       "    }\n",
       "</style>\n",
       "<table border=\"1\" class=\"dataframe\">\n",
       "  <thead>\n",
       "    <tr style=\"text-align: right;\">\n",
       "      <th></th>\n",
       "      <th>user_id</th>\n",
       "      <th>age</th>\n",
       "      <th>income</th>\n",
       "      <th>sex</th>\n",
       "      <th>kids_flg</th>\n",
       "    </tr>\n",
       "  </thead>\n",
       "  <tbody>\n",
       "    <tr>\n",
       "      <th>0</th>\n",
       "      <td>973171</td>\n",
       "      <td>age_25_34</td>\n",
       "      <td>income_60_90</td>\n",
       "      <td>М</td>\n",
       "      <td>1</td>\n",
       "    </tr>\n",
       "    <tr>\n",
       "      <th>840196</th>\n",
       "      <td>166555</td>\n",
       "      <td>age_65_inf</td>\n",
       "      <td>income_20_40</td>\n",
       "      <td>Ж</td>\n",
       "      <td>0</td>\n",
       "    </tr>\n",
       "  </tbody>\n",
       "</table>\n",
       "</div>"
      ],
      "text/plain": [
       "        user_id         age        income sex  kids_flg\n",
       "0        973171   age_25_34  income_60_90   М         1\n",
       "840196   166555  age_65_inf  income_20_40   Ж         0"
      ]
     },
     "execution_count": 5,
     "metadata": {},
     "output_type": "execute_result"
    }
   ],
   "source": [
    "pd.concat([users.head(1), users.tail(1)])"
   ]
  },
  {
   "cell_type": "code",
   "execution_count": 6,
   "id": "03e41e16",
   "metadata": {},
   "outputs": [
    {
     "data": {
      "text/html": [
       "<div>\n",
       "<style scoped>\n",
       "    .dataframe tbody tr th:only-of-type {\n",
       "        vertical-align: middle;\n",
       "    }\n",
       "\n",
       "    .dataframe tbody tr th {\n",
       "        vertical-align: top;\n",
       "    }\n",
       "\n",
       "    .dataframe thead th {\n",
       "        text-align: right;\n",
       "    }\n",
       "</style>\n",
       "<table border=\"1\" class=\"dataframe\">\n",
       "  <thead>\n",
       "    <tr style=\"text-align: right;\">\n",
       "      <th></th>\n",
       "      <th>item_id</th>\n",
       "      <th>content_type</th>\n",
       "      <th>title</th>\n",
       "      <th>title_orig</th>\n",
       "      <th>release_year</th>\n",
       "      <th>genres</th>\n",
       "      <th>countries</th>\n",
       "      <th>for_kids</th>\n",
       "      <th>age_rating</th>\n",
       "      <th>studios</th>\n",
       "      <th>directors</th>\n",
       "      <th>actors</th>\n",
       "      <th>description</th>\n",
       "      <th>keywords</th>\n",
       "    </tr>\n",
       "  </thead>\n",
       "  <tbody>\n",
       "    <tr>\n",
       "      <th>0</th>\n",
       "      <td>10711</td>\n",
       "      <td>film</td>\n",
       "      <td>Поговори с ней</td>\n",
       "      <td>Hable con ella</td>\n",
       "      <td>2002.0</td>\n",
       "      <td>драмы, зарубежные, детективы, мелодрамы</td>\n",
       "      <td>Испания</td>\n",
       "      <td>NaN</td>\n",
       "      <td>16.0</td>\n",
       "      <td>NaN</td>\n",
       "      <td>Педро Альмодовар</td>\n",
       "      <td>Адольфо Фернандес, Ана Фернандес, Дарио Гранди...</td>\n",
       "      <td>Мелодрама легендарного Педро Альмодовара «Пого...</td>\n",
       "      <td>Поговори, ней, 2002, Испания, друзья, любовь, ...</td>\n",
       "    </tr>\n",
       "    <tr>\n",
       "      <th>15962</th>\n",
       "      <td>3206</td>\n",
       "      <td>series</td>\n",
       "      <td>Гоша</td>\n",
       "      <td>NaN</td>\n",
       "      <td>2019.0</td>\n",
       "      <td>комедии</td>\n",
       "      <td>Россия</td>\n",
       "      <td>0.0</td>\n",
       "      <td>16.0</td>\n",
       "      <td>NaN</td>\n",
       "      <td>Михаил Миронов</td>\n",
       "      <td>Мкртыч Арзуманян, Виктория Рунцова</td>\n",
       "      <td>Добродушный Гоша не может выйти из дома, чтобы...</td>\n",
       "      <td>Гоша, 2019, Россия</td>\n",
       "    </tr>\n",
       "  </tbody>\n",
       "</table>\n",
       "</div>"
      ],
      "text/plain": [
       "       item_id content_type           title      title_orig  release_year  \\\n",
       "0        10711         film  Поговори с ней  Hable con ella        2002.0   \n",
       "15962     3206       series            Гоша             NaN        2019.0   \n",
       "\n",
       "                                        genres countries  for_kids  \\\n",
       "0      драмы, зарубежные, детективы, мелодрамы   Испания       NaN   \n",
       "15962                                  комедии    Россия       0.0   \n",
       "\n",
       "       age_rating studios         directors  \\\n",
       "0            16.0     NaN  Педро Альмодовар   \n",
       "15962        16.0     NaN    Михаил Миронов   \n",
       "\n",
       "                                                  actors  \\\n",
       "0      Адольфо Фернандес, Ана Фернандес, Дарио Гранди...   \n",
       "15962                 Мкртыч Арзуманян, Виктория Рунцова   \n",
       "\n",
       "                                             description  \\\n",
       "0      Мелодрама легендарного Педро Альмодовара «Пого...   \n",
       "15962  Добродушный Гоша не может выйти из дома, чтобы...   \n",
       "\n",
       "                                                keywords  \n",
       "0      Поговори, ней, 2002, Испания, друзья, любовь, ...  \n",
       "15962                                 Гоша, 2019, Россия  "
      ]
     },
     "execution_count": 6,
     "metadata": {},
     "output_type": "execute_result"
    }
   ],
   "source": [
    "pd.concat([items.head(1), items.tail(1)])"
   ]
  },
  {
   "cell_type": "markdown",
   "id": "3d38552d",
   "metadata": {},
   "source": [
    "# Baseline"
   ]
  },
  {
   "cell_type": "markdown",
   "id": "217d0e5e",
   "metadata": {},
   "source": [
    "## Train test data"
   ]
  },
  {
   "cell_type": "code",
   "execution_count": 7,
   "id": "61c731f5",
   "metadata": {},
   "outputs": [
    {
     "name": "stdout",
     "output_type": "stream",
     "text": [
      "Start date and last date of the test fold: (Timestamp('2021-08-08 00:00:00'), Timestamp('2021-08-22 00:00:00'))\n",
      "Test fold borders: ['2021-08-08' '2021-08-15']\n",
      "Real number of folds: 1\n"
     ]
    }
   ],
   "source": [
    "# train test split \n",
    "# test = last 1 week \n",
    "from rectools.model_selection import TimeRangeSplitter\n",
    "from rectools.dataset.interactions import Interactions\n",
    "\n",
    "\n",
    "n_folds = 1\n",
    "unit = \"W\"\n",
    "n_units = 1\n",
    "periods = n_folds + 1\n",
    "freq = f\"{n_units}{unit}\"\n",
    "\n",
    "last_date = interactions[Columns.Datetime].max().normalize()\n",
    "start_date = last_date - pd.Timedelta(n_folds * n_units + 1, unit=unit)  \n",
    "print(f\"Start date and last date of the test fold: {start_date, last_date}\")\n",
    "    \n",
    "date_range = pd.date_range(start=start_date, periods=periods, freq=freq, tz=last_date.tz)\n",
    "print(f\"Test fold borders: {date_range.values.astype('datetime64[D]')}\")\n",
    "\n",
    "# generator of folds\n",
    "cv = TimeRangeSplitter(\n",
    "    date_range=date_range,\n",
    "    filter_already_seen=True,\n",
    "    filter_cold_items=True,\n",
    "    filter_cold_users=True,\n",
    ")\n",
    "\n",
    "interactions_s = Interactions(interactions)\n",
    "print(f\"Real number of folds: {cv.get_n_splits(interactions_s)}\")"
   ]
  },
  {
   "cell_type": "code",
   "execution_count": 8,
   "id": "40c6f5be",
   "metadata": {},
   "outputs": [],
   "source": [
    "# we have just 1 test fold - no need to iterate over fold\n",
    "(train_ids, test_ids, fold_info) = cv.split(interactions_s, collect_fold_stats=True).__next__()"
   ]
  },
  {
   "cell_type": "code",
   "execution_count": 9,
   "id": "ccf76311",
   "metadata": {},
   "outputs": [
    {
     "data": {
      "text/plain": [
       "array([      0,       1,       2, ..., 5476245, 5476247, 5476249])"
      ]
     },
     "execution_count": 9,
     "metadata": {},
     "output_type": "execute_result"
    }
   ],
   "source": [
    "train_ids"
   ]
  },
  {
   "cell_type": "code",
   "execution_count": 10,
   "id": "29b5d7ad",
   "metadata": {},
   "outputs": [
    {
     "data": {
      "text/plain": [
       "array([      6,      33,      56, ..., 5476229, 5476230, 5476240])"
      ]
     },
     "execution_count": 10,
     "metadata": {},
     "output_type": "execute_result"
    }
   ],
   "source": [
    "test_ids"
   ]
  },
  {
   "cell_type": "code",
   "execution_count": 11,
   "id": "2ea297fb",
   "metadata": {},
   "outputs": [],
   "source": [
    "train = interactions.loc[train_ids]\n",
    "test = interactions.loc[test_ids]"
   ]
  },
  {
   "cell_type": "markdown",
   "id": "1df45d6f",
   "metadata": {},
   "source": [
    "## Model"
   ]
  },
  {
   "cell_type": "code",
   "execution_count": 20,
   "id": "d413dd3e",
   "metadata": {},
   "outputs": [],
   "source": [
    "# base knn\n",
    "with open('base_userknn.dill', 'rb') as f:\n",
    "    userknn = dill.load(f)\n",
    "\n",
    "base_userknn = UserKnn(userknn)\n",
    "base_userknn.is_fitted = True\n",
    "base_userknn.fit(train)"
   ]
  },
  {
   "cell_type": "code",
   "execution_count": 22,
   "id": "a70f7219",
   "metadata": {},
   "outputs": [],
   "source": [
    "recos = base_userknn.predict(test)"
   ]
  },
  {
   "cell_type": "code",
   "execution_count": 34,
   "id": "d044fbbb",
   "metadata": {},
   "outputs": [],
   "source": [
    "catalog = train[Columns.Item].unique()"
   ]
  },
  {
   "cell_type": "code",
   "execution_count": 47,
   "id": "41f5b5d8",
   "metadata": {},
   "outputs": [],
   "source": [
    "metric = MAP(k=10)"
   ]
  },
  {
   "cell_type": "code",
   "execution_count": 48,
   "id": "c2c9002e",
   "metadata": {},
   "outputs": [
    {
     "data": {
      "text/plain": [
       "0.0019812212483438455"
      ]
     },
     "execution_count": 48,
     "metadata": {},
     "output_type": "execute_result"
    }
   ],
   "source": [
    "metric.calc(recos, test)"
   ]
  }
 ],
 "metadata": {
  "kernelspec": {
   "display_name": "Python 3 (ipykernel)",
   "language": "python",
   "name": "python3"
  },
  "language_info": {
   "codemirror_mode": {
    "name": "ipython",
    "version": 3
   },
   "file_extension": ".py",
   "mimetype": "text/x-python",
   "name": "python",
   "nbconvert_exporter": "python",
   "pygments_lexer": "ipython3",
   "version": "3.9.12"
  }
 },
 "nbformat": 4,
 "nbformat_minor": 5
}
