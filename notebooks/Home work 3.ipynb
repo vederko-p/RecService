{
 "cells": [
  {
   "cell_type": "markdown",
   "id": "f87ee916",
   "metadata": {},
   "source": [
    "# Content\n",
    "\n",
    "[Dependencies](#Dependencies)\n",
    "\n",
    "[1. Dataset](#1.-Dataset)\n",
    "\n",
    "[2. Baseline](#2.-Baseline)  \n",
    "[2.1. Train test data](#2.1.-Train-test-data)  \n",
    "[2.2. Model](#2.2.-Model)\n",
    "\n",
    "[3. Upgrades](#3.-Upgrades)  \n",
    "[3.1. Число рекомендаций меньше N](#3.1.-%D0%A7%D0%B8%D1%81%D0%BB%D0%BE-%D1%80%D0%B5%D0%BA%D0%BE%D0%BC%D0%B5%D0%BD%D0%B4%D0%B0%D1%86%D0%B8%D0%B9-%D0%BC%D0%B5%D0%BD%D1%8C%D1%88%D0%B5-N)  \n",
    "$\\quad$[Рекомендация популярного](#%D0%A0%D0%B5%D0%BA%D0%BE%D0%BC%D0%B5%D0%BD%D0%B4%D0%B0%D1%86%D0%B8%D1%8F-%D0%BF%D0%BE%D0%BF%D1%83%D0%BB%D1%8F%D1%80%D0%BD%D0%BE%D0%B3%D0%BE)\n",
    "\n",
    "[3.2. Другие способы измерения близости пользователей](#3.2.-%D0%94%D1%80%D1%83%D0%B3%D0%B8%D0%B5-%D1%81%D0%BF%D0%BE%D1%81%D0%BE%D0%B1%D1%8B-%D0%B8%D0%B7%D0%BC%D0%B5%D1%80%D0%B5%D0%BD%D0%B8%D1%8F-%D0%B1%D0%BB%D0%B8%D0%B7%D0%BE%D1%81%D1%82%D0%B8-%D0%BF%D0%BE%D0%BB%D1%8C%D0%B7%D0%BE%D0%B2%D0%B0%D1%82%D0%B5%D0%BB%D0%B5%D0%B9)  \n",
    "$\\quad$[Кластеризация клиентов (Блендинг)](#%D0%9A%D0%BB%D0%B0%D1%81%D1%82%D0%B5%D1%80%D0%B8%D0%B7%D0%B0%D1%86%D0%B8%D1%8F-%D0%BA%D0%BB%D0%B8%D0%B5%D0%BD%D1%82%D0%BE%D0%B2-(%D0%91%D0%BB%D0%B5%D0%BD%D0%B4%D0%B8%D0%BD%D0%B3))  \n",
    "$\\quad$[Предобработка признаков](#%D0%9F%D1%80%D0%B5%D0%B4%D0%BE%D0%B1%D1%80%D0%B0%D0%B1%D0%BE%D1%82%D0%BA%D0%B0-%D0%BF%D1%80%D0%B8%D0%B7%D0%BD%D0%B0%D0%BA%D0%BE%D0%B2)  \n",
    "$\\quad$[Заполнение пропущенных значений](#%D0%97%D0%B0%D0%BF%D0%BE%D0%BB%D0%BD%D0%B5%D0%BD%D0%B8%D0%B5-%D0%BF%D1%80%D0%BE%D0%BF%D1%83%D1%89%D0%B5%D0%BD%D0%BD%D1%8B%D1%85-%D0%B7%D0%BD%D0%B0%D1%87%D0%B5%D0%BD%D0%B8%D0%B9)  \n",
    "$\\quad$[Кластеризация](#%D0%9A%D0%BB%D0%B0%D1%81%D1%82%D0%B5%D1%80%D0%B8%D0%B7%D0%B0%D1%86%D0%B8%D1%8F)  \n",
    "$\\quad$[Реализация модели по сегментам](#%D0%A0%D0%B5%D0%B0%D0%BB%D0%B8%D0%B7%D0%B0%D1%86%D0%B8%D1%8F-%D0%BC%D0%BE%D0%B4%D0%B5%D0%BB%D0%B8-%D0%BF%D0%BE-%D1%81%D0%B5%D0%B3%D0%BC%D0%B5%D0%BD%D1%82%D0%B0%D0%BC)  \n",
    "$\\quad$[Тестирование моделей по сегментам](#%D0%A2%D0%B5%D1%81%D1%82%D0%B8%D1%80%D0%BE%D0%B2%D0%B0%D0%BD%D0%B8%D0%B5-%D0%BC%D0%BE%D0%B4%D0%B5%D0%BB%D0%B5%D0%B9-%D0%BF%D0%BE-%D1%81%D0%B5%D0%B3%D0%BC%D0%B5%D0%BD%D1%82%D0%B0%D0%BC)  \n",
    "[3.3. Сегментирование пользователей, которых нет в users](#3.3.-%D0%A1%D0%B5%D0%B3%D0%BC%D0%B5%D0%BD%D1%82%D0%B8%D1%80%D0%BE%D0%B2%D0%B0%D0%BD%D0%B8%D0%B5-%D0%BF%D0%BE%D0%BB%D1%8C%D0%B7%D0%BE%D0%B2%D0%B0%D1%82%D0%B5%D0%BB%D0%B5%D0%B9,-%D0%BA%D0%BE%D1%82%D0%BE%D1%80%D1%8B%D1%85-%D0%BD%D0%B5%D1%82-%D0%B2-users)  \n",
    "$\\quad$[Feature engineering](#Feature-engineering)  \n",
    "$\\quad$[kNN с дополнением популярным](#kNN-%D1%81-%D0%B4%D0%BE%D0%BF%D0%BE%D0%BB%D0%BD%D0%B5%D0%BD%D0%B8%D0%B5%D0%BC-%D0%BF%D0%BE%D0%BF%D1%83%D0%BB%D1%8F%D1%80%D0%BD%D1%8B%D0%BC_)  \n",
    "[3.4. Популярное](#3.4.-%D0%9F%D0%BE%D0%BF%D1%83%D0%BB%D1%8F%D1%80%D0%BD%D0%BE%D0%B5)  \n",
    "[3.5. Подбор гиперпараметров](#3.5.-%D0%9F%D0%BE%D0%B4%D0%B1%D0%BE%D1%80-%D0%B3%D0%B8%D0%BF%D0%B5%D1%80%D0%BF%D0%B0%D1%80%D0%B0%D0%BC%D0%B5%D1%82%D1%80%D0%BE%D0%B2)\n",
    "\n",
    "[4. Оптимизация модели для одного пользователя](#4.-%D0%9E%D0%BF%D1%82%D0%B8%D0%BC%D0%B8%D0%B7%D0%B0%D1%86%D0%B8%D1%8F-%D0%BC%D0%BE%D0%B4%D0%B5%D0%BB%D0%B8-%D0%B4%D0%BB%D1%8F-%D0%BE%D0%B4%D0%BD%D0%BE%D0%B3%D0%BE-%D0%BF%D0%BE%D0%BB%D1%8C%D0%B7%D0%BE%D0%B2%D0%B0%D1%82%D0%B5%D0%BB%D1%8F)\n",
    "\n",
    "[5. Резюме](#%D0%A0%D0%B5%D0%B7%D1%8E%D0%BC%D0%B5)"
   ]
  },
  {
   "cell_type": "markdown",
   "id": "e3fa7545",
   "metadata": {},
   "source": [
    "# Dependencies"
   ]
  },
  {
   "cell_type": "code",
   "execution_count": 1,
   "id": "98c66c64",
   "metadata": {},
   "outputs": [],
   "source": [
    "import pandas as pd\n",
    "import numpy as np\n",
    "from tqdm.auto import tqdm\n",
    "import dill\n",
    "from implicit.nearest_neighbours import CosineRecommender,\\\n",
    "                                        TFIDFRecommender\n",
    "import warnings\n",
    "warnings.filterwarnings(\"ignore\")\n",
    "\n",
    "from rectools import Columns\n",
    "from rectools.dataset import Dataset\n",
    "from rectools.metrics import MAP, calc_metrics\n",
    "\n",
    "from userknn import UserKnn\n",
    "\n",
    "from implicit.nearest_neighbours import ItemItemRecommender"
   ]
  },
  {
   "cell_type": "markdown",
   "id": "4b3d9a3d",
   "metadata": {},
   "source": [
    "# 1. Dataset"
   ]
  },
  {
   "cell_type": "code",
   "execution_count": 2,
   "id": "6f8403fc",
   "metadata": {},
   "outputs": [],
   "source": [
    "interactions = pd.read_csv('kion_train/interactions.csv')\n",
    "users = pd.read_csv('kion_train/users.csv')\n",
    "items = pd.read_csv('kion_train/items.csv')"
   ]
  },
  {
   "cell_type": "code",
   "execution_count": 3,
   "id": "71b3f459",
   "metadata": {},
   "outputs": [],
   "source": [
    "# rename columns, convert timestamp\n",
    "interactions.rename(columns={'last_watch_dt': Columns.Datetime,\n",
    "                            'total_dur': Columns.Weight}, \n",
    "                    inplace=True) \n",
    "\n",
    "interactions['datetime'] = pd.to_datetime(interactions['datetime'])"
   ]
  },
  {
   "cell_type": "code",
   "execution_count": 4,
   "id": "e0562b4d",
   "metadata": {},
   "outputs": [
    {
     "data": {
      "text/html": [
       "<div>\n",
       "<style scoped>\n",
       "    .dataframe tbody tr th:only-of-type {\n",
       "        vertical-align: middle;\n",
       "    }\n",
       "\n",
       "    .dataframe tbody tr th {\n",
       "        vertical-align: top;\n",
       "    }\n",
       "\n",
       "    .dataframe thead th {\n",
       "        text-align: right;\n",
       "    }\n",
       "</style>\n",
       "<table border=\"1\" class=\"dataframe\">\n",
       "  <thead>\n",
       "    <tr style=\"text-align: right;\">\n",
       "      <th></th>\n",
       "      <th>user_id</th>\n",
       "      <th>item_id</th>\n",
       "      <th>datetime</th>\n",
       "      <th>weight</th>\n",
       "      <th>watched_pct</th>\n",
       "    </tr>\n",
       "  </thead>\n",
       "  <tbody>\n",
       "    <tr>\n",
       "      <th>0</th>\n",
       "      <td>176549</td>\n",
       "      <td>9506</td>\n",
       "      <td>2021-05-11</td>\n",
       "      <td>4250</td>\n",
       "      <td>72.0</td>\n",
       "    </tr>\n",
       "    <tr>\n",
       "      <th>5476250</th>\n",
       "      <td>319709</td>\n",
       "      <td>4436</td>\n",
       "      <td>2021-08-15</td>\n",
       "      <td>3921</td>\n",
       "      <td>45.0</td>\n",
       "    </tr>\n",
       "  </tbody>\n",
       "</table>\n",
       "</div>"
      ],
      "text/plain": [
       "         user_id  item_id   datetime  weight  watched_pct\n",
       "0         176549     9506 2021-05-11    4250         72.0\n",
       "5476250   319709     4436 2021-08-15    3921         45.0"
      ]
     },
     "execution_count": 4,
     "metadata": {},
     "output_type": "execute_result"
    }
   ],
   "source": [
    "pd.concat([interactions.head(1), interactions.tail(1)])"
   ]
  },
  {
   "cell_type": "code",
   "execution_count": 5,
   "id": "c1303d2f",
   "metadata": {},
   "outputs": [
    {
     "data": {
      "text/html": [
       "<div>\n",
       "<style scoped>\n",
       "    .dataframe tbody tr th:only-of-type {\n",
       "        vertical-align: middle;\n",
       "    }\n",
       "\n",
       "    .dataframe tbody tr th {\n",
       "        vertical-align: top;\n",
       "    }\n",
       "\n",
       "    .dataframe thead th {\n",
       "        text-align: right;\n",
       "    }\n",
       "</style>\n",
       "<table border=\"1\" class=\"dataframe\">\n",
       "  <thead>\n",
       "    <tr style=\"text-align: right;\">\n",
       "      <th></th>\n",
       "      <th>user_id</th>\n",
       "      <th>age</th>\n",
       "      <th>income</th>\n",
       "      <th>sex</th>\n",
       "      <th>kids_flg</th>\n",
       "    </tr>\n",
       "  </thead>\n",
       "  <tbody>\n",
       "    <tr>\n",
       "      <th>0</th>\n",
       "      <td>973171</td>\n",
       "      <td>age_25_34</td>\n",
       "      <td>income_60_90</td>\n",
       "      <td>М</td>\n",
       "      <td>1</td>\n",
       "    </tr>\n",
       "    <tr>\n",
       "      <th>840196</th>\n",
       "      <td>166555</td>\n",
       "      <td>age_65_inf</td>\n",
       "      <td>income_20_40</td>\n",
       "      <td>Ж</td>\n",
       "      <td>0</td>\n",
       "    </tr>\n",
       "  </tbody>\n",
       "</table>\n",
       "</div>"
      ],
      "text/plain": [
       "        user_id         age        income sex  kids_flg\n",
       "0        973171   age_25_34  income_60_90   М         1\n",
       "840196   166555  age_65_inf  income_20_40   Ж         0"
      ]
     },
     "execution_count": 5,
     "metadata": {},
     "output_type": "execute_result"
    }
   ],
   "source": [
    "pd.concat([users.head(1), users.tail(1)])"
   ]
  },
  {
   "cell_type": "code",
   "execution_count": 6,
   "id": "03e41e16",
   "metadata": {},
   "outputs": [
    {
     "data": {
      "text/html": [
       "<div>\n",
       "<style scoped>\n",
       "    .dataframe tbody tr th:only-of-type {\n",
       "        vertical-align: middle;\n",
       "    }\n",
       "\n",
       "    .dataframe tbody tr th {\n",
       "        vertical-align: top;\n",
       "    }\n",
       "\n",
       "    .dataframe thead th {\n",
       "        text-align: right;\n",
       "    }\n",
       "</style>\n",
       "<table border=\"1\" class=\"dataframe\">\n",
       "  <thead>\n",
       "    <tr style=\"text-align: right;\">\n",
       "      <th></th>\n",
       "      <th>item_id</th>\n",
       "      <th>content_type</th>\n",
       "      <th>title</th>\n",
       "      <th>title_orig</th>\n",
       "      <th>release_year</th>\n",
       "      <th>genres</th>\n",
       "      <th>countries</th>\n",
       "      <th>for_kids</th>\n",
       "      <th>age_rating</th>\n",
       "      <th>studios</th>\n",
       "      <th>directors</th>\n",
       "      <th>actors</th>\n",
       "      <th>description</th>\n",
       "      <th>keywords</th>\n",
       "    </tr>\n",
       "  </thead>\n",
       "  <tbody>\n",
       "    <tr>\n",
       "      <th>0</th>\n",
       "      <td>10711</td>\n",
       "      <td>film</td>\n",
       "      <td>Поговори с ней</td>\n",
       "      <td>Hable con ella</td>\n",
       "      <td>2002.0</td>\n",
       "      <td>драмы, зарубежные, детективы, мелодрамы</td>\n",
       "      <td>Испания</td>\n",
       "      <td>NaN</td>\n",
       "      <td>16.0</td>\n",
       "      <td>NaN</td>\n",
       "      <td>Педро Альмодовар</td>\n",
       "      <td>Адольфо Фернандес, Ана Фернандес, Дарио Гранди...</td>\n",
       "      <td>Мелодрама легендарного Педро Альмодовара «Пого...</td>\n",
       "      <td>Поговори, ней, 2002, Испания, друзья, любовь, ...</td>\n",
       "    </tr>\n",
       "    <tr>\n",
       "      <th>15962</th>\n",
       "      <td>3206</td>\n",
       "      <td>series</td>\n",
       "      <td>Гоша</td>\n",
       "      <td>NaN</td>\n",
       "      <td>2019.0</td>\n",
       "      <td>комедии</td>\n",
       "      <td>Россия</td>\n",
       "      <td>0.0</td>\n",
       "      <td>16.0</td>\n",
       "      <td>NaN</td>\n",
       "      <td>Михаил Миронов</td>\n",
       "      <td>Мкртыч Арзуманян, Виктория Рунцова</td>\n",
       "      <td>Добродушный Гоша не может выйти из дома, чтобы...</td>\n",
       "      <td>Гоша, 2019, Россия</td>\n",
       "    </tr>\n",
       "  </tbody>\n",
       "</table>\n",
       "</div>"
      ],
      "text/plain": [
       "       item_id content_type           title      title_orig  release_year  \\\n",
       "0        10711         film  Поговори с ней  Hable con ella        2002.0   \n",
       "15962     3206       series            Гоша             NaN        2019.0   \n",
       "\n",
       "                                        genres countries  for_kids  \\\n",
       "0      драмы, зарубежные, детективы, мелодрамы   Испания       NaN   \n",
       "15962                                  комедии    Россия       0.0   \n",
       "\n",
       "       age_rating studios         directors  \\\n",
       "0            16.0     NaN  Педро Альмодовар   \n",
       "15962        16.0     NaN    Михаил Миронов   \n",
       "\n",
       "                                                  actors  \\\n",
       "0      Адольфо Фернандес, Ана Фернандес, Дарио Гранди...   \n",
       "15962                 Мкртыч Арзуманян, Виктория Рунцова   \n",
       "\n",
       "                                             description  \\\n",
       "0      Мелодрама легендарного Педро Альмодовара «Пого...   \n",
       "15962  Добродушный Гоша не может выйти из дома, чтобы...   \n",
       "\n",
       "                                                keywords  \n",
       "0      Поговори, ней, 2002, Испания, друзья, любовь, ...  \n",
       "15962                                 Гоша, 2019, Россия  "
      ]
     },
     "execution_count": 6,
     "metadata": {},
     "output_type": "execute_result"
    }
   ],
   "source": [
    "pd.concat([items.head(1), items.tail(1)])"
   ]
  },
  {
   "cell_type": "markdown",
   "id": "3d38552d",
   "metadata": {},
   "source": [
    "# 2. Baseline"
   ]
  },
  {
   "cell_type": "markdown",
   "id": "217d0e5e",
   "metadata": {},
   "source": [
    "## 2.1. Train test data"
   ]
  },
  {
   "cell_type": "markdown",
   "id": "cfb46e92",
   "metadata": {},
   "source": [
    "По соображениям производительности предварительные тесты моделей будем проводить на следующих данных:"
   ]
  },
  {
   "cell_type": "code",
   "execution_count": 7,
   "id": "61c731f5",
   "metadata": {},
   "outputs": [
    {
     "name": "stdout",
     "output_type": "stream",
     "text": [
      "Start date and last date of the test fold: (Timestamp('2021-08-08 00:00:00'), Timestamp('2021-08-22 00:00:00'))\n",
      "Test fold borders: ['2021-08-08' '2021-08-15']\n",
      "Real number of folds: 1\n"
     ]
    }
   ],
   "source": [
    "# train test split \n",
    "# test = last 1 week \n",
    "from rectools.model_selection import TimeRangeSplitter\n",
    "from rectools.dataset.interactions import Interactions\n",
    "\n",
    "\n",
    "n_folds = 1\n",
    "unit = \"W\"\n",
    "n_units = 1\n",
    "periods = n_folds + 1\n",
    "freq = f\"{n_units}{unit}\"\n",
    "\n",
    "last_date = interactions[Columns.Datetime].max().normalize()\n",
    "start_date = last_date - pd.Timedelta(n_folds * n_units + 1, unit=unit)  \n",
    "print(f\"Start date and last date of the test fold: {start_date, last_date}\")\n",
    "    \n",
    "date_range = pd.date_range(start=start_date, periods=periods, freq=freq, tz=last_date.tz)\n",
    "print(f\"Test fold borders: {date_range.values.astype('datetime64[D]')}\")\n",
    "\n",
    "# generator of folds\n",
    "cv = TimeRangeSplitter(\n",
    "    date_range=date_range,\n",
    "    filter_already_seen=True,\n",
    "    filter_cold_items=True,\n",
    "    filter_cold_users=True,\n",
    ")\n",
    "\n",
    "interactions_s = Interactions(interactions)\n",
    "print(f\"Real number of folds: {cv.get_n_splits(interactions_s)}\")"
   ]
  },
  {
   "cell_type": "code",
   "execution_count": 8,
   "id": "40c6f5be",
   "metadata": {},
   "outputs": [],
   "source": [
    "# we have just 1 test fold - no need to iterate over fold\n",
    "(train_ids, test_ids, fold_info) = cv.split(\n",
    "    interactions_s, collect_fold_stats=True).__next__()"
   ]
  },
  {
   "cell_type": "code",
   "execution_count": 9,
   "id": "ccf76311",
   "metadata": {},
   "outputs": [
    {
     "data": {
      "text/plain": [
       "array([      0,       1,       2, ..., 5476245, 5476247, 5476249])"
      ]
     },
     "execution_count": 9,
     "metadata": {},
     "output_type": "execute_result"
    }
   ],
   "source": [
    "train_ids"
   ]
  },
  {
   "cell_type": "code",
   "execution_count": 10,
   "id": "29b5d7ad",
   "metadata": {},
   "outputs": [
    {
     "data": {
      "text/plain": [
       "array([      6,      33,      56, ..., 5476229, 5476230, 5476240])"
      ]
     },
     "execution_count": 10,
     "metadata": {},
     "output_type": "execute_result"
    }
   ],
   "source": [
    "test_ids"
   ]
  },
  {
   "cell_type": "code",
   "execution_count": 11,
   "id": "2ea297fb",
   "metadata": {},
   "outputs": [],
   "source": [
    "train = interactions.loc[train_ids]\n",
    "test = interactions.loc[test_ids]"
   ]
  },
  {
   "cell_type": "markdown",
   "id": "1df45d6f",
   "metadata": {},
   "source": [
    "## 2.2. Model"
   ]
  },
  {
   "cell_type": "code",
   "execution_count": 16,
   "id": "d89752b6",
   "metadata": {},
   "outputs": [],
   "source": [
    "# base knn\n",
    "with open('base_userknn.dill', 'rb') as f:\n",
    "    userknn = dill.load(f)\n",
    "\n",
    "base_userknn = UserKnn(userknn)\n",
    "base_userknn.is_fitted = True\n",
    "base_userknn.fit(train)"
   ]
  },
  {
   "cell_type": "code",
   "execution_count": 13,
   "id": "1dec9689",
   "metadata": {},
   "outputs": [],
   "source": [
    "recos = base_userknn.predict(test)"
   ]
  },
  {
   "cell_type": "code",
   "execution_count": 14,
   "id": "be870f8e",
   "metadata": {},
   "outputs": [],
   "source": [
    "catalog = train[Columns.Item].unique()"
   ]
  },
  {
   "cell_type": "code",
   "execution_count": 12,
   "id": "c8d3b8b9",
   "metadata": {},
   "outputs": [],
   "source": [
    "metric = MAP(k=10)"
   ]
  },
  {
   "cell_type": "code",
   "execution_count": 16,
   "id": "744bf0f6",
   "metadata": {},
   "outputs": [
    {
     "data": {
      "text/plain": [
       "0.0022360789388995196"
      ]
     },
     "execution_count": 16,
     "metadata": {},
     "output_type": "execute_result"
    }
   ],
   "source": [
    "metric.calc(recos, test)"
   ]
  },
  {
   "cell_type": "markdown",
   "id": "c1e625f0",
   "metadata": {},
   "source": [
    "# 3. Upgrades"
   ]
  },
  {
   "cell_type": "markdown",
   "id": "9ee5f1d1",
   "metadata": {},
   "source": [
    "## 3.1. Число рекомендаций меньше N\n",
    "\n",
    "Такая ситуация может возникнуть, если похожие пользователи смотрят одни и те же фильмы и в небольшом количестве. В настолько небольшом, что при их объединении мы получаем количество фильмов < N.\n",
    "\n",
    "Варианты исправить:\n",
    "\n",
    "1) Рекомендовать таким пользователям популярное как дополнительные айтемы\n",
    "\n",
    "Такой вариант кажется разумным. Мы имеем дело с теплыми пользователями, которые что-то смотрели, которым можно что-то подобрать и скорее всего достаточно релевантное. Остальные айтемы вполне могут быть просто популярным.\n",
    "\n",
    "2) Увеличивать количество соседей для таких пользователей до тех пор, пока не наберется необходимое количество рекомендаций.\n",
    "\n",
    "Вопрос: с каким шагом перебирать количество соседей? Если цикл будет слишком долго искать необходимое количество соседей, то вычисления могут затянуться. Также с ростом количества соседей растет и количество необходимых вычислений."
   ]
  },
  {
   "cell_type": "markdown",
   "id": "08531184",
   "metadata": {},
   "source": [
    "### Рекомендация популярного"
   ]
  },
  {
   "cell_type": "code",
   "execution_count": 17,
   "id": "1d33cd3a",
   "metadata": {},
   "outputs": [],
   "source": [
    "# Модель популярного\n",
    "_, bins = pd.qcut(items[\"release_year\"], 10, retbins=True)\n",
    "labels = bins[:-1]\n",
    "\n",
    "year_feature = pd.DataFrame(\n",
    "    {\n",
    "        \"id\": items[\"item_id\"],\n",
    "        \"value\": pd.cut(items[\"release_year\"], bins=bins, labels=bins[:-1]),\n",
    "        \"feature\": \"release_year\",\n",
    "    }\n",
    ")\n",
    "year_feature.head()\n",
    "\n",
    "\n",
    "items[\"genre\"] = items[\"genres\"].str.split(\",\")\n",
    "items[[\"genre\", \"genres\"]].head(3)\n",
    "\n",
    "\n",
    "genre_feature = items[[\"item_id\", \"genre\"]].explode(\"genre\")\n",
    "genre_feature.columns = [\"id\", \"value\"]\n",
    "genre_feature[\"feature\"] = \"genre\"\n",
    "genre_feature.head()\n",
    "\n",
    "\n",
    "item_feat = pd.concat([genre_feature, year_feature])\n",
    "item_feat = item_feat[item_feat['id'].isin(interactions['item_id'])]\n",
    "\n",
    "\n",
    "dataset = Dataset.construct(\n",
    "    interactions_df=interactions,\n",
    "    user_features_df=None,\n",
    "    item_features_df=item_feat,  # item_id, value, feature_name\n",
    "    cat_item_features=['genre', 'release_year']  # pre processed features names\n",
    ")\n",
    "\n",
    "\n",
    "from rectools.models.popular import PopularModel \n",
    "\n",
    "pop = PopularModel()\n",
    "pop.fit(dataset);"
   ]
  },
  {
   "cell_type": "code",
   "execution_count": 18,
   "id": "a6c2e819",
   "metadata": {},
   "outputs": [],
   "source": [
    "items_pop_ordered = pop.recommend(\n",
    "    dataset.user_id_map.external_ids[:1],\n",
    "    dataset=dataset,\n",
    "    k=items.shape[0],\n",
    "    filter_viewed=False\n",
    ")['item_id']"
   ]
  },
  {
   "cell_type": "code",
   "execution_count": 13,
   "id": "b4c50a68",
   "metadata": {},
   "outputs": [],
   "source": [
    "with open('items_pop_ordered.dill', 'rb') as f:\n",
    "    items_pop_ordered = dill.load(f)"
   ]
  },
  {
   "cell_type": "code",
   "execution_count": 14,
   "id": "bd6f2c54",
   "metadata": {},
   "outputs": [],
   "source": [
    "class UserKnnComplete(UserKnn):\n",
    "    def __init__(\n",
    "        self,\n",
    "        model: ItemItemRecommender,\n",
    "        pop_items: np.array,\n",
    "        N_users: int = 50,\n",
    "    ):\n",
    "        super().__init__(model, N_users)\n",
    "        self.pop_items = pop_items\n",
    "    \n",
    "    def complete_items_with_pop(\n",
    "        self,\n",
    "        all_recs: pd.DataFrame,\n",
    "        users_ids: np.array,\n",
    "        N: int\n",
    "    ) -> pd.DataFrame:\n",
    "        \"\"\"Returns completed with pop recs.\"\"\"\n",
    "        add_pop = pd.DataFrame({\n",
    "            'user_id': np.repeat(users_ids, N),\n",
    "            'item_id': np.tile(self.pop_items[:N], users_ids.shape),\n",
    "            'score': [0] * users_ids.shape[0]*N\n",
    "        })\n",
    "        cols = ['user_id', 'item_id', 'score']\n",
    "        complete_users_mask = all_recs['user_id'].isin(users_ids)\n",
    "        recs_add_pop = pd.concat([\n",
    "            # exclude duplicates in new items:\n",
    "            pd.concat([\n",
    "                add_pop,\n",
    "                all_recs[complete_users_mask][cols]\n",
    "            ]).drop_duplicates(['user_id', 'item_id'], keep='first'),\n",
    "            # concatenate with another recs:\n",
    "            all_recs[~complete_users_mask][cols]\n",
    "        ])\n",
    "        return recs_add_pop\n",
    "    \n",
    "    def predict(\n",
    "        self,\n",
    "        test: pd.DataFrame,\n",
    "        N_recs: int = 10,\n",
    "        complete_method: str = 'no_complete'\n",
    "    ) -> pd.DataFrame:\n",
    "        \n",
    "        if not self.is_fitted:\n",
    "            raise ValueError(\"Please call fit before predict\")\n",
    "        \n",
    "        mapper = self._generate_recs_mapper(\n",
    "            model=self.user_knn, \n",
    "            user_mapping=self.users_mapping,\n",
    "            user_inv_mapping=self.users_inv_mapping,\n",
    "            N=self.N_users\n",
    "        )\n",
    "\n",
    "        recs = pd.DataFrame({'user_id': test['user_id'].unique()})\n",
    "        recs['sim_user_id'], recs['sim'] = zip(*recs['user_id'].map(mapper))\n",
    "        recs = recs.set_index('user_id').apply(pd.Series.explode).reset_index()\n",
    "        \n",
    "        recs = recs[~(recs['sim'] >= 1)]\\\n",
    "            .merge(self.watched, left_on=['sim_user_id'], right_on=['user_id'], how='left')\\\n",
    "            .explode('item_id')\\\n",
    "            .sort_values(['user_id', 'sim'], ascending=False)\\\n",
    "            .drop_duplicates(['user_id', 'item_id'], keep='first')\\\n",
    "            .merge(self.item_idf, left_on='item_id', right_on='index', how='left')\n",
    "        \n",
    "        recs['score'] = recs['sim'] * recs['idf']\n",
    "        \n",
    "        # find users with less than N items:\n",
    "        count_recs = recs.groupby('user_id').count().reset_index()\n",
    "        users_to_complete = np.concatenate([\n",
    "            count_recs[  # users with less than N recs\n",
    "                count_recs['item_id'] < N_recs\n",
    "            ]['user_id'].values,\n",
    "            test[  # users with no recs at all\n",
    "                ~test['user_id'].isin(recs['user_id'])\n",
    "            ]['user_id'].values\n",
    "        ])\n",
    "        \n",
    "        # complete them with N_recs items:\n",
    "        # (N_recs - items_count) is needed to complete to N_recs\n",
    "        # but (+ items_count) to exclude duplicates in the future\n",
    "        if users_to_complete.any():\n",
    "            if complete_method == 'popular':\n",
    "                recs = self.complete_items_with_pop(\n",
    "                    recs, users_to_complete, N_recs)\n",
    "            else:\n",
    "                print(f'Unknown complete method: {complete_method}')\n",
    "\n",
    "        recs = recs.sort_values(['user_id', 'score'], ascending=False)\n",
    "        recs['rank'] = recs.groupby('user_id').cumcount() + 1\n",
    "        return recs[recs['rank'] <= N_recs][['user_id', 'item_id', 'score', 'rank']]"
   ]
  },
  {
   "cell_type": "code",
   "execution_count": 19,
   "id": "a82faa4b",
   "metadata": {},
   "outputs": [],
   "source": [
    "pop_userknn = UserKnnComplete(userknn, items_pop_ordered)\n",
    "pop_userknn.is_fitted = True\n",
    "pop_userknn.fit(train)"
   ]
  },
  {
   "cell_type": "code",
   "execution_count": 20,
   "id": "8c4cc30c",
   "metadata": {},
   "outputs": [],
   "source": [
    "knn_pop_recs = pop_userknn.predict(\n",
    "    test, complete_method='popular')"
   ]
  },
  {
   "cell_type": "code",
   "execution_count": 21,
   "id": "d4779b1b",
   "metadata": {},
   "outputs": [],
   "source": [
    "knn_pop_recs = pd.concat([\n",
    "    pop_userknn.predict(test.iloc[:69174], complete_method='popular'),\n",
    "    pop_userknn.predict(test.iloc[69174:138349], complete_method='popular'),\n",
    "    pop_userknn.predict(test.iloc[138349:207524], complete_method='popular'),\n",
    "    pop_userknn.predict(test.iloc[207524:], complete_method='popular')\n",
    "])"
   ]
  },
  {
   "cell_type": "code",
   "execution_count": 22,
   "id": "38d8ce53",
   "metadata": {},
   "outputs": [
    {
     "data": {
      "text/plain": [
       "0.028634398574155298"
      ]
     },
     "execution_count": 22,
     "metadata": {},
     "output_type": "execute_result"
    }
   ],
   "source": [
    "metric.calc(knn_pop_recs, test)"
   ]
  },
  {
   "cell_type": "markdown",
   "id": "623d6422",
   "metadata": {},
   "source": [
    "## 3.2. Другие способы измерения близости пользователей"
   ]
  },
  {
   "cell_type": "markdown",
   "id": "3a22e3db",
   "metadata": {},
   "source": [
    "### Кластеризация клиентов (Блендинг)\n",
    "\n",
    "Можно уточнить модели, обучив каждую работать в своем сегменте пользователей (это также ограничивает и сегмент айтемов). Очевидно, что скорее всего в среднем женщинам будут нравится немного другие фильмы, нежели мужчинам.\n",
    "\n",
    "Кластерные структуры можно по-разному усложнять.\n",
    "\n",
    "К исходным признакам можно добавлять признаки из истории: просмотренные фильмы, количество фильмов, время просмотра, кино/сериалы, прочее."
   ]
  },
  {
   "cell_type": "code",
   "execution_count": 23,
   "id": "9eec77c4",
   "metadata": {},
   "outputs": [
    {
     "data": {
      "text/html": [
       "<div>\n",
       "<style scoped>\n",
       "    .dataframe tbody tr th:only-of-type {\n",
       "        vertical-align: middle;\n",
       "    }\n",
       "\n",
       "    .dataframe tbody tr th {\n",
       "        vertical-align: top;\n",
       "    }\n",
       "\n",
       "    .dataframe thead th {\n",
       "        text-align: right;\n",
       "    }\n",
       "</style>\n",
       "<table border=\"1\" class=\"dataframe\">\n",
       "  <thead>\n",
       "    <tr style=\"text-align: right;\">\n",
       "      <th></th>\n",
       "      <th>user_id</th>\n",
       "      <th>age</th>\n",
       "      <th>income</th>\n",
       "      <th>sex</th>\n",
       "      <th>kids_flg</th>\n",
       "    </tr>\n",
       "  </thead>\n",
       "  <tbody>\n",
       "    <tr>\n",
       "      <th>0</th>\n",
       "      <td>973171</td>\n",
       "      <td>age_25_34</td>\n",
       "      <td>income_60_90</td>\n",
       "      <td>М</td>\n",
       "      <td>1</td>\n",
       "    </tr>\n",
       "    <tr>\n",
       "      <th>840196</th>\n",
       "      <td>166555</td>\n",
       "      <td>age_65_inf</td>\n",
       "      <td>income_20_40</td>\n",
       "      <td>Ж</td>\n",
       "      <td>0</td>\n",
       "    </tr>\n",
       "  </tbody>\n",
       "</table>\n",
       "</div>"
      ],
      "text/plain": [
       "        user_id         age        income sex  kids_flg\n",
       "0        973171   age_25_34  income_60_90   М         1\n",
       "840196   166555  age_65_inf  income_20_40   Ж         0"
      ]
     },
     "execution_count": 23,
     "metadata": {},
     "output_type": "execute_result"
    }
   ],
   "source": [
    "pd.concat([users.head(1), users.tail(1)])"
   ]
  },
  {
   "cell_type": "markdown",
   "id": "d3d72146",
   "metadata": {},
   "source": [
    "Чем менее очевидно разбиение на кластеры, тем скорее нужно смотреть, например, на среднее межкластерное расстояние или что-нибудь, что позволяет оценить, насколько большой вклад внесло очередное разбиение. Для этого нужно уметь вычилсять расстояние между юзерами - можно опять использовать расстояние на основе просмотренных фильмов. Однако не факт, что предложенный вариант хорошо разобъет клиентов на сегменты. При любом разбиении всегда можно оценить качество итоговой модели рекомендации, такой вариант даже лучше с точки зрения подбора алгоритма кластеризации.\n",
    "\n",
    "    Важно выбирать подход к кластеризации и к заполнению пропусков основываясь на метриках качества целевой задачи - построение рекомендаций, так как не всегда наилучшее решение подзадачи коррелирует с наилучшим решением основной задачи.\n",
    "\n",
    "Наилучший предикат для разбиения на кластеры нужно искать последовательно, на каждом шаге перебирая все разбиения, чтобы найти наиболее информативное в соотвтесвии с выбранным критерием.\n",
    "\n",
    "**Количество разбиений также является гиперпараметром**\n",
    "\n",
    "Лучше сразу начать с наиболее очевидных предикатов:\n",
    "\n",
    "1. Пол\n",
    "2. Дети\n",
    "3. Возвраст\n",
    "4. Доход\n",
    "\n",
    "По итогу удобно будет представить разбиение юзеров на сегменты с помощью датафрейма со столбцами `user_id`, `segment`. Далее уже вытаскивать для каждой модели необходимых пользователей."
   ]
  },
  {
   "cell_type": "code",
   "execution_count": 24,
   "id": "191e0bf0",
   "metadata": {},
   "outputs": [
    {
     "data": {
      "text/plain": [
       "{'age_18_24',\n",
       " 'age_25_34',\n",
       " 'age_35_44',\n",
       " 'age_45_54',\n",
       " 'age_55_64',\n",
       " 'age_65_inf',\n",
       " nan}"
      ]
     },
     "execution_count": 24,
     "metadata": {},
     "output_type": "execute_result"
    }
   ],
   "source": [
    "# Можно ограничить число возрастных группы до трех\n",
    "set(users['age'])"
   ]
  },
  {
   "cell_type": "code",
   "execution_count": 25,
   "id": "80203bee",
   "metadata": {},
   "outputs": [
    {
     "data": {
      "text/plain": [
       "{'income_0_20',\n",
       " 'income_150_inf',\n",
       " 'income_20_40',\n",
       " 'income_40_60',\n",
       " 'income_60_90',\n",
       " 'income_90_150',\n",
       " nan}"
      ]
     },
     "execution_count": 25,
     "metadata": {},
     "output_type": "execute_result"
    }
   ],
   "source": [
    "# Уровни дохода также можно ограничить до трех\n",
    "set(users['income'])"
   ]
  },
  {
   "cell_type": "markdown",
   "id": "6cb31375",
   "metadata": {},
   "source": [
    "### Предобработка признаков"
   ]
  },
  {
   "cell_type": "markdown",
   "id": "57525280",
   "metadata": {},
   "source": [
    "Посомтрим, сколько в данных неизвестных значений:"
   ]
  },
  {
   "cell_type": "code",
   "execution_count": 26,
   "id": "26da1808",
   "metadata": {},
   "outputs": [
    {
     "name": "stdout",
     "output_type": "stream",
     "text": [
      "(840197, 5)\n",
      "<class 'pandas.core.frame.DataFrame'>\n",
      "RangeIndex: 840197 entries, 0 to 840196\n",
      "Data columns (total 5 columns):\n",
      " #   Column    Non-Null Count   Dtype \n",
      "---  ------    --------------   ----- \n",
      " 0   user_id   840197 non-null  int64 \n",
      " 1   age       826102 non-null  object\n",
      " 2   income    825421 non-null  object\n",
      " 3   sex       826366 non-null  object\n",
      " 4   kids_flg  840197 non-null  int64 \n",
      "dtypes: int64(2), object(3)\n",
      "memory usage: 32.1+ MB\n"
     ]
    }
   ],
   "source": [
    "print(users.shape)\n",
    "users.info()"
   ]
  },
  {
   "cell_type": "markdown",
   "id": "ad35c4a0",
   "metadata": {},
   "source": [
    "Пол, доход и возраст имеют пустые значения. Их можно попробовать заполнить, однако начнем с преобразования имеющихся признаков. Заменим интервалы на соответсвующие средние значения в признаках возраста и дохода. Пол заменим на $\\{0, 1\\}$:"
   ]
  },
  {
   "cell_type": "code",
   "execution_count": 27,
   "id": "8fc60d1f",
   "metadata": {},
   "outputs": [
    {
     "data": {
      "text/html": [
       "<div>\n",
       "<style scoped>\n",
       "    .dataframe tbody tr th:only-of-type {\n",
       "        vertical-align: middle;\n",
       "    }\n",
       "\n",
       "    .dataframe tbody tr th {\n",
       "        vertical-align: top;\n",
       "    }\n",
       "\n",
       "    .dataframe thead th {\n",
       "        text-align: right;\n",
       "    }\n",
       "</style>\n",
       "<table border=\"1\" class=\"dataframe\">\n",
       "  <thead>\n",
       "    <tr style=\"text-align: right;\">\n",
       "      <th></th>\n",
       "      <th>user_id</th>\n",
       "      <th>age</th>\n",
       "      <th>income</th>\n",
       "      <th>sex</th>\n",
       "      <th>kids_flg</th>\n",
       "    </tr>\n",
       "  </thead>\n",
       "  <tbody>\n",
       "    <tr>\n",
       "      <th>0</th>\n",
       "      <td>973171</td>\n",
       "      <td>age_25_34</td>\n",
       "      <td>income_60_90</td>\n",
       "      <td>М</td>\n",
       "      <td>1</td>\n",
       "    </tr>\n",
       "    <tr>\n",
       "      <th>1</th>\n",
       "      <td>962099</td>\n",
       "      <td>age_18_24</td>\n",
       "      <td>income_20_40</td>\n",
       "      <td>М</td>\n",
       "      <td>0</td>\n",
       "    </tr>\n",
       "    <tr>\n",
       "      <th>840195</th>\n",
       "      <td>590706</td>\n",
       "      <td>NaN</td>\n",
       "      <td>NaN</td>\n",
       "      <td>Ж</td>\n",
       "      <td>0</td>\n",
       "    </tr>\n",
       "    <tr>\n",
       "      <th>840196</th>\n",
       "      <td>166555</td>\n",
       "      <td>age_65_inf</td>\n",
       "      <td>income_20_40</td>\n",
       "      <td>Ж</td>\n",
       "      <td>0</td>\n",
       "    </tr>\n",
       "  </tbody>\n",
       "</table>\n",
       "</div>"
      ],
      "text/plain": [
       "        user_id         age        income sex  kids_flg\n",
       "0        973171   age_25_34  income_60_90   М         1\n",
       "1        962099   age_18_24  income_20_40   М         0\n",
       "840195   590706         NaN           NaN   Ж         0\n",
       "840196   166555  age_65_inf  income_20_40   Ж         0"
      ]
     },
     "execution_count": 27,
     "metadata": {},
     "output_type": "execute_result"
    }
   ],
   "source": [
    "pd.concat([users.head(2), users.tail(2)])"
   ]
  },
  {
   "cell_type": "code",
   "execution_count": 28,
   "id": "c51f4aba",
   "metadata": {},
   "outputs": [],
   "source": [
    "def feature_to_mean_map(unique_values) -> dict:\n",
    "    res = {np.nan: np.nan}\n",
    "    for feature_val in unique_values:\n",
    "        if isinstance(feature_val, str):\n",
    "            vals = [int(i) if i != 'inf' else 74\n",
    "             for i in feature_val.split('_')[1:]]\n",
    "            res[feature_val] = np.mean(vals)\n",
    "    return res"
   ]
  },
  {
   "cell_type": "code",
   "execution_count": 29,
   "id": "7304d2c5",
   "metadata": {},
   "outputs": [],
   "source": [
    "users_segment = users.copy()"
   ]
  },
  {
   "cell_type": "code",
   "execution_count": 30,
   "id": "4549d34d",
   "metadata": {},
   "outputs": [],
   "source": [
    "age_map = feature_to_mean_map(users_segment['age'].unique())\n",
    "# age_map"
   ]
  },
  {
   "cell_type": "code",
   "execution_count": 31,
   "id": "3128f14c",
   "metadata": {},
   "outputs": [],
   "source": [
    "income_map = feature_to_mean_map(users_segment['income'].unique())\n",
    "# income_map"
   ]
  },
  {
   "cell_type": "code",
   "execution_count": 32,
   "id": "a0079bc6",
   "metadata": {},
   "outputs": [
    {
     "data": {
      "text/plain": [
       "array(['М', 'Ж', nan], dtype=object)"
      ]
     },
     "execution_count": 32,
     "metadata": {},
     "output_type": "execute_result"
    }
   ],
   "source": [
    "users_segment['sex'].unique()"
   ]
  },
  {
   "cell_type": "code",
   "execution_count": 33,
   "id": "f4fd12dd",
   "metadata": {},
   "outputs": [],
   "source": [
    "sex_map = {'М': 0, 'Ж': 1, np.nan: np.nan}"
   ]
  },
  {
   "cell_type": "code",
   "execution_count": 34,
   "id": "1818684b",
   "metadata": {},
   "outputs": [],
   "source": [
    "users_segment['age'] = users_segment['age'].map(age_map.get)\n",
    "users_segment['income'] = users_segment['income'].map(income_map.get)\n",
    "users_segment['sex'] = users_segment['sex'].map(sex_map.get)"
   ]
  },
  {
   "cell_type": "code",
   "execution_count": 35,
   "id": "57c6a3f1",
   "metadata": {},
   "outputs": [
    {
     "data": {
      "text/html": [
       "<div>\n",
       "<style scoped>\n",
       "    .dataframe tbody tr th:only-of-type {\n",
       "        vertical-align: middle;\n",
       "    }\n",
       "\n",
       "    .dataframe tbody tr th {\n",
       "        vertical-align: top;\n",
       "    }\n",
       "\n",
       "    .dataframe thead th {\n",
       "        text-align: right;\n",
       "    }\n",
       "</style>\n",
       "<table border=\"1\" class=\"dataframe\">\n",
       "  <thead>\n",
       "    <tr style=\"text-align: right;\">\n",
       "      <th></th>\n",
       "      <th>user_id</th>\n",
       "      <th>age</th>\n",
       "      <th>income</th>\n",
       "      <th>sex</th>\n",
       "      <th>kids_flg</th>\n",
       "    </tr>\n",
       "  </thead>\n",
       "  <tbody>\n",
       "    <tr>\n",
       "      <th>0</th>\n",
       "      <td>973171</td>\n",
       "      <td>29.5</td>\n",
       "      <td>75.0</td>\n",
       "      <td>0.0</td>\n",
       "      <td>1</td>\n",
       "    </tr>\n",
       "    <tr>\n",
       "      <th>1</th>\n",
       "      <td>962099</td>\n",
       "      <td>21.0</td>\n",
       "      <td>30.0</td>\n",
       "      <td>0.0</td>\n",
       "      <td>0</td>\n",
       "    </tr>\n",
       "    <tr>\n",
       "      <th>840195</th>\n",
       "      <td>590706</td>\n",
       "      <td>NaN</td>\n",
       "      <td>NaN</td>\n",
       "      <td>1.0</td>\n",
       "      <td>0</td>\n",
       "    </tr>\n",
       "    <tr>\n",
       "      <th>840196</th>\n",
       "      <td>166555</td>\n",
       "      <td>69.5</td>\n",
       "      <td>30.0</td>\n",
       "      <td>1.0</td>\n",
       "      <td>0</td>\n",
       "    </tr>\n",
       "  </tbody>\n",
       "</table>\n",
       "</div>"
      ],
      "text/plain": [
       "        user_id   age  income  sex  kids_flg\n",
       "0        973171  29.5    75.0  0.0         1\n",
       "1        962099  21.0    30.0  0.0         0\n",
       "840195   590706   NaN     NaN  1.0         0\n",
       "840196   166555  69.5    30.0  1.0         0"
      ]
     },
     "execution_count": 35,
     "metadata": {},
     "output_type": "execute_result"
    }
   ],
   "source": [
    "pd.concat([users_segment.head(2), users_segment.tail(2)])"
   ]
  },
  {
   "cell_type": "code",
   "execution_count": 36,
   "id": "b431e62a",
   "metadata": {},
   "outputs": [
    {
     "name": "stdout",
     "output_type": "stream",
     "text": [
      "<class 'pandas.core.frame.DataFrame'>\n",
      "RangeIndex: 840197 entries, 0 to 840196\n",
      "Data columns (total 5 columns):\n",
      " #   Column    Non-Null Count   Dtype  \n",
      "---  ------    --------------   -----  \n",
      " 0   user_id   840197 non-null  int64  \n",
      " 1   age       826102 non-null  float64\n",
      " 2   income    825421 non-null  float64\n",
      " 3   sex       826366 non-null  float64\n",
      " 4   kids_flg  840197 non-null  int64  \n",
      "dtypes: float64(3), int64(2)\n",
      "memory usage: 32.1 MB\n"
     ]
    }
   ],
   "source": [
    "users_segment.info()"
   ]
  },
  {
   "cell_type": "markdown",
   "id": "522194f8",
   "metadata": {},
   "source": [
    "### Заполнение пропущенных значений"
   ]
  },
  {
   "cell_type": "markdown",
   "id": "880ed9c2",
   "metadata": {},
   "source": [
    "Можно рассмотреть несколько мыслей.\n",
    "\n",
    "Во-первых можно вообще не заполнять пропуски и рассматривать только пользователей, у которых нет пропусков в нужных нам признаках. Соответственно пользователей с пропусками можно убрать из тренировочной выборки вообще и считать их холодными пользователями. Однако так мы теряем скорее всего ощутимую часть информации о холодных пользователей.\n",
    "\n",
    "С другой стороны можно рассмотреть всех пользователей с пропущенными значениями как отдельный сегмент и отдельно для них обучать модель рекомендаций.\n",
    "\n",
    "Но также можно попытаться заполнить пропуски по необходимым нам признакам и посомтреть на качество модели рекомендации. Пока что сконцентрируемся на заполнении пропусков.\n",
    "\n",
    "Количество пропущенных значений:"
   ]
  },
  {
   "cell_type": "code",
   "execution_count": 37,
   "id": "0d588e10",
   "metadata": {},
   "outputs": [
    {
     "name": "stdout",
     "output_type": "stream",
     "text": [
      "(840197, 5)\n"
     ]
    },
    {
     "data": {
      "text/plain": [
       "user_id         0\n",
       "age         14095\n",
       "income      14776\n",
       "sex         13831\n",
       "kids_flg        0\n",
       "dtype: int64"
      ]
     },
     "execution_count": 37,
     "metadata": {},
     "output_type": "execute_result"
    }
   ],
   "source": [
    "print(users_segment.shape)\n",
    "users_segment.isna().sum(axis=0)"
   ]
  },
  {
   "cell_type": "markdown",
   "id": "58b337ce",
   "metadata": {},
   "source": [
    "Для заполнения пропусков воспользуемся подходом MissForest.\n",
    "\n",
    "Библиотека с реализацией: https://pypi.org/project/missingpy/"
   ]
  },
  {
   "cell_type": "code",
   "execution_count": 38,
   "id": "128f442a",
   "metadata": {},
   "outputs": [],
   "source": [
    "from missingpy import MissForest"
   ]
  },
  {
   "cell_type": "code",
   "execution_count": 39,
   "id": "767335a0",
   "metadata": {},
   "outputs": [],
   "source": [
    "miss_forest = MissForest(max_iter=6)"
   ]
  },
  {
   "cell_type": "code",
   "execution_count": 40,
   "id": "3e173090",
   "metadata": {},
   "outputs": [
    {
     "name": "stdout",
     "output_type": "stream",
     "text": [
      "Iteration: 0\n",
      "Iteration: 1\n",
      "Iteration: 2\n",
      "Iteration: 3\n"
     ]
    }
   ],
   "source": [
    "cols = ['age', 'income', 'sex', 'kids_flg']\n",
    "users_segment_filled = miss_forest.fit_transform(\n",
    "    users_segment[cols])"
   ]
  },
  {
   "cell_type": "code",
   "execution_count": 41,
   "id": "b2129dd3",
   "metadata": {},
   "outputs": [],
   "source": [
    "users_segment_filled_df = pd.DataFrame(\n",
    "    users_segment_filled,\n",
    "    columns=cols,\n",
    "    index=users_segment.index\n",
    ")\n",
    "users_segment_filled_df['user_id'] = users_segment['user_id']\n",
    "users_segment_filled_df = users_segment_filled_df[\n",
    "    users_segment.columns]"
   ]
  },
  {
   "cell_type": "code",
   "execution_count": 42,
   "id": "4b25af1a",
   "metadata": {},
   "outputs": [
    {
     "data": {
      "text/html": [
       "<div>\n",
       "<style scoped>\n",
       "    .dataframe tbody tr th:only-of-type {\n",
       "        vertical-align: middle;\n",
       "    }\n",
       "\n",
       "    .dataframe tbody tr th {\n",
       "        vertical-align: top;\n",
       "    }\n",
       "\n",
       "    .dataframe thead th {\n",
       "        text-align: right;\n",
       "    }\n",
       "</style>\n",
       "<table border=\"1\" class=\"dataframe\">\n",
       "  <thead>\n",
       "    <tr style=\"text-align: right;\">\n",
       "      <th></th>\n",
       "      <th>user_id</th>\n",
       "      <th>age</th>\n",
       "      <th>income</th>\n",
       "      <th>sex</th>\n",
       "      <th>kids_flg</th>\n",
       "    </tr>\n",
       "  </thead>\n",
       "  <tbody>\n",
       "    <tr>\n",
       "      <th>840195</th>\n",
       "      <td>590706</td>\n",
       "      <td>NaN</td>\n",
       "      <td>NaN</td>\n",
       "      <td>1.0</td>\n",
       "      <td>0</td>\n",
       "    </tr>\n",
       "    <tr>\n",
       "      <th>840196</th>\n",
       "      <td>166555</td>\n",
       "      <td>69.5</td>\n",
       "      <td>30.0</td>\n",
       "      <td>1.0</td>\n",
       "      <td>0</td>\n",
       "    </tr>\n",
       "  </tbody>\n",
       "</table>\n",
       "</div>"
      ],
      "text/plain": [
       "        user_id   age  income  sex  kids_flg\n",
       "840195   590706   NaN     NaN  1.0         0\n",
       "840196   166555  69.5    30.0  1.0         0"
      ]
     },
     "execution_count": 42,
     "metadata": {},
     "output_type": "execute_result"
    }
   ],
   "source": [
    "# before na filling:\n",
    "users_segment.tail(2)"
   ]
  },
  {
   "cell_type": "code",
   "execution_count": 43,
   "id": "bdb6a152",
   "metadata": {},
   "outputs": [
    {
     "data": {
      "text/html": [
       "<div>\n",
       "<style scoped>\n",
       "    .dataframe tbody tr th:only-of-type {\n",
       "        vertical-align: middle;\n",
       "    }\n",
       "\n",
       "    .dataframe tbody tr th {\n",
       "        vertical-align: top;\n",
       "    }\n",
       "\n",
       "    .dataframe thead th {\n",
       "        text-align: right;\n",
       "    }\n",
       "</style>\n",
       "<table border=\"1\" class=\"dataframe\">\n",
       "  <thead>\n",
       "    <tr style=\"text-align: right;\">\n",
       "      <th></th>\n",
       "      <th>user_id</th>\n",
       "      <th>age</th>\n",
       "      <th>income</th>\n",
       "      <th>sex</th>\n",
       "      <th>kids_flg</th>\n",
       "    </tr>\n",
       "  </thead>\n",
       "  <tbody>\n",
       "    <tr>\n",
       "      <th>840195</th>\n",
       "      <td>590706</td>\n",
       "      <td>49.5</td>\n",
       "      <td>40.198773</td>\n",
       "      <td>1.0</td>\n",
       "      <td>0.0</td>\n",
       "    </tr>\n",
       "    <tr>\n",
       "      <th>840196</th>\n",
       "      <td>166555</td>\n",
       "      <td>69.5</td>\n",
       "      <td>30.000000</td>\n",
       "      <td>1.0</td>\n",
       "      <td>0.0</td>\n",
       "    </tr>\n",
       "  </tbody>\n",
       "</table>\n",
       "</div>"
      ],
      "text/plain": [
       "        user_id   age     income  sex  kids_flg\n",
       "840195   590706  49.5  40.198773  1.0       0.0\n",
       "840196   166555  69.5  30.000000  1.0       0.0"
      ]
     },
     "execution_count": 43,
     "metadata": {},
     "output_type": "execute_result"
    }
   ],
   "source": [
    "# after na filling:\n",
    "users_segment_filled_df.tail(2)"
   ]
  },
  {
   "cell_type": "code",
   "execution_count": 44,
   "id": "058b1061",
   "metadata": {},
   "outputs": [
    {
     "name": "stdout",
     "output_type": "stream",
     "text": [
      "(840197, 5)\n",
      "<class 'pandas.core.frame.DataFrame'>\n",
      "RangeIndex: 840197 entries, 0 to 840196\n",
      "Data columns (total 5 columns):\n",
      " #   Column    Non-Null Count   Dtype  \n",
      "---  ------    --------------   -----  \n",
      " 0   user_id   840197 non-null  int64  \n",
      " 1   age       840197 non-null  float64\n",
      " 2   income    840197 non-null  float64\n",
      " 3   sex       840197 non-null  float64\n",
      " 4   kids_flg  840197 non-null  float64\n",
      "dtypes: float64(4), int64(1)\n",
      "memory usage: 32.1 MB\n"
     ]
    }
   ],
   "source": [
    "print(users_segment_filled_df.shape)\n",
    "users_segment_filled_df.info()"
   ]
  },
  {
   "cell_type": "markdown",
   "id": "487c5922",
   "metadata": {},
   "source": [
    "Проверим, сохранились ли предыдущие категории:"
   ]
  },
  {
   "cell_type": "code",
   "execution_count": 45,
   "id": "89ba3358",
   "metadata": {},
   "outputs": [
    {
     "data": {
      "text/plain": [
       "array([0.        , 1.        , 0.46241896, 0.65173407, 0.59491126,\n",
       "       0.47173803, 0.37608274, 0.58149787, 0.5298589 , 0.52861491,\n",
       "       0.51508363, 0.45645657, 0.30857165, 0.55219693, 0.59755894,\n",
       "       0.31564976, 0.37660557, 0.74836553, 0.31369527, 0.3505545 ,\n",
       "       0.37008799, 0.39440137, 0.52950323, 0.54451077, 0.37199646,\n",
       "       0.67237343, 0.31787589, 0.52972782, 0.56084809, 0.38726723,\n",
       "       0.43804325, 0.55179641, 0.3999312 , 0.37952443, 0.73891957,\n",
       "       0.75819518, 0.78347494, 0.67797189, 0.50590449, 0.30731948,\n",
       "       0.38372354, 0.77661788, 0.76133256, 0.75374241, 0.55096706,\n",
       "       0.7591175 , 0.32486434, 0.28096716, 0.80869739, 0.30674459,\n",
       "       0.40371566, 0.40745674])"
      ]
     },
     "execution_count": 45,
     "metadata": {},
     "output_type": "execute_result"
    }
   ],
   "source": [
    "users_segment_filled_df['sex'].unique()"
   ]
  },
  {
   "cell_type": "markdown",
   "id": "d03fdc13",
   "metadata": {},
   "source": [
    "Округлим полученные значения пола:"
   ]
  },
  {
   "cell_type": "code",
   "execution_count": 46,
   "id": "5b9fd61d",
   "metadata": {},
   "outputs": [],
   "source": [
    "users_segment_filled_df['sex'] = (\n",
    "    users_segment_filled_df['sex']\n",
    "    .round()\n",
    "    .astype(int)\n",
    ")\n",
    "users_segment_filled_df['kids_flg'] = (\n",
    "    users_segment_filled_df['kids_flg']\n",
    "    .round()\n",
    "    .astype(int)\n",
    ")"
   ]
  },
  {
   "cell_type": "code",
   "execution_count": 47,
   "id": "459100a8",
   "metadata": {},
   "outputs": [
    {
     "name": "stdout",
     "output_type": "stream",
     "text": [
      "[1 0]\n",
      "[0 1]\n"
     ]
    }
   ],
   "source": [
    "print(users_segment_filled_df['kids_flg'].unique())\n",
    "print(users_segment_filled_df['sex'].unique())"
   ]
  },
  {
   "cell_type": "markdown",
   "id": "785f7b40",
   "metadata": {},
   "source": [
    "Проверим года:"
   ]
  },
  {
   "cell_type": "code",
   "execution_count": 48,
   "id": "72f5e644",
   "metadata": {},
   "outputs": [
    {
     "data": {
      "text/plain": [
       "array([29.5, 21. , 49.5, 39.5, 59.5, 69.5])"
      ]
     },
     "execution_count": 48,
     "metadata": {},
     "output_type": "execute_result"
    }
   ],
   "source": [
    "old_ages = users_segment['age'].unique()[\n",
    "    ~np.isnan(users_segment['age'].unique())]\n",
    "old_ages"
   ]
  },
  {
   "cell_type": "code",
   "execution_count": 49,
   "id": "bca39d76",
   "metadata": {},
   "outputs": [
    {
     "data": {
      "text/plain": [
       "array([42.29876754, 38.98884365, 38.02421069, 40.039528  , 36.963616  ,\n",
       "       40.80937568, 41.55691593, 38.9307105 , 38.03599369, 39.38810003,\n",
       "       38.43183755, 33.36728814, 40.51763614, 33.30131349, 39.54006355,\n",
       "       39.27800016, 33.65213661, 41.53885078])"
      ]
     },
     "execution_count": 49,
     "metadata": {},
     "output_type": "execute_result"
    }
   ],
   "source": [
    "new_ages = users_segment_filled_df['age'].unique()[\n",
    "    ~np.isin(users_segment_filled_df['age'].unique(), old_ages)]\n",
    "new_ages"
   ]
  },
  {
   "cell_type": "markdown",
   "id": "9d4fa046",
   "metadata": {},
   "source": [
    "Заменим данные значения на ближайшие из старых:"
   ]
  },
  {
   "cell_type": "code",
   "execution_count": 50,
   "id": "95f217c0",
   "metadata": {},
   "outputs": [],
   "source": [
    "from scipy.spatial.distance import cdist"
   ]
  },
  {
   "cell_type": "code",
   "execution_count": 51,
   "id": "0bd57829",
   "metadata": {},
   "outputs": [
    {
     "data": {
      "text/plain": [
       "array([39.5, 39.5, 39.5, 39.5, 39.5, 39.5, 39.5, 39.5, 39.5, 39.5, 39.5,\n",
       "       29.5, 39.5, 29.5, 39.5, 39.5, 29.5, 39.5])"
      ]
     },
     "execution_count": 51,
     "metadata": {},
     "output_type": "execute_result"
    }
   ],
   "source": [
    "old_ages_for_new = old_ages[(\n",
    "cdist(new_ages.reshape(-1, 1), old_ages.reshape(-1, 1))\n",
    "    .argmin(axis=1)\n",
    ")]\n",
    "old_ages_for_new"
   ]
  },
  {
   "cell_type": "code",
   "execution_count": 52,
   "id": "0420f93e",
   "metadata": {},
   "outputs": [
    {
     "data": {
      "text/plain": [
       "{42.29876754224782: 39.5,\n",
       " 38.98884365085: 39.5,\n",
       " 38.0242106883374: 39.5,\n",
       " 40.039527999773014: 39.5,\n",
       " 36.963616003857474: 39.5,\n",
       " 40.8093756781313: 39.5,\n",
       " 41.5569159292956: 39.5,\n",
       " 38.9307104960185: 39.5,\n",
       " 38.03599369182699: 39.5,\n",
       " 39.3881000335568: 39.5,\n",
       " 38.43183754911681: 39.5,\n",
       " 33.36728813721007: 29.5,\n",
       " 40.51763614382563: 39.5,\n",
       " 33.301313493070104: 29.5,\n",
       " 39.54006354949085: 39.5,\n",
       " 39.278000160800815: 39.5,\n",
       " 33.65213660693381: 29.5,\n",
       " 41.538850777493906: 39.5}"
      ]
     },
     "execution_count": 52,
     "metadata": {},
     "output_type": "execute_result"
    }
   ],
   "source": [
    "old_ages_to_new_map = {\n",
    "    old: new for old, new in zip(new_ages, old_ages_for_new)\n",
    "}\n",
    "old_ages_to_new_map"
   ]
  },
  {
   "cell_type": "code",
   "execution_count": 53,
   "id": "cf34d3a2",
   "metadata": {},
   "outputs": [],
   "source": [
    "new_ages_index = users_segment_filled_df['age'][\n",
    "    users_segment_filled_df['age'].isin(new_ages)].index\n",
    "\n",
    "users_segment_filled_df.loc[new_ages_index, 'age'] =\\\n",
    "users_segment_filled_df['age'].loc[new_ages_index].map(\n",
    "    old_ages_to_new_map.get)"
   ]
  },
  {
   "cell_type": "code",
   "execution_count": 54,
   "id": "9a60078d",
   "metadata": {},
   "outputs": [
    {
     "data": {
      "text/plain": [
       "array([29.5, 21. , 49.5, 39.5, 59.5, 69.5])"
      ]
     },
     "execution_count": 54,
     "metadata": {},
     "output_type": "execute_result"
    }
   ],
   "source": [
    "users_segment_filled_df['age'].unique()"
   ]
  },
  {
   "cell_type": "code",
   "execution_count": 55,
   "id": "5ebd555d",
   "metadata": {},
   "outputs": [
    {
     "data": {
      "text/plain": [
       "True"
      ]
     },
     "execution_count": 55,
     "metadata": {},
     "output_type": "execute_result"
    }
   ],
   "source": [
    "(old_ages == users_segment_filled_df['age'].unique()).all()"
   ]
  },
  {
   "cell_type": "markdown",
   "id": "2dd65c39",
   "metadata": {},
   "source": [
    "Ту же операцию можно проделать и с доходом:"
   ]
  },
  {
   "cell_type": "code",
   "execution_count": 56,
   "id": "e906e2bf",
   "metadata": {},
   "outputs": [
    {
     "data": {
      "text/plain": [
       "array([ 75.,  30.,  50.,  10., 120., 112.])"
      ]
     },
     "execution_count": 56,
     "metadata": {},
     "output_type": "execute_result"
    }
   ],
   "source": [
    "old_incomes = users_segment['income'].unique()[\n",
    "    ~np.isnan(users_segment['income'].unique())]\n",
    "old_incomes"
   ]
  },
  {
   "cell_type": "code",
   "execution_count": 57,
   "id": "684f754f",
   "metadata": {},
   "outputs": [
    {
     "data": {
      "text/plain": [
       "array([40.19877322, 42.42844577, 39.64524053, 34.82189178, 35.29972842,\n",
       "       35.20678889, 46.5682267 , 38.85145737, 32.15124135, 38.87850996,\n",
       "       46.50033217, 40.45074422])"
      ]
     },
     "execution_count": 57,
     "metadata": {},
     "output_type": "execute_result"
    }
   ],
   "source": [
    "new_incomes = users_segment_filled_df['income'].unique()[\n",
    "    ~np.isin(\n",
    "        users_segment_filled_df['income'].unique(), old_incomes)]\n",
    "new_incomes"
   ]
  },
  {
   "cell_type": "code",
   "execution_count": 58,
   "id": "da23fd4d",
   "metadata": {},
   "outputs": [
    {
     "data": {
      "text/plain": [
       "array([50., 50., 30., 30., 30., 30., 50., 30., 30., 30., 50., 50.])"
      ]
     },
     "execution_count": 58,
     "metadata": {},
     "output_type": "execute_result"
    }
   ],
   "source": [
    "old_incomes_for_new = old_incomes[(\n",
    "cdist(new_incomes.reshape(-1, 1), old_incomes.reshape(-1, 1))\n",
    "    .argmin(axis=1)\n",
    ")]\n",
    "old_incomes_for_new"
   ]
  },
  {
   "cell_type": "code",
   "execution_count": 59,
   "id": "48975eeb",
   "metadata": {},
   "outputs": [],
   "source": [
    "old_incomes_for_new_map = {\n",
    "    old: new for old, new in zip(new_incomes, old_incomes_for_new)\n",
    "}"
   ]
  },
  {
   "cell_type": "code",
   "execution_count": 60,
   "id": "eca9969d",
   "metadata": {},
   "outputs": [],
   "source": [
    "new_incomes_index = users_segment_filled_df['income'][\n",
    "    users_segment_filled_df['income'].isin(new_incomes)].index\n",
    "\n",
    "users_segment_filled_df.loc[new_incomes_index, 'income'] =\\\n",
    "users_segment_filled_df['income'].loc[new_incomes_index].map(\n",
    "    old_incomes_for_new_map.get)"
   ]
  },
  {
   "cell_type": "code",
   "execution_count": 61,
   "id": "34e578f6",
   "metadata": {},
   "outputs": [
    {
     "data": {
      "text/plain": [
       "array([ 75.,  30.,  50.,  10., 120., 112.])"
      ]
     },
     "execution_count": 61,
     "metadata": {},
     "output_type": "execute_result"
    }
   ],
   "source": [
    "users_segment_filled_df['income'].unique()"
   ]
  },
  {
   "cell_type": "code",
   "execution_count": 62,
   "id": "a91c2cde",
   "metadata": {},
   "outputs": [
    {
     "data": {
      "text/plain": [
       "True"
      ]
     },
     "execution_count": 62,
     "metadata": {},
     "output_type": "execute_result"
    }
   ],
   "source": [
    "(old_incomes == users_segment_filled_df['income'].unique()).all()"
   ]
  },
  {
   "cell_type": "markdown",
   "id": "7540e9ac",
   "metadata": {},
   "source": [
    "Сохраним датасет с заполненными значениями:"
   ]
  },
  {
   "cell_type": "code",
   "execution_count": 63,
   "id": "4569e34a",
   "metadata": {},
   "outputs": [],
   "source": [
    "users_segment_filled_df.to_csv(\n",
    "    'kion_train/users_filled.csv', index=False)"
   ]
  },
  {
   "cell_type": "code",
   "execution_count": 64,
   "id": "de7848a7",
   "metadata": {},
   "outputs": [],
   "source": [
    "users_segment_filled_df = pd.read_csv(\n",
    "    'kion_train/users_filled.csv')"
   ]
  },
  {
   "cell_type": "markdown",
   "id": "85532ab5",
   "metadata": {},
   "source": [
    "### Кластеризация"
   ]
  },
  {
   "cell_type": "code",
   "execution_count": 65,
   "id": "201b8d3b",
   "metadata": {},
   "outputs": [
    {
     "data": {
      "text/html": [
       "<div>\n",
       "<style scoped>\n",
       "    .dataframe tbody tr th:only-of-type {\n",
       "        vertical-align: middle;\n",
       "    }\n",
       "\n",
       "    .dataframe tbody tr th {\n",
       "        vertical-align: top;\n",
       "    }\n",
       "\n",
       "    .dataframe thead th {\n",
       "        text-align: right;\n",
       "    }\n",
       "</style>\n",
       "<table border=\"1\" class=\"dataframe\">\n",
       "  <thead>\n",
       "    <tr style=\"text-align: right;\">\n",
       "      <th></th>\n",
       "      <th>user_id</th>\n",
       "      <th>age</th>\n",
       "      <th>income</th>\n",
       "      <th>sex</th>\n",
       "      <th>kids_flg</th>\n",
       "    </tr>\n",
       "  </thead>\n",
       "  <tbody>\n",
       "    <tr>\n",
       "      <th>0</th>\n",
       "      <td>973171</td>\n",
       "      <td>29.5</td>\n",
       "      <td>75.0</td>\n",
       "      <td>0</td>\n",
       "      <td>1</td>\n",
       "    </tr>\n",
       "    <tr>\n",
       "      <th>1</th>\n",
       "      <td>962099</td>\n",
       "      <td>21.0</td>\n",
       "      <td>30.0</td>\n",
       "      <td>0</td>\n",
       "      <td>0</td>\n",
       "    </tr>\n",
       "    <tr>\n",
       "      <th>840195</th>\n",
       "      <td>590706</td>\n",
       "      <td>49.5</td>\n",
       "      <td>50.0</td>\n",
       "      <td>1</td>\n",
       "      <td>0</td>\n",
       "    </tr>\n",
       "    <tr>\n",
       "      <th>840196</th>\n",
       "      <td>166555</td>\n",
       "      <td>69.5</td>\n",
       "      <td>30.0</td>\n",
       "      <td>1</td>\n",
       "      <td>0</td>\n",
       "    </tr>\n",
       "  </tbody>\n",
       "</table>\n",
       "</div>"
      ],
      "text/plain": [
       "        user_id   age  income  sex  kids_flg\n",
       "0        973171  29.5    75.0    0         1\n",
       "1        962099  21.0    30.0    0         0\n",
       "840195   590706  49.5    50.0    1         0\n",
       "840196   166555  69.5    30.0    1         0"
      ]
     },
     "execution_count": 65,
     "metadata": {},
     "output_type": "execute_result"
    }
   ],
   "source": [
    "pd.concat([\n",
    "    users_segment_filled_df.head(2),\n",
    "    users_segment_filled_df.tail(2)\n",
    "])"
   ]
  },
  {
   "cell_type": "markdown",
   "id": "1326a6a9",
   "metadata": {},
   "source": [
    "У нас уже есть два очевидных разбиения: `Пол`, `Дети`. Остальные разбиения подберем интуитивно на основе гистограм. На самом деле можно разбить вообще по всем имеющимся категориям."
   ]
  },
  {
   "cell_type": "code",
   "execution_count": 66,
   "id": "f5eb4f94",
   "metadata": {},
   "outputs": [
    {
     "data": {
      "text/plain": [
       "<AxesSubplot:>"
      ]
     },
     "execution_count": 66,
     "metadata": {},
     "output_type": "execute_result"
    },
    {
     "data": {
      "image/png": "[encoded data removed]",
      "text/plain": [
       "<Figure size 640x480 with 1 Axes>"
      ]
     },
     "metadata": {},
     "output_type": "display_data"
    }
   ],
   "source": [
    "users_segment_filled_df['age'].hist()"
   ]
  },
  {
   "cell_type": "markdown",
   "id": "d65254e2",
   "metadata": {},
   "source": [
    "Можно объединить пользователей:\n",
    "* от 20 до 30 ~ 0\n",
    "* от 35 до 50 ~ 1\n",
    "* от 55 до 70 ~ 2"
   ]
  },
  {
   "cell_type": "code",
   "execution_count": 67,
   "id": "789b093f",
   "metadata": {},
   "outputs": [],
   "source": [
    "users_segment_final = users_segment_filled_df.copy()"
   ]
  },
  {
   "cell_type": "code",
   "execution_count": 68,
   "id": "9abb3131",
   "metadata": {},
   "outputs": [
    {
     "data": {
      "text/plain": [
       "array([29.5, 21. , 49.5, 39.5, 59.5, 69.5])"
      ]
     },
     "execution_count": 68,
     "metadata": {},
     "output_type": "execute_result"
    }
   ],
   "source": [
    "old_ages"
   ]
  },
  {
   "cell_type": "code",
   "execution_count": 69,
   "id": "3f367c03",
   "metadata": {},
   "outputs": [],
   "source": [
    "users_segment_final['segm_age'] = pd.cut(\n",
    "    users_segment_final['age'],\n",
    "    [0, 30, 50, 80],\n",
    "    labels=[0, 1, 2]\n",
    ")"
   ]
  },
  {
   "cell_type": "markdown",
   "id": "9f9016b6",
   "metadata": {},
   "source": [
    "Тем же образом разобъем на сегменты и доход:"
   ]
  },
  {
   "cell_type": "code",
   "execution_count": 70,
   "id": "e2db24f4",
   "metadata": {},
   "outputs": [
    {
     "data": {
      "text/plain": [
       "<AxesSubplot:>"
      ]
     },
     "execution_count": 70,
     "metadata": {},
     "output_type": "execute_result"
    },
    {
     "data": {
      "image/png": "[encoded data removed]",
      "text/plain": [
       "<Figure size 640x480 with 1 Axes>"
      ]
     },
     "metadata": {},
     "output_type": "display_data"
    }
   ],
   "source": [
    "users_segment_filled_df['income'].hist()"
   ]
  },
  {
   "cell_type": "markdown",
   "id": "3a4e6791",
   "metadata": {},
   "source": [
    "Можно объединить пользователей с доходом:\n",
    "* до 40 ~ 0\n",
    "* от 40 до 80 ~ 1\n",
    "* от 100 до 120 ~ 2"
   ]
  },
  {
   "cell_type": "code",
   "execution_count": 71,
   "id": "95beed4b",
   "metadata": {},
   "outputs": [],
   "source": [
    "users_segment_final['segm_income'] = pd.cut(\n",
    "    users_segment_final['income'],\n",
    "    [0, 40, 80, 130],\n",
    "    labels=[0, 1, 2]\n",
    ")"
   ]
  },
  {
   "cell_type": "code",
   "execution_count": 72,
   "id": "b835cb28",
   "metadata": {},
   "outputs": [
    {
     "data": {
      "text/html": [
       "<div>\n",
       "<style scoped>\n",
       "    .dataframe tbody tr th:only-of-type {\n",
       "        vertical-align: middle;\n",
       "    }\n",
       "\n",
       "    .dataframe tbody tr th {\n",
       "        vertical-align: top;\n",
       "    }\n",
       "\n",
       "    .dataframe thead th {\n",
       "        text-align: right;\n",
       "    }\n",
       "</style>\n",
       "<table border=\"1\" class=\"dataframe\">\n",
       "  <thead>\n",
       "    <tr style=\"text-align: right;\">\n",
       "      <th></th>\n",
       "      <th>user_id</th>\n",
       "      <th>age</th>\n",
       "      <th>income</th>\n",
       "      <th>sex</th>\n",
       "      <th>kids_flg</th>\n",
       "      <th>segm_age</th>\n",
       "      <th>segm_income</th>\n",
       "    </tr>\n",
       "  </thead>\n",
       "  <tbody>\n",
       "    <tr>\n",
       "      <th>0</th>\n",
       "      <td>973171</td>\n",
       "      <td>29.5</td>\n",
       "      <td>75.0</td>\n",
       "      <td>0</td>\n",
       "      <td>1</td>\n",
       "      <td>0</td>\n",
       "      <td>1</td>\n",
       "    </tr>\n",
       "    <tr>\n",
       "      <th>1</th>\n",
       "      <td>962099</td>\n",
       "      <td>21.0</td>\n",
       "      <td>30.0</td>\n",
       "      <td>0</td>\n",
       "      <td>0</td>\n",
       "      <td>0</td>\n",
       "      <td>0</td>\n",
       "    </tr>\n",
       "    <tr>\n",
       "      <th>840195</th>\n",
       "      <td>590706</td>\n",
       "      <td>49.5</td>\n",
       "      <td>50.0</td>\n",
       "      <td>1</td>\n",
       "      <td>0</td>\n",
       "      <td>1</td>\n",
       "      <td>1</td>\n",
       "    </tr>\n",
       "    <tr>\n",
       "      <th>840196</th>\n",
       "      <td>166555</td>\n",
       "      <td>69.5</td>\n",
       "      <td>30.0</td>\n",
       "      <td>1</td>\n",
       "      <td>0</td>\n",
       "      <td>2</td>\n",
       "      <td>0</td>\n",
       "    </tr>\n",
       "  </tbody>\n",
       "</table>\n",
       "</div>"
      ],
      "text/plain": [
       "        user_id   age  income  sex  kids_flg segm_age segm_income\n",
       "0        973171  29.5    75.0    0         1        0           1\n",
       "1        962099  21.0    30.0    0         0        0           0\n",
       "840195   590706  49.5    50.0    1         0        1           1\n",
       "840196   166555  69.5    30.0    1         0        2           0"
      ]
     },
     "execution_count": 72,
     "metadata": {},
     "output_type": "execute_result"
    }
   ],
   "source": [
    "pd.concat([\n",
    "    users_segment_final.head(2), users_segment_final.tail(2)])"
   ]
  },
  {
   "cell_type": "markdown",
   "id": "d3cc627a",
   "metadata": {},
   "source": [
    "Для тестов остановимся на четырех разбиениях:\n",
    "\n",
    "1) То, которое описано выше\n",
    "2) Всевозможные по всем признакам\n",
    "3) Только по полу\n",
    "4) По полу и детям\n",
    "\n",
    "В процессе работы было выявлено, что слишком большое количество сегментов порождает маленькие группы из людей, которые сомтрели один и тот же фильм. В данном случае рекомендации на основе knn показывают себя не слишком хорошо и требуют дополнения другими подходами.\n",
    "\n",
    "Сформируем итоговые разбиения по сегментам:"
   ]
  },
  {
   "cell_type": "code",
   "execution_count": 73,
   "id": "4c1520f8",
   "metadata": {},
   "outputs": [],
   "source": [
    "def split_into_segments(\n",
    "    df: pd.DataFrame,\n",
    "    columns: list\n",
    ") -> pd.DataFrame:\n",
    "    segments = (df.groupby(columns).agg({'user_id': list})).dropna()\n",
    "    indx_map = {indx: i for i, indx in enumerate(segments.index)}\n",
    "    segment_users = pd.DataFrame({\n",
    "        'user_id': segments['user_id'].reset_index(drop=True),\n",
    "        'segm': segments.index.map(indx_map.get).tolist()\n",
    "    }).explode('user_id')\n",
    "    return segment_users"
   ]
  },
  {
   "cell_type": "code",
   "execution_count": 74,
   "id": "93ce3e01",
   "metadata": {},
   "outputs": [],
   "source": [
    "custom_features = ['sex', 'kids_flg', 'segm_age', 'segm_income']\n",
    "all_features = ['sex', 'kids_flg', 'age', 'income']\n",
    "sex_features = ['sex']\n",
    "kids_features = ['sex', 'kids_flg']"
   ]
  },
  {
   "cell_type": "code",
   "execution_count": 75,
   "id": "cd257bbc",
   "metadata": {},
   "outputs": [],
   "source": [
    "segment_users_custom = split_into_segments(\n",
    "    users_segment_final, custom_features)\n",
    "\n",
    "segment_users_all = split_into_segments(\n",
    "    users_segment_final, all_features)\n",
    "\n",
    "segment_users_sex = split_into_segments(\n",
    "    users_segment_final, sex_features)\n",
    "\n",
    "segment_users_kids = split_into_segments(\n",
    "    users_segment_final, kids_features)\n",
    "\n",
    "\n",
    "segment_users = pd.merge(\n",
    "    segment_users_custom, segment_users_all,\n",
    "    how='left', on='user_id', suffixes=['_custom', '_all']\n",
    ")\n",
    "\n",
    "segment_users = pd.merge(\n",
    "    segment_users, segment_users_sex,\n",
    "    how='left', on='user_id'\n",
    ")\n",
    "\n",
    "segment_users = pd.merge(\n",
    "    segment_users, segment_users_kids,\n",
    "    how='left', on='user_id', suffixes=['_sex', '_kids']\n",
    ")"
   ]
  },
  {
   "cell_type": "code",
   "execution_count": 76,
   "id": "8b33c13e",
   "metadata": {},
   "outputs": [
    {
     "name": "stdout",
     "output_type": "stream",
     "text": [
      "(840197, 5)\n"
     ]
    },
    {
     "data": {
      "text/html": [
       "<div>\n",
       "<style scoped>\n",
       "    .dataframe tbody tr th:only-of-type {\n",
       "        vertical-align: middle;\n",
       "    }\n",
       "\n",
       "    .dataframe tbody tr th {\n",
       "        vertical-align: top;\n",
       "    }\n",
       "\n",
       "    .dataframe thead th {\n",
       "        text-align: right;\n",
       "    }\n",
       "</style>\n",
       "<table border=\"1\" class=\"dataframe\">\n",
       "  <thead>\n",
       "    <tr style=\"text-align: right;\">\n",
       "      <th></th>\n",
       "      <th>user_id</th>\n",
       "      <th>segm_custom</th>\n",
       "      <th>segm_all</th>\n",
       "      <th>segm_sex</th>\n",
       "      <th>segm_kids</th>\n",
       "    </tr>\n",
       "  </thead>\n",
       "  <tbody>\n",
       "    <tr>\n",
       "      <th>0</th>\n",
       "      <td>962099</td>\n",
       "      <td>0</td>\n",
       "      <td>1</td>\n",
       "      <td>0</td>\n",
       "      <td>0</td>\n",
       "    </tr>\n",
       "    <tr>\n",
       "      <th>1</th>\n",
       "      <td>391756</td>\n",
       "      <td>0</td>\n",
       "      <td>6</td>\n",
       "      <td>0</td>\n",
       "      <td>0</td>\n",
       "    </tr>\n",
       "    <tr>\n",
       "      <th>2</th>\n",
       "      <td>382508</td>\n",
       "      <td>0</td>\n",
       "      <td>1</td>\n",
       "      <td>0</td>\n",
       "      <td>0</td>\n",
       "    </tr>\n",
       "    <tr>\n",
       "      <th>840194</th>\n",
       "      <td>283867</td>\n",
       "      <td>35</td>\n",
       "      <td>136</td>\n",
       "      <td>1</td>\n",
       "      <td>3</td>\n",
       "    </tr>\n",
       "    <tr>\n",
       "      <th>840195</th>\n",
       "      <td>377972</td>\n",
       "      <td>35</td>\n",
       "      <td>142</td>\n",
       "      <td>1</td>\n",
       "      <td>3</td>\n",
       "    </tr>\n",
       "    <tr>\n",
       "      <th>840196</th>\n",
       "      <td>1001120</td>\n",
       "      <td>35</td>\n",
       "      <td>136</td>\n",
       "      <td>1</td>\n",
       "      <td>3</td>\n",
       "    </tr>\n",
       "  </tbody>\n",
       "</table>\n",
       "</div>"
      ],
      "text/plain": [
       "        user_id  segm_custom  segm_all  segm_sex  segm_kids\n",
       "0        962099            0         1         0          0\n",
       "1        391756            0         6         0          0\n",
       "2        382508            0         1         0          0\n",
       "840194   283867           35       136         1          3\n",
       "840195   377972           35       142         1          3\n",
       "840196  1001120           35       136         1          3"
      ]
     },
     "execution_count": 76,
     "metadata": {},
     "output_type": "execute_result"
    }
   ],
   "source": [
    "print(segment_users.shape)\n",
    "pd.concat([segment_users.head(3), segment_users.tail(3)])"
   ]
  },
  {
   "cell_type": "code",
   "execution_count": 77,
   "id": "1c536e68",
   "metadata": {},
   "outputs": [
    {
     "name": "stdout",
     "output_type": "stream",
     "text": [
      "segm_custom: (36,)\n",
      "segm_all: (143,)\n",
      "segm_sex: (2,)\n",
      "segm_kids: (4,)\n"
     ]
    }
   ],
   "source": [
    "for col in ['segm_custom', 'segm_all', 'segm_sex', 'segm_kids']:\n",
    "    print(f'{col}:', segment_users[col].unique().shape)"
   ]
  },
  {
   "cell_type": "code",
   "execution_count": 78,
   "id": "d0c62586",
   "metadata": {},
   "outputs": [],
   "source": [
    "segment_users.to_csv('kion_train/users_segment.csv', index=False)"
   ]
  },
  {
   "cell_type": "code",
   "execution_count": 16,
   "id": "cda8702b",
   "metadata": {},
   "outputs": [],
   "source": [
    "segment_users = pd.read_csv('kion_train/users_segment.csv')"
   ]
  },
  {
   "cell_type": "code",
   "execution_count": 17,
   "id": "34bc0665",
   "metadata": {
    "scrolled": true
   },
   "outputs": [
    {
     "data": {
      "text/html": [
       "<div>\n",
       "<style scoped>\n",
       "    .dataframe tbody tr th:only-of-type {\n",
       "        vertical-align: middle;\n",
       "    }\n",
       "\n",
       "    .dataframe tbody tr th {\n",
       "        vertical-align: top;\n",
       "    }\n",
       "\n",
       "    .dataframe thead th {\n",
       "        text-align: right;\n",
       "    }\n",
       "</style>\n",
       "<table border=\"1\" class=\"dataframe\">\n",
       "  <thead>\n",
       "    <tr style=\"text-align: right;\">\n",
       "      <th></th>\n",
       "      <th>user_id</th>\n",
       "      <th>segm_custom</th>\n",
       "      <th>segm_all</th>\n",
       "      <th>segm_sex</th>\n",
       "      <th>segm_kids</th>\n",
       "    </tr>\n",
       "  </thead>\n",
       "  <tbody>\n",
       "    <tr>\n",
       "      <th>0</th>\n",
       "      <td>962099</td>\n",
       "      <td>0</td>\n",
       "      <td>1</td>\n",
       "      <td>0</td>\n",
       "      <td>0</td>\n",
       "    </tr>\n",
       "    <tr>\n",
       "      <th>1</th>\n",
       "      <td>391756</td>\n",
       "      <td>0</td>\n",
       "      <td>6</td>\n",
       "      <td>0</td>\n",
       "      <td>0</td>\n",
       "    </tr>\n",
       "    <tr>\n",
       "      <th>2</th>\n",
       "      <td>382508</td>\n",
       "      <td>0</td>\n",
       "      <td>1</td>\n",
       "      <td>0</td>\n",
       "      <td>0</td>\n",
       "    </tr>\n",
       "    <tr>\n",
       "      <th>840194</th>\n",
       "      <td>283867</td>\n",
       "      <td>35</td>\n",
       "      <td>136</td>\n",
       "      <td>1</td>\n",
       "      <td>3</td>\n",
       "    </tr>\n",
       "    <tr>\n",
       "      <th>840195</th>\n",
       "      <td>377972</td>\n",
       "      <td>35</td>\n",
       "      <td>142</td>\n",
       "      <td>1</td>\n",
       "      <td>3</td>\n",
       "    </tr>\n",
       "    <tr>\n",
       "      <th>840196</th>\n",
       "      <td>1001120</td>\n",
       "      <td>35</td>\n",
       "      <td>136</td>\n",
       "      <td>1</td>\n",
       "      <td>3</td>\n",
       "    </tr>\n",
       "  </tbody>\n",
       "</table>\n",
       "</div>"
      ],
      "text/plain": [
       "        user_id  segm_custom  segm_all  segm_sex  segm_kids\n",
       "0        962099            0         1         0          0\n",
       "1        391756            0         6         0          0\n",
       "2        382508            0         1         0          0\n",
       "840194   283867           35       136         1          3\n",
       "840195   377972           35       142         1          3\n",
       "840196  1001120           35       136         1          3"
      ]
     },
     "execution_count": 17,
     "metadata": {},
     "output_type": "execute_result"
    }
   ],
   "source": [
    "pd.concat([segment_users.head(3), segment_users.tail(3)])"
   ]
  },
  {
   "cell_type": "markdown",
   "id": "9fd07907",
   "metadata": {},
   "source": [
    "### Реализация модели по сегментам"
   ]
  },
  {
   "cell_type": "code",
   "execution_count": 15,
   "id": "95f7ce03",
   "metadata": {},
   "outputs": [],
   "source": [
    "from typing import List\n",
    "\n",
    "\n",
    "class SegmentKNN:\n",
    "    def __init__(\n",
    "        self,\n",
    "        base_estimator: UserKnn,\n",
    "        sub_estimator,\n",
    "        base_estimator_kwargs: dict = None,\n",
    "        sub_estimator_kwargs: dict = None,\n",
    "        sub_estimators_predict_kwargs: dict = None\n",
    "    ):\n",
    "        self.base_estimator = base_estimator\n",
    "        self.sub_estimator = sub_estimator\n",
    "        self.sub_estimators = {}\n",
    "        self.is_fitted = False\n",
    "        self.users_segment_map = None\n",
    "        \n",
    "        self.base_estimator_kwargs = base_estimator_kwargs\n",
    "        self.sub_estimator_kwargs = sub_estimator_kwargs\n",
    "        self.sub_estimators_predict_kwargs = sub_estimators_predict_kwargs\n",
    "    \n",
    "    def _calc_users_segment_map(\n",
    "        self, train, user_segment_df, segm_col\n",
    "    ):\n",
    "        train_users = train['user_id'].unique()\n",
    "        mask = user_segment_df['user_id'].isin(train_users)\n",
    "        self.users_segment_map = {\n",
    "            user_id: segm for user_id, segm in\n",
    "            zip(user_segment_df[mask]['user_id'],\n",
    "                user_segment_df[mask][segm_col])\n",
    "        }\n",
    "    \n",
    "    def _remove_from_users_map(self, users_ids: List[int]):\n",
    "        for user_id in users_ids:\n",
    "            del self.users_segment_map[user_id]\n",
    "    \n",
    "    def fit(\n",
    "        self,\n",
    "        train: pd.DataFrame,\n",
    "        user_segment_df: pd.DataFrame,\n",
    "        segm_col: str\n",
    "    ):\n",
    "        self._calc_users_segment_map(\n",
    "            train, user_segment_df, segm_col\n",
    "        )\n",
    "        # train base estimators over all existing segments:\n",
    "        for k in user_segment_df[segm_col].unique():\n",
    "            # make train DataFrame over current segment:\n",
    "            users_segm = user_segment_df[\n",
    "                user_segment_df[segm_col]==k\n",
    "            ]['user_id']\n",
    "            segm_train = train[train['user_id'].isin(users_segm)]\n",
    "            # train sub estimator over current segment\n",
    "            if segm_train.shape[0] > 1:\n",
    "                # init sub estimator:\n",
    "                if self.sub_estimator_kwargs is None:\n",
    "                    sub_model = self.sub_estimator()\n",
    "                else:\n",
    "                    sub_model = self.sub_estimator(\n",
    "                        **self.sub_estimator_kwargs\n",
    "                    )\n",
    "                # init base estimator:\n",
    "                if self.base_estimator_kwargs is None:\n",
    "                    knn_model = self.base_estimator(model=sub_model)\n",
    "                else:\n",
    "                    knn_model = self.base_estimator(\n",
    "                        model=sub_model,\n",
    "                        **self.base_estimator_kwargs\n",
    "                    )\n",
    "                # train base estimator:\n",
    "                knn_model.fit(segm_train)\n",
    "                self.sub_estimators[k] = knn_model\n",
    "            else:\n",
    "                self._remove_from_users_map(\n",
    "                    segm_train['user_id'].tolist()\n",
    "                )\n",
    "                \n",
    "        self.is_fitted = True\n",
    "                \n",
    "    def predict(self, test: pd.DataFrame, N_recs: int = 10):\n",
    "        \n",
    "        if not self.is_fitted:\n",
    "            raise ValueError(\"Please call fit before predict\")\n",
    "        \n",
    "        # figure out users segments:\n",
    "        pred_test = test.copy()\n",
    "        pred_test['segm'] = pred_test['user_id'].map(\n",
    "            self.users_segment_map.get)\n",
    "        \n",
    "        def make_pred(col):\n",
    "            # prediction for each user in segment\n",
    "            if self.sub_estimators_predict_kwargs is None:\n",
    "                pred = self.sub_estimators[\n",
    "                    self.users_segment_map[col.iloc[0]]\n",
    "                ].predict(\n",
    "                    pd.DataFrame({'user_id': col}), N_recs\n",
    "                )\n",
    "            else:\n",
    "                pred = self.sub_estimators[\n",
    "                    self.users_segment_map[col.iloc[0]]\n",
    "                ].predict(\n",
    "                    pd.DataFrame({'user_id': col}), N_recs,\n",
    "                    **self.sub_estimators_predict_kwargs\n",
    "                )\n",
    "            return pred.values.tolist()\n",
    "        \n",
    "        # make prediction for each segment\n",
    "        pred = pred_test.groupby('segm').agg(\n",
    "            {'user_id': lambda col: make_pred(col)}\n",
    "        ).explode('user_id')\n",
    "\n",
    "        # convert arrays into columns:\n",
    "        cols = ['user_id', 'item_id', 'score', 'rank']\n",
    "        for i in range(len(cols)-1, -1, -1):\n",
    "            pred[cols[i]] = pred['user_id'].apply(\n",
    "                lambda val: val[i])\n",
    "        \n",
    "        return pred[cols].reset_index(drop=True)"
   ]
  },
  {
   "cell_type": "code",
   "execution_count": 82,
   "id": "1ecfee03",
   "metadata": {},
   "outputs": [],
   "source": [
    "segment_kNN_all = SegmentKNN(\n",
    "    base_estimator=UserKnn,\n",
    "    sub_estimator=CosineRecommender,\n",
    ")"
   ]
  },
  {
   "cell_type": "code",
   "execution_count": 83,
   "id": "05fbac4a",
   "metadata": {
    "scrolled": true
   },
   "outputs": [
    {
     "data": {
      "application/vnd.jupyter.widget-view+json": {
       "model_id": "f3a6ea2f31a64c1aafd500b6e7706c1b",
       "version_major": 2,
       "version_minor": 0
      },
      "text/plain": [
       "  0%|          | 0/20698 [00:00<?, ?it/s]"
      ]
     },
     "metadata": {},
     "output_type": "display_data"
    },
    {
     "data": {
      "application/vnd.jupyter.widget-view+json": {
       "model_id": "a04a04a818334c879a0cb6fe23d0371e",
       "version_major": 2,
       "version_minor": 0
      },
      "text/plain": [
       "  0%|          | 0/735 [00:00<?, ?it/s]"
      ]
     },
     "metadata": {},
     "output_type": "display_data"
    },
    {
     "data": {
      "application/vnd.jupyter.widget-view+json": {
       "model_id": "37195ab9384a4417b7ee11d4d5175192",
       "version_major": 2,
       "version_minor": 0
      },
      "text/plain": [
       "  0%|          | 0/31727 [00:00<?, ?it/s]"
      ]
     },
     "metadata": {},
     "output_type": "display_data"
    },
    {
     "data": {
      "application/vnd.jupyter.widget-view+json": {
       "model_id": "58cedb462e864ba797ab72aa90c378c8",
       "version_major": 2,
       "version_minor": 0
      },
      "text/plain": [
       "  0%|          | 0/1435 [00:00<?, ?it/s]"
      ]
     },
     "metadata": {},
     "output_type": "display_data"
    },
    {
     "data": {
      "application/vnd.jupyter.widget-view+json": {
       "model_id": "fb4d087bb04a4b56b4c34187ee0e05ad",
       "version_major": 2,
       "version_minor": 0
      },
      "text/plain": [
       "  0%|          | 0/27473 [00:00<?, ?it/s]"
      ]
     },
     "metadata": {},
     "output_type": "display_data"
    },
    {
     "data": {
      "application/vnd.jupyter.widget-view+json": {
       "model_id": "df0dd43907294abfa5994edc5e4996af",
       "version_major": 2,
       "version_minor": 0
      },
      "text/plain": [
       "  0%|          | 0/5651 [00:00<?, ?it/s]"
      ]
     },
     "metadata": {},
     "output_type": "display_data"
    },
    {
     "data": {
      "application/vnd.jupyter.widget-view+json": {
       "model_id": "6537c4658693434cb354514412b7236e",
       "version_major": 2,
       "version_minor": 0
      },
      "text/plain": [
       "  0%|          | 0/6621 [00:00<?, ?it/s]"
      ]
     },
     "metadata": {},
     "output_type": "display_data"
    },
    {
     "data": {
      "application/vnd.jupyter.widget-view+json": {
       "model_id": "8ebcdcbcb582450e921977fed3284c79",
       "version_major": 2,
       "version_minor": 0
      },
      "text/plain": [
       "  0%|          | 0/784 [00:00<?, ?it/s]"
      ]
     },
     "metadata": {},
     "output_type": "display_data"
    },
    {
     "data": {
      "application/vnd.jupyter.widget-view+json": {
       "model_id": "66e085903b0649a5b70bfb45b13ea46b",
       "version_major": 2,
       "version_minor": 0
      },
      "text/plain": [
       "  0%|          | 0/967 [00:00<?, ?it/s]"
      ]
     },
     "metadata": {},
     "output_type": "display_data"
    },
    {
     "data": {
      "application/vnd.jupyter.widget-view+json": {
       "model_id": "ca8e35bd895d42728a17711bce890113",
       "version_major": 2,
       "version_minor": 0
      },
      "text/plain": [
       "  0%|          | 0/58 [00:00<?, ?it/s]"
      ]
     },
     "metadata": {},
     "output_type": "display_data"
    },
    {
     "data": {
      "application/vnd.jupyter.widget-view+json": {
       "model_id": "cb04c221fe7c4e079c2543525b1ce7e8",
       "version_major": 2,
       "version_minor": 0
      },
      "text/plain": [
       "  0%|          | 0/39 [00:00<?, ?it/s]"
      ]
     },
     "metadata": {},
     "output_type": "display_data"
    },
    {
     "data": {
      "application/vnd.jupyter.widget-view+json": {
       "model_id": "1a8d3a19a4f5459f836679071925f3fc",
       "version_major": 2,
       "version_minor": 0
      },
      "text/plain": [
       "  0%|          | 0/2 [00:00<?, ?it/s]"
      ]
     },
     "metadata": {},
     "output_type": "display_data"
    },
    {
     "data": {
      "application/vnd.jupyter.widget-view+json": {
       "model_id": "953ad185c4ea4bd6ad20491979a6b5de",
       "version_major": 2,
       "version_minor": 0
      },
      "text/plain": [
       "  0%|          | 0/19422 [00:00<?, ?it/s]"
      ]
     },
     "metadata": {},
     "output_type": "display_data"
    },
    {
     "data": {
      "application/vnd.jupyter.widget-view+json": {
       "model_id": "871203894c504f2da05879fed30ebedd",
       "version_major": 2,
       "version_minor": 0
      },
      "text/plain": [
       "  0%|          | 0/16993 [00:00<?, ?it/s]"
      ]
     },
     "metadata": {},
     "output_type": "display_data"
    },
    {
     "data": {
      "application/vnd.jupyter.widget-view+json": {
       "model_id": "8cf867d932b04397b8ffe860def9f34c",
       "version_major": 2,
       "version_minor": 0
      },
      "text/plain": [
       "  0%|          | 0/347 [00:00<?, ?it/s]"
      ]
     },
     "metadata": {},
     "output_type": "display_data"
    },
    {
     "data": {
      "application/vnd.jupyter.widget-view+json": {
       "model_id": "32d8dc3dfae04c519eb09aeac803e74f",
       "version_major": 2,
       "version_minor": 0
      },
      "text/plain": [
       "  0%|          | 0/282 [00:00<?, ?it/s]"
      ]
     },
     "metadata": {},
     "output_type": "display_data"
    },
    {
     "data": {
      "application/vnd.jupyter.widget-view+json": {
       "model_id": "e66cf31c39ea4e7c98a2ad9284ce4adf",
       "version_major": 2,
       "version_minor": 0
      },
      "text/plain": [
       "  0%|          | 0/5347 [00:00<?, ?it/s]"
      ]
     },
     "metadata": {},
     "output_type": "display_data"
    },
    {
     "data": {
      "application/vnd.jupyter.widget-view+json": {
       "model_id": "1734253306454f86ba47c8219b97032f",
       "version_major": 2,
       "version_minor": 0
      },
      "text/plain": [
       "  0%|          | 0/17558 [00:00<?, ?it/s]"
      ]
     },
     "metadata": {},
     "output_type": "display_data"
    },
    {
     "data": {
      "application/vnd.jupyter.widget-view+json": {
       "model_id": "c0d30b1a2ac14d7a8fcc7a2fdbc04ae1",
       "version_major": 2,
       "version_minor": 0
      },
      "text/plain": [
       "  0%|          | 0/15256 [00:00<?, ?it/s]"
      ]
     },
     "metadata": {},
     "output_type": "display_data"
    },
    {
     "data": {
      "application/vnd.jupyter.widget-view+json": {
       "model_id": "eee66b5a50b54b489acd45d0f19548bb",
       "version_major": 2,
       "version_minor": 0
      },
      "text/plain": [
       "  0%|          | 0/5914 [00:00<?, ?it/s]"
      ]
     },
     "metadata": {},
     "output_type": "display_data"
    },
    {
     "data": {
      "application/vnd.jupyter.widget-view+json": {
       "model_id": "4810ba680bf94e96983727fc31d26425",
       "version_major": 2,
       "version_minor": 0
      },
      "text/plain": [
       "  0%|          | 0/1803 [00:00<?, ?it/s]"
      ]
     },
     "metadata": {},
     "output_type": "display_data"
    },
    {
     "data": {
      "application/vnd.jupyter.widget-view+json": {
       "model_id": "e5e54f23809d49328c8eb9ddbd632176",
       "version_major": 2,
       "version_minor": 0
      },
      "text/plain": [
       "  0%|          | 0/120 [00:00<?, ?it/s]"
      ]
     },
     "metadata": {},
     "output_type": "display_data"
    },
    {
     "data": {
      "application/vnd.jupyter.widget-view+json": {
       "model_id": "38be6004b7834c7da37ef11497139228",
       "version_major": 2,
       "version_minor": 0
      },
      "text/plain": [
       "  0%|          | 0/1252 [00:00<?, ?it/s]"
      ]
     },
     "metadata": {},
     "output_type": "display_data"
    },
    {
     "data": {
      "application/vnd.jupyter.widget-view+json": {
       "model_id": "406e994f936a43359559a2f266597c9f",
       "version_major": 2,
       "version_minor": 0
      },
      "text/plain": [
       "  0%|          | 0/124 [00:00<?, ?it/s]"
      ]
     },
     "metadata": {},
     "output_type": "display_data"
    },
    {
     "data": {
      "application/vnd.jupyter.widget-view+json": {
       "model_id": "bd34c41c6b07427287820b497c5bb136",
       "version_major": 2,
       "version_minor": 0
      },
      "text/plain": [
       "  0%|          | 0/12974 [00:00<?, ?it/s]"
      ]
     },
     "metadata": {},
     "output_type": "display_data"
    },
    {
     "data": {
      "application/vnd.jupyter.widget-view+json": {
       "model_id": "1652c34145fd47f2830ed5bf638c2da6",
       "version_major": 2,
       "version_minor": 0
      },
      "text/plain": [
       "  0%|          | 0/9293 [00:00<?, ?it/s]"
      ]
     },
     "metadata": {},
     "output_type": "display_data"
    },
    {
     "data": {
      "application/vnd.jupyter.widget-view+json": {
       "model_id": "622201a112b5455a9d29f6e795297fc3",
       "version_major": 2,
       "version_minor": 0
      },
      "text/plain": [
       "  0%|          | 0/206 [00:00<?, ?it/s]"
      ]
     },
     "metadata": {},
     "output_type": "display_data"
    },
    {
     "data": {
      "application/vnd.jupyter.widget-view+json": {
       "model_id": "a5fb11e04498438db197298aae1b4fe0",
       "version_major": 2,
       "version_minor": 0
      },
      "text/plain": [
       "  0%|          | 0/207 [00:00<?, ?it/s]"
      ]
     },
     "metadata": {},
     "output_type": "display_data"
    },
    {
     "data": {
      "application/vnd.jupyter.widget-view+json": {
       "model_id": "64857cff2f41430fabe093f49e9e13d7",
       "version_major": 2,
       "version_minor": 0
      },
      "text/plain": [
       "  0%|          | 0/7160 [00:00<?, ?it/s]"
      ]
     },
     "metadata": {},
     "output_type": "display_data"
    },
    {
     "data": {
      "application/vnd.jupyter.widget-view+json": {
       "model_id": "0676117de404423685bcfca204568011",
       "version_major": 2,
       "version_minor": 0
      },
      "text/plain": [
       "  0%|          | 0/4237 [00:00<?, ?it/s]"
      ]
     },
     "metadata": {},
     "output_type": "display_data"
    },
    {
     "data": {
      "application/vnd.jupyter.widget-view+json": {
       "model_id": "e723c7dc83054cccb6a5c385a7d1e03f",
       "version_major": 2,
       "version_minor": 0
      },
      "text/plain": [
       "  0%|          | 0/837 [00:00<?, ?it/s]"
      ]
     },
     "metadata": {},
     "output_type": "display_data"
    },
    {
     "data": {
      "application/vnd.jupyter.widget-view+json": {
       "model_id": "dcde7024bde9495db6243c002d519c91",
       "version_major": 2,
       "version_minor": 0
      },
      "text/plain": [
       "  0%|          | 0/1614 [00:00<?, ?it/s]"
      ]
     },
     "metadata": {},
     "output_type": "display_data"
    },
    {
     "data": {
      "application/vnd.jupyter.widget-view+json": {
       "model_id": "d4fad59208924f40912214022f0b0f53",
       "version_major": 2,
       "version_minor": 0
      },
      "text/plain": [
       "  0%|          | 0/252 [00:00<?, ?it/s]"
      ]
     },
     "metadata": {},
     "output_type": "display_data"
    },
    {
     "data": {
      "application/vnd.jupyter.widget-view+json": {
       "model_id": "1c0e91c7ebb9427e885f1632f1552499",
       "version_major": 2,
       "version_minor": 0
      },
      "text/plain": [
       "  0%|          | 0/123 [00:00<?, ?it/s]"
      ]
     },
     "metadata": {},
     "output_type": "display_data"
    },
    {
     "data": {
      "application/vnd.jupyter.widget-view+json": {
       "model_id": "cc18ed634bc246e694df6b1a4f87921a",
       "version_major": 2,
       "version_minor": 0
      },
      "text/plain": [
       "  0%|          | 0/20 [00:00<?, ?it/s]"
      ]
     },
     "metadata": {},
     "output_type": "display_data"
    },
    {
     "data": {
      "application/vnd.jupyter.widget-view+json": {
       "model_id": "72d565d6a948418b8d86baa90b20879f",
       "version_major": 2,
       "version_minor": 0
      },
      "text/plain": [
       "  0%|          | 0/25 [00:00<?, ?it/s]"
      ]
     },
     "metadata": {},
     "output_type": "display_data"
    },
    {
     "data": {
      "application/vnd.jupyter.widget-view+json": {
       "model_id": "6bff48b09fff411081c9c50be287eb01",
       "version_major": 2,
       "version_minor": 0
      },
      "text/plain": [
       "  0%|          | 0/12009 [00:00<?, ?it/s]"
      ]
     },
     "metadata": {},
     "output_type": "display_data"
    },
    {
     "data": {
      "application/vnd.jupyter.widget-view+json": {
       "model_id": "d0db4c04a87b4439a6ee93ed0017ee09",
       "version_major": 2,
       "version_minor": 0
      },
      "text/plain": [
       "  0%|          | 0/4005 [00:00<?, ?it/s]"
      ]
     },
     "metadata": {},
     "output_type": "display_data"
    },
    {
     "data": {
      "application/vnd.jupyter.widget-view+json": {
       "model_id": "5f8adb8126e140a3bf91ea2969214454",
       "version_major": 2,
       "version_minor": 0
      },
      "text/plain": [
       "  0%|          | 0/258 [00:00<?, ?it/s]"
      ]
     },
     "metadata": {},
     "output_type": "display_data"
    },
    {
     "data": {
      "application/vnd.jupyter.widget-view+json": {
       "model_id": "c27f8a870c244110a2b10ff8fc5388ba",
       "version_major": 2,
       "version_minor": 0
      },
      "text/plain": [
       "  0%|          | 0/318 [00:00<?, ?it/s]"
      ]
     },
     "metadata": {},
     "output_type": "display_data"
    },
    {
     "data": {
      "application/vnd.jupyter.widget-view+json": {
       "model_id": "ff704852de5145549859faafc4fa2dee",
       "version_major": 2,
       "version_minor": 0
      },
      "text/plain": [
       "  0%|          | 0/3255 [00:00<?, ?it/s]"
      ]
     },
     "metadata": {},
     "output_type": "display_data"
    },
    {
     "data": {
      "application/vnd.jupyter.widget-view+json": {
       "model_id": "b563ae675a1b4278935dc018539323ca",
       "version_major": 2,
       "version_minor": 0
      },
      "text/plain": [
       "  0%|          | 0/10644 [00:00<?, ?it/s]"
      ]
     },
     "metadata": {},
     "output_type": "display_data"
    },
    {
     "data": {
      "application/vnd.jupyter.widget-view+json": {
       "model_id": "7b9f49e53a27442d99ada5dcfe0657af",
       "version_major": 2,
       "version_minor": 0
      },
      "text/plain": [
       "  0%|          | 0/1576 [00:00<?, ?it/s]"
      ]
     },
     "metadata": {},
     "output_type": "display_data"
    },
    {
     "data": {
      "application/vnd.jupyter.widget-view+json": {
       "model_id": "0126704a68634ceabb6f62006581800d",
       "version_major": 2,
       "version_minor": 0
      },
      "text/plain": [
       "  0%|          | 0/206 [00:00<?, ?it/s]"
      ]
     },
     "metadata": {},
     "output_type": "display_data"
    },
    {
     "data": {
      "application/vnd.jupyter.widget-view+json": {
       "model_id": "f384a682dc0747278c77a5bf982abf57",
       "version_major": 2,
       "version_minor": 0
      },
      "text/plain": [
       "  0%|          | 0/556 [00:00<?, ?it/s]"
      ]
     },
     "metadata": {},
     "output_type": "display_data"
    },
    {
     "data": {
      "application/vnd.jupyter.widget-view+json": {
       "model_id": "bd0f1fff8e41460da42c9f5119561a74",
       "version_major": 2,
       "version_minor": 0
      },
      "text/plain": [
       "  0%|          | 0/17 [00:00<?, ?it/s]"
      ]
     },
     "metadata": {},
     "output_type": "display_data"
    },
    {
     "data": {
      "application/vnd.jupyter.widget-view+json": {
       "model_id": "bcdf46576c3d4734a6f4cca5f91a3425",
       "version_major": 2,
       "version_minor": 0
      },
      "text/plain": [
       "  0%|          | 0/16 [00:00<?, ?it/s]"
      ]
     },
     "metadata": {},
     "output_type": "display_data"
    },
    {
     "data": {
      "application/vnd.jupyter.widget-view+json": {
       "model_id": "4395f624456440ccad385fb3debd3dd8",
       "version_major": 2,
       "version_minor": 0
      },
      "text/plain": [
       "  0%|          | 0/16728 [00:00<?, ?it/s]"
      ]
     },
     "metadata": {},
     "output_type": "display_data"
    },
    {
     "data": {
      "application/vnd.jupyter.widget-view+json": {
       "model_id": "0809bc5cd36742fa8b3e998e46376239",
       "version_major": 2,
       "version_minor": 0
      },
      "text/plain": [
       "  0%|          | 0/7306 [00:00<?, ?it/s]"
      ]
     },
     "metadata": {},
     "output_type": "display_data"
    },
    {
     "data": {
      "application/vnd.jupyter.widget-view+json": {
       "model_id": "3fab35cb421740c1bbcb7ee91048ba0c",
       "version_major": 2,
       "version_minor": 0
      },
      "text/plain": [
       "  0%|          | 0/228 [00:00<?, ?it/s]"
      ]
     },
     "metadata": {},
     "output_type": "display_data"
    },
    {
     "data": {
      "application/vnd.jupyter.widget-view+json": {
       "model_id": "686c080acbb74495bd1934d768739fc6",
       "version_major": 2,
       "version_minor": 0
      },
      "text/plain": [
       "  0%|          | 0/87 [00:00<?, ?it/s]"
      ]
     },
     "metadata": {},
     "output_type": "display_data"
    },
    {
     "data": {
      "application/vnd.jupyter.widget-view+json": {
       "model_id": "70b6b74864744f80b8bb767743230d7f",
       "version_major": 2,
       "version_minor": 0
      },
      "text/plain": [
       "  0%|          | 0/19359 [00:00<?, ?it/s]"
      ]
     },
     "metadata": {},
     "output_type": "display_data"
    },
    {
     "data": {
      "application/vnd.jupyter.widget-view+json": {
       "model_id": "edad994748ac403f86aa66a0d91dc4a3",
       "version_major": 2,
       "version_minor": 0
      },
      "text/plain": [
       "  0%|          | 0/7543 [00:00<?, ?it/s]"
      ]
     },
     "metadata": {},
     "output_type": "display_data"
    },
    {
     "data": {
      "application/vnd.jupyter.widget-view+json": {
       "model_id": "a0a13dedf56c4e1982d847d7d088c193",
       "version_major": 2,
       "version_minor": 0
      },
      "text/plain": [
       "  0%|          | 0/8425 [00:00<?, ?it/s]"
      ]
     },
     "metadata": {},
     "output_type": "display_data"
    },
    {
     "data": {
      "application/vnd.jupyter.widget-view+json": {
       "model_id": "c5f3568405794776b776aa94a43252a7",
       "version_major": 2,
       "version_minor": 0
      },
      "text/plain": [
       "  0%|          | 0/3666 [00:00<?, ?it/s]"
      ]
     },
     "metadata": {},
     "output_type": "display_data"
    },
    {
     "data": {
      "application/vnd.jupyter.widget-view+json": {
       "model_id": "d5162d774ef8496c950d32b74c6c4547",
       "version_major": 2,
       "version_minor": 0
      },
      "text/plain": [
       "  0%|          | 0/914 [00:00<?, ?it/s]"
      ]
     },
     "metadata": {},
     "output_type": "display_data"
    },
    {
     "data": {
      "application/vnd.jupyter.widget-view+json": {
       "model_id": "38a6002183f14205bbbc47d1e94bb310",
       "version_major": 2,
       "version_minor": 0
      },
      "text/plain": [
       "  0%|          | 0/1622 [00:00<?, ?it/s]"
      ]
     },
     "metadata": {},
     "output_type": "display_data"
    },
    {
     "data": {
      "application/vnd.jupyter.widget-view+json": {
       "model_id": "88f2728c7f994cbeb7f32a5edb17f41e",
       "version_major": 2,
       "version_minor": 0
      },
      "text/plain": [
       "  0%|          | 0/94 [00:00<?, ?it/s]"
      ]
     },
     "metadata": {},
     "output_type": "display_data"
    },
    {
     "data": {
      "application/vnd.jupyter.widget-view+json": {
       "model_id": "a45e73bb2bf84cb2bff623d1a83ef44e",
       "version_major": 2,
       "version_minor": 0
      },
      "text/plain": [
       "  0%|          | 0/57 [00:00<?, ?it/s]"
      ]
     },
     "metadata": {},
     "output_type": "display_data"
    },
    {
     "data": {
      "application/vnd.jupyter.widget-view+json": {
       "model_id": "cb681604bca54245af601581bd690323",
       "version_major": 2,
       "version_minor": 0
      },
      "text/plain": [
       "  0%|          | 0/1757 [00:00<?, ?it/s]"
      ]
     },
     "metadata": {},
     "output_type": "display_data"
    },
    {
     "data": {
      "application/vnd.jupyter.widget-view+json": {
       "model_id": "1802f080ea824f60b80fc9615c801f27",
       "version_major": 2,
       "version_minor": 0
      },
      "text/plain": [
       "  0%|          | 0/727 [00:00<?, ?it/s]"
      ]
     },
     "metadata": {},
     "output_type": "display_data"
    },
    {
     "data": {
      "application/vnd.jupyter.widget-view+json": {
       "model_id": "ae4e5ba04efa4acca821d05ecab6e2fd",
       "version_major": 2,
       "version_minor": 0
      },
      "text/plain": [
       "  0%|          | 0/10 [00:00<?, ?it/s]"
      ]
     },
     "metadata": {},
     "output_type": "display_data"
    },
    {
     "data": {
      "application/vnd.jupyter.widget-view+json": {
       "model_id": "3007a73d5c804c58a76c44c5a7dd719a",
       "version_major": 2,
       "version_minor": 0
      },
      "text/plain": [
       "  0%|          | 0/20 [00:00<?, ?it/s]"
      ]
     },
     "metadata": {},
     "output_type": "display_data"
    },
    {
     "data": {
      "application/vnd.jupyter.widget-view+json": {
       "model_id": "7c50514835ef4f38a7331022669961e1",
       "version_major": 2,
       "version_minor": 0
      },
      "text/plain": [
       "  0%|          | 0/1518 [00:00<?, ?it/s]"
      ]
     },
     "metadata": {},
     "output_type": "display_data"
    },
    {
     "data": {
      "application/vnd.jupyter.widget-view+json": {
       "model_id": "3bd6daeafd7b46c2b8cc16913a5d1a13",
       "version_major": 2,
       "version_minor": 0
      },
      "text/plain": [
       "  0%|          | 0/487 [00:00<?, ?it/s]"
      ]
     },
     "metadata": {},
     "output_type": "display_data"
    },
    {
     "data": {
      "application/vnd.jupyter.widget-view+json": {
       "model_id": "e2bd2b20ecb645f18084b9a660576d31",
       "version_major": 2,
       "version_minor": 0
      },
      "text/plain": [
       "  0%|          | 0/481 [00:00<?, ?it/s]"
      ]
     },
     "metadata": {},
     "output_type": "display_data"
    },
    {
     "data": {
      "application/vnd.jupyter.widget-view+json": {
       "model_id": "8aa40534a8064386a26821084e1af11e",
       "version_major": 2,
       "version_minor": 0
      },
      "text/plain": [
       "  0%|          | 0/180 [00:00<?, ?it/s]"
      ]
     },
     "metadata": {},
     "output_type": "display_data"
    },
    {
     "data": {
      "application/vnd.jupyter.widget-view+json": {
       "model_id": "e5d340b2106142a4b8610aa14fc39fb4",
       "version_major": 2,
       "version_minor": 0
      },
      "text/plain": [
       "  0%|          | 0/99 [00:00<?, ?it/s]"
      ]
     },
     "metadata": {},
     "output_type": "display_data"
    },
    {
     "data": {
      "application/vnd.jupyter.widget-view+json": {
       "model_id": "d48547a3fbaa4d4a8746df5aac153819",
       "version_major": 2,
       "version_minor": 0
      },
      "text/plain": [
       "  0%|          | 0/8 [00:00<?, ?it/s]"
      ]
     },
     "metadata": {},
     "output_type": "display_data"
    },
    {
     "data": {
      "application/vnd.jupyter.widget-view+json": {
       "model_id": "ff6fa23c851043d990abf1faab19e412",
       "version_major": 2,
       "version_minor": 0
      },
      "text/plain": [
       "  0%|          | 0/41 [00:00<?, ?it/s]"
      ]
     },
     "metadata": {},
     "output_type": "display_data"
    },
    {
     "data": {
      "application/vnd.jupyter.widget-view+json": {
       "model_id": "599121efdec94b4fb90fd591667e981e",
       "version_major": 2,
       "version_minor": 0
      },
      "text/plain": [
       "  0%|          | 0/4 [00:00<?, ?it/s]"
      ]
     },
     "metadata": {},
     "output_type": "display_data"
    },
    {
     "data": {
      "application/vnd.jupyter.widget-view+json": {
       "model_id": "a3e8e08beab449b1a5ca38b103feb368",
       "version_major": 2,
       "version_minor": 0
      },
      "text/plain": [
       "  0%|          | 0/40168 [00:00<?, ?it/s]"
      ]
     },
     "metadata": {},
     "output_type": "display_data"
    },
    {
     "data": {
      "application/vnd.jupyter.widget-view+json": {
       "model_id": "b74474b02d3f4caa960a5ad69d0fd71c",
       "version_major": 2,
       "version_minor": 0
      },
      "text/plain": [
       "  0%|          | 0/44451 [00:00<?, ?it/s]"
      ]
     },
     "metadata": {},
     "output_type": "display_data"
    },
    {
     "data": {
      "application/vnd.jupyter.widget-view+json": {
       "model_id": "f9a15ebcb50f4d71ae30507ef5c3ffcc",
       "version_major": 2,
       "version_minor": 0
      },
      "text/plain": [
       "  0%|          | 0/4124 [00:00<?, ?it/s]"
      ]
     },
     "metadata": {},
     "output_type": "display_data"
    },
    {
     "data": {
      "application/vnd.jupyter.widget-view+json": {
       "model_id": "01aa3964400f4406bd0d442e7e104518",
       "version_major": 2,
       "version_minor": 0
      },
      "text/plain": [
       "  0%|          | 0/2263 [00:00<?, ?it/s]"
      ]
     },
     "metadata": {},
     "output_type": "display_data"
    },
    {
     "data": {
      "application/vnd.jupyter.widget-view+json": {
       "model_id": "5d1a4327fcb84814967033b127bc0da6",
       "version_major": 2,
       "version_minor": 0
      },
      "text/plain": [
       "  0%|          | 0/18437 [00:00<?, ?it/s]"
      ]
     },
     "metadata": {},
     "output_type": "display_data"
    },
    {
     "data": {
      "application/vnd.jupyter.widget-view+json": {
       "model_id": "cb6b355fe8d24b1399ef493c93b3c619",
       "version_major": 2,
       "version_minor": 0
      },
      "text/plain": [
       "  0%|          | 0/4696 [00:00<?, ?it/s]"
      ]
     },
     "metadata": {},
     "output_type": "display_data"
    },
    {
     "data": {
      "application/vnd.jupyter.widget-view+json": {
       "model_id": "a7cf276e12014e8caee3af5f409a0b6d",
       "version_major": 2,
       "version_minor": 0
      },
      "text/plain": [
       "  0%|          | 0/7798 [00:00<?, ?it/s]"
      ]
     },
     "metadata": {},
     "output_type": "display_data"
    },
    {
     "data": {
      "application/vnd.jupyter.widget-view+json": {
       "model_id": "2383d5ef1954464f9886f4fdabdc6786",
       "version_major": 2,
       "version_minor": 0
      },
      "text/plain": [
       "  0%|          | 0/894 [00:00<?, ?it/s]"
      ]
     },
     "metadata": {},
     "output_type": "display_data"
    },
    {
     "data": {
      "application/vnd.jupyter.widget-view+json": {
       "model_id": "6bd5d3b38cd045b39c9ca3966b3c86a3",
       "version_major": 2,
       "version_minor": 0
      },
      "text/plain": [
       "  0%|          | 0/1040 [00:00<?, ?it/s]"
      ]
     },
     "metadata": {},
     "output_type": "display_data"
    },
    {
     "data": {
      "application/vnd.jupyter.widget-view+json": {
       "model_id": "97b13bd2a4de4cf1b9a395a25e446e33",
       "version_major": 2,
       "version_minor": 0
      },
      "text/plain": [
       "  0%|          | 0/70 [00:00<?, ?it/s]"
      ]
     },
     "metadata": {},
     "output_type": "display_data"
    },
    {
     "data": {
      "application/vnd.jupyter.widget-view+json": {
       "model_id": "dd66f3196410489388f5f8e74621e78a",
       "version_major": 2,
       "version_minor": 0
      },
      "text/plain": [
       "  0%|          | 0/73 [00:00<?, ?it/s]"
      ]
     },
     "metadata": {},
     "output_type": "display_data"
    },
    {
     "data": {
      "application/vnd.jupyter.widget-view+json": {
       "model_id": "7d076f7b351e4e90bdaacf6e90190daf",
       "version_major": 2,
       "version_minor": 0
      },
      "text/plain": [
       "  0%|          | 0/1 [00:00<?, ?it/s]"
      ]
     },
     "metadata": {},
     "output_type": "display_data"
    },
    {
     "data": {
      "application/vnd.jupyter.widget-view+json": {
       "model_id": "945f07afe56c47349fca9b8559bcdd81",
       "version_major": 2,
       "version_minor": 0
      },
      "text/plain": [
       "  0%|          | 0/18873 [00:00<?, ?it/s]"
      ]
     },
     "metadata": {},
     "output_type": "display_data"
    },
    {
     "data": {
      "application/vnd.jupyter.widget-view+json": {
       "model_id": "9c39c23f644a4695b680578dca4a9e9c",
       "version_major": 2,
       "version_minor": 0
      },
      "text/plain": [
       "  0%|          | 0/23559 [00:00<?, ?it/s]"
      ]
     },
     "metadata": {},
     "output_type": "display_data"
    },
    {
     "data": {
      "application/vnd.jupyter.widget-view+json": {
       "model_id": "21353d2e76264ed282eb51379b9a3e16",
       "version_major": 2,
       "version_minor": 0
      },
      "text/plain": [
       "  0%|          | 0/772 [00:00<?, ?it/s]"
      ]
     },
     "metadata": {},
     "output_type": "display_data"
    },
    {
     "data": {
      "application/vnd.jupyter.widget-view+json": {
       "model_id": "5f7cfca8c1824879b714c7f70563ece0",
       "version_major": 2,
       "version_minor": 0
      },
      "text/plain": [
       "  0%|          | 0/1047 [00:00<?, ?it/s]"
      ]
     },
     "metadata": {},
     "output_type": "display_data"
    },
    {
     "data": {
      "application/vnd.jupyter.widget-view+json": {
       "model_id": "666f31975d714a40bbf67e49ef99fb13",
       "version_major": 2,
       "version_minor": 0
      },
      "text/plain": [
       "  0%|          | 0/9331 [00:00<?, ?it/s]"
      ]
     },
     "metadata": {},
     "output_type": "display_data"
    },
    {
     "data": {
      "application/vnd.jupyter.widget-view+json": {
       "model_id": "0c4ba763d0e64febb371ad0625150228",
       "version_major": 2,
       "version_minor": 0
      },
      "text/plain": [
       "  0%|          | 0/3155 [00:00<?, ?it/s]"
      ]
     },
     "metadata": {},
     "output_type": "display_data"
    },
    {
     "data": {
      "application/vnd.jupyter.widget-view+json": {
       "model_id": "68326b0e42034c65b93ccbae70c39524",
       "version_major": 2,
       "version_minor": 0
      },
      "text/plain": [
       "  0%|          | 0/11215 [00:00<?, ?it/s]"
      ]
     },
     "metadata": {},
     "output_type": "display_data"
    },
    {
     "data": {
      "application/vnd.jupyter.widget-view+json": {
       "model_id": "ada279bffdde48d0846b5e10bdbc1933",
       "version_major": 2,
       "version_minor": 0
      },
      "text/plain": [
       "  0%|          | 0/2417 [00:00<?, ?it/s]"
      ]
     },
     "metadata": {},
     "output_type": "display_data"
    },
    {
     "data": {
      "application/vnd.jupyter.widget-view+json": {
       "model_id": "7399c641585043b4ac230561a9b7260d",
       "version_major": 2,
       "version_minor": 0
      },
      "text/plain": [
       "  0%|          | 0/829 [00:00<?, ?it/s]"
      ]
     },
     "metadata": {},
     "output_type": "display_data"
    },
    {
     "data": {
      "application/vnd.jupyter.widget-view+json": {
       "model_id": "1905458da412437a89613d8ac6cae7ba",
       "version_major": 2,
       "version_minor": 0
      },
      "text/plain": [
       "  0%|          | 0/565 [00:00<?, ?it/s]"
      ]
     },
     "metadata": {},
     "output_type": "display_data"
    },
    {
     "data": {
      "application/vnd.jupyter.widget-view+json": {
       "model_id": "3b0027ab5e03466a8652a4bbac9c006a",
       "version_major": 2,
       "version_minor": 0
      },
      "text/plain": [
       "  0%|          | 0/89 [00:00<?, ?it/s]"
      ]
     },
     "metadata": {},
     "output_type": "display_data"
    },
    {
     "data": {
      "application/vnd.jupyter.widget-view+json": {
       "model_id": "852495c21f164076be3628b48e8f2503",
       "version_major": 2,
       "version_minor": 0
      },
      "text/plain": [
       "  0%|          | 0/70 [00:00<?, ?it/s]"
      ]
     },
     "metadata": {},
     "output_type": "display_data"
    },
    {
     "data": {
      "application/vnd.jupyter.widget-view+json": {
       "model_id": "e3586fdb44724944b4872dd5b1fac30e",
       "version_major": 2,
       "version_minor": 0
      },
      "text/plain": [
       "  0%|          | 0/642 [00:00<?, ?it/s]"
      ]
     },
     "metadata": {},
     "output_type": "display_data"
    },
    {
     "data": {
      "application/vnd.jupyter.widget-view+json": {
       "model_id": "e8cf70ffdb7a4478a49d668f37b39195",
       "version_major": 2,
       "version_minor": 0
      },
      "text/plain": [
       "  0%|          | 0/13999 [00:00<?, ?it/s]"
      ]
     },
     "metadata": {},
     "output_type": "display_data"
    },
    {
     "data": {
      "application/vnd.jupyter.widget-view+json": {
       "model_id": "491a8983a25f4da99984fe584a2c0ad5",
       "version_major": 2,
       "version_minor": 0
      },
      "text/plain": [
       "  0%|          | 0/15006 [00:00<?, ?it/s]"
      ]
     },
     "metadata": {},
     "output_type": "display_data"
    },
    {
     "data": {
      "application/vnd.jupyter.widget-view+json": {
       "model_id": "01df04a8e305485eaf884da2848c3a05",
       "version_major": 2,
       "version_minor": 0
      },
      "text/plain": [
       "  0%|          | 0/653 [00:00<?, ?it/s]"
      ]
     },
     "metadata": {},
     "output_type": "display_data"
    },
    {
     "data": {
      "application/vnd.jupyter.widget-view+json": {
       "model_id": "0d1506bb36d145c9bfb583a0d4f887b8",
       "version_major": 2,
       "version_minor": 0
      },
      "text/plain": [
       "  0%|          | 0/694 [00:00<?, ?it/s]"
      ]
     },
     "metadata": {},
     "output_type": "display_data"
    },
    {
     "data": {
      "application/vnd.jupyter.widget-view+json": {
       "model_id": "a61b56e496504a6abbe1d70dce07172a",
       "version_major": 2,
       "version_minor": 0
      },
      "text/plain": [
       "  0%|          | 0/3835 [00:00<?, ?it/s]"
      ]
     },
     "metadata": {},
     "output_type": "display_data"
    },
    {
     "data": {
      "application/vnd.jupyter.widget-view+json": {
       "model_id": "dd42a6a57b8e4e93be4b00a815116114",
       "version_major": 2,
       "version_minor": 0
      },
      "text/plain": [
       "  0%|          | 0/4219 [00:00<?, ?it/s]"
      ]
     },
     "metadata": {},
     "output_type": "display_data"
    },
    {
     "data": {
      "application/vnd.jupyter.widget-view+json": {
       "model_id": "997fecc82e6342d2bb175fd311083f21",
       "version_major": 2,
       "version_minor": 0
      },
      "text/plain": [
       "  0%|          | 0/567 [00:00<?, ?it/s]"
      ]
     },
     "metadata": {},
     "output_type": "display_data"
    },
    {
     "data": {
      "application/vnd.jupyter.widget-view+json": {
       "model_id": "8bb7185574854fcc9ee4a0f5c39ed7e3",
       "version_major": 2,
       "version_minor": 0
      },
      "text/plain": [
       "  0%|          | 0/125 [00:00<?, ?it/s]"
      ]
     },
     "metadata": {},
     "output_type": "display_data"
    },
    {
     "data": {
      "application/vnd.jupyter.widget-view+json": {
       "model_id": "6eaecf1f06c54f77a38ee8434f07f0cb",
       "version_major": 2,
       "version_minor": 0
      },
      "text/plain": [
       "  0%|          | 0/98 [00:00<?, ?it/s]"
      ]
     },
     "metadata": {},
     "output_type": "display_data"
    },
    {
     "data": {
      "application/vnd.jupyter.widget-view+json": {
       "model_id": "9618df7099f44439a798167ac9b03e61",
       "version_major": 2,
       "version_minor": 0
      },
      "text/plain": [
       "  0%|          | 0/12 [00:00<?, ?it/s]"
      ]
     },
     "metadata": {},
     "output_type": "display_data"
    },
    {
     "data": {
      "application/vnd.jupyter.widget-view+json": {
       "model_id": "4bbcf50f9ecc4c1a845999b2ed0b0eff",
       "version_major": 2,
       "version_minor": 0
      },
      "text/plain": [
       "  0%|          | 0/5 [00:00<?, ?it/s]"
      ]
     },
     "metadata": {},
     "output_type": "display_data"
    },
    {
     "data": {
      "application/vnd.jupyter.widget-view+json": {
       "model_id": "dfc73317aa1c4436b0f9e5be0c094a6d",
       "version_major": 2,
       "version_minor": 0
      },
      "text/plain": [
       "  0%|          | 0/8169 [00:00<?, ?it/s]"
      ]
     },
     "metadata": {},
     "output_type": "display_data"
    },
    {
     "data": {
      "application/vnd.jupyter.widget-view+json": {
       "model_id": "eb0ed9a2e0fc44dea44c6e58d4a066e5",
       "version_major": 2,
       "version_minor": 0
      },
      "text/plain": [
       "  0%|          | 0/17728 [00:00<?, ?it/s]"
      ]
     },
     "metadata": {},
     "output_type": "display_data"
    },
    {
     "data": {
      "application/vnd.jupyter.widget-view+json": {
       "model_id": "329e2e080a074f599718b565a29159f9",
       "version_major": 2,
       "version_minor": 0
      },
      "text/plain": [
       "  0%|          | 0/890 [00:00<?, ?it/s]"
      ]
     },
     "metadata": {},
     "output_type": "display_data"
    },
    {
     "data": {
      "application/vnd.jupyter.widget-view+json": {
       "model_id": "a77058a90b8d4485a4c33e9111ae9bfc",
       "version_major": 2,
       "version_minor": 0
      },
      "text/plain": [
       "  0%|          | 0/945 [00:00<?, ?it/s]"
      ]
     },
     "metadata": {},
     "output_type": "display_data"
    },
    {
     "data": {
      "application/vnd.jupyter.widget-view+json": {
       "model_id": "30dc2dd5d61f45208732b5599f1c8cc4",
       "version_major": 2,
       "version_minor": 0
      },
      "text/plain": [
       "  0%|          | 0/8249 [00:00<?, ?it/s]"
      ]
     },
     "metadata": {},
     "output_type": "display_data"
    },
    {
     "data": {
      "application/vnd.jupyter.widget-view+json": {
       "model_id": "8562a080bf3f4734aa232cda01cc568b",
       "version_major": 2,
       "version_minor": 0
      },
      "text/plain": [
       "  0%|          | 0/1925 [00:00<?, ?it/s]"
      ]
     },
     "metadata": {},
     "output_type": "display_data"
    },
    {
     "data": {
      "application/vnd.jupyter.widget-view+json": {
       "model_id": "04a62a00fe5442fab633fdd1d8eab666",
       "version_major": 2,
       "version_minor": 0
      },
      "text/plain": [
       "  0%|          | 0/2261 [00:00<?, ?it/s]"
      ]
     },
     "metadata": {},
     "output_type": "display_data"
    },
    {
     "data": {
      "application/vnd.jupyter.widget-view+json": {
       "model_id": "187a6dce32374edfa4772019fc97e310",
       "version_major": 2,
       "version_minor": 0
      },
      "text/plain": [
       "  0%|          | 0/196 [00:00<?, ?it/s]"
      ]
     },
     "metadata": {},
     "output_type": "display_data"
    },
    {
     "data": {
      "application/vnd.jupyter.widget-view+json": {
       "model_id": "df5ec46183144645bdcc038ab3a78af4",
       "version_major": 2,
       "version_minor": 0
      },
      "text/plain": [
       "  0%|          | 0/410 [00:00<?, ?it/s]"
      ]
     },
     "metadata": {},
     "output_type": "display_data"
    },
    {
     "data": {
      "application/vnd.jupyter.widget-view+json": {
       "model_id": "fdac7901c55748baa37bcde84ac48ec8",
       "version_major": 2,
       "version_minor": 0
      },
      "text/plain": [
       "  0%|          | 0/18 [00:00<?, ?it/s]"
      ]
     },
     "metadata": {},
     "output_type": "display_data"
    },
    {
     "data": {
      "application/vnd.jupyter.widget-view+json": {
       "model_id": "2464ba7b90474499885f877eace8e879",
       "version_major": 2,
       "version_minor": 0
      },
      "text/plain": [
       "  0%|          | 0/14 [00:00<?, ?it/s]"
      ]
     },
     "metadata": {},
     "output_type": "display_data"
    },
    {
     "data": {
      "application/vnd.jupyter.widget-view+json": {
       "model_id": "05c6a10c085143eb91239f71fd9a21cd",
       "version_major": 2,
       "version_minor": 0
      },
      "text/plain": [
       "  0%|          | 0/2 [00:00<?, ?it/s]"
      ]
     },
     "metadata": {},
     "output_type": "display_data"
    },
    {
     "data": {
      "application/vnd.jupyter.widget-view+json": {
       "model_id": "d61df0fade8847c392d82dbe0ee22e43",
       "version_major": 2,
       "version_minor": 0
      },
      "text/plain": [
       "  0%|          | 0/20184 [00:00<?, ?it/s]"
      ]
     },
     "metadata": {},
     "output_type": "display_data"
    },
    {
     "data": {
      "application/vnd.jupyter.widget-view+json": {
       "model_id": "886addffac4a42c5af487f8e4eb39ff1",
       "version_major": 2,
       "version_minor": 0
      },
      "text/plain": [
       "  0%|          | 0/8568 [00:00<?, ?it/s]"
      ]
     },
     "metadata": {},
     "output_type": "display_data"
    },
    {
     "data": {
      "application/vnd.jupyter.widget-view+json": {
       "model_id": "44849f6023e74094a37aa36133988e07",
       "version_major": 2,
       "version_minor": 0
      },
      "text/plain": [
       "  0%|          | 0/755 [00:00<?, ?it/s]"
      ]
     },
     "metadata": {},
     "output_type": "display_data"
    },
    {
     "data": {
      "application/vnd.jupyter.widget-view+json": {
       "model_id": "77a5906bd6f54abfaf15ffc96347d83c",
       "version_major": 2,
       "version_minor": 0
      },
      "text/plain": [
       "  0%|          | 0/345 [00:00<?, ?it/s]"
      ]
     },
     "metadata": {},
     "output_type": "display_data"
    },
    {
     "data": {
      "application/vnd.jupyter.widget-view+json": {
       "model_id": "b1fd616e0ef243a499dfede897878c20",
       "version_major": 2,
       "version_minor": 0
      },
      "text/plain": [
       "  0%|          | 0/11975 [00:00<?, ?it/s]"
      ]
     },
     "metadata": {},
     "output_type": "display_data"
    },
    {
     "data": {
      "application/vnd.jupyter.widget-view+json": {
       "model_id": "d873f7e9e7ed47248a49c42c654123ed",
       "version_major": 2,
       "version_minor": 0
      },
      "text/plain": [
       "  0%|          | 0/1617 [00:00<?, ?it/s]"
      ]
     },
     "metadata": {},
     "output_type": "display_data"
    },
    {
     "data": {
      "application/vnd.jupyter.widget-view+json": {
       "model_id": "3db0dcd1f7944e64a4ef5c2421491786",
       "version_major": 2,
       "version_minor": 0
      },
      "text/plain": [
       "  0%|          | 0/3629 [00:00<?, ?it/s]"
      ]
     },
     "metadata": {},
     "output_type": "display_data"
    },
    {
     "data": {
      "application/vnd.jupyter.widget-view+json": {
       "model_id": "e860186e1a2643a8ba4c518cf8294291",
       "version_major": 2,
       "version_minor": 0
      },
      "text/plain": [
       "  0%|          | 0/5030 [00:00<?, ?it/s]"
      ]
     },
     "metadata": {},
     "output_type": "display_data"
    },
    {
     "data": {
      "application/vnd.jupyter.widget-view+json": {
       "model_id": "fcdcf22968d84e04843be232f69b0f25",
       "version_major": 2,
       "version_minor": 0
      },
      "text/plain": [
       "  0%|          | 0/322 [00:00<?, ?it/s]"
      ]
     },
     "metadata": {},
     "output_type": "display_data"
    },
    {
     "data": {
      "application/vnd.jupyter.widget-view+json": {
       "model_id": "12374eaaba0a481394ee81b353bfeec3",
       "version_major": 2,
       "version_minor": 0
      },
      "text/plain": [
       "  0%|          | 0/742 [00:00<?, ?it/s]"
      ]
     },
     "metadata": {},
     "output_type": "display_data"
    },
    {
     "data": {
      "application/vnd.jupyter.widget-view+json": {
       "model_id": "1b433cfbe1484d8e80796e62aba4484c",
       "version_major": 2,
       "version_minor": 0
      },
      "text/plain": [
       "  0%|          | 0/70 [00:00<?, ?it/s]"
      ]
     },
     "metadata": {},
     "output_type": "display_data"
    },
    {
     "data": {
      "application/vnd.jupyter.widget-view+json": {
       "model_id": "684f5d691c2344efa4c8ff07226ecfc7",
       "version_major": 2,
       "version_minor": 0
      },
      "text/plain": [
       "  0%|          | 0/23 [00:00<?, ?it/s]"
      ]
     },
     "metadata": {},
     "output_type": "display_data"
    },
    {
     "data": {
      "application/vnd.jupyter.widget-view+json": {
       "model_id": "4934fa59b16c4eb09d16931e0a2ccf9a",
       "version_major": 2,
       "version_minor": 0
      },
      "text/plain": [
       "  0%|          | 0/2296 [00:00<?, ?it/s]"
      ]
     },
     "metadata": {},
     "output_type": "display_data"
    },
    {
     "data": {
      "application/vnd.jupyter.widget-view+json": {
       "model_id": "96113c870b104d0cbfb38f8e1f0de325",
       "version_major": 2,
       "version_minor": 0
      },
      "text/plain": [
       "  0%|          | 0/1559 [00:00<?, ?it/s]"
      ]
     },
     "metadata": {},
     "output_type": "display_data"
    },
    {
     "data": {
      "application/vnd.jupyter.widget-view+json": {
       "model_id": "65d73504e75343b8bd2f3a1e120c82ca",
       "version_major": 2,
       "version_minor": 0
      },
      "text/plain": [
       "  0%|          | 0/59 [00:00<?, ?it/s]"
      ]
     },
     "metadata": {},
     "output_type": "display_data"
    },
    {
     "data": {
      "application/vnd.jupyter.widget-view+json": {
       "model_id": "66307094d61140108bc31b07636f9da5",
       "version_major": 2,
       "version_minor": 0
      },
      "text/plain": [
       "  0%|          | 0/136 [00:00<?, ?it/s]"
      ]
     },
     "metadata": {},
     "output_type": "display_data"
    },
    {
     "data": {
      "application/vnd.jupyter.widget-view+json": {
       "model_id": "eee97f05c3b54d9aadcca9878fbff13e",
       "version_major": 2,
       "version_minor": 0
      },
      "text/plain": [
       "  0%|          | 0/912 [00:00<?, ?it/s]"
      ]
     },
     "metadata": {},
     "output_type": "display_data"
    },
    {
     "data": {
      "application/vnd.jupyter.widget-view+json": {
       "model_id": "d3826e54a10742dab47240f86318d83b",
       "version_major": 2,
       "version_minor": 0
      },
      "text/plain": [
       "  0%|          | 0/562 [00:00<?, ?it/s]"
      ]
     },
     "metadata": {},
     "output_type": "display_data"
    },
    {
     "data": {
      "application/vnd.jupyter.widget-view+json": {
       "model_id": "bf70e212824946dbacc42fa81ce1ce6e",
       "version_major": 2,
       "version_minor": 0
      },
      "text/plain": [
       "  0%|          | 0/107 [00:00<?, ?it/s]"
      ]
     },
     "metadata": {},
     "output_type": "display_data"
    },
    {
     "data": {
      "application/vnd.jupyter.widget-view+json": {
       "model_id": "ecdbae978ab945a799518686432d7c03",
       "version_major": 2,
       "version_minor": 0
      },
      "text/plain": [
       "  0%|          | 0/209 [00:00<?, ?it/s]"
      ]
     },
     "metadata": {},
     "output_type": "display_data"
    },
    {
     "data": {
      "application/vnd.jupyter.widget-view+json": {
       "model_id": "6a520fec219a42eba5e7c2c6e73c4d9f",
       "version_major": 2,
       "version_minor": 0
      },
      "text/plain": [
       "  0%|          | 0/29 [00:00<?, ?it/s]"
      ]
     },
     "metadata": {},
     "output_type": "display_data"
    },
    {
     "data": {
      "application/vnd.jupyter.widget-view+json": {
       "model_id": "1567b6d3622c4cbd8519e5522fbc3a64",
       "version_major": 2,
       "version_minor": 0
      },
      "text/plain": [
       "  0%|          | 0/24 [00:00<?, ?it/s]"
      ]
     },
     "metadata": {},
     "output_type": "display_data"
    },
    {
     "data": {
      "application/vnd.jupyter.widget-view+json": {
       "model_id": "86476468e9a64353b611b8fd1966092b",
       "version_major": 2,
       "version_minor": 0
      },
      "text/plain": [
       "  0%|          | 0/5 [00:00<?, ?it/s]"
      ]
     },
     "metadata": {},
     "output_type": "display_data"
    },
    {
     "data": {
      "application/vnd.jupyter.widget-view+json": {
       "model_id": "f1a1fa7147dc4c708287110ef0027fa4",
       "version_major": 2,
       "version_minor": 0
      },
      "text/plain": [
       "  0%|          | 0/2 [00:00<?, ?it/s]"
      ]
     },
     "metadata": {},
     "output_type": "display_data"
    }
   ],
   "source": [
    "segment_kNN_all.fit(train, segment_users, 'segm_all')"
   ]
  },
  {
   "cell_type": "code",
   "execution_count": 84,
   "id": "52c485db",
   "metadata": {},
   "outputs": [],
   "source": [
    "segment_kNN_all_pred = segment_kNN_all.predict(test.iloc[:10])"
   ]
  },
  {
   "cell_type": "code",
   "execution_count": 85,
   "id": "f6e51c76",
   "metadata": {},
   "outputs": [
    {
     "data": {
      "text/html": [
       "<div>\n",
       "<style scoped>\n",
       "    .dataframe tbody tr th:only-of-type {\n",
       "        vertical-align: middle;\n",
       "    }\n",
       "\n",
       "    .dataframe tbody tr th {\n",
       "        vertical-align: top;\n",
       "    }\n",
       "\n",
       "    .dataframe thead th {\n",
       "        text-align: right;\n",
       "    }\n",
       "</style>\n",
       "<table border=\"1\" class=\"dataframe\">\n",
       "  <thead>\n",
       "    <tr style=\"text-align: right;\">\n",
       "      <th></th>\n",
       "      <th>user_id</th>\n",
       "      <th>item_id</th>\n",
       "      <th>score</th>\n",
       "      <th>rank</th>\n",
       "    </tr>\n",
       "  </thead>\n",
       "  <tbody>\n",
       "    <tr>\n",
       "      <th>0</th>\n",
       "      <td>910002</td>\n",
       "      <td>6380</td>\n",
       "      <td>3.671042</td>\n",
       "      <td>1</td>\n",
       "    </tr>\n",
       "    <tr>\n",
       "      <th>1</th>\n",
       "      <td>910002</td>\n",
       "      <td>6082</td>\n",
       "      <td>3.595443</td>\n",
       "      <td>2</td>\n",
       "    </tr>\n",
       "    <tr>\n",
       "      <th>2</th>\n",
       "      <td>910002</td>\n",
       "      <td>79</td>\n",
       "      <td>3.544775</td>\n",
       "      <td>3</td>\n",
       "    </tr>\n",
       "    <tr>\n",
       "      <th>3</th>\n",
       "      <td>910002</td>\n",
       "      <td>11324</td>\n",
       "      <td>3.424944</td>\n",
       "      <td>4</td>\n",
       "    </tr>\n",
       "    <tr>\n",
       "      <th>4</th>\n",
       "      <td>910002</td>\n",
       "      <td>3066</td>\n",
       "      <td>2.885003</td>\n",
       "      <td>5</td>\n",
       "    </tr>\n",
       "    <tr>\n",
       "      <th>...</th>\n",
       "      <td>...</td>\n",
       "      <td>...</td>\n",
       "      <td>...</td>\n",
       "      <td>...</td>\n",
       "    </tr>\n",
       "    <tr>\n",
       "      <th>65</th>\n",
       "      <td>1061176</td>\n",
       "      <td>12356</td>\n",
       "      <td>1.471100</td>\n",
       "      <td>6</td>\n",
       "    </tr>\n",
       "    <tr>\n",
       "      <th>66</th>\n",
       "      <td>1061176</td>\n",
       "      <td>1399</td>\n",
       "      <td>1.463880</td>\n",
       "      <td>7</td>\n",
       "    </tr>\n",
       "    <tr>\n",
       "      <th>67</th>\n",
       "      <td>1061176</td>\n",
       "      <td>5732</td>\n",
       "      <td>1.461107</td>\n",
       "      <td>8</td>\n",
       "    </tr>\n",
       "    <tr>\n",
       "      <th>68</th>\n",
       "      <td>1061176</td>\n",
       "      <td>15464</td>\n",
       "      <td>1.387223</td>\n",
       "      <td>9</td>\n",
       "    </tr>\n",
       "    <tr>\n",
       "      <th>69</th>\n",
       "      <td>1061176</td>\n",
       "      <td>142</td>\n",
       "      <td>1.351277</td>\n",
       "      <td>10</td>\n",
       "    </tr>\n",
       "  </tbody>\n",
       "</table>\n",
       "<p>70 rows × 4 columns</p>\n",
       "</div>"
      ],
      "text/plain": [
       "    user_id  item_id     score  rank\n",
       "0    910002     6380  3.671042     1\n",
       "1    910002     6082  3.595443     2\n",
       "2    910002       79  3.544775     3\n",
       "3    910002    11324  3.424944     4\n",
       "4    910002     3066  2.885003     5\n",
       "..      ...      ...       ...   ...\n",
       "65  1061176    12356  1.471100     6\n",
       "66  1061176     1399  1.463880     7\n",
       "67  1061176     5732  1.461107     8\n",
       "68  1061176    15464  1.387223     9\n",
       "69  1061176      142  1.351277    10\n",
       "\n",
       "[70 rows x 4 columns]"
      ]
     },
     "execution_count": 85,
     "metadata": {},
     "output_type": "execute_result"
    }
   ],
   "source": [
    "segment_kNN_all_pred"
   ]
  },
  {
   "cell_type": "markdown",
   "id": "45cd7db1",
   "metadata": {},
   "source": [
    "### Тестирование моделей по сегментам"
   ]
  },
  {
   "cell_type": "markdown",
   "id": "01e0e2ec",
   "metadata": {},
   "source": [
    "#### kNN без дополнения популярным"
   ]
  },
  {
   "cell_type": "code",
   "execution_count": 18,
   "id": "828e0de8",
   "metadata": {},
   "outputs": [],
   "source": [
    "# all segments\n",
    "segment_kNN_all = SegmentKNN(\n",
    "    base_estimator=UserKnn,\n",
    "    sub_estimator=CosineRecommender,\n",
    ")"
   ]
  },
  {
   "cell_type": "code",
   "execution_count": 19,
   "id": "b0730135",
   "metadata": {
    "scrolled": true
   },
   "outputs": [
    {
     "data": {
      "application/vnd.jupyter.widget-view+json": {
       "model_id": "3b38a61325a645228b45f8f3b65f31c5",
       "version_major": 2,
       "version_minor": 0
      },
      "text/plain": [
       "  0%|          | 0/20698 [00:00<?, ?it/s]"
      ]
     },
     "metadata": {},
     "output_type": "display_data"
    },
    {
     "data": {
      "application/vnd.jupyter.widget-view+json": {
       "model_id": "d0c7fa05298a4dde94008793b71bec72",
       "version_major": 2,
       "version_minor": 0
      },
      "text/plain": [
       "  0%|          | 0/735 [00:00<?, ?it/s]"
      ]
     },
     "metadata": {},
     "output_type": "display_data"
    },
    {
     "data": {
      "application/vnd.jupyter.widget-view+json": {
       "model_id": "0dd774adf46a47e2a42b1a69feb13354",
       "version_major": 2,
       "version_minor": 0
      },
      "text/plain": [
       "  0%|          | 0/31727 [00:00<?, ?it/s]"
      ]
     },
     "metadata": {},
     "output_type": "display_data"
    },
    {
     "data": {
      "application/vnd.jupyter.widget-view+json": {
       "model_id": "f140a93c116a4ad3849ca4d5264f6c1d",
       "version_major": 2,
       "version_minor": 0
      },
      "text/plain": [
       "  0%|          | 0/1435 [00:00<?, ?it/s]"
      ]
     },
     "metadata": {},
     "output_type": "display_data"
    },
    {
     "data": {
      "application/vnd.jupyter.widget-view+json": {
       "model_id": "a754e3fa64bb42018e019e8b7f9feec6",
       "version_major": 2,
       "version_minor": 0
      },
      "text/plain": [
       "  0%|          | 0/27473 [00:00<?, ?it/s]"
      ]
     },
     "metadata": {},
     "output_type": "display_data"
    },
    {
     "data": {
      "application/vnd.jupyter.widget-view+json": {
       "model_id": "0e36191af0b3403aa6c36086895d043a",
       "version_major": 2,
       "version_minor": 0
      },
      "text/plain": [
       "  0%|          | 0/5651 [00:00<?, ?it/s]"
      ]
     },
     "metadata": {},
     "output_type": "display_data"
    },
    {
     "data": {
      "application/vnd.jupyter.widget-view+json": {
       "model_id": "34ea5a64555d48cb858105f097638012",
       "version_major": 2,
       "version_minor": 0
      },
      "text/plain": [
       "  0%|          | 0/6621 [00:00<?, ?it/s]"
      ]
     },
     "metadata": {},
     "output_type": "display_data"
    },
    {
     "data": {
      "application/vnd.jupyter.widget-view+json": {
       "model_id": "c8081c54b5d64b5ea3c904e5af5f5841",
       "version_major": 2,
       "version_minor": 0
      },
      "text/plain": [
       "  0%|          | 0/784 [00:00<?, ?it/s]"
      ]
     },
     "metadata": {},
     "output_type": "display_data"
    },
    {
     "data": {
      "application/vnd.jupyter.widget-view+json": {
       "model_id": "f36bcc3a28f44f49aeeaebc1e1aea372",
       "version_major": 2,
       "version_minor": 0
      },
      "text/plain": [
       "  0%|          | 0/967 [00:00<?, ?it/s]"
      ]
     },
     "metadata": {},
     "output_type": "display_data"
    },
    {
     "data": {
      "application/vnd.jupyter.widget-view+json": {
       "model_id": "c366b36ded8a4c2db065f6d2b26af7ab",
       "version_major": 2,
       "version_minor": 0
      },
      "text/plain": [
       "  0%|          | 0/58 [00:00<?, ?it/s]"
      ]
     },
     "metadata": {},
     "output_type": "display_data"
    },
    {
     "data": {
      "application/vnd.jupyter.widget-view+json": {
       "model_id": "fc5c635ea9504ff6bb0481a92fe4e507",
       "version_major": 2,
       "version_minor": 0
      },
      "text/plain": [
       "  0%|          | 0/39 [00:00<?, ?it/s]"
      ]
     },
     "metadata": {},
     "output_type": "display_data"
    },
    {
     "data": {
      "application/vnd.jupyter.widget-view+json": {
       "model_id": "d1d678e4ae664f6f8a7dca8b376e92f4",
       "version_major": 2,
       "version_minor": 0
      },
      "text/plain": [
       "  0%|          | 0/2 [00:00<?, ?it/s]"
      ]
     },
     "metadata": {},
     "output_type": "display_data"
    },
    {
     "data": {
      "application/vnd.jupyter.widget-view+json": {
       "model_id": "7e16f8b5514349e0a8d0c3498bc48726",
       "version_major": 2,
       "version_minor": 0
      },
      "text/plain": [
       "  0%|          | 0/19422 [00:00<?, ?it/s]"
      ]
     },
     "metadata": {},
     "output_type": "display_data"
    },
    {
     "data": {
      "application/vnd.jupyter.widget-view+json": {
       "model_id": "8d087ac5cf7c4d74ada72bfb0cd18b9d",
       "version_major": 2,
       "version_minor": 0
      },
      "text/plain": [
       "  0%|          | 0/16993 [00:00<?, ?it/s]"
      ]
     },
     "metadata": {},
     "output_type": "display_data"
    },
    {
     "data": {
      "application/vnd.jupyter.widget-view+json": {
       "model_id": "59c0057186b14590b2d514180561e7d0",
       "version_major": 2,
       "version_minor": 0
      },
      "text/plain": [
       "  0%|          | 0/347 [00:00<?, ?it/s]"
      ]
     },
     "metadata": {},
     "output_type": "display_data"
    },
    {
     "data": {
      "application/vnd.jupyter.widget-view+json": {
       "model_id": "044b236df7e8412d8426f8543c4668c3",
       "version_major": 2,
       "version_minor": 0
      },
      "text/plain": [
       "  0%|          | 0/282 [00:00<?, ?it/s]"
      ]
     },
     "metadata": {},
     "output_type": "display_data"
    },
    {
     "data": {
      "application/vnd.jupyter.widget-view+json": {
       "model_id": "7f5884f926ba43fc9639a42b4586a681",
       "version_major": 2,
       "version_minor": 0
      },
      "text/plain": [
       "  0%|          | 0/5347 [00:00<?, ?it/s]"
      ]
     },
     "metadata": {},
     "output_type": "display_data"
    },
    {
     "data": {
      "application/vnd.jupyter.widget-view+json": {
       "model_id": "9b506ea64a2f495bbf17f92bf3b8d31e",
       "version_major": 2,
       "version_minor": 0
      },
      "text/plain": [
       "  0%|          | 0/17558 [00:00<?, ?it/s]"
      ]
     },
     "metadata": {},
     "output_type": "display_data"
    },
    {
     "data": {
      "application/vnd.jupyter.widget-view+json": {
       "model_id": "f84d5d175b814538b5edd3802b861a59",
       "version_major": 2,
       "version_minor": 0
      },
      "text/plain": [
       "  0%|          | 0/15256 [00:00<?, ?it/s]"
      ]
     },
     "metadata": {},
     "output_type": "display_data"
    },
    {
     "data": {
      "application/vnd.jupyter.widget-view+json": {
       "model_id": "875eec024d7142d4a293d6c62d99cdf4",
       "version_major": 2,
       "version_minor": 0
      },
      "text/plain": [
       "  0%|          | 0/5914 [00:00<?, ?it/s]"
      ]
     },
     "metadata": {},
     "output_type": "display_data"
    },
    {
     "data": {
      "application/vnd.jupyter.widget-view+json": {
       "model_id": "5f3f347a13fa449bbc1aff03a1c445d4",
       "version_major": 2,
       "version_minor": 0
      },
      "text/plain": [
       "  0%|          | 0/1803 [00:00<?, ?it/s]"
      ]
     },
     "metadata": {},
     "output_type": "display_data"
    },
    {
     "data": {
      "application/vnd.jupyter.widget-view+json": {
       "model_id": "2fc77e428da54f658dd11cc7c02d9878",
       "version_major": 2,
       "version_minor": 0
      },
      "text/plain": [
       "  0%|          | 0/120 [00:00<?, ?it/s]"
      ]
     },
     "metadata": {},
     "output_type": "display_data"
    },
    {
     "data": {
      "application/vnd.jupyter.widget-view+json": {
       "model_id": "b933e910adbc4d3f9a81a424366d2ce2",
       "version_major": 2,
       "version_minor": 0
      },
      "text/plain": [
       "  0%|          | 0/1252 [00:00<?, ?it/s]"
      ]
     },
     "metadata": {},
     "output_type": "display_data"
    },
    {
     "data": {
      "application/vnd.jupyter.widget-view+json": {
       "model_id": "f5073b8bebbe41c499ccadbc5aa50608",
       "version_major": 2,
       "version_minor": 0
      },
      "text/plain": [
       "  0%|          | 0/124 [00:00<?, ?it/s]"
      ]
     },
     "metadata": {},
     "output_type": "display_data"
    },
    {
     "data": {
      "application/vnd.jupyter.widget-view+json": {
       "model_id": "c052996a6c8a4830adb530794885d0a6",
       "version_major": 2,
       "version_minor": 0
      },
      "text/plain": [
       "  0%|          | 0/12974 [00:00<?, ?it/s]"
      ]
     },
     "metadata": {},
     "output_type": "display_data"
    },
    {
     "data": {
      "application/vnd.jupyter.widget-view+json": {
       "model_id": "a5ab681ba0c94be2aac10a17b9f830e9",
       "version_major": 2,
       "version_minor": 0
      },
      "text/plain": [
       "  0%|          | 0/9293 [00:00<?, ?it/s]"
      ]
     },
     "metadata": {},
     "output_type": "display_data"
    },
    {
     "data": {
      "application/vnd.jupyter.widget-view+json": {
       "model_id": "a0cefe0752d04aca964688a30541e6f6",
       "version_major": 2,
       "version_minor": 0
      },
      "text/plain": [
       "  0%|          | 0/206 [00:00<?, ?it/s]"
      ]
     },
     "metadata": {},
     "output_type": "display_data"
    },
    {
     "data": {
      "application/vnd.jupyter.widget-view+json": {
       "model_id": "d17a4c22f298467a9a3ee4b49be7f59a",
       "version_major": 2,
       "version_minor": 0
      },
      "text/plain": [
       "  0%|          | 0/207 [00:00<?, ?it/s]"
      ]
     },
     "metadata": {},
     "output_type": "display_data"
    },
    {
     "data": {
      "application/vnd.jupyter.widget-view+json": {
       "model_id": "f7705fe5a3064b6698883dc901e7d924",
       "version_major": 2,
       "version_minor": 0
      },
      "text/plain": [
       "  0%|          | 0/7160 [00:00<?, ?it/s]"
      ]
     },
     "metadata": {},
     "output_type": "display_data"
    },
    {
     "data": {
      "application/vnd.jupyter.widget-view+json": {
       "model_id": "ce2032d535364bf2878e20895bd4e3ca",
       "version_major": 2,
       "version_minor": 0
      },
      "text/plain": [
       "  0%|          | 0/4237 [00:00<?, ?it/s]"
      ]
     },
     "metadata": {},
     "output_type": "display_data"
    },
    {
     "data": {
      "application/vnd.jupyter.widget-view+json": {
       "model_id": "20539ecebfff45f9b3d1489aede91b7a",
       "version_major": 2,
       "version_minor": 0
      },
      "text/plain": [
       "  0%|          | 0/837 [00:00<?, ?it/s]"
      ]
     },
     "metadata": {},
     "output_type": "display_data"
    },
    {
     "data": {
      "application/vnd.jupyter.widget-view+json": {
       "model_id": "cb4bee7a951447eaa597e216f9d215a2",
       "version_major": 2,
       "version_minor": 0
      },
      "text/plain": [
       "  0%|          | 0/1614 [00:00<?, ?it/s]"
      ]
     },
     "metadata": {},
     "output_type": "display_data"
    },
    {
     "data": {
      "application/vnd.jupyter.widget-view+json": {
       "model_id": "af39775b106246fd89f77ca20958df6e",
       "version_major": 2,
       "version_minor": 0
      },
      "text/plain": [
       "  0%|          | 0/252 [00:00<?, ?it/s]"
      ]
     },
     "metadata": {},
     "output_type": "display_data"
    },
    {
     "data": {
      "application/vnd.jupyter.widget-view+json": {
       "model_id": "c8aba0ffa5fd4f7d9e45752f984bfb6c",
       "version_major": 2,
       "version_minor": 0
      },
      "text/plain": [
       "  0%|          | 0/123 [00:00<?, ?it/s]"
      ]
     },
     "metadata": {},
     "output_type": "display_data"
    },
    {
     "data": {
      "application/vnd.jupyter.widget-view+json": {
       "model_id": "acc19e1e85d8403e81cfe328e7bfeea8",
       "version_major": 2,
       "version_minor": 0
      },
      "text/plain": [
       "  0%|          | 0/20 [00:00<?, ?it/s]"
      ]
     },
     "metadata": {},
     "output_type": "display_data"
    },
    {
     "data": {
      "application/vnd.jupyter.widget-view+json": {
       "model_id": "b66aea0a31034a58ac939b055bcc2ee0",
       "version_major": 2,
       "version_minor": 0
      },
      "text/plain": [
       "  0%|          | 0/25 [00:00<?, ?it/s]"
      ]
     },
     "metadata": {},
     "output_type": "display_data"
    },
    {
     "data": {
      "application/vnd.jupyter.widget-view+json": {
       "model_id": "3cd9dd4360974150af36bb22dd7202ca",
       "version_major": 2,
       "version_minor": 0
      },
      "text/plain": [
       "  0%|          | 0/12009 [00:00<?, ?it/s]"
      ]
     },
     "metadata": {},
     "output_type": "display_data"
    },
    {
     "data": {
      "application/vnd.jupyter.widget-view+json": {
       "model_id": "f2211d56abe244f3950169dbccab609e",
       "version_major": 2,
       "version_minor": 0
      },
      "text/plain": [
       "  0%|          | 0/4005 [00:00<?, ?it/s]"
      ]
     },
     "metadata": {},
     "output_type": "display_data"
    },
    {
     "data": {
      "application/vnd.jupyter.widget-view+json": {
       "model_id": "28b0dc8908d94e6e8fce0d841b88eeeb",
       "version_major": 2,
       "version_minor": 0
      },
      "text/plain": [
       "  0%|          | 0/258 [00:00<?, ?it/s]"
      ]
     },
     "metadata": {},
     "output_type": "display_data"
    },
    {
     "data": {
      "application/vnd.jupyter.widget-view+json": {
       "model_id": "a79438878f524e3a9de313362e2e4568",
       "version_major": 2,
       "version_minor": 0
      },
      "text/plain": [
       "  0%|          | 0/318 [00:00<?, ?it/s]"
      ]
     },
     "metadata": {},
     "output_type": "display_data"
    },
    {
     "data": {
      "application/vnd.jupyter.widget-view+json": {
       "model_id": "76dbc0bf7d2847389812777d39829c7c",
       "version_major": 2,
       "version_minor": 0
      },
      "text/plain": [
       "  0%|          | 0/3255 [00:00<?, ?it/s]"
      ]
     },
     "metadata": {},
     "output_type": "display_data"
    },
    {
     "data": {
      "application/vnd.jupyter.widget-view+json": {
       "model_id": "27bf910f8f08414dac66623e93658163",
       "version_major": 2,
       "version_minor": 0
      },
      "text/plain": [
       "  0%|          | 0/10644 [00:00<?, ?it/s]"
      ]
     },
     "metadata": {},
     "output_type": "display_data"
    },
    {
     "data": {
      "application/vnd.jupyter.widget-view+json": {
       "model_id": "90fe06a4a0f645e89743165a14023cb7",
       "version_major": 2,
       "version_minor": 0
      },
      "text/plain": [
       "  0%|          | 0/1576 [00:00<?, ?it/s]"
      ]
     },
     "metadata": {},
     "output_type": "display_data"
    },
    {
     "data": {
      "application/vnd.jupyter.widget-view+json": {
       "model_id": "1bc50f7c9dfc4332aa4508bd98d229c6",
       "version_major": 2,
       "version_minor": 0
      },
      "text/plain": [
       "  0%|          | 0/206 [00:00<?, ?it/s]"
      ]
     },
     "metadata": {},
     "output_type": "display_data"
    },
    {
     "data": {
      "application/vnd.jupyter.widget-view+json": {
       "model_id": "35b58337f4b04f4dae75d551c675dd64",
       "version_major": 2,
       "version_minor": 0
      },
      "text/plain": [
       "  0%|          | 0/556 [00:00<?, ?it/s]"
      ]
     },
     "metadata": {},
     "output_type": "display_data"
    },
    {
     "data": {
      "application/vnd.jupyter.widget-view+json": {
       "model_id": "c7c5e84e812449b29a61e40f9ea2336d",
       "version_major": 2,
       "version_minor": 0
      },
      "text/plain": [
       "  0%|          | 0/17 [00:00<?, ?it/s]"
      ]
     },
     "metadata": {},
     "output_type": "display_data"
    },
    {
     "data": {
      "application/vnd.jupyter.widget-view+json": {
       "model_id": "c888d211b49d4b25addb7ad471b6a007",
       "version_major": 2,
       "version_minor": 0
      },
      "text/plain": [
       "  0%|          | 0/16 [00:00<?, ?it/s]"
      ]
     },
     "metadata": {},
     "output_type": "display_data"
    },
    {
     "data": {
      "application/vnd.jupyter.widget-view+json": {
       "model_id": "e5d1e498286e4994b3fda9a6c37b7369",
       "version_major": 2,
       "version_minor": 0
      },
      "text/plain": [
       "  0%|          | 0/16728 [00:00<?, ?it/s]"
      ]
     },
     "metadata": {},
     "output_type": "display_data"
    },
    {
     "data": {
      "application/vnd.jupyter.widget-view+json": {
       "model_id": "8bd6aed0e1f448e6a3d86456f6304d8d",
       "version_major": 2,
       "version_minor": 0
      },
      "text/plain": [
       "  0%|          | 0/7306 [00:00<?, ?it/s]"
      ]
     },
     "metadata": {},
     "output_type": "display_data"
    },
    {
     "data": {
      "application/vnd.jupyter.widget-view+json": {
       "model_id": "1907a0affbc04ac19a7ecaa12786625e",
       "version_major": 2,
       "version_minor": 0
      },
      "text/plain": [
       "  0%|          | 0/228 [00:00<?, ?it/s]"
      ]
     },
     "metadata": {},
     "output_type": "display_data"
    },
    {
     "data": {
      "application/vnd.jupyter.widget-view+json": {
       "model_id": "df59b38c286b4edba41a0118ab35ff6e",
       "version_major": 2,
       "version_minor": 0
      },
      "text/plain": [
       "  0%|          | 0/87 [00:00<?, ?it/s]"
      ]
     },
     "metadata": {},
     "output_type": "display_data"
    },
    {
     "data": {
      "application/vnd.jupyter.widget-view+json": {
       "model_id": "2a4fce480344407eb8da92d0794aff98",
       "version_major": 2,
       "version_minor": 0
      },
      "text/plain": [
       "  0%|          | 0/19359 [00:00<?, ?it/s]"
      ]
     },
     "metadata": {},
     "output_type": "display_data"
    },
    {
     "data": {
      "application/vnd.jupyter.widget-view+json": {
       "model_id": "de3171f29d2e419d98b062784f55a36d",
       "version_major": 2,
       "version_minor": 0
      },
      "text/plain": [
       "  0%|          | 0/7543 [00:00<?, ?it/s]"
      ]
     },
     "metadata": {},
     "output_type": "display_data"
    },
    {
     "data": {
      "application/vnd.jupyter.widget-view+json": {
       "model_id": "0aec08c712e745fcb4a4cb00128786f1",
       "version_major": 2,
       "version_minor": 0
      },
      "text/plain": [
       "  0%|          | 0/8425 [00:00<?, ?it/s]"
      ]
     },
     "metadata": {},
     "output_type": "display_data"
    },
    {
     "data": {
      "application/vnd.jupyter.widget-view+json": {
       "model_id": "6c17f88f64424503af19441d475d806a",
       "version_major": 2,
       "version_minor": 0
      },
      "text/plain": [
       "  0%|          | 0/3666 [00:00<?, ?it/s]"
      ]
     },
     "metadata": {},
     "output_type": "display_data"
    },
    {
     "data": {
      "application/vnd.jupyter.widget-view+json": {
       "model_id": "522c0deba5b64c3bac792f995cade473",
       "version_major": 2,
       "version_minor": 0
      },
      "text/plain": [
       "  0%|          | 0/914 [00:00<?, ?it/s]"
      ]
     },
     "metadata": {},
     "output_type": "display_data"
    },
    {
     "data": {
      "application/vnd.jupyter.widget-view+json": {
       "model_id": "3083571be6224dd1a2e2587980c3892c",
       "version_major": 2,
       "version_minor": 0
      },
      "text/plain": [
       "  0%|          | 0/1622 [00:00<?, ?it/s]"
      ]
     },
     "metadata": {},
     "output_type": "display_data"
    },
    {
     "data": {
      "application/vnd.jupyter.widget-view+json": {
       "model_id": "dd7d00b816aa4cd69b49dcaec23823c5",
       "version_major": 2,
       "version_minor": 0
      },
      "text/plain": [
       "  0%|          | 0/94 [00:00<?, ?it/s]"
      ]
     },
     "metadata": {},
     "output_type": "display_data"
    },
    {
     "data": {
      "application/vnd.jupyter.widget-view+json": {
       "model_id": "d380cd8cbdf148f08b4e0f5e363e16f4",
       "version_major": 2,
       "version_minor": 0
      },
      "text/plain": [
       "  0%|          | 0/57 [00:00<?, ?it/s]"
      ]
     },
     "metadata": {},
     "output_type": "display_data"
    },
    {
     "data": {
      "application/vnd.jupyter.widget-view+json": {
       "model_id": "cffedc65d23e4b90b22da7e624505dc5",
       "version_major": 2,
       "version_minor": 0
      },
      "text/plain": [
       "  0%|          | 0/1757 [00:00<?, ?it/s]"
      ]
     },
     "metadata": {},
     "output_type": "display_data"
    },
    {
     "data": {
      "application/vnd.jupyter.widget-view+json": {
       "model_id": "dbe13ab7483d4e79890f180fe4ca32ff",
       "version_major": 2,
       "version_minor": 0
      },
      "text/plain": [
       "  0%|          | 0/727 [00:00<?, ?it/s]"
      ]
     },
     "metadata": {},
     "output_type": "display_data"
    },
    {
     "data": {
      "application/vnd.jupyter.widget-view+json": {
       "model_id": "071e414e1e9b4d05871df1535887bc38",
       "version_major": 2,
       "version_minor": 0
      },
      "text/plain": [
       "  0%|          | 0/10 [00:00<?, ?it/s]"
      ]
     },
     "metadata": {},
     "output_type": "display_data"
    },
    {
     "data": {
      "application/vnd.jupyter.widget-view+json": {
       "model_id": "5b09962957aa4b53b77f48153a22cbb2",
       "version_major": 2,
       "version_minor": 0
      },
      "text/plain": [
       "  0%|          | 0/20 [00:00<?, ?it/s]"
      ]
     },
     "metadata": {},
     "output_type": "display_data"
    },
    {
     "data": {
      "application/vnd.jupyter.widget-view+json": {
       "model_id": "ea820f2a0925456a94ffb908c8df4380",
       "version_major": 2,
       "version_minor": 0
      },
      "text/plain": [
       "  0%|          | 0/1518 [00:00<?, ?it/s]"
      ]
     },
     "metadata": {},
     "output_type": "display_data"
    },
    {
     "data": {
      "application/vnd.jupyter.widget-view+json": {
       "model_id": "2d3214d4307746678e287f75d6335139",
       "version_major": 2,
       "version_minor": 0
      },
      "text/plain": [
       "  0%|          | 0/487 [00:00<?, ?it/s]"
      ]
     },
     "metadata": {},
     "output_type": "display_data"
    },
    {
     "data": {
      "application/vnd.jupyter.widget-view+json": {
       "model_id": "25c7b08f3edb4bdea2a57c8f892dd383",
       "version_major": 2,
       "version_minor": 0
      },
      "text/plain": [
       "  0%|          | 0/481 [00:00<?, ?it/s]"
      ]
     },
     "metadata": {},
     "output_type": "display_data"
    },
    {
     "data": {
      "application/vnd.jupyter.widget-view+json": {
       "model_id": "0f79bb34d0ee4851805c383f848d382f",
       "version_major": 2,
       "version_minor": 0
      },
      "text/plain": [
       "  0%|          | 0/180 [00:00<?, ?it/s]"
      ]
     },
     "metadata": {},
     "output_type": "display_data"
    },
    {
     "data": {
      "application/vnd.jupyter.widget-view+json": {
       "model_id": "b4cccaeb807e4affbe26ba6bfd205d07",
       "version_major": 2,
       "version_minor": 0
      },
      "text/plain": [
       "  0%|          | 0/99 [00:00<?, ?it/s]"
      ]
     },
     "metadata": {},
     "output_type": "display_data"
    },
    {
     "data": {
      "application/vnd.jupyter.widget-view+json": {
       "model_id": "1945e611998349f38e35cdfd3d3752cb",
       "version_major": 2,
       "version_minor": 0
      },
      "text/plain": [
       "  0%|          | 0/8 [00:00<?, ?it/s]"
      ]
     },
     "metadata": {},
     "output_type": "display_data"
    },
    {
     "data": {
      "application/vnd.jupyter.widget-view+json": {
       "model_id": "1e52bd592643406e8bc45672be341fb2",
       "version_major": 2,
       "version_minor": 0
      },
      "text/plain": [
       "  0%|          | 0/41 [00:00<?, ?it/s]"
      ]
     },
     "metadata": {},
     "output_type": "display_data"
    },
    {
     "data": {
      "application/vnd.jupyter.widget-view+json": {
       "model_id": "d8db931b3c944337ac621b25d24afc19",
       "version_major": 2,
       "version_minor": 0
      },
      "text/plain": [
       "  0%|          | 0/4 [00:00<?, ?it/s]"
      ]
     },
     "metadata": {},
     "output_type": "display_data"
    },
    {
     "data": {
      "application/vnd.jupyter.widget-view+json": {
       "model_id": "a35a46c39910413f9fd97d406382a3bd",
       "version_major": 2,
       "version_minor": 0
      },
      "text/plain": [
       "  0%|          | 0/40168 [00:00<?, ?it/s]"
      ]
     },
     "metadata": {},
     "output_type": "display_data"
    },
    {
     "data": {
      "application/vnd.jupyter.widget-view+json": {
       "model_id": "ccb19d87cba84c07b075a314d9b18d87",
       "version_major": 2,
       "version_minor": 0
      },
      "text/plain": [
       "  0%|          | 0/44451 [00:00<?, ?it/s]"
      ]
     },
     "metadata": {},
     "output_type": "display_data"
    },
    {
     "data": {
      "application/vnd.jupyter.widget-view+json": {
       "model_id": "086dfadec9d3469fb4b0050dcc8ceff2",
       "version_major": 2,
       "version_minor": 0
      },
      "text/plain": [
       "  0%|          | 0/4124 [00:00<?, ?it/s]"
      ]
     },
     "metadata": {},
     "output_type": "display_data"
    },
    {
     "data": {
      "application/vnd.jupyter.widget-view+json": {
       "model_id": "35ca33fc7b7e48febf2cbbce31c0a09c",
       "version_major": 2,
       "version_minor": 0
      },
      "text/plain": [
       "  0%|          | 0/2263 [00:00<?, ?it/s]"
      ]
     },
     "metadata": {},
     "output_type": "display_data"
    },
    {
     "data": {
      "application/vnd.jupyter.widget-view+json": {
       "model_id": "3c9a055b2e534139b9bcc751a765cd37",
       "version_major": 2,
       "version_minor": 0
      },
      "text/plain": [
       "  0%|          | 0/18437 [00:00<?, ?it/s]"
      ]
     },
     "metadata": {},
     "output_type": "display_data"
    },
    {
     "data": {
      "application/vnd.jupyter.widget-view+json": {
       "model_id": "7b3c28a512624547a40963cb6634ca4a",
       "version_major": 2,
       "version_minor": 0
      },
      "text/plain": [
       "  0%|          | 0/4696 [00:00<?, ?it/s]"
      ]
     },
     "metadata": {},
     "output_type": "display_data"
    },
    {
     "data": {
      "application/vnd.jupyter.widget-view+json": {
       "model_id": "65714375ce5d4ac3891c052958daaff1",
       "version_major": 2,
       "version_minor": 0
      },
      "text/plain": [
       "  0%|          | 0/7798 [00:00<?, ?it/s]"
      ]
     },
     "metadata": {},
     "output_type": "display_data"
    },
    {
     "data": {
      "application/vnd.jupyter.widget-view+json": {
       "model_id": "22e9b7be417c4a3dbb6bccda1fda8f68",
       "version_major": 2,
       "version_minor": 0
      },
      "text/plain": [
       "  0%|          | 0/894 [00:00<?, ?it/s]"
      ]
     },
     "metadata": {},
     "output_type": "display_data"
    },
    {
     "data": {
      "application/vnd.jupyter.widget-view+json": {
       "model_id": "9931278e89a54a4c8d0c98a1a2ad718f",
       "version_major": 2,
       "version_minor": 0
      },
      "text/plain": [
       "  0%|          | 0/1040 [00:00<?, ?it/s]"
      ]
     },
     "metadata": {},
     "output_type": "display_data"
    },
    {
     "data": {
      "application/vnd.jupyter.widget-view+json": {
       "model_id": "5ef6eeaa212749fdaf1f69e9e51a0536",
       "version_major": 2,
       "version_minor": 0
      },
      "text/plain": [
       "  0%|          | 0/70 [00:00<?, ?it/s]"
      ]
     },
     "metadata": {},
     "output_type": "display_data"
    },
    {
     "data": {
      "application/vnd.jupyter.widget-view+json": {
       "model_id": "67af53739d2344949982f23120d806d5",
       "version_major": 2,
       "version_minor": 0
      },
      "text/plain": [
       "  0%|          | 0/73 [00:00<?, ?it/s]"
      ]
     },
     "metadata": {},
     "output_type": "display_data"
    },
    {
     "data": {
      "application/vnd.jupyter.widget-view+json": {
       "model_id": "e401299364254c07a3e2ee432d0367af",
       "version_major": 2,
       "version_minor": 0
      },
      "text/plain": [
       "  0%|          | 0/1 [00:00<?, ?it/s]"
      ]
     },
     "metadata": {},
     "output_type": "display_data"
    },
    {
     "data": {
      "application/vnd.jupyter.widget-view+json": {
       "model_id": "9fe28d208b5c4e7f83addde401811d10",
       "version_major": 2,
       "version_minor": 0
      },
      "text/plain": [
       "  0%|          | 0/18873 [00:00<?, ?it/s]"
      ]
     },
     "metadata": {},
     "output_type": "display_data"
    },
    {
     "data": {
      "application/vnd.jupyter.widget-view+json": {
       "model_id": "c5723aa62dc24265ac4e37735f3cdca5",
       "version_major": 2,
       "version_minor": 0
      },
      "text/plain": [
       "  0%|          | 0/23559 [00:00<?, ?it/s]"
      ]
     },
     "metadata": {},
     "output_type": "display_data"
    },
    {
     "data": {
      "application/vnd.jupyter.widget-view+json": {
       "model_id": "6c79461afdaa4455b5832ba9285cdb78",
       "version_major": 2,
       "version_minor": 0
      },
      "text/plain": [
       "  0%|          | 0/772 [00:00<?, ?it/s]"
      ]
     },
     "metadata": {},
     "output_type": "display_data"
    },
    {
     "data": {
      "application/vnd.jupyter.widget-view+json": {
       "model_id": "67fde51fba6b4122a504c96b15d9435c",
       "version_major": 2,
       "version_minor": 0
      },
      "text/plain": [
       "  0%|          | 0/1047 [00:00<?, ?it/s]"
      ]
     },
     "metadata": {},
     "output_type": "display_data"
    },
    {
     "data": {
      "application/vnd.jupyter.widget-view+json": {
       "model_id": "df46f8dc828d461b8a90fa3215e00ff7",
       "version_major": 2,
       "version_minor": 0
      },
      "text/plain": [
       "  0%|          | 0/9331 [00:00<?, ?it/s]"
      ]
     },
     "metadata": {},
     "output_type": "display_data"
    },
    {
     "data": {
      "application/vnd.jupyter.widget-view+json": {
       "model_id": "b911c0a9ec7649b598c77d401f80fbaa",
       "version_major": 2,
       "version_minor": 0
      },
      "text/plain": [
       "  0%|          | 0/3155 [00:00<?, ?it/s]"
      ]
     },
     "metadata": {},
     "output_type": "display_data"
    },
    {
     "data": {
      "application/vnd.jupyter.widget-view+json": {
       "model_id": "4ec5dfa892004c3a8827fa08b1e16993",
       "version_major": 2,
       "version_minor": 0
      },
      "text/plain": [
       "  0%|          | 0/11215 [00:00<?, ?it/s]"
      ]
     },
     "metadata": {},
     "output_type": "display_data"
    },
    {
     "data": {
      "application/vnd.jupyter.widget-view+json": {
       "model_id": "45960f357c354ce880498f7f0457ac38",
       "version_major": 2,
       "version_minor": 0
      },
      "text/plain": [
       "  0%|          | 0/2417 [00:00<?, ?it/s]"
      ]
     },
     "metadata": {},
     "output_type": "display_data"
    },
    {
     "data": {
      "application/vnd.jupyter.widget-view+json": {
       "model_id": "ad68077b33a14a2baac771f4c8705508",
       "version_major": 2,
       "version_minor": 0
      },
      "text/plain": [
       "  0%|          | 0/829 [00:00<?, ?it/s]"
      ]
     },
     "metadata": {},
     "output_type": "display_data"
    },
    {
     "data": {
      "application/vnd.jupyter.widget-view+json": {
       "model_id": "057d47366cc24201b9293c4b441cdcb9",
       "version_major": 2,
       "version_minor": 0
      },
      "text/plain": [
       "  0%|          | 0/565 [00:00<?, ?it/s]"
      ]
     },
     "metadata": {},
     "output_type": "display_data"
    },
    {
     "data": {
      "application/vnd.jupyter.widget-view+json": {
       "model_id": "fa038eb53bb54fa4acd677ad9e163edb",
       "version_major": 2,
       "version_minor": 0
      },
      "text/plain": [
       "  0%|          | 0/89 [00:00<?, ?it/s]"
      ]
     },
     "metadata": {},
     "output_type": "display_data"
    },
    {
     "data": {
      "application/vnd.jupyter.widget-view+json": {
       "model_id": "80e84c4ee6bb4fd4bf2f79d99f40a3dd",
       "version_major": 2,
       "version_minor": 0
      },
      "text/plain": [
       "  0%|          | 0/70 [00:00<?, ?it/s]"
      ]
     },
     "metadata": {},
     "output_type": "display_data"
    },
    {
     "data": {
      "application/vnd.jupyter.widget-view+json": {
       "model_id": "3faa7692cb384db280fd9387a0b510ee",
       "version_major": 2,
       "version_minor": 0
      },
      "text/plain": [
       "  0%|          | 0/642 [00:00<?, ?it/s]"
      ]
     },
     "metadata": {},
     "output_type": "display_data"
    },
    {
     "data": {
      "application/vnd.jupyter.widget-view+json": {
       "model_id": "a016583faebd46699d5e799c461ea8c0",
       "version_major": 2,
       "version_minor": 0
      },
      "text/plain": [
       "  0%|          | 0/13999 [00:00<?, ?it/s]"
      ]
     },
     "metadata": {},
     "output_type": "display_data"
    },
    {
     "data": {
      "application/vnd.jupyter.widget-view+json": {
       "model_id": "a9c7614d49ab428aa2f971644def9432",
       "version_major": 2,
       "version_minor": 0
      },
      "text/plain": [
       "  0%|          | 0/15006 [00:00<?, ?it/s]"
      ]
     },
     "metadata": {},
     "output_type": "display_data"
    },
    {
     "data": {
      "application/vnd.jupyter.widget-view+json": {
       "model_id": "ec5c3e2a14fb45ab9fb707d6a0434fcd",
       "version_major": 2,
       "version_minor": 0
      },
      "text/plain": [
       "  0%|          | 0/653 [00:00<?, ?it/s]"
      ]
     },
     "metadata": {},
     "output_type": "display_data"
    },
    {
     "data": {
      "application/vnd.jupyter.widget-view+json": {
       "model_id": "79f69a476abc4891b21ec4f9343b4ed2",
       "version_major": 2,
       "version_minor": 0
      },
      "text/plain": [
       "  0%|          | 0/694 [00:00<?, ?it/s]"
      ]
     },
     "metadata": {},
     "output_type": "display_data"
    },
    {
     "data": {
      "application/vnd.jupyter.widget-view+json": {
       "model_id": "f956219d8e7c48f499ed159397c057a2",
       "version_major": 2,
       "version_minor": 0
      },
      "text/plain": [
       "  0%|          | 0/3835 [00:00<?, ?it/s]"
      ]
     },
     "metadata": {},
     "output_type": "display_data"
    },
    {
     "data": {
      "application/vnd.jupyter.widget-view+json": {
       "model_id": "c1b9acb57e504a7b9275dfab1da7663f",
       "version_major": 2,
       "version_minor": 0
      },
      "text/plain": [
       "  0%|          | 0/4219 [00:00<?, ?it/s]"
      ]
     },
     "metadata": {},
     "output_type": "display_data"
    },
    {
     "data": {
      "application/vnd.jupyter.widget-view+json": {
       "model_id": "8573dbb1bd48428baa3aec9c14a6641b",
       "version_major": 2,
       "version_minor": 0
      },
      "text/plain": [
       "  0%|          | 0/567 [00:00<?, ?it/s]"
      ]
     },
     "metadata": {},
     "output_type": "display_data"
    },
    {
     "data": {
      "application/vnd.jupyter.widget-view+json": {
       "model_id": "2fa98746e05749e29a5f473d68410f7b",
       "version_major": 2,
       "version_minor": 0
      },
      "text/plain": [
       "  0%|          | 0/125 [00:00<?, ?it/s]"
      ]
     },
     "metadata": {},
     "output_type": "display_data"
    },
    {
     "data": {
      "application/vnd.jupyter.widget-view+json": {
       "model_id": "8c50d29378824ce3ac64c50988760d53",
       "version_major": 2,
       "version_minor": 0
      },
      "text/plain": [
       "  0%|          | 0/98 [00:00<?, ?it/s]"
      ]
     },
     "metadata": {},
     "output_type": "display_data"
    },
    {
     "data": {
      "application/vnd.jupyter.widget-view+json": {
       "model_id": "b379e1d8daab4c8aacb9b429e928361e",
       "version_major": 2,
       "version_minor": 0
      },
      "text/plain": [
       "  0%|          | 0/12 [00:00<?, ?it/s]"
      ]
     },
     "metadata": {},
     "output_type": "display_data"
    },
    {
     "data": {
      "application/vnd.jupyter.widget-view+json": {
       "model_id": "a3b590c534e944ee8c1d9cc8490b2842",
       "version_major": 2,
       "version_minor": 0
      },
      "text/plain": [
       "  0%|          | 0/5 [00:00<?, ?it/s]"
      ]
     },
     "metadata": {},
     "output_type": "display_data"
    },
    {
     "data": {
      "application/vnd.jupyter.widget-view+json": {
       "model_id": "bf66628ce2c741a5aaf74c15815c07b5",
       "version_major": 2,
       "version_minor": 0
      },
      "text/plain": [
       "  0%|          | 0/8169 [00:00<?, ?it/s]"
      ]
     },
     "metadata": {},
     "output_type": "display_data"
    },
    {
     "data": {
      "application/vnd.jupyter.widget-view+json": {
       "model_id": "c030a5d02be74895a8488d5a46b2fba8",
       "version_major": 2,
       "version_minor": 0
      },
      "text/plain": [
       "  0%|          | 0/17728 [00:00<?, ?it/s]"
      ]
     },
     "metadata": {},
     "output_type": "display_data"
    },
    {
     "data": {
      "application/vnd.jupyter.widget-view+json": {
       "model_id": "998492cd3a4a4944a9f6e557f81e1063",
       "version_major": 2,
       "version_minor": 0
      },
      "text/plain": [
       "  0%|          | 0/890 [00:00<?, ?it/s]"
      ]
     },
     "metadata": {},
     "output_type": "display_data"
    },
    {
     "data": {
      "application/vnd.jupyter.widget-view+json": {
       "model_id": "b7fe1f3de1874238abe8bfadb3c2c8c6",
       "version_major": 2,
       "version_minor": 0
      },
      "text/plain": [
       "  0%|          | 0/945 [00:00<?, ?it/s]"
      ]
     },
     "metadata": {},
     "output_type": "display_data"
    },
    {
     "data": {
      "application/vnd.jupyter.widget-view+json": {
       "model_id": "fcf5c6d9ae2e4e71bcfcd76c61918f3d",
       "version_major": 2,
       "version_minor": 0
      },
      "text/plain": [
       "  0%|          | 0/8249 [00:00<?, ?it/s]"
      ]
     },
     "metadata": {},
     "output_type": "display_data"
    },
    {
     "data": {
      "application/vnd.jupyter.widget-view+json": {
       "model_id": "05a0e5a6530844a6a0ede8b7fab5d977",
       "version_major": 2,
       "version_minor": 0
      },
      "text/plain": [
       "  0%|          | 0/1925 [00:00<?, ?it/s]"
      ]
     },
     "metadata": {},
     "output_type": "display_data"
    },
    {
     "data": {
      "application/vnd.jupyter.widget-view+json": {
       "model_id": "02ffa2c9e5f04d6f92a572e129dd509c",
       "version_major": 2,
       "version_minor": 0
      },
      "text/plain": [
       "  0%|          | 0/2261 [00:00<?, ?it/s]"
      ]
     },
     "metadata": {},
     "output_type": "display_data"
    },
    {
     "data": {
      "application/vnd.jupyter.widget-view+json": {
       "model_id": "746ce9e6beab43b49ae174300d2eaf58",
       "version_major": 2,
       "version_minor": 0
      },
      "text/plain": [
       "  0%|          | 0/196 [00:00<?, ?it/s]"
      ]
     },
     "metadata": {},
     "output_type": "display_data"
    },
    {
     "data": {
      "application/vnd.jupyter.widget-view+json": {
       "model_id": "fab89663fdc24a74b3005d11bc2ad906",
       "version_major": 2,
       "version_minor": 0
      },
      "text/plain": [
       "  0%|          | 0/410 [00:00<?, ?it/s]"
      ]
     },
     "metadata": {},
     "output_type": "display_data"
    },
    {
     "data": {
      "application/vnd.jupyter.widget-view+json": {
       "model_id": "3d98bd28ef5b40c3ad9bdda1529fa77b",
       "version_major": 2,
       "version_minor": 0
      },
      "text/plain": [
       "  0%|          | 0/18 [00:00<?, ?it/s]"
      ]
     },
     "metadata": {},
     "output_type": "display_data"
    },
    {
     "data": {
      "application/vnd.jupyter.widget-view+json": {
       "model_id": "5e540fd9030049dbb289d87c3c04403b",
       "version_major": 2,
       "version_minor": 0
      },
      "text/plain": [
       "  0%|          | 0/14 [00:00<?, ?it/s]"
      ]
     },
     "metadata": {},
     "output_type": "display_data"
    },
    {
     "data": {
      "application/vnd.jupyter.widget-view+json": {
       "model_id": "fa541cd5de8e466d91ce7d994b2b656d",
       "version_major": 2,
       "version_minor": 0
      },
      "text/plain": [
       "  0%|          | 0/2 [00:00<?, ?it/s]"
      ]
     },
     "metadata": {},
     "output_type": "display_data"
    },
    {
     "data": {
      "application/vnd.jupyter.widget-view+json": {
       "model_id": "1d0fb9361f95431bb074eb8f3d4a1d49",
       "version_major": 2,
       "version_minor": 0
      },
      "text/plain": [
       "  0%|          | 0/20184 [00:00<?, ?it/s]"
      ]
     },
     "metadata": {},
     "output_type": "display_data"
    },
    {
     "data": {
      "application/vnd.jupyter.widget-view+json": {
       "model_id": "1022205ca23e45469e4f0fcef99671d8",
       "version_major": 2,
       "version_minor": 0
      },
      "text/plain": [
       "  0%|          | 0/8568 [00:00<?, ?it/s]"
      ]
     },
     "metadata": {},
     "output_type": "display_data"
    },
    {
     "data": {
      "application/vnd.jupyter.widget-view+json": {
       "model_id": "e174cc6c46544924a282a58cd57e3e15",
       "version_major": 2,
       "version_minor": 0
      },
      "text/plain": [
       "  0%|          | 0/755 [00:00<?, ?it/s]"
      ]
     },
     "metadata": {},
     "output_type": "display_data"
    },
    {
     "data": {
      "application/vnd.jupyter.widget-view+json": {
       "model_id": "016068af0f9141d198e7fdb0df1297fd",
       "version_major": 2,
       "version_minor": 0
      },
      "text/plain": [
       "  0%|          | 0/345 [00:00<?, ?it/s]"
      ]
     },
     "metadata": {},
     "output_type": "display_data"
    },
    {
     "data": {
      "application/vnd.jupyter.widget-view+json": {
       "model_id": "9bc2b498dee74382b5f9ac95f76e6f3e",
       "version_major": 2,
       "version_minor": 0
      },
      "text/plain": [
       "  0%|          | 0/11975 [00:00<?, ?it/s]"
      ]
     },
     "metadata": {},
     "output_type": "display_data"
    },
    {
     "data": {
      "application/vnd.jupyter.widget-view+json": {
       "model_id": "c9cbf6b55dc143baaa1664e18f8e8154",
       "version_major": 2,
       "version_minor": 0
      },
      "text/plain": [
       "  0%|          | 0/1617 [00:00<?, ?it/s]"
      ]
     },
     "metadata": {},
     "output_type": "display_data"
    },
    {
     "data": {
      "application/vnd.jupyter.widget-view+json": {
       "model_id": "5b2314c1e33540cfabec915f5ef05090",
       "version_major": 2,
       "version_minor": 0
      },
      "text/plain": [
       "  0%|          | 0/3629 [00:00<?, ?it/s]"
      ]
     },
     "metadata": {},
     "output_type": "display_data"
    },
    {
     "data": {
      "application/vnd.jupyter.widget-view+json": {
       "model_id": "ff9ee0a31452472f8327a8f0d93d303e",
       "version_major": 2,
       "version_minor": 0
      },
      "text/plain": [
       "  0%|          | 0/5030 [00:00<?, ?it/s]"
      ]
     },
     "metadata": {},
     "output_type": "display_data"
    },
    {
     "data": {
      "application/vnd.jupyter.widget-view+json": {
       "model_id": "487851940fc24d098162d9f6f97a75cc",
       "version_major": 2,
       "version_minor": 0
      },
      "text/plain": [
       "  0%|          | 0/322 [00:00<?, ?it/s]"
      ]
     },
     "metadata": {},
     "output_type": "display_data"
    },
    {
     "data": {
      "application/vnd.jupyter.widget-view+json": {
       "model_id": "e8ee731e2b944601933a99ce15c7b339",
       "version_major": 2,
       "version_minor": 0
      },
      "text/plain": [
       "  0%|          | 0/742 [00:00<?, ?it/s]"
      ]
     },
     "metadata": {},
     "output_type": "display_data"
    },
    {
     "data": {
      "application/vnd.jupyter.widget-view+json": {
       "model_id": "1e703eb177aa4c7e9d2af1e317dcaf0b",
       "version_major": 2,
       "version_minor": 0
      },
      "text/plain": [
       "  0%|          | 0/70 [00:00<?, ?it/s]"
      ]
     },
     "metadata": {},
     "output_type": "display_data"
    },
    {
     "data": {
      "application/vnd.jupyter.widget-view+json": {
       "model_id": "c65449f5550e47a4b0f89210512b06e0",
       "version_major": 2,
       "version_minor": 0
      },
      "text/plain": [
       "  0%|          | 0/23 [00:00<?, ?it/s]"
      ]
     },
     "metadata": {},
     "output_type": "display_data"
    },
    {
     "data": {
      "application/vnd.jupyter.widget-view+json": {
       "model_id": "450ddc75901542f9af93979dcd12a51a",
       "version_major": 2,
       "version_minor": 0
      },
      "text/plain": [
       "  0%|          | 0/2296 [00:00<?, ?it/s]"
      ]
     },
     "metadata": {},
     "output_type": "display_data"
    },
    {
     "data": {
      "application/vnd.jupyter.widget-view+json": {
       "model_id": "e157777908924535a22504db6218afd4",
       "version_major": 2,
       "version_minor": 0
      },
      "text/plain": [
       "  0%|          | 0/1559 [00:00<?, ?it/s]"
      ]
     },
     "metadata": {},
     "output_type": "display_data"
    },
    {
     "data": {
      "application/vnd.jupyter.widget-view+json": {
       "model_id": "1f46e498d57b4455b5cd1abbe9d18f46",
       "version_major": 2,
       "version_minor": 0
      },
      "text/plain": [
       "  0%|          | 0/59 [00:00<?, ?it/s]"
      ]
     },
     "metadata": {},
     "output_type": "display_data"
    },
    {
     "data": {
      "application/vnd.jupyter.widget-view+json": {
       "model_id": "92e1f574cffd4373aaf1a4a463b4d781",
       "version_major": 2,
       "version_minor": 0
      },
      "text/plain": [
       "  0%|          | 0/136 [00:00<?, ?it/s]"
      ]
     },
     "metadata": {},
     "output_type": "display_data"
    },
    {
     "data": {
      "application/vnd.jupyter.widget-view+json": {
       "model_id": "99ceea335a2149198c71f5bb839149e7",
       "version_major": 2,
       "version_minor": 0
      },
      "text/plain": [
       "  0%|          | 0/912 [00:00<?, ?it/s]"
      ]
     },
     "metadata": {},
     "output_type": "display_data"
    },
    {
     "data": {
      "application/vnd.jupyter.widget-view+json": {
       "model_id": "253bd872fccd44eb9235e3ea9c738e05",
       "version_major": 2,
       "version_minor": 0
      },
      "text/plain": [
       "  0%|          | 0/562 [00:00<?, ?it/s]"
      ]
     },
     "metadata": {},
     "output_type": "display_data"
    },
    {
     "data": {
      "application/vnd.jupyter.widget-view+json": {
       "model_id": "6d652dd525d14d67a5e34c27953ccac8",
       "version_major": 2,
       "version_minor": 0
      },
      "text/plain": [
       "  0%|          | 0/107 [00:00<?, ?it/s]"
      ]
     },
     "metadata": {},
     "output_type": "display_data"
    },
    {
     "data": {
      "application/vnd.jupyter.widget-view+json": {
       "model_id": "362fc0a885774bd09c0a6e0c9e423669",
       "version_major": 2,
       "version_minor": 0
      },
      "text/plain": [
       "  0%|          | 0/209 [00:00<?, ?it/s]"
      ]
     },
     "metadata": {},
     "output_type": "display_data"
    },
    {
     "data": {
      "application/vnd.jupyter.widget-view+json": {
       "model_id": "f75d110cc51c405491ef1ca41dacaf65",
       "version_major": 2,
       "version_minor": 0
      },
      "text/plain": [
       "  0%|          | 0/29 [00:00<?, ?it/s]"
      ]
     },
     "metadata": {},
     "output_type": "display_data"
    },
    {
     "data": {
      "application/vnd.jupyter.widget-view+json": {
       "model_id": "3c441592f7fb43d59aa0c8205c2deccb",
       "version_major": 2,
       "version_minor": 0
      },
      "text/plain": [
       "  0%|          | 0/24 [00:00<?, ?it/s]"
      ]
     },
     "metadata": {},
     "output_type": "display_data"
    },
    {
     "data": {
      "application/vnd.jupyter.widget-view+json": {
       "model_id": "4d02908b1d1f4f7295478e3646822c04",
       "version_major": 2,
       "version_minor": 0
      },
      "text/plain": [
       "  0%|          | 0/5 [00:00<?, ?it/s]"
      ]
     },
     "metadata": {},
     "output_type": "display_data"
    },
    {
     "data": {
      "application/vnd.jupyter.widget-view+json": {
       "model_id": "fd1d44b299a9403bbb40b067fb4825cd",
       "version_major": 2,
       "version_minor": 0
      },
      "text/plain": [
       "  0%|          | 0/2 [00:00<?, ?it/s]"
      ]
     },
     "metadata": {},
     "output_type": "display_data"
    }
   ],
   "source": [
    "segment_kNN_all.fit(train, segment_users, 'segm_all')"
   ]
  },
  {
   "cell_type": "code",
   "execution_count": 20,
   "id": "23411395",
   "metadata": {},
   "outputs": [],
   "source": [
    "segm_all_knn_recs = pd.concat([\n",
    "    segment_kNN_all.predict(test.iloc[:69174]),\n",
    "    segment_kNN_all.predict(test.iloc[69174:138349]),\n",
    "    segment_kNN_all.predict(test.iloc[138349:207524]),\n",
    "    segment_kNN_all.predict(test.iloc[207524:])\n",
    "])"
   ]
  },
  {
   "cell_type": "code",
   "execution_count": 21,
   "id": "4f41bf73",
   "metadata": {},
   "outputs": [
    {
     "data": {
      "text/plain": [
       "0.004599287035040938"
      ]
     },
     "execution_count": 21,
     "metadata": {},
     "output_type": "execute_result"
    }
   ],
   "source": [
    "metric.calc(segm_all_knn_recs, test)"
   ]
  },
  {
   "cell_type": "code",
   "execution_count": 22,
   "id": "2e2da6d9",
   "metadata": {},
   "outputs": [],
   "source": [
    "# custom segments\n",
    "segment_kNN_custom = SegmentKNN(\n",
    "    base_estimator=UserKnn,\n",
    "    sub_estimator=CosineRecommender,\n",
    ")"
   ]
  },
  {
   "cell_type": "code",
   "execution_count": 23,
   "id": "b8b5b43d",
   "metadata": {
    "scrolled": true
   },
   "outputs": [
    {
     "data": {
      "application/vnd.jupyter.widget-view+json": {
       "model_id": "423117df050d44c3bd5c193907c69dec",
       "version_major": 2,
       "version_minor": 0
      },
      "text/plain": [
       "  0%|          | 0/54595 [00:00<?, ?it/s]"
      ]
     },
     "metadata": {},
     "output_type": "display_data"
    },
    {
     "data": {
      "application/vnd.jupyter.widget-view+json": {
       "model_id": "b6db1844272547c9b9b7be804ef143b5",
       "version_major": 2,
       "version_minor": 0
      },
      "text/plain": [
       "  0%|          | 0/40529 [00:00<?, ?it/s]"
      ]
     },
     "metadata": {},
     "output_type": "display_data"
    },
    {
     "data": {
      "application/vnd.jupyter.widget-view+json": {
       "model_id": "7be94908e38b40f5896be4e655592285",
       "version_major": 2,
       "version_minor": 0
      },
      "text/plain": [
       "  0%|          | 0/1066 [00:00<?, ?it/s]"
      ]
     },
     "metadata": {},
     "output_type": "display_data"
    },
    {
     "data": {
      "application/vnd.jupyter.widget-view+json": {
       "model_id": "470b3fe362574b2d8699054733cbdce0",
       "version_major": 2,
       "version_minor": 0
      },
      "text/plain": [
       "  0%|          | 0/37044 [00:00<?, ?it/s]"
      ]
     },
     "metadata": {},
     "output_type": "display_data"
    },
    {
     "data": {
      "application/vnd.jupyter.widget-view+json": {
       "model_id": "e105d9482e0b420fb48b5a4961199017",
       "version_major": 2,
       "version_minor": 0
      },
      "text/plain": [
       "  0%|          | 0/44075 [00:00<?, ?it/s]"
      ]
     },
     "metadata": {},
     "output_type": "display_data"
    },
    {
     "data": {
      "application/vnd.jupyter.widget-view+json": {
       "model_id": "38b6ae580d794828bf4f07f8e8892ae2",
       "version_major": 2,
       "version_minor": 0
      },
      "text/plain": [
       "  0%|          | 0/3299 [00:00<?, ?it/s]"
      ]
     },
     "metadata": {},
     "output_type": "display_data"
    },
    {
     "data": {
      "application/vnd.jupyter.widget-view+json": {
       "model_id": "7707faa9679e4f5a9673106152110ca3",
       "version_major": 2,
       "version_minor": 0
      },
      "text/plain": [
       "  0%|          | 0/22680 [00:00<?, ?it/s]"
      ]
     },
     "metadata": {},
     "output_type": "display_data"
    },
    {
     "data": {
      "application/vnd.jupyter.widget-view+json": {
       "model_id": "da6f2c2fdfe64e76b55cb7c8f02b9fe9",
       "version_major": 2,
       "version_minor": 0
      },
      "text/plain": [
       "  0%|          | 0/13848 [00:00<?, ?it/s]"
      ]
     },
     "metadata": {},
     "output_type": "display_data"
    },
    {
     "data": {
      "application/vnd.jupyter.widget-view+json": {
       "model_id": "10b1b02199854eabb9bc85fc022d8639",
       "version_major": 2,
       "version_minor": 0
      },
      "text/plain": [
       "  0%|          | 0/420 [00:00<?, ?it/s]"
      ]
     },
     "metadata": {},
     "output_type": "display_data"
    },
    {
     "data": {
      "application/vnd.jupyter.widget-view+json": {
       "model_id": "4bd4f488b58f4875bb2fe55018265c97",
       "version_major": 2,
       "version_minor": 0
      },
      "text/plain": [
       "  0%|          | 0/16590 [00:00<?, ?it/s]"
      ]
     },
     "metadata": {},
     "output_type": "display_data"
    },
    {
     "data": {
      "application/vnd.jupyter.widget-view+json": {
       "model_id": "d746c00e0adc4971b902769e3c6bee49",
       "version_major": 2,
       "version_minor": 0
      },
      "text/plain": [
       "  0%|          | 0/15681 [00:00<?, ?it/s]"
      ]
     },
     "metadata": {},
     "output_type": "display_data"
    },
    {
     "data": {
      "application/vnd.jupyter.widget-view+json": {
       "model_id": "d7117ef61f4e4670bf282bb1d4f098d5",
       "version_major": 2,
       "version_minor": 0
      },
      "text/plain": [
       "  0%|          | 0/589 [00:00<?, ?it/s]"
      ]
     },
     "metadata": {},
     "output_type": "display_data"
    },
    {
     "data": {
      "application/vnd.jupyter.widget-view+json": {
       "model_id": "3341c38b9ed443ae9ecb96157a5b3d31",
       "version_major": 2,
       "version_minor": 0
      },
      "text/plain": [
       "  0%|          | 0/24349 [00:00<?, ?it/s]"
      ]
     },
     "metadata": {},
     "output_type": "display_data"
    },
    {
     "data": {
      "application/vnd.jupyter.widget-view+json": {
       "model_id": "57c9688edf114e63ae1a3aa895173fea",
       "version_major": 2,
       "version_minor": 0
      },
      "text/plain": [
       "  0%|          | 0/38993 [00:00<?, ?it/s]"
      ]
     },
     "metadata": {},
     "output_type": "display_data"
    },
    {
     "data": {
      "application/vnd.jupyter.widget-view+json": {
       "model_id": "465408a2f5d14c3f978c78ac8576d7e0",
       "version_major": 2,
       "version_minor": 0
      },
      "text/plain": [
       "  0%|          | 0/2687 [00:00<?, ?it/s]"
      ]
     },
     "metadata": {},
     "output_type": "display_data"
    },
    {
     "data": {
      "application/vnd.jupyter.widget-view+json": {
       "model_id": "5981264f428c4152a66e817092dbff86",
       "version_major": 2,
       "version_minor": 0
      },
      "text/plain": [
       "  0%|          | 0/2514 [00:00<?, ?it/s]"
      ]
     },
     "metadata": {},
     "output_type": "display_data"
    },
    {
     "data": {
      "application/vnd.jupyter.widget-view+json": {
       "model_id": "dfbf3fe1c62c4e51b162d1fa7699e4e7",
       "version_major": 2,
       "version_minor": 0
      },
      "text/plain": [
       "  0%|          | 0/2666 [00:00<?, ?it/s]"
      ]
     },
     "metadata": {},
     "output_type": "display_data"
    },
    {
     "data": {
      "application/vnd.jupyter.widget-view+json": {
       "model_id": "c19101af972842b1918150ee41a9b091",
       "version_major": 2,
       "version_minor": 0
      },
      "text/plain": [
       "  0%|          | 0/152 [00:00<?, ?it/s]"
      ]
     },
     "metadata": {},
     "output_type": "display_data"
    },
    {
     "data": {
      "application/vnd.jupyter.widget-view+json": {
       "model_id": "b0efe0e49d3c4c79a85ba72b4d4f24c3",
       "version_major": 2,
       "version_minor": 0
      },
      "text/plain": [
       "  0%|          | 0/91006 [00:00<?, ?it/s]"
      ]
     },
     "metadata": {},
     "output_type": "display_data"
    },
    {
     "data": {
      "application/vnd.jupyter.widget-view+json": {
       "model_id": "0e62c88297a34118a0857ddb490541ff",
       "version_major": 2,
       "version_minor": 0
      },
      "text/plain": [
       "  0%|          | 0/31825 [00:00<?, ?it/s]"
      ]
     },
     "metadata": {},
     "output_type": "display_data"
    },
    {
     "data": {
      "application/vnd.jupyter.widget-view+json": {
       "model_id": "031ac09582fb41aa9d691a2a2c7a1a81",
       "version_major": 2,
       "version_minor": 0
      },
      "text/plain": [
       "  0%|          | 0/1184 [00:00<?, ?it/s]"
      ]
     },
     "metadata": {},
     "output_type": "display_data"
    },
    {
     "data": {
      "application/vnd.jupyter.widget-view+json": {
       "model_id": "ea904a16a7f04f53badeace2ae744836",
       "version_major": 2,
       "version_minor": 0
      },
      "text/plain": [
       "  0%|          | 0/44251 [00:00<?, ?it/s]"
      ]
     },
     "metadata": {},
     "output_type": "display_data"
    },
    {
     "data": {
      "application/vnd.jupyter.widget-view+json": {
       "model_id": "155f79ede74b43f29e313b30b5510240",
       "version_major": 2,
       "version_minor": 0
      },
      "text/plain": [
       "  0%|          | 0/26118 [00:00<?, ?it/s]"
      ]
     },
     "metadata": {},
     "output_type": "display_data"
    },
    {
     "data": {
      "application/vnd.jupyter.widget-view+json": {
       "model_id": "a47a942ba36f42c195d277e63fa6ab51",
       "version_major": 2,
       "version_minor": 0
      },
      "text/plain": [
       "  0%|          | 0/1553 [00:00<?, ?it/s]"
      ]
     },
     "metadata": {},
     "output_type": "display_data"
    },
    {
     "data": {
      "application/vnd.jupyter.widget-view+json": {
       "model_id": "08dbd27cb71f4c6ea9b24686fc922885",
       "version_major": 2,
       "version_minor": 0
      },
      "text/plain": [
       "  0%|          | 0/30300 [00:00<?, ?it/s]"
      ]
     },
     "metadata": {},
     "output_type": "display_data"
    },
    {
     "data": {
      "application/vnd.jupyter.widget-view+json": {
       "model_id": "73cb9f5de74d40578ae5d66595c9d514",
       "version_major": 2,
       "version_minor": 0
      },
      "text/plain": [
       "  0%|          | 0/9315 [00:00<?, ?it/s]"
      ]
     },
     "metadata": {},
     "output_type": "display_data"
    },
    {
     "data": {
      "application/vnd.jupyter.widget-view+json": {
       "model_id": "2ae2e487802f4f9c9e1cdd436c60517a",
       "version_major": 2,
       "version_minor": 0
      },
      "text/plain": [
       "  0%|          | 0/240 [00:00<?, ?it/s]"
      ]
     },
     "metadata": {},
     "output_type": "display_data"
    },
    {
     "data": {
      "application/vnd.jupyter.widget-view+json": {
       "model_id": "3af9f30c78c447a08f7ad001bcfa3b6f",
       "version_major": 2,
       "version_minor": 0
      },
      "text/plain": [
       "  0%|          | 0/27732 [00:00<?, ?it/s]"
      ]
     },
     "metadata": {},
     "output_type": "display_data"
    },
    {
     "data": {
      "application/vnd.jupyter.widget-view+json": {
       "model_id": "b832803ebd714d6ea7353089d300bcbc",
       "version_major": 2,
       "version_minor": 0
      },
      "text/plain": [
       "  0%|          | 0/12631 [00:00<?, ?it/s]"
      ]
     },
     "metadata": {},
     "output_type": "display_data"
    },
    {
     "data": {
      "application/vnd.jupyter.widget-view+json": {
       "model_id": "d93629ee1855405f964be2912c0abaa3",
       "version_major": 2,
       "version_minor": 0
      },
      "text/plain": [
       "  0%|          | 0/444 [00:00<?, ?it/s]"
      ]
     },
     "metadata": {},
     "output_type": "display_data"
    },
    {
     "data": {
      "application/vnd.jupyter.widget-view+json": {
       "model_id": "08f17db39b434ee99b7f573d9a28c71a",
       "version_major": 2,
       "version_minor": 0
      },
      "text/plain": [
       "  0%|          | 0/29852 [00:00<?, ?it/s]"
      ]
     },
     "metadata": {},
     "output_type": "display_data"
    },
    {
     "data": {
      "application/vnd.jupyter.widget-view+json": {
       "model_id": "9f10261faaff4a3289d4da725212ece3",
       "version_major": 2,
       "version_minor": 0
      },
      "text/plain": [
       "  0%|          | 0/22251 [00:00<?, ?it/s]"
      ]
     },
     "metadata": {},
     "output_type": "display_data"
    },
    {
     "data": {
      "application/vnd.jupyter.widget-view+json": {
       "model_id": "5f5cfb32cd0a4ea593a925b95b86490c",
       "version_major": 2,
       "version_minor": 0
      },
      "text/plain": [
       "  0%|          | 0/1157 [00:00<?, ?it/s]"
      ]
     },
     "metadata": {},
     "output_type": "display_data"
    },
    {
     "data": {
      "application/vnd.jupyter.widget-view+json": {
       "model_id": "5d66e558f98949e39f1dce84bcb333bf",
       "version_major": 2,
       "version_minor": 0
      },
      "text/plain": [
       "  0%|          | 0/4050 [00:00<?, ?it/s]"
      ]
     },
     "metadata": {},
     "output_type": "display_data"
    },
    {
     "data": {
      "application/vnd.jupyter.widget-view+json": {
       "model_id": "f37ed9d414cb45b0898caaf159f3f313",
       "version_major": 2,
       "version_minor": 0
      },
      "text/plain": [
       "  0%|          | 0/1790 [00:00<?, ?it/s]"
      ]
     },
     "metadata": {},
     "output_type": "display_data"
    },
    {
     "data": {
      "application/vnd.jupyter.widget-view+json": {
       "model_id": "6e0df49c470749c4864f431f7c148a1e",
       "version_major": 2,
       "version_minor": 0
      },
      "text/plain": [
       "  0%|          | 0/60 [00:00<?, ?it/s]"
      ]
     },
     "metadata": {},
     "output_type": "display_data"
    }
   ],
   "source": [
    "segment_kNN_custom.fit(train, segment_users, 'segm_custom')"
   ]
  },
  {
   "cell_type": "code",
   "execution_count": 24,
   "id": "d42d97ee",
   "metadata": {},
   "outputs": [],
   "source": [
    "segm_custom_knn_recs = pd.concat([\n",
    "    segment_kNN_custom.predict(test.iloc[:69174]),\n",
    "    segment_kNN_custom.predict(test.iloc[69174:138349]),\n",
    "    segment_kNN_custom.predict(test.iloc[138349:207524]),\n",
    "    segment_kNN_custom.predict(test.iloc[207524:])\n",
    "])"
   ]
  },
  {
   "cell_type": "code",
   "execution_count": 25,
   "id": "c48cc0e7",
   "metadata": {},
   "outputs": [
    {
     "data": {
      "text/plain": [
       "0.004437599162475825"
      ]
     },
     "execution_count": 25,
     "metadata": {},
     "output_type": "execute_result"
    }
   ],
   "source": [
    "metric.calc(segm_custom_knn_recs, test)"
   ]
  },
  {
   "cell_type": "code",
   "execution_count": 26,
   "id": "77dab50d",
   "metadata": {},
   "outputs": [],
   "source": [
    "# sex segments\n",
    "segment_kNN_sex = SegmentKNN(\n",
    "    base_estimator=UserKnn,\n",
    "    sub_estimator=CosineRecommender,\n",
    ")"
   ]
  },
  {
   "cell_type": "code",
   "execution_count": 27,
   "id": "71771b13",
   "metadata": {},
   "outputs": [
    {
     "data": {
      "application/vnd.jupyter.widget-view+json": {
       "model_id": "f06b1e2742f146c7890d1f9f948a3579",
       "version_major": 2,
       "version_minor": 0
      },
      "text/plain": [
       "  0%|          | 0/321777 [00:00<?, ?it/s]"
      ]
     },
     "metadata": {},
     "output_type": "display_data"
    },
    {
     "data": {
      "application/vnd.jupyter.widget-view+json": {
       "model_id": "03fecb2cd97d49258bc385f40b95ab5a",
       "version_major": 2,
       "version_minor": 0
      },
      "text/plain": [
       "  0%|          | 0/335759 [00:00<?, ?it/s]"
      ]
     },
     "metadata": {},
     "output_type": "display_data"
    }
   ],
   "source": [
    "segment_kNN_sex.fit(train, segment_users, 'segm_sex')"
   ]
  },
  {
   "cell_type": "code",
   "execution_count": 28,
   "id": "9968975c",
   "metadata": {},
   "outputs": [],
   "source": [
    "segm_sex_knn_recs = pd.concat([\n",
    "    segment_kNN_sex.predict(test.iloc[:69174]),\n",
    "    segment_kNN_sex.predict(test.iloc[69174:138349]),\n",
    "    segment_kNN_sex.predict(test.iloc[138349:207524]),\n",
    "    segment_kNN_sex.predict(test.iloc[207524:])\n",
    "])"
   ]
  },
  {
   "cell_type": "code",
   "execution_count": 29,
   "id": "dfcdbec8",
   "metadata": {},
   "outputs": [
    {
     "data": {
      "text/plain": [
       "0.003987131389167915"
      ]
     },
     "execution_count": 29,
     "metadata": {},
     "output_type": "execute_result"
    }
   ],
   "source": [
    "metric.calc(segm_sex_knn_recs, test)"
   ]
  },
  {
   "cell_type": "code",
   "execution_count": 30,
   "id": "0d3a4b08",
   "metadata": {},
   "outputs": [],
   "source": [
    "# kids segments\n",
    "segment_kNN_kids = SegmentKNN(\n",
    "    base_estimator=UserKnn,\n",
    "    sub_estimator=CosineRecommender,\n",
    ")"
   ]
  },
  {
   "cell_type": "code",
   "execution_count": 31,
   "id": "f3e90844",
   "metadata": {},
   "outputs": [
    {
     "data": {
      "application/vnd.jupyter.widget-view+json": {
       "model_id": "f8988a7183154c53baadec77d4350a4e",
       "version_major": 2,
       "version_minor": 0
      },
      "text/plain": [
       "  0%|          | 0/217556 [00:00<?, ?it/s]"
      ]
     },
     "metadata": {},
     "output_type": "display_data"
    },
    {
     "data": {
      "application/vnd.jupyter.widget-view+json": {
       "model_id": "cafa55c89a09427a9a694874a320c7e3",
       "version_major": 2,
       "version_minor": 0
      },
      "text/plain": [
       "  0%|          | 0/104221 [00:00<?, ?it/s]"
      ]
     },
     "metadata": {},
     "output_type": "display_data"
    },
    {
     "data": {
      "application/vnd.jupyter.widget-view+json": {
       "model_id": "65845c363dac4d75953c5ec69ca0492c",
       "version_major": 2,
       "version_minor": 0
      },
      "text/plain": [
       "  0%|          | 0/235792 [00:00<?, ?it/s]"
      ]
     },
     "metadata": {},
     "output_type": "display_data"
    },
    {
     "data": {
      "application/vnd.jupyter.widget-view+json": {
       "model_id": "56dc0b4fb5164bafadb349d035c87da5",
       "version_major": 2,
       "version_minor": 0
      },
      "text/plain": [
       "  0%|          | 0/99967 [00:00<?, ?it/s]"
      ]
     },
     "metadata": {},
     "output_type": "display_data"
    }
   ],
   "source": [
    "segment_kNN_kids.fit(train, segment_users, 'segm_kids')"
   ]
  },
  {
   "cell_type": "code",
   "execution_count": 32,
   "id": "ec1113b6",
   "metadata": {},
   "outputs": [],
   "source": [
    "segm_kids_knn_recs = pd.concat([\n",
    "    segment_kNN_kids.predict(test.iloc[:69174]),\n",
    "    segment_kNN_kids.predict(test.iloc[69174:138349]),\n",
    "    segment_kNN_kids.predict(test.iloc[138349:207524]),\n",
    "    segment_kNN_kids.predict(test.iloc[207524:])\n",
    "])"
   ]
  },
  {
   "cell_type": "code",
   "execution_count": 33,
   "id": "d0fcb5b6",
   "metadata": {},
   "outputs": [
    {
     "data": {
      "text/plain": [
       "0.004043987192002653"
      ]
     },
     "execution_count": 33,
     "metadata": {},
     "output_type": "execute_result"
    }
   ],
   "source": [
    "metric.calc(segm_kids_knn_recs, test)"
   ]
  },
  {
   "cell_type": "markdown",
   "id": "386cbe28",
   "metadata": {},
   "source": [
    "#### kNN с дополнением популярным"
   ]
  },
  {
   "cell_type": "code",
   "execution_count": 34,
   "id": "754da624",
   "metadata": {},
   "outputs": [],
   "source": [
    "# all segments\n",
    "base_estimator_kwargs = {'pop_items': items_pop_ordered}\n",
    "sub_estimators_predict_kwargs = {'complete_method': 'popular'}\n",
    "\n",
    "segment_pop_kNN_all = SegmentKNN(\n",
    "    base_estimator=UserKnnComplete,\n",
    "    sub_estimator=CosineRecommender,\n",
    "    base_estimator_kwargs=base_estimator_kwargs,\n",
    "    sub_estimators_predict_kwargs=sub_estimators_predict_kwargs\n",
    ")"
   ]
  },
  {
   "cell_type": "code",
   "execution_count": 35,
   "id": "0478bb35",
   "metadata": {
    "scrolled": true
   },
   "outputs": [
    {
     "data": {
      "application/vnd.jupyter.widget-view+json": {
       "model_id": "58e76c47d1904601bd26404e6eb0c368",
       "version_major": 2,
       "version_minor": 0
      },
      "text/plain": [
       "  0%|          | 0/20698 [00:00<?, ?it/s]"
      ]
     },
     "metadata": {},
     "output_type": "display_data"
    },
    {
     "data": {
      "application/vnd.jupyter.widget-view+json": {
       "model_id": "3306778afadf462185963f47a6db6cf4",
       "version_major": 2,
       "version_minor": 0
      },
      "text/plain": [
       "  0%|          | 0/735 [00:00<?, ?it/s]"
      ]
     },
     "metadata": {},
     "output_type": "display_data"
    },
    {
     "data": {
      "application/vnd.jupyter.widget-view+json": {
       "model_id": "da8affb8600c416a8eca1ca3dd67fc77",
       "version_major": 2,
       "version_minor": 0
      },
      "text/plain": [
       "  0%|          | 0/31727 [00:00<?, ?it/s]"
      ]
     },
     "metadata": {},
     "output_type": "display_data"
    },
    {
     "data": {
      "application/vnd.jupyter.widget-view+json": {
       "model_id": "492a67df120d4c37a4270f9328d3a227",
       "version_major": 2,
       "version_minor": 0
      },
      "text/plain": [
       "  0%|          | 0/1435 [00:00<?, ?it/s]"
      ]
     },
     "metadata": {},
     "output_type": "display_data"
    },
    {
     "data": {
      "application/vnd.jupyter.widget-view+json": {
       "model_id": "f000ad56574c4c5b8c4d495ec4f8871a",
       "version_major": 2,
       "version_minor": 0
      },
      "text/plain": [
       "  0%|          | 0/27473 [00:00<?, ?it/s]"
      ]
     },
     "metadata": {},
     "output_type": "display_data"
    },
    {
     "data": {
      "application/vnd.jupyter.widget-view+json": {
       "model_id": "5ded4ffb8f1b4bdd92946506d6b44723",
       "version_major": 2,
       "version_minor": 0
      },
      "text/plain": [
       "  0%|          | 0/5651 [00:00<?, ?it/s]"
      ]
     },
     "metadata": {},
     "output_type": "display_data"
    },
    {
     "data": {
      "application/vnd.jupyter.widget-view+json": {
       "model_id": "287c7e65be8343f182f8f8d97cb97ebc",
       "version_major": 2,
       "version_minor": 0
      },
      "text/plain": [
       "  0%|          | 0/6621 [00:00<?, ?it/s]"
      ]
     },
     "metadata": {},
     "output_type": "display_data"
    },
    {
     "data": {
      "application/vnd.jupyter.widget-view+json": {
       "model_id": "885d024426f24ba3a4db87078b9d3bd7",
       "version_major": 2,
       "version_minor": 0
      },
      "text/plain": [
       "  0%|          | 0/784 [00:00<?, ?it/s]"
      ]
     },
     "metadata": {},
     "output_type": "display_data"
    },
    {
     "data": {
      "application/vnd.jupyter.widget-view+json": {
       "model_id": "4b1f28d52c874d919b4ca521f83e4414",
       "version_major": 2,
       "version_minor": 0
      },
      "text/plain": [
       "  0%|          | 0/967 [00:00<?, ?it/s]"
      ]
     },
     "metadata": {},
     "output_type": "display_data"
    },
    {
     "data": {
      "application/vnd.jupyter.widget-view+json": {
       "model_id": "8bce9bd6c6ca4adf8e8e4e373f8c372c",
       "version_major": 2,
       "version_minor": 0
      },
      "text/plain": [
       "  0%|          | 0/58 [00:00<?, ?it/s]"
      ]
     },
     "metadata": {},
     "output_type": "display_data"
    },
    {
     "data": {
      "application/vnd.jupyter.widget-view+json": {
       "model_id": "20a8daf80b6c47e19b273aad16f66f89",
       "version_major": 2,
       "version_minor": 0
      },
      "text/plain": [
       "  0%|          | 0/39 [00:00<?, ?it/s]"
      ]
     },
     "metadata": {},
     "output_type": "display_data"
    },
    {
     "data": {
      "application/vnd.jupyter.widget-view+json": {
       "model_id": "e27046b83f4740feb62fdf455728c0cf",
       "version_major": 2,
       "version_minor": 0
      },
      "text/plain": [
       "  0%|          | 0/2 [00:00<?, ?it/s]"
      ]
     },
     "metadata": {},
     "output_type": "display_data"
    },
    {
     "data": {
      "application/vnd.jupyter.widget-view+json": {
       "model_id": "58566700d8fa436881d44ee4a6c29fe3",
       "version_major": 2,
       "version_minor": 0
      },
      "text/plain": [
       "  0%|          | 0/19422 [00:00<?, ?it/s]"
      ]
     },
     "metadata": {},
     "output_type": "display_data"
    },
    {
     "data": {
      "application/vnd.jupyter.widget-view+json": {
       "model_id": "f77e1f19a998467a8a3e548cd6b93b9f",
       "version_major": 2,
       "version_minor": 0
      },
      "text/plain": [
       "  0%|          | 0/16993 [00:00<?, ?it/s]"
      ]
     },
     "metadata": {},
     "output_type": "display_data"
    },
    {
     "data": {
      "application/vnd.jupyter.widget-view+json": {
       "model_id": "0c251c632ab14a879508813c4b39385a",
       "version_major": 2,
       "version_minor": 0
      },
      "text/plain": [
       "  0%|          | 0/347 [00:00<?, ?it/s]"
      ]
     },
     "metadata": {},
     "output_type": "display_data"
    },
    {
     "data": {
      "application/vnd.jupyter.widget-view+json": {
       "model_id": "04126503efc74ee2a19a3dd9ba001d3a",
       "version_major": 2,
       "version_minor": 0
      },
      "text/plain": [
       "  0%|          | 0/282 [00:00<?, ?it/s]"
      ]
     },
     "metadata": {},
     "output_type": "display_data"
    },
    {
     "data": {
      "application/vnd.jupyter.widget-view+json": {
       "model_id": "6feb9f26fb7d4925b5a2f2d0156e9d27",
       "version_major": 2,
       "version_minor": 0
      },
      "text/plain": [
       "  0%|          | 0/5347 [00:00<?, ?it/s]"
      ]
     },
     "metadata": {},
     "output_type": "display_data"
    },
    {
     "data": {
      "application/vnd.jupyter.widget-view+json": {
       "model_id": "098a03af27a6490fb4fdd6c93dff94b2",
       "version_major": 2,
       "version_minor": 0
      },
      "text/plain": [
       "  0%|          | 0/17558 [00:00<?, ?it/s]"
      ]
     },
     "metadata": {},
     "output_type": "display_data"
    },
    {
     "data": {
      "application/vnd.jupyter.widget-view+json": {
       "model_id": "c3b20784e2b34146b9c0855b86b3c4ef",
       "version_major": 2,
       "version_minor": 0
      },
      "text/plain": [
       "  0%|          | 0/15256 [00:00<?, ?it/s]"
      ]
     },
     "metadata": {},
     "output_type": "display_data"
    },
    {
     "data": {
      "application/vnd.jupyter.widget-view+json": {
       "model_id": "c19cbb04580d4219b13f77874fdfb6fd",
       "version_major": 2,
       "version_minor": 0
      },
      "text/plain": [
       "  0%|          | 0/5914 [00:00<?, ?it/s]"
      ]
     },
     "metadata": {},
     "output_type": "display_data"
    },
    {
     "data": {
      "application/vnd.jupyter.widget-view+json": {
       "model_id": "ab40337c9ffa4fe783d2625f491fc4e3",
       "version_major": 2,
       "version_minor": 0
      },
      "text/plain": [
       "  0%|          | 0/1803 [00:00<?, ?it/s]"
      ]
     },
     "metadata": {},
     "output_type": "display_data"
    },
    {
     "data": {
      "application/vnd.jupyter.widget-view+json": {
       "model_id": "84f408f64e9e48c0a809bd5f3509c8f0",
       "version_major": 2,
       "version_minor": 0
      },
      "text/plain": [
       "  0%|          | 0/120 [00:00<?, ?it/s]"
      ]
     },
     "metadata": {},
     "output_type": "display_data"
    },
    {
     "data": {
      "application/vnd.jupyter.widget-view+json": {
       "model_id": "9cd06a1c3c504851b862c8db26cfac7e",
       "version_major": 2,
       "version_minor": 0
      },
      "text/plain": [
       "  0%|          | 0/1252 [00:00<?, ?it/s]"
      ]
     },
     "metadata": {},
     "output_type": "display_data"
    },
    {
     "data": {
      "application/vnd.jupyter.widget-view+json": {
       "model_id": "ed9f014383c44333b420448625cd4cba",
       "version_major": 2,
       "version_minor": 0
      },
      "text/plain": [
       "  0%|          | 0/124 [00:00<?, ?it/s]"
      ]
     },
     "metadata": {},
     "output_type": "display_data"
    },
    {
     "data": {
      "application/vnd.jupyter.widget-view+json": {
       "model_id": "df05dd487bab43c2a409d1a3ff896192",
       "version_major": 2,
       "version_minor": 0
      },
      "text/plain": [
       "  0%|          | 0/12974 [00:00<?, ?it/s]"
      ]
     },
     "metadata": {},
     "output_type": "display_data"
    },
    {
     "data": {
      "application/vnd.jupyter.widget-view+json": {
       "model_id": "f270030a88714479b44bdc2b7b4dbd7b",
       "version_major": 2,
       "version_minor": 0
      },
      "text/plain": [
       "  0%|          | 0/9293 [00:00<?, ?it/s]"
      ]
     },
     "metadata": {},
     "output_type": "display_data"
    },
    {
     "data": {
      "application/vnd.jupyter.widget-view+json": {
       "model_id": "9af625b466d942869f74ff61f3363f12",
       "version_major": 2,
       "version_minor": 0
      },
      "text/plain": [
       "  0%|          | 0/206 [00:00<?, ?it/s]"
      ]
     },
     "metadata": {},
     "output_type": "display_data"
    },
    {
     "data": {
      "application/vnd.jupyter.widget-view+json": {
       "model_id": "baf71279f9a44616bbe71d9820da5fe4",
       "version_major": 2,
       "version_minor": 0
      },
      "text/plain": [
       "  0%|          | 0/207 [00:00<?, ?it/s]"
      ]
     },
     "metadata": {},
     "output_type": "display_data"
    },
    {
     "data": {
      "application/vnd.jupyter.widget-view+json": {
       "model_id": "1130cc2fdaf54c5c8575af8c595851eb",
       "version_major": 2,
       "version_minor": 0
      },
      "text/plain": [
       "  0%|          | 0/7160 [00:00<?, ?it/s]"
      ]
     },
     "metadata": {},
     "output_type": "display_data"
    },
    {
     "data": {
      "application/vnd.jupyter.widget-view+json": {
       "model_id": "e45644dfc5234bd2890ac4fb9cc03376",
       "version_major": 2,
       "version_minor": 0
      },
      "text/plain": [
       "  0%|          | 0/4237 [00:00<?, ?it/s]"
      ]
     },
     "metadata": {},
     "output_type": "display_data"
    },
    {
     "data": {
      "application/vnd.jupyter.widget-view+json": {
       "model_id": "1505e8a62b1345c1a128e0de4c5b70b5",
       "version_major": 2,
       "version_minor": 0
      },
      "text/plain": [
       "  0%|          | 0/837 [00:00<?, ?it/s]"
      ]
     },
     "metadata": {},
     "output_type": "display_data"
    },
    {
     "data": {
      "application/vnd.jupyter.widget-view+json": {
       "model_id": "8c252da1f5fe4f7cb5b734592aebcf61",
       "version_major": 2,
       "version_minor": 0
      },
      "text/plain": [
       "  0%|          | 0/1614 [00:00<?, ?it/s]"
      ]
     },
     "metadata": {},
     "output_type": "display_data"
    },
    {
     "data": {
      "application/vnd.jupyter.widget-view+json": {
       "model_id": "43b78237e45643949e8e460e0eb88006",
       "version_major": 2,
       "version_minor": 0
      },
      "text/plain": [
       "  0%|          | 0/252 [00:00<?, ?it/s]"
      ]
     },
     "metadata": {},
     "output_type": "display_data"
    },
    {
     "data": {
      "application/vnd.jupyter.widget-view+json": {
       "model_id": "2d0607fda38541a6b026a33cab3d6f5d",
       "version_major": 2,
       "version_minor": 0
      },
      "text/plain": [
       "  0%|          | 0/123 [00:00<?, ?it/s]"
      ]
     },
     "metadata": {},
     "output_type": "display_data"
    },
    {
     "data": {
      "application/vnd.jupyter.widget-view+json": {
       "model_id": "241d034dcdce4a19b4bb46647abad23d",
       "version_major": 2,
       "version_minor": 0
      },
      "text/plain": [
       "  0%|          | 0/20 [00:00<?, ?it/s]"
      ]
     },
     "metadata": {},
     "output_type": "display_data"
    },
    {
     "data": {
      "application/vnd.jupyter.widget-view+json": {
       "model_id": "3f1a8f970a3a4573b5b82af532c906a0",
       "version_major": 2,
       "version_minor": 0
      },
      "text/plain": [
       "  0%|          | 0/25 [00:00<?, ?it/s]"
      ]
     },
     "metadata": {},
     "output_type": "display_data"
    },
    {
     "data": {
      "application/vnd.jupyter.widget-view+json": {
       "model_id": "c8308da3784344fcb6ccef9d10e08ae8",
       "version_major": 2,
       "version_minor": 0
      },
      "text/plain": [
       "  0%|          | 0/12009 [00:00<?, ?it/s]"
      ]
     },
     "metadata": {},
     "output_type": "display_data"
    },
    {
     "data": {
      "application/vnd.jupyter.widget-view+json": {
       "model_id": "faaf6b24a10a41e085281e72c39e380f",
       "version_major": 2,
       "version_minor": 0
      },
      "text/plain": [
       "  0%|          | 0/4005 [00:00<?, ?it/s]"
      ]
     },
     "metadata": {},
     "output_type": "display_data"
    },
    {
     "data": {
      "application/vnd.jupyter.widget-view+json": {
       "model_id": "e7dd2def299c429b9b758983b15d8bdd",
       "version_major": 2,
       "version_minor": 0
      },
      "text/plain": [
       "  0%|          | 0/258 [00:00<?, ?it/s]"
      ]
     },
     "metadata": {},
     "output_type": "display_data"
    },
    {
     "data": {
      "application/vnd.jupyter.widget-view+json": {
       "model_id": "d1916c4fa71b49a5a6d3e28eb3283790",
       "version_major": 2,
       "version_minor": 0
      },
      "text/plain": [
       "  0%|          | 0/318 [00:00<?, ?it/s]"
      ]
     },
     "metadata": {},
     "output_type": "display_data"
    },
    {
     "data": {
      "application/vnd.jupyter.widget-view+json": {
       "model_id": "33831f9f6c7942eea110490b32b6b1f7",
       "version_major": 2,
       "version_minor": 0
      },
      "text/plain": [
       "  0%|          | 0/3255 [00:00<?, ?it/s]"
      ]
     },
     "metadata": {},
     "output_type": "display_data"
    },
    {
     "data": {
      "application/vnd.jupyter.widget-view+json": {
       "model_id": "b7bc32f9fac04075a69e1c8827074492",
       "version_major": 2,
       "version_minor": 0
      },
      "text/plain": [
       "  0%|          | 0/10644 [00:00<?, ?it/s]"
      ]
     },
     "metadata": {},
     "output_type": "display_data"
    },
    {
     "data": {
      "application/vnd.jupyter.widget-view+json": {
       "model_id": "9bcff469a6a9433daa6b69a1a5dc2c66",
       "version_major": 2,
       "version_minor": 0
      },
      "text/plain": [
       "  0%|          | 0/1576 [00:00<?, ?it/s]"
      ]
     },
     "metadata": {},
     "output_type": "display_data"
    },
    {
     "data": {
      "application/vnd.jupyter.widget-view+json": {
       "model_id": "7c922628b6924eb0bb81cf0e429afaf4",
       "version_major": 2,
       "version_minor": 0
      },
      "text/plain": [
       "  0%|          | 0/206 [00:00<?, ?it/s]"
      ]
     },
     "metadata": {},
     "output_type": "display_data"
    },
    {
     "data": {
      "application/vnd.jupyter.widget-view+json": {
       "model_id": "986d91229a764be2934d7a22e3d3918a",
       "version_major": 2,
       "version_minor": 0
      },
      "text/plain": [
       "  0%|          | 0/556 [00:00<?, ?it/s]"
      ]
     },
     "metadata": {},
     "output_type": "display_data"
    },
    {
     "data": {
      "application/vnd.jupyter.widget-view+json": {
       "model_id": "2953c97537b942c5ad276d8ed786ad87",
       "version_major": 2,
       "version_minor": 0
      },
      "text/plain": [
       "  0%|          | 0/17 [00:00<?, ?it/s]"
      ]
     },
     "metadata": {},
     "output_type": "display_data"
    },
    {
     "data": {
      "application/vnd.jupyter.widget-view+json": {
       "model_id": "bd4cd264915348e284a949fc2c82d4fa",
       "version_major": 2,
       "version_minor": 0
      },
      "text/plain": [
       "  0%|          | 0/16 [00:00<?, ?it/s]"
      ]
     },
     "metadata": {},
     "output_type": "display_data"
    },
    {
     "data": {
      "application/vnd.jupyter.widget-view+json": {
       "model_id": "3fa21b54f331467a86aec2b9f6deb2d8",
       "version_major": 2,
       "version_minor": 0
      },
      "text/plain": [
       "  0%|          | 0/16728 [00:00<?, ?it/s]"
      ]
     },
     "metadata": {},
     "output_type": "display_data"
    },
    {
     "data": {
      "application/vnd.jupyter.widget-view+json": {
       "model_id": "3db683ab269d460e97d23f75bc997d03",
       "version_major": 2,
       "version_minor": 0
      },
      "text/plain": [
       "  0%|          | 0/7306 [00:00<?, ?it/s]"
      ]
     },
     "metadata": {},
     "output_type": "display_data"
    },
    {
     "data": {
      "application/vnd.jupyter.widget-view+json": {
       "model_id": "fdd7c4fc705c4a809bac891eab4247ac",
       "version_major": 2,
       "version_minor": 0
      },
      "text/plain": [
       "  0%|          | 0/228 [00:00<?, ?it/s]"
      ]
     },
     "metadata": {},
     "output_type": "display_data"
    },
    {
     "data": {
      "application/vnd.jupyter.widget-view+json": {
       "model_id": "c5a0d2b3fee24b95abbb7b91ef2f609f",
       "version_major": 2,
       "version_minor": 0
      },
      "text/plain": [
       "  0%|          | 0/87 [00:00<?, ?it/s]"
      ]
     },
     "metadata": {},
     "output_type": "display_data"
    },
    {
     "data": {
      "application/vnd.jupyter.widget-view+json": {
       "model_id": "02594f536ef54d6b95604053d6c44ba7",
       "version_major": 2,
       "version_minor": 0
      },
      "text/plain": [
       "  0%|          | 0/19359 [00:00<?, ?it/s]"
      ]
     },
     "metadata": {},
     "output_type": "display_data"
    },
    {
     "data": {
      "application/vnd.jupyter.widget-view+json": {
       "model_id": "0692d112c29c4a6d90ab962624517976",
       "version_major": 2,
       "version_minor": 0
      },
      "text/plain": [
       "  0%|          | 0/7543 [00:00<?, ?it/s]"
      ]
     },
     "metadata": {},
     "output_type": "display_data"
    },
    {
     "data": {
      "application/vnd.jupyter.widget-view+json": {
       "model_id": "785d7be17fbe45b7afad90a3e657492b",
       "version_major": 2,
       "version_minor": 0
      },
      "text/plain": [
       "  0%|          | 0/8425 [00:00<?, ?it/s]"
      ]
     },
     "metadata": {},
     "output_type": "display_data"
    },
    {
     "data": {
      "application/vnd.jupyter.widget-view+json": {
       "model_id": "463478e9dd1b4e928ad905a7c7ca5b06",
       "version_major": 2,
       "version_minor": 0
      },
      "text/plain": [
       "  0%|          | 0/3666 [00:00<?, ?it/s]"
      ]
     },
     "metadata": {},
     "output_type": "display_data"
    },
    {
     "data": {
      "application/vnd.jupyter.widget-view+json": {
       "model_id": "1957d5346b8c4961925cf3641e2ca37b",
       "version_major": 2,
       "version_minor": 0
      },
      "text/plain": [
       "  0%|          | 0/914 [00:00<?, ?it/s]"
      ]
     },
     "metadata": {},
     "output_type": "display_data"
    },
    {
     "data": {
      "application/vnd.jupyter.widget-view+json": {
       "model_id": "5715af628ed64554b20ff8db1e57ebe6",
       "version_major": 2,
       "version_minor": 0
      },
      "text/plain": [
       "  0%|          | 0/1622 [00:00<?, ?it/s]"
      ]
     },
     "metadata": {},
     "output_type": "display_data"
    },
    {
     "data": {
      "application/vnd.jupyter.widget-view+json": {
       "model_id": "1a1bef4c9d76428e982207e313645bff",
       "version_major": 2,
       "version_minor": 0
      },
      "text/plain": [
       "  0%|          | 0/94 [00:00<?, ?it/s]"
      ]
     },
     "metadata": {},
     "output_type": "display_data"
    },
    {
     "data": {
      "application/vnd.jupyter.widget-view+json": {
       "model_id": "66306171d1624a09b1fb10cf933247f8",
       "version_major": 2,
       "version_minor": 0
      },
      "text/plain": [
       "  0%|          | 0/57 [00:00<?, ?it/s]"
      ]
     },
     "metadata": {},
     "output_type": "display_data"
    },
    {
     "data": {
      "application/vnd.jupyter.widget-view+json": {
       "model_id": "8493313abecb44f19ca2944e5d484b09",
       "version_major": 2,
       "version_minor": 0
      },
      "text/plain": [
       "  0%|          | 0/1757 [00:00<?, ?it/s]"
      ]
     },
     "metadata": {},
     "output_type": "display_data"
    },
    {
     "data": {
      "application/vnd.jupyter.widget-view+json": {
       "model_id": "b4e0ced22a0142988b47d2a11b14b5a0",
       "version_major": 2,
       "version_minor": 0
      },
      "text/plain": [
       "  0%|          | 0/727 [00:00<?, ?it/s]"
      ]
     },
     "metadata": {},
     "output_type": "display_data"
    },
    {
     "data": {
      "application/vnd.jupyter.widget-view+json": {
       "model_id": "2fa2cd13c9b44792a1684fad6aee8a76",
       "version_major": 2,
       "version_minor": 0
      },
      "text/plain": [
       "  0%|          | 0/10 [00:00<?, ?it/s]"
      ]
     },
     "metadata": {},
     "output_type": "display_data"
    },
    {
     "data": {
      "application/vnd.jupyter.widget-view+json": {
       "model_id": "026d148f960e4f3d879c7f247b986f77",
       "version_major": 2,
       "version_minor": 0
      },
      "text/plain": [
       "  0%|          | 0/20 [00:00<?, ?it/s]"
      ]
     },
     "metadata": {},
     "output_type": "display_data"
    },
    {
     "data": {
      "application/vnd.jupyter.widget-view+json": {
       "model_id": "5388165489b4496fb35d2c10b20d30bf",
       "version_major": 2,
       "version_minor": 0
      },
      "text/plain": [
       "  0%|          | 0/1518 [00:00<?, ?it/s]"
      ]
     },
     "metadata": {},
     "output_type": "display_data"
    },
    {
     "data": {
      "application/vnd.jupyter.widget-view+json": {
       "model_id": "57e39a61f67446ed82ec674418257980",
       "version_major": 2,
       "version_minor": 0
      },
      "text/plain": [
       "  0%|          | 0/487 [00:00<?, ?it/s]"
      ]
     },
     "metadata": {},
     "output_type": "display_data"
    },
    {
     "data": {
      "application/vnd.jupyter.widget-view+json": {
       "model_id": "de48af62b9e24590931a4ad0056c7844",
       "version_major": 2,
       "version_minor": 0
      },
      "text/plain": [
       "  0%|          | 0/481 [00:00<?, ?it/s]"
      ]
     },
     "metadata": {},
     "output_type": "display_data"
    },
    {
     "data": {
      "application/vnd.jupyter.widget-view+json": {
       "model_id": "3f88b285bb0147f7bf5e84b8a967ee50",
       "version_major": 2,
       "version_minor": 0
      },
      "text/plain": [
       "  0%|          | 0/180 [00:00<?, ?it/s]"
      ]
     },
     "metadata": {},
     "output_type": "display_data"
    },
    {
     "data": {
      "application/vnd.jupyter.widget-view+json": {
       "model_id": "4976b2072d79433484d383323f5b3c53",
       "version_major": 2,
       "version_minor": 0
      },
      "text/plain": [
       "  0%|          | 0/99 [00:00<?, ?it/s]"
      ]
     },
     "metadata": {},
     "output_type": "display_data"
    },
    {
     "data": {
      "application/vnd.jupyter.widget-view+json": {
       "model_id": "30a135c5144d455691a80a7e6d0dc456",
       "version_major": 2,
       "version_minor": 0
      },
      "text/plain": [
       "  0%|          | 0/8 [00:00<?, ?it/s]"
      ]
     },
     "metadata": {},
     "output_type": "display_data"
    },
    {
     "data": {
      "application/vnd.jupyter.widget-view+json": {
       "model_id": "5c9e58aa27b74a92858b96babf01b040",
       "version_major": 2,
       "version_minor": 0
      },
      "text/plain": [
       "  0%|          | 0/41 [00:00<?, ?it/s]"
      ]
     },
     "metadata": {},
     "output_type": "display_data"
    },
    {
     "data": {
      "application/vnd.jupyter.widget-view+json": {
       "model_id": "8297ae8e4b9748ef807be74ab4f4f0d5",
       "version_major": 2,
       "version_minor": 0
      },
      "text/plain": [
       "  0%|          | 0/4 [00:00<?, ?it/s]"
      ]
     },
     "metadata": {},
     "output_type": "display_data"
    },
    {
     "data": {
      "application/vnd.jupyter.widget-view+json": {
       "model_id": "f717210d279541978031228da86261bc",
       "version_major": 2,
       "version_minor": 0
      },
      "text/plain": [
       "  0%|          | 0/40168 [00:00<?, ?it/s]"
      ]
     },
     "metadata": {},
     "output_type": "display_data"
    },
    {
     "data": {
      "application/vnd.jupyter.widget-view+json": {
       "model_id": "e8129b2d2e36456a824367bb841966f2",
       "version_major": 2,
       "version_minor": 0
      },
      "text/plain": [
       "  0%|          | 0/44451 [00:00<?, ?it/s]"
      ]
     },
     "metadata": {},
     "output_type": "display_data"
    },
    {
     "data": {
      "application/vnd.jupyter.widget-view+json": {
       "model_id": "41e90bf3e1464de481b2aefa9e2718ce",
       "version_major": 2,
       "version_minor": 0
      },
      "text/plain": [
       "  0%|          | 0/4124 [00:00<?, ?it/s]"
      ]
     },
     "metadata": {},
     "output_type": "display_data"
    },
    {
     "data": {
      "application/vnd.jupyter.widget-view+json": {
       "model_id": "d68fd35f1f564fc3b8df12e7c03c4cf5",
       "version_major": 2,
       "version_minor": 0
      },
      "text/plain": [
       "  0%|          | 0/2263 [00:00<?, ?it/s]"
      ]
     },
     "metadata": {},
     "output_type": "display_data"
    },
    {
     "data": {
      "application/vnd.jupyter.widget-view+json": {
       "model_id": "3852c0fcfdd34f0f96648b04854c3b6c",
       "version_major": 2,
       "version_minor": 0
      },
      "text/plain": [
       "  0%|          | 0/18437 [00:00<?, ?it/s]"
      ]
     },
     "metadata": {},
     "output_type": "display_data"
    },
    {
     "data": {
      "application/vnd.jupyter.widget-view+json": {
       "model_id": "9870de4fd77a4ea98c4183afcf561633",
       "version_major": 2,
       "version_minor": 0
      },
      "text/plain": [
       "  0%|          | 0/4696 [00:00<?, ?it/s]"
      ]
     },
     "metadata": {},
     "output_type": "display_data"
    },
    {
     "data": {
      "application/vnd.jupyter.widget-view+json": {
       "model_id": "62df0b48bb7f4e57bf2fa4b519932c7a",
       "version_major": 2,
       "version_minor": 0
      },
      "text/plain": [
       "  0%|          | 0/7798 [00:00<?, ?it/s]"
      ]
     },
     "metadata": {},
     "output_type": "display_data"
    },
    {
     "data": {
      "application/vnd.jupyter.widget-view+json": {
       "model_id": "b90437d2469b427098515c5d70519b88",
       "version_major": 2,
       "version_minor": 0
      },
      "text/plain": [
       "  0%|          | 0/894 [00:00<?, ?it/s]"
      ]
     },
     "metadata": {},
     "output_type": "display_data"
    },
    {
     "data": {
      "application/vnd.jupyter.widget-view+json": {
       "model_id": "633f9cc13fc3483fad699c9df73698e6",
       "version_major": 2,
       "version_minor": 0
      },
      "text/plain": [
       "  0%|          | 0/1040 [00:00<?, ?it/s]"
      ]
     },
     "metadata": {},
     "output_type": "display_data"
    },
    {
     "data": {
      "application/vnd.jupyter.widget-view+json": {
       "model_id": "73fc654420a142fca99f849c3b45420c",
       "version_major": 2,
       "version_minor": 0
      },
      "text/plain": [
       "  0%|          | 0/70 [00:00<?, ?it/s]"
      ]
     },
     "metadata": {},
     "output_type": "display_data"
    },
    {
     "data": {
      "application/vnd.jupyter.widget-view+json": {
       "model_id": "02e4065c699442348d310c4a12c2d657",
       "version_major": 2,
       "version_minor": 0
      },
      "text/plain": [
       "  0%|          | 0/73 [00:00<?, ?it/s]"
      ]
     },
     "metadata": {},
     "output_type": "display_data"
    },
    {
     "data": {
      "application/vnd.jupyter.widget-view+json": {
       "model_id": "7a9d5c0231ea470c9f9272faef9ae2bd",
       "version_major": 2,
       "version_minor": 0
      },
      "text/plain": [
       "  0%|          | 0/1 [00:00<?, ?it/s]"
      ]
     },
     "metadata": {},
     "output_type": "display_data"
    },
    {
     "data": {
      "application/vnd.jupyter.widget-view+json": {
       "model_id": "cf965bfbb1d64ba19e1b721104162c60",
       "version_major": 2,
       "version_minor": 0
      },
      "text/plain": [
       "  0%|          | 0/18873 [00:00<?, ?it/s]"
      ]
     },
     "metadata": {},
     "output_type": "display_data"
    },
    {
     "data": {
      "application/vnd.jupyter.widget-view+json": {
       "model_id": "adf3d96b01304d6995ac6477db28b28d",
       "version_major": 2,
       "version_minor": 0
      },
      "text/plain": [
       "  0%|          | 0/23559 [00:00<?, ?it/s]"
      ]
     },
     "metadata": {},
     "output_type": "display_data"
    },
    {
     "data": {
      "application/vnd.jupyter.widget-view+json": {
       "model_id": "194be66cad884437bb1d13d44b3f80c7",
       "version_major": 2,
       "version_minor": 0
      },
      "text/plain": [
       "  0%|          | 0/772 [00:00<?, ?it/s]"
      ]
     },
     "metadata": {},
     "output_type": "display_data"
    },
    {
     "data": {
      "application/vnd.jupyter.widget-view+json": {
       "model_id": "b418382b53c84177b1e4de9863f7c84f",
       "version_major": 2,
       "version_minor": 0
      },
      "text/plain": [
       "  0%|          | 0/1047 [00:00<?, ?it/s]"
      ]
     },
     "metadata": {},
     "output_type": "display_data"
    },
    {
     "data": {
      "application/vnd.jupyter.widget-view+json": {
       "model_id": "fdf1ee1a3b7f41ae9da4aba77890a7f7",
       "version_major": 2,
       "version_minor": 0
      },
      "text/plain": [
       "  0%|          | 0/9331 [00:00<?, ?it/s]"
      ]
     },
     "metadata": {},
     "output_type": "display_data"
    },
    {
     "data": {
      "application/vnd.jupyter.widget-view+json": {
       "model_id": "68a7fb15402e469893ce01c8280e42b1",
       "version_major": 2,
       "version_minor": 0
      },
      "text/plain": [
       "  0%|          | 0/3155 [00:00<?, ?it/s]"
      ]
     },
     "metadata": {},
     "output_type": "display_data"
    },
    {
     "data": {
      "application/vnd.jupyter.widget-view+json": {
       "model_id": "34dc8875274a48f48f6fc8254a0cb1a3",
       "version_major": 2,
       "version_minor": 0
      },
      "text/plain": [
       "  0%|          | 0/11215 [00:00<?, ?it/s]"
      ]
     },
     "metadata": {},
     "output_type": "display_data"
    },
    {
     "data": {
      "application/vnd.jupyter.widget-view+json": {
       "model_id": "d49c4d2deafd40b797d7b1fcc0a609e6",
       "version_major": 2,
       "version_minor": 0
      },
      "text/plain": [
       "  0%|          | 0/2417 [00:00<?, ?it/s]"
      ]
     },
     "metadata": {},
     "output_type": "display_data"
    },
    {
     "data": {
      "application/vnd.jupyter.widget-view+json": {
       "model_id": "bf7d03c4a3f246488040c71fbb7846ac",
       "version_major": 2,
       "version_minor": 0
      },
      "text/plain": [
       "  0%|          | 0/829 [00:00<?, ?it/s]"
      ]
     },
     "metadata": {},
     "output_type": "display_data"
    },
    {
     "data": {
      "application/vnd.jupyter.widget-view+json": {
       "model_id": "ca9aeaf776c740bba6a3f464b1aee231",
       "version_major": 2,
       "version_minor": 0
      },
      "text/plain": [
       "  0%|          | 0/565 [00:00<?, ?it/s]"
      ]
     },
     "metadata": {},
     "output_type": "display_data"
    },
    {
     "data": {
      "application/vnd.jupyter.widget-view+json": {
       "model_id": "dfe773e559e14311a940984afbce2c20",
       "version_major": 2,
       "version_minor": 0
      },
      "text/plain": [
       "  0%|          | 0/89 [00:00<?, ?it/s]"
      ]
     },
     "metadata": {},
     "output_type": "display_data"
    },
    {
     "data": {
      "application/vnd.jupyter.widget-view+json": {
       "model_id": "cab287b6a34b4f1c9c3fb66e7acf450d",
       "version_major": 2,
       "version_minor": 0
      },
      "text/plain": [
       "  0%|          | 0/70 [00:00<?, ?it/s]"
      ]
     },
     "metadata": {},
     "output_type": "display_data"
    },
    {
     "data": {
      "application/vnd.jupyter.widget-view+json": {
       "model_id": "21213d64ecb742b683a2afe8c4675639",
       "version_major": 2,
       "version_minor": 0
      },
      "text/plain": [
       "  0%|          | 0/642 [00:00<?, ?it/s]"
      ]
     },
     "metadata": {},
     "output_type": "display_data"
    },
    {
     "data": {
      "application/vnd.jupyter.widget-view+json": {
       "model_id": "4bdc5ef889dc4147a82804d061e38522",
       "version_major": 2,
       "version_minor": 0
      },
      "text/plain": [
       "  0%|          | 0/13999 [00:00<?, ?it/s]"
      ]
     },
     "metadata": {},
     "output_type": "display_data"
    },
    {
     "data": {
      "application/vnd.jupyter.widget-view+json": {
       "model_id": "cae433aba73c45b0b42a1cc3b8ecb97e",
       "version_major": 2,
       "version_minor": 0
      },
      "text/plain": [
       "  0%|          | 0/15006 [00:00<?, ?it/s]"
      ]
     },
     "metadata": {},
     "output_type": "display_data"
    },
    {
     "data": {
      "application/vnd.jupyter.widget-view+json": {
       "model_id": "37a358e9c22c4bf6ad61e388fa15b5b3",
       "version_major": 2,
       "version_minor": 0
      },
      "text/plain": [
       "  0%|          | 0/653 [00:00<?, ?it/s]"
      ]
     },
     "metadata": {},
     "output_type": "display_data"
    },
    {
     "data": {
      "application/vnd.jupyter.widget-view+json": {
       "model_id": "cb708372195f42a0bc3bca205b057364",
       "version_major": 2,
       "version_minor": 0
      },
      "text/plain": [
       "  0%|          | 0/694 [00:00<?, ?it/s]"
      ]
     },
     "metadata": {},
     "output_type": "display_data"
    },
    {
     "data": {
      "application/vnd.jupyter.widget-view+json": {
       "model_id": "d97b73298648475c9e65f2d3d9ff70ef",
       "version_major": 2,
       "version_minor": 0
      },
      "text/plain": [
       "  0%|          | 0/3835 [00:00<?, ?it/s]"
      ]
     },
     "metadata": {},
     "output_type": "display_data"
    },
    {
     "data": {
      "application/vnd.jupyter.widget-view+json": {
       "model_id": "d0d36ac58bed40c9a6e4ca78e559c8dd",
       "version_major": 2,
       "version_minor": 0
      },
      "text/plain": [
       "  0%|          | 0/4219 [00:00<?, ?it/s]"
      ]
     },
     "metadata": {},
     "output_type": "display_data"
    },
    {
     "data": {
      "application/vnd.jupyter.widget-view+json": {
       "model_id": "35a058b47d2d4c2cbf2caf3ce4f1f0a1",
       "version_major": 2,
       "version_minor": 0
      },
      "text/plain": [
       "  0%|          | 0/567 [00:00<?, ?it/s]"
      ]
     },
     "metadata": {},
     "output_type": "display_data"
    },
    {
     "data": {
      "application/vnd.jupyter.widget-view+json": {
       "model_id": "7838432960e64c5e873071f25e5e415f",
       "version_major": 2,
       "version_minor": 0
      },
      "text/plain": [
       "  0%|          | 0/125 [00:00<?, ?it/s]"
      ]
     },
     "metadata": {},
     "output_type": "display_data"
    },
    {
     "data": {
      "application/vnd.jupyter.widget-view+json": {
       "model_id": "bf6a577111344e08a58b1e2674cbb09d",
       "version_major": 2,
       "version_minor": 0
      },
      "text/plain": [
       "  0%|          | 0/98 [00:00<?, ?it/s]"
      ]
     },
     "metadata": {},
     "output_type": "display_data"
    },
    {
     "data": {
      "application/vnd.jupyter.widget-view+json": {
       "model_id": "59b9376ef4584154afaa41f459a51c8b",
       "version_major": 2,
       "version_minor": 0
      },
      "text/plain": [
       "  0%|          | 0/12 [00:00<?, ?it/s]"
      ]
     },
     "metadata": {},
     "output_type": "display_data"
    },
    {
     "data": {
      "application/vnd.jupyter.widget-view+json": {
       "model_id": "81a028d7c3094b4f9c9d60038f891385",
       "version_major": 2,
       "version_minor": 0
      },
      "text/plain": [
       "  0%|          | 0/5 [00:00<?, ?it/s]"
      ]
     },
     "metadata": {},
     "output_type": "display_data"
    },
    {
     "data": {
      "application/vnd.jupyter.widget-view+json": {
       "model_id": "5a126b7425314c078683a76176efbb9c",
       "version_major": 2,
       "version_minor": 0
      },
      "text/plain": [
       "  0%|          | 0/8169 [00:00<?, ?it/s]"
      ]
     },
     "metadata": {},
     "output_type": "display_data"
    },
    {
     "data": {
      "application/vnd.jupyter.widget-view+json": {
       "model_id": "78cc8c402e5b4e19b9f9f51a3e6dfcdc",
       "version_major": 2,
       "version_minor": 0
      },
      "text/plain": [
       "  0%|          | 0/17728 [00:00<?, ?it/s]"
      ]
     },
     "metadata": {},
     "output_type": "display_data"
    },
    {
     "data": {
      "application/vnd.jupyter.widget-view+json": {
       "model_id": "55d3681c8701454ba38e41a3e11c9582",
       "version_major": 2,
       "version_minor": 0
      },
      "text/plain": [
       "  0%|          | 0/890 [00:00<?, ?it/s]"
      ]
     },
     "metadata": {},
     "output_type": "display_data"
    },
    {
     "data": {
      "application/vnd.jupyter.widget-view+json": {
       "model_id": "3fe87e55d8b64108956fe0c32cb7258c",
       "version_major": 2,
       "version_minor": 0
      },
      "text/plain": [
       "  0%|          | 0/945 [00:00<?, ?it/s]"
      ]
     },
     "metadata": {},
     "output_type": "display_data"
    },
    {
     "data": {
      "application/vnd.jupyter.widget-view+json": {
       "model_id": "0ee0386270574df083aada6aa58536c6",
       "version_major": 2,
       "version_minor": 0
      },
      "text/plain": [
       "  0%|          | 0/8249 [00:00<?, ?it/s]"
      ]
     },
     "metadata": {},
     "output_type": "display_data"
    },
    {
     "data": {
      "application/vnd.jupyter.widget-view+json": {
       "model_id": "8dbb92ce0a9c42eca9f2806e1bbe9f58",
       "version_major": 2,
       "version_minor": 0
      },
      "text/plain": [
       "  0%|          | 0/1925 [00:00<?, ?it/s]"
      ]
     },
     "metadata": {},
     "output_type": "display_data"
    },
    {
     "data": {
      "application/vnd.jupyter.widget-view+json": {
       "model_id": "e0c7992b3b1c4b4f8a1eca7f985d4eeb",
       "version_major": 2,
       "version_minor": 0
      },
      "text/plain": [
       "  0%|          | 0/2261 [00:00<?, ?it/s]"
      ]
     },
     "metadata": {},
     "output_type": "display_data"
    },
    {
     "data": {
      "application/vnd.jupyter.widget-view+json": {
       "model_id": "762bf8002e8941ee840875f658ba1fb6",
       "version_major": 2,
       "version_minor": 0
      },
      "text/plain": [
       "  0%|          | 0/196 [00:00<?, ?it/s]"
      ]
     },
     "metadata": {},
     "output_type": "display_data"
    },
    {
     "data": {
      "application/vnd.jupyter.widget-view+json": {
       "model_id": "d471f2469c214ebf8983afa93248a8c7",
       "version_major": 2,
       "version_minor": 0
      },
      "text/plain": [
       "  0%|          | 0/410 [00:00<?, ?it/s]"
      ]
     },
     "metadata": {},
     "output_type": "display_data"
    },
    {
     "data": {
      "application/vnd.jupyter.widget-view+json": {
       "model_id": "a3676043c4714eeb83b94aa180e184bc",
       "version_major": 2,
       "version_minor": 0
      },
      "text/plain": [
       "  0%|          | 0/18 [00:00<?, ?it/s]"
      ]
     },
     "metadata": {},
     "output_type": "display_data"
    },
    {
     "data": {
      "application/vnd.jupyter.widget-view+json": {
       "model_id": "c8e64d1623754692827963e836b45112",
       "version_major": 2,
       "version_minor": 0
      },
      "text/plain": [
       "  0%|          | 0/14 [00:00<?, ?it/s]"
      ]
     },
     "metadata": {},
     "output_type": "display_data"
    },
    {
     "data": {
      "application/vnd.jupyter.widget-view+json": {
       "model_id": "db7b0ffab640439eb9bb7a7777dc81df",
       "version_major": 2,
       "version_minor": 0
      },
      "text/plain": [
       "  0%|          | 0/2 [00:00<?, ?it/s]"
      ]
     },
     "metadata": {},
     "output_type": "display_data"
    },
    {
     "data": {
      "application/vnd.jupyter.widget-view+json": {
       "model_id": "fe21ef593f7047969e6344a44a9c6acd",
       "version_major": 2,
       "version_minor": 0
      },
      "text/plain": [
       "  0%|          | 0/20184 [00:00<?, ?it/s]"
      ]
     },
     "metadata": {},
     "output_type": "display_data"
    },
    {
     "data": {
      "application/vnd.jupyter.widget-view+json": {
       "model_id": "6055cfdc1b784c2a8497d3b8b62d8d31",
       "version_major": 2,
       "version_minor": 0
      },
      "text/plain": [
       "  0%|          | 0/8568 [00:00<?, ?it/s]"
      ]
     },
     "metadata": {},
     "output_type": "display_data"
    },
    {
     "data": {
      "application/vnd.jupyter.widget-view+json": {
       "model_id": "6b01b89132524cfdab169b27f0579c9f",
       "version_major": 2,
       "version_minor": 0
      },
      "text/plain": [
       "  0%|          | 0/755 [00:00<?, ?it/s]"
      ]
     },
     "metadata": {},
     "output_type": "display_data"
    },
    {
     "data": {
      "application/vnd.jupyter.widget-view+json": {
       "model_id": "a5d17102ccfb44fbb9485095e7140b60",
       "version_major": 2,
       "version_minor": 0
      },
      "text/plain": [
       "  0%|          | 0/345 [00:00<?, ?it/s]"
      ]
     },
     "metadata": {},
     "output_type": "display_data"
    },
    {
     "data": {
      "application/vnd.jupyter.widget-view+json": {
       "model_id": "456a3d36b45f4ecbbf4a015b02627b3a",
       "version_major": 2,
       "version_minor": 0
      },
      "text/plain": [
       "  0%|          | 0/11975 [00:00<?, ?it/s]"
      ]
     },
     "metadata": {},
     "output_type": "display_data"
    },
    {
     "data": {
      "application/vnd.jupyter.widget-view+json": {
       "model_id": "59fb29e6ebd642c48c23708517ca8014",
       "version_major": 2,
       "version_minor": 0
      },
      "text/plain": [
       "  0%|          | 0/1617 [00:00<?, ?it/s]"
      ]
     },
     "metadata": {},
     "output_type": "display_data"
    },
    {
     "data": {
      "application/vnd.jupyter.widget-view+json": {
       "model_id": "f005362ec1924e6b9fb0836abf0fc0da",
       "version_major": 2,
       "version_minor": 0
      },
      "text/plain": [
       "  0%|          | 0/3629 [00:00<?, ?it/s]"
      ]
     },
     "metadata": {},
     "output_type": "display_data"
    },
    {
     "data": {
      "application/vnd.jupyter.widget-view+json": {
       "model_id": "99c39bb029134efd916c7e5076feefdd",
       "version_major": 2,
       "version_minor": 0
      },
      "text/plain": [
       "  0%|          | 0/5030 [00:00<?, ?it/s]"
      ]
     },
     "metadata": {},
     "output_type": "display_data"
    },
    {
     "data": {
      "application/vnd.jupyter.widget-view+json": {
       "model_id": "7385e3d786e44ba68e2f067b97ad78e8",
       "version_major": 2,
       "version_minor": 0
      },
      "text/plain": [
       "  0%|          | 0/322 [00:00<?, ?it/s]"
      ]
     },
     "metadata": {},
     "output_type": "display_data"
    },
    {
     "data": {
      "application/vnd.jupyter.widget-view+json": {
       "model_id": "edc4a4009b5c47978a50b02f8f39916b",
       "version_major": 2,
       "version_minor": 0
      },
      "text/plain": [
       "  0%|          | 0/742 [00:00<?, ?it/s]"
      ]
     },
     "metadata": {},
     "output_type": "display_data"
    },
    {
     "data": {
      "application/vnd.jupyter.widget-view+json": {
       "model_id": "f1ed3a45eb15403894935aba72709520",
       "version_major": 2,
       "version_minor": 0
      },
      "text/plain": [
       "  0%|          | 0/70 [00:00<?, ?it/s]"
      ]
     },
     "metadata": {},
     "output_type": "display_data"
    },
    {
     "data": {
      "application/vnd.jupyter.widget-view+json": {
       "model_id": "5756f9d8a1064035910343e1df7378b4",
       "version_major": 2,
       "version_minor": 0
      },
      "text/plain": [
       "  0%|          | 0/23 [00:00<?, ?it/s]"
      ]
     },
     "metadata": {},
     "output_type": "display_data"
    },
    {
     "data": {
      "application/vnd.jupyter.widget-view+json": {
       "model_id": "1df3fcdd81664e0292394826b0136fbd",
       "version_major": 2,
       "version_minor": 0
      },
      "text/plain": [
       "  0%|          | 0/2296 [00:00<?, ?it/s]"
      ]
     },
     "metadata": {},
     "output_type": "display_data"
    },
    {
     "data": {
      "application/vnd.jupyter.widget-view+json": {
       "model_id": "e363a949c531455d8a2317cb0f47f981",
       "version_major": 2,
       "version_minor": 0
      },
      "text/plain": [
       "  0%|          | 0/1559 [00:00<?, ?it/s]"
      ]
     },
     "metadata": {},
     "output_type": "display_data"
    },
    {
     "data": {
      "application/vnd.jupyter.widget-view+json": {
       "model_id": "99bf18137fab4e9da7adb2bed3fbf112",
       "version_major": 2,
       "version_minor": 0
      },
      "text/plain": [
       "  0%|          | 0/59 [00:00<?, ?it/s]"
      ]
     },
     "metadata": {},
     "output_type": "display_data"
    },
    {
     "data": {
      "application/vnd.jupyter.widget-view+json": {
       "model_id": "91fe004bf009463f9372175f58989b0f",
       "version_major": 2,
       "version_minor": 0
      },
      "text/plain": [
       "  0%|          | 0/136 [00:00<?, ?it/s]"
      ]
     },
     "metadata": {},
     "output_type": "display_data"
    },
    {
     "data": {
      "application/vnd.jupyter.widget-view+json": {
       "model_id": "a00c0d4811c04d1a971c56395bf474c5",
       "version_major": 2,
       "version_minor": 0
      },
      "text/plain": [
       "  0%|          | 0/912 [00:00<?, ?it/s]"
      ]
     },
     "metadata": {},
     "output_type": "display_data"
    },
    {
     "data": {
      "application/vnd.jupyter.widget-view+json": {
       "model_id": "740ea0c0f57c4a4ca5b8ada1fb86d083",
       "version_major": 2,
       "version_minor": 0
      },
      "text/plain": [
       "  0%|          | 0/562 [00:00<?, ?it/s]"
      ]
     },
     "metadata": {},
     "output_type": "display_data"
    },
    {
     "data": {
      "application/vnd.jupyter.widget-view+json": {
       "model_id": "c43c06af4b9c40d795e78666e8d6cdd4",
       "version_major": 2,
       "version_minor": 0
      },
      "text/plain": [
       "  0%|          | 0/107 [00:00<?, ?it/s]"
      ]
     },
     "metadata": {},
     "output_type": "display_data"
    },
    {
     "data": {
      "application/vnd.jupyter.widget-view+json": {
       "model_id": "a13c1f21edde4134916288dbf1c5807d",
       "version_major": 2,
       "version_minor": 0
      },
      "text/plain": [
       "  0%|          | 0/209 [00:00<?, ?it/s]"
      ]
     },
     "metadata": {},
     "output_type": "display_data"
    },
    {
     "data": {
      "application/vnd.jupyter.widget-view+json": {
       "model_id": "c61c352b2d014fe6807b7a2c1b9b5bd9",
       "version_major": 2,
       "version_minor": 0
      },
      "text/plain": [
       "  0%|          | 0/29 [00:00<?, ?it/s]"
      ]
     },
     "metadata": {},
     "output_type": "display_data"
    },
    {
     "data": {
      "application/vnd.jupyter.widget-view+json": {
       "model_id": "ed4dc0d5229a48108b02eb7a595bf4f5",
       "version_major": 2,
       "version_minor": 0
      },
      "text/plain": [
       "  0%|          | 0/24 [00:00<?, ?it/s]"
      ]
     },
     "metadata": {},
     "output_type": "display_data"
    },
    {
     "data": {
      "application/vnd.jupyter.widget-view+json": {
       "model_id": "c9d3dee1d58e4c50a4e70de499d2021d",
       "version_major": 2,
       "version_minor": 0
      },
      "text/plain": [
       "  0%|          | 0/5 [00:00<?, ?it/s]"
      ]
     },
     "metadata": {},
     "output_type": "display_data"
    },
    {
     "data": {
      "application/vnd.jupyter.widget-view+json": {
       "model_id": "0f744db74854447fb8d746fd0a23bc85",
       "version_major": 2,
       "version_minor": 0
      },
      "text/plain": [
       "  0%|          | 0/2 [00:00<?, ?it/s]"
      ]
     },
     "metadata": {},
     "output_type": "display_data"
    }
   ],
   "source": [
    "segment_pop_kNN_all.fit(train, segment_users, 'segm_all')"
   ]
  },
  {
   "cell_type": "code",
   "execution_count": 36,
   "id": "fb6308e8",
   "metadata": {},
   "outputs": [],
   "source": [
    "segm_all_pop_knn_recs = pd.concat([\n",
    "    segment_pop_kNN_all.predict(test.iloc[:69174]),\n",
    "    segment_pop_kNN_all.predict(test.iloc[69174:138349]),\n",
    "    segment_pop_kNN_all.predict(test.iloc[138349:207524]),\n",
    "    segment_pop_kNN_all.predict(test.iloc[207524:])\n",
    "])"
   ]
  },
  {
   "cell_type": "code",
   "execution_count": 37,
   "id": "15186b6f",
   "metadata": {},
   "outputs": [
    {
     "data": {
      "text/plain": [
       "0.02276592843309204"
      ]
     },
     "execution_count": 37,
     "metadata": {},
     "output_type": "execute_result"
    }
   ],
   "source": [
    "metric.calc(segm_all_pop_knn_recs, test)"
   ]
  },
  {
   "cell_type": "code",
   "execution_count": 38,
   "id": "8f78299e",
   "metadata": {},
   "outputs": [],
   "source": [
    "# custom segments\n",
    "base_estimator_kwargs = {'pop_items': items_pop_ordered}\n",
    "sub_estimators_predict_kwargs = {'complete_method': 'popular'}\n",
    "\n",
    "segment_pop_kNN_custom = SegmentKNN(\n",
    "    base_estimator=UserKnnComplete,\n",
    "    sub_estimator=CosineRecommender,\n",
    "    base_estimator_kwargs=base_estimator_kwargs,\n",
    "    sub_estimators_predict_kwargs=sub_estimators_predict_kwargs\n",
    ")"
   ]
  },
  {
   "cell_type": "code",
   "execution_count": 39,
   "id": "d0ee84a1",
   "metadata": {
    "scrolled": true
   },
   "outputs": [
    {
     "data": {
      "application/vnd.jupyter.widget-view+json": {
       "model_id": "9aa29ba6e16c4d01a2a8a831bc1d09fb",
       "version_major": 2,
       "version_minor": 0
      },
      "text/plain": [
       "  0%|          | 0/54595 [00:00<?, ?it/s]"
      ]
     },
     "metadata": {},
     "output_type": "display_data"
    },
    {
     "data": {
      "application/vnd.jupyter.widget-view+json": {
       "model_id": "77b8ffc7cdd6477fa29afa0895fc2ff4",
       "version_major": 2,
       "version_minor": 0
      },
      "text/plain": [
       "  0%|          | 0/40529 [00:00<?, ?it/s]"
      ]
     },
     "metadata": {},
     "output_type": "display_data"
    },
    {
     "data": {
      "application/vnd.jupyter.widget-view+json": {
       "model_id": "bd9210146aee4a58b85b53210bc5642b",
       "version_major": 2,
       "version_minor": 0
      },
      "text/plain": [
       "  0%|          | 0/1066 [00:00<?, ?it/s]"
      ]
     },
     "metadata": {},
     "output_type": "display_data"
    },
    {
     "data": {
      "application/vnd.jupyter.widget-view+json": {
       "model_id": "f2fe741aac284ef3b3e5f0735bd2da8b",
       "version_major": 2,
       "version_minor": 0
      },
      "text/plain": [
       "  0%|          | 0/37044 [00:00<?, ?it/s]"
      ]
     },
     "metadata": {},
     "output_type": "display_data"
    },
    {
     "data": {
      "application/vnd.jupyter.widget-view+json": {
       "model_id": "efad8a9a0b7c4611a59c2f388877e080",
       "version_major": 2,
       "version_minor": 0
      },
      "text/plain": [
       "  0%|          | 0/44075 [00:00<?, ?it/s]"
      ]
     },
     "metadata": {},
     "output_type": "display_data"
    },
    {
     "data": {
      "application/vnd.jupyter.widget-view+json": {
       "model_id": "26c5c921503d40b6a2675a4f19e2fbb6",
       "version_major": 2,
       "version_minor": 0
      },
      "text/plain": [
       "  0%|          | 0/3299 [00:00<?, ?it/s]"
      ]
     },
     "metadata": {},
     "output_type": "display_data"
    },
    {
     "data": {
      "application/vnd.jupyter.widget-view+json": {
       "model_id": "07f3014e06ad4bae98f76606d50fb8e9",
       "version_major": 2,
       "version_minor": 0
      },
      "text/plain": [
       "  0%|          | 0/22680 [00:00<?, ?it/s]"
      ]
     },
     "metadata": {},
     "output_type": "display_data"
    },
    {
     "data": {
      "application/vnd.jupyter.widget-view+json": {
       "model_id": "cbb813f5ffe24f5480db5ba9b3f5feb2",
       "version_major": 2,
       "version_minor": 0
      },
      "text/plain": [
       "  0%|          | 0/13848 [00:00<?, ?it/s]"
      ]
     },
     "metadata": {},
     "output_type": "display_data"
    },
    {
     "data": {
      "application/vnd.jupyter.widget-view+json": {
       "model_id": "8b5f80d621df43969eed76838dc275c9",
       "version_major": 2,
       "version_minor": 0
      },
      "text/plain": [
       "  0%|          | 0/420 [00:00<?, ?it/s]"
      ]
     },
     "metadata": {},
     "output_type": "display_data"
    },
    {
     "data": {
      "application/vnd.jupyter.widget-view+json": {
       "model_id": "35ab484682fe4b69979a513a3939836e",
       "version_major": 2,
       "version_minor": 0
      },
      "text/plain": [
       "  0%|          | 0/16590 [00:00<?, ?it/s]"
      ]
     },
     "metadata": {},
     "output_type": "display_data"
    },
    {
     "data": {
      "application/vnd.jupyter.widget-view+json": {
       "model_id": "198c7b406a5140e58e66246965409fd2",
       "version_major": 2,
       "version_minor": 0
      },
      "text/plain": [
       "  0%|          | 0/15681 [00:00<?, ?it/s]"
      ]
     },
     "metadata": {},
     "output_type": "display_data"
    },
    {
     "data": {
      "application/vnd.jupyter.widget-view+json": {
       "model_id": "05300aee220440aeb2940d1f943f0287",
       "version_major": 2,
       "version_minor": 0
      },
      "text/plain": [
       "  0%|          | 0/589 [00:00<?, ?it/s]"
      ]
     },
     "metadata": {},
     "output_type": "display_data"
    },
    {
     "data": {
      "application/vnd.jupyter.widget-view+json": {
       "model_id": "f17514f5de3645ef991a0df074678672",
       "version_major": 2,
       "version_minor": 0
      },
      "text/plain": [
       "  0%|          | 0/24349 [00:00<?, ?it/s]"
      ]
     },
     "metadata": {},
     "output_type": "display_data"
    },
    {
     "data": {
      "application/vnd.jupyter.widget-view+json": {
       "model_id": "41fa4f43a59c4fc78ba687b668c78468",
       "version_major": 2,
       "version_minor": 0
      },
      "text/plain": [
       "  0%|          | 0/38993 [00:00<?, ?it/s]"
      ]
     },
     "metadata": {},
     "output_type": "display_data"
    },
    {
     "data": {
      "application/vnd.jupyter.widget-view+json": {
       "model_id": "db36dcca8b7e425b9ef0a53bb40c6477",
       "version_major": 2,
       "version_minor": 0
      },
      "text/plain": [
       "  0%|          | 0/2687 [00:00<?, ?it/s]"
      ]
     },
     "metadata": {},
     "output_type": "display_data"
    },
    {
     "data": {
      "application/vnd.jupyter.widget-view+json": {
       "model_id": "2de451e4ed6f468b95d56ee020456b5a",
       "version_major": 2,
       "version_minor": 0
      },
      "text/plain": [
       "  0%|          | 0/2514 [00:00<?, ?it/s]"
      ]
     },
     "metadata": {},
     "output_type": "display_data"
    },
    {
     "data": {
      "application/vnd.jupyter.widget-view+json": {
       "model_id": "f5c7ecb9850e4335ac12b4c806b31381",
       "version_major": 2,
       "version_minor": 0
      },
      "text/plain": [
       "  0%|          | 0/2666 [00:00<?, ?it/s]"
      ]
     },
     "metadata": {},
     "output_type": "display_data"
    },
    {
     "data": {
      "application/vnd.jupyter.widget-view+json": {
       "model_id": "e9eab2b55e5c4c25892d3f202fb4dbce",
       "version_major": 2,
       "version_minor": 0
      },
      "text/plain": [
       "  0%|          | 0/152 [00:00<?, ?it/s]"
      ]
     },
     "metadata": {},
     "output_type": "display_data"
    },
    {
     "data": {
      "application/vnd.jupyter.widget-view+json": {
       "model_id": "1743cd94622d47548ac045fcb8a643fe",
       "version_major": 2,
       "version_minor": 0
      },
      "text/plain": [
       "  0%|          | 0/91006 [00:00<?, ?it/s]"
      ]
     },
     "metadata": {},
     "output_type": "display_data"
    },
    {
     "data": {
      "application/vnd.jupyter.widget-view+json": {
       "model_id": "61ed624e058f48a8ba03e50237108749",
       "version_major": 2,
       "version_minor": 0
      },
      "text/plain": [
       "  0%|          | 0/31825 [00:00<?, ?it/s]"
      ]
     },
     "metadata": {},
     "output_type": "display_data"
    },
    {
     "data": {
      "application/vnd.jupyter.widget-view+json": {
       "model_id": "029e07b367614e5099f248ae4e3179d9",
       "version_major": 2,
       "version_minor": 0
      },
      "text/plain": [
       "  0%|          | 0/1184 [00:00<?, ?it/s]"
      ]
     },
     "metadata": {},
     "output_type": "display_data"
    },
    {
     "data": {
      "application/vnd.jupyter.widget-view+json": {
       "model_id": "9288417db8a843f1b7a3157ac3a2590b",
       "version_major": 2,
       "version_minor": 0
      },
      "text/plain": [
       "  0%|          | 0/44251 [00:00<?, ?it/s]"
      ]
     },
     "metadata": {},
     "output_type": "display_data"
    },
    {
     "data": {
      "application/vnd.jupyter.widget-view+json": {
       "model_id": "0c3c5da5007f472783d259c5305a1313",
       "version_major": 2,
       "version_minor": 0
      },
      "text/plain": [
       "  0%|          | 0/26118 [00:00<?, ?it/s]"
      ]
     },
     "metadata": {},
     "output_type": "display_data"
    },
    {
     "data": {
      "application/vnd.jupyter.widget-view+json": {
       "model_id": "7ea6334d651c4c1bb7ffbc84d644a043",
       "version_major": 2,
       "version_minor": 0
      },
      "text/plain": [
       "  0%|          | 0/1553 [00:00<?, ?it/s]"
      ]
     },
     "metadata": {},
     "output_type": "display_data"
    },
    {
     "data": {
      "application/vnd.jupyter.widget-view+json": {
       "model_id": "5442606804a1492688ac7a21cc27d08d",
       "version_major": 2,
       "version_minor": 0
      },
      "text/plain": [
       "  0%|          | 0/30300 [00:00<?, ?it/s]"
      ]
     },
     "metadata": {},
     "output_type": "display_data"
    },
    {
     "data": {
      "application/vnd.jupyter.widget-view+json": {
       "model_id": "f89e0f307c6d4f1da490b62e45018b03",
       "version_major": 2,
       "version_minor": 0
      },
      "text/plain": [
       "  0%|          | 0/9315 [00:00<?, ?it/s]"
      ]
     },
     "metadata": {},
     "output_type": "display_data"
    },
    {
     "data": {
      "application/vnd.jupyter.widget-view+json": {
       "model_id": "06b41cb4e10349099d63f41d684ada60",
       "version_major": 2,
       "version_minor": 0
      },
      "text/plain": [
       "  0%|          | 0/240 [00:00<?, ?it/s]"
      ]
     },
     "metadata": {},
     "output_type": "display_data"
    },
    {
     "data": {
      "application/vnd.jupyter.widget-view+json": {
       "model_id": "c00b2dda5b784e728645287fe6c0f488",
       "version_major": 2,
       "version_minor": 0
      },
      "text/plain": [
       "  0%|          | 0/27732 [00:00<?, ?it/s]"
      ]
     },
     "metadata": {},
     "output_type": "display_data"
    },
    {
     "data": {
      "application/vnd.jupyter.widget-view+json": {
       "model_id": "92d7e118c4c945b18cb5322ef65a6d60",
       "version_major": 2,
       "version_minor": 0
      },
      "text/plain": [
       "  0%|          | 0/12631 [00:00<?, ?it/s]"
      ]
     },
     "metadata": {},
     "output_type": "display_data"
    },
    {
     "data": {
      "application/vnd.jupyter.widget-view+json": {
       "model_id": "cea1e49e59474146b7608b844c9fb605",
       "version_major": 2,
       "version_minor": 0
      },
      "text/plain": [
       "  0%|          | 0/444 [00:00<?, ?it/s]"
      ]
     },
     "metadata": {},
     "output_type": "display_data"
    },
    {
     "data": {
      "application/vnd.jupyter.widget-view+json": {
       "model_id": "2110279a3b324cb4921af78756e0ea99",
       "version_major": 2,
       "version_minor": 0
      },
      "text/plain": [
       "  0%|          | 0/29852 [00:00<?, ?it/s]"
      ]
     },
     "metadata": {},
     "output_type": "display_data"
    },
    {
     "data": {
      "application/vnd.jupyter.widget-view+json": {
       "model_id": "1435e4e8d0054a2aba219a85cb32d559",
       "version_major": 2,
       "version_minor": 0
      },
      "text/plain": [
       "  0%|          | 0/22251 [00:00<?, ?it/s]"
      ]
     },
     "metadata": {},
     "output_type": "display_data"
    },
    {
     "data": {
      "application/vnd.jupyter.widget-view+json": {
       "model_id": "771d7573b4f647718a9de0695ac1da0b",
       "version_major": 2,
       "version_minor": 0
      },
      "text/plain": [
       "  0%|          | 0/1157 [00:00<?, ?it/s]"
      ]
     },
     "metadata": {},
     "output_type": "display_data"
    },
    {
     "data": {
      "application/vnd.jupyter.widget-view+json": {
       "model_id": "ecc8c0a5ba0848f494fb92b3b795df37",
       "version_major": 2,
       "version_minor": 0
      },
      "text/plain": [
       "  0%|          | 0/4050 [00:00<?, ?it/s]"
      ]
     },
     "metadata": {},
     "output_type": "display_data"
    },
    {
     "data": {
      "application/vnd.jupyter.widget-view+json": {
       "model_id": "52a24a167452403a95ee9d315a632d22",
       "version_major": 2,
       "version_minor": 0
      },
      "text/plain": [
       "  0%|          | 0/1790 [00:00<?, ?it/s]"
      ]
     },
     "metadata": {},
     "output_type": "display_data"
    },
    {
     "data": {
      "application/vnd.jupyter.widget-view+json": {
       "model_id": "0e5975dd30a84bc0b5c08928c6b6afbf",
       "version_major": 2,
       "version_minor": 0
      },
      "text/plain": [
       "  0%|          | 0/60 [00:00<?, ?it/s]"
      ]
     },
     "metadata": {},
     "output_type": "display_data"
    }
   ],
   "source": [
    "segment_pop_kNN_custom.fit(train, segment_users, 'segm_custom')"
   ]
  },
  {
   "cell_type": "code",
   "execution_count": 40,
   "id": "ddf5ba28",
   "metadata": {},
   "outputs": [],
   "source": [
    "segm_custom_pop_knn_recs = pd.concat([\n",
    "    segment_pop_kNN_custom.predict(test.iloc[:69174]),\n",
    "    segment_pop_kNN_custom.predict(test.iloc[69174:138349]),\n",
    "    segment_pop_kNN_custom.predict(test.iloc[138349:207524]),\n",
    "    segment_pop_kNN_custom.predict(test.iloc[207524:])\n",
    "])"
   ]
  },
  {
   "cell_type": "code",
   "execution_count": 41,
   "id": "bfb8e568",
   "metadata": {},
   "outputs": [
    {
     "data": {
      "text/plain": [
       "0.024237888991157627"
      ]
     },
     "execution_count": 41,
     "metadata": {},
     "output_type": "execute_result"
    }
   ],
   "source": [
    "metric.calc(segm_custom_pop_knn_recs, test)"
   ]
  },
  {
   "cell_type": "code",
   "execution_count": 42,
   "id": "6d7e40f7",
   "metadata": {},
   "outputs": [],
   "source": [
    "# sex segments\n",
    "base_estimator_kwargs = {'pop_items': items_pop_ordered}\n",
    "sub_estimators_predict_kwargs = {'complete_method': 'popular'}\n",
    "\n",
    "segment_pop_kNN_sex = SegmentKNN(\n",
    "    base_estimator=UserKnnComplete,\n",
    "    sub_estimator=CosineRecommender,\n",
    "    base_estimator_kwargs=base_estimator_kwargs,\n",
    "    sub_estimators_predict_kwargs=sub_estimators_predict_kwargs\n",
    ")"
   ]
  },
  {
   "cell_type": "code",
   "execution_count": 43,
   "id": "0bc61749",
   "metadata": {},
   "outputs": [
    {
     "data": {
      "application/vnd.jupyter.widget-view+json": {
       "model_id": "f178289eb9604b66ae36641ef0be4b0f",
       "version_major": 2,
       "version_minor": 0
      },
      "text/plain": [
       "  0%|          | 0/321777 [00:00<?, ?it/s]"
      ]
     },
     "metadata": {},
     "output_type": "display_data"
    },
    {
     "data": {
      "application/vnd.jupyter.widget-view+json": {
       "model_id": "ff1a1cdc30394b05b3ecd7156d230cd5",
       "version_major": 2,
       "version_minor": 0
      },
      "text/plain": [
       "  0%|          | 0/335759 [00:00<?, ?it/s]"
      ]
     },
     "metadata": {},
     "output_type": "display_data"
    }
   ],
   "source": [
    "segment_pop_kNN_sex.fit(train, segment_users, 'segm_sex')"
   ]
  },
  {
   "cell_type": "code",
   "execution_count": 44,
   "id": "bbb89106",
   "metadata": {},
   "outputs": [],
   "source": [
    "segm_sex_pop_knn_recs = pd.concat([\n",
    "    segment_pop_kNN_sex.predict(test.iloc[:69174]),\n",
    "    segment_pop_kNN_sex.predict(test.iloc[69174:138349]),\n",
    "    segment_pop_kNN_sex.predict(test.iloc[138349:207524]),\n",
    "    segment_pop_kNN_sex.predict(test.iloc[207524:])\n",
    "])"
   ]
  },
  {
   "cell_type": "code",
   "execution_count": 45,
   "id": "1a866628",
   "metadata": {},
   "outputs": [
    {
     "data": {
      "text/plain": [
       "0.02756079577179194"
      ]
     },
     "execution_count": 45,
     "metadata": {},
     "output_type": "execute_result"
    }
   ],
   "source": [
    "metric.calc(segm_sex_pop_knn_recs, test)"
   ]
  },
  {
   "cell_type": "code",
   "execution_count": 46,
   "id": "2633b1fa",
   "metadata": {},
   "outputs": [],
   "source": [
    "# kids segments\n",
    "base_estimator_kwargs = {'pop_items': items_pop_ordered}\n",
    "sub_estimators_predict_kwargs = {'complete_method': 'popular'}\n",
    "\n",
    "segment_pop_kNN_kids = SegmentKNN(\n",
    "    base_estimator=UserKnnComplete,\n",
    "    sub_estimator=CosineRecommender,\n",
    "    base_estimator_kwargs=base_estimator_kwargs,\n",
    "    sub_estimators_predict_kwargs=sub_estimators_predict_kwargs\n",
    ")"
   ]
  },
  {
   "cell_type": "code",
   "execution_count": 47,
   "id": "9c5aacaa",
   "metadata": {},
   "outputs": [
    {
     "data": {
      "application/vnd.jupyter.widget-view+json": {
       "model_id": "d443c20e7e614a2da9136a1027652e8b",
       "version_major": 2,
       "version_minor": 0
      },
      "text/plain": [
       "  0%|          | 0/217556 [00:00<?, ?it/s]"
      ]
     },
     "metadata": {},
     "output_type": "display_data"
    },
    {
     "data": {
      "application/vnd.jupyter.widget-view+json": {
       "model_id": "886b4baff6a948cc838b441be194355f",
       "version_major": 2,
       "version_minor": 0
      },
      "text/plain": [
       "  0%|          | 0/104221 [00:00<?, ?it/s]"
      ]
     },
     "metadata": {},
     "output_type": "display_data"
    },
    {
     "data": {
      "application/vnd.jupyter.widget-view+json": {
       "model_id": "cf2ca13ffc814e2d8538e5e5544e717f",
       "version_major": 2,
       "version_minor": 0
      },
      "text/plain": [
       "  0%|          | 0/235792 [00:00<?, ?it/s]"
      ]
     },
     "metadata": {},
     "output_type": "display_data"
    },
    {
     "data": {
      "application/vnd.jupyter.widget-view+json": {
       "model_id": "ab6b3091230e4e04aa1def452493c964",
       "version_major": 2,
       "version_minor": 0
      },
      "text/plain": [
       "  0%|          | 0/99967 [00:00<?, ?it/s]"
      ]
     },
     "metadata": {},
     "output_type": "display_data"
    }
   ],
   "source": [
    "segment_pop_kNN_kids.fit(train, segment_users, 'segm_kids')"
   ]
  },
  {
   "cell_type": "code",
   "execution_count": 48,
   "id": "e880b872",
   "metadata": {},
   "outputs": [],
   "source": [
    "segm_kids_pop_knn_recs = pd.concat([\n",
    "    segment_pop_kNN_kids.predict(test.iloc[:69174]),\n",
    "    segment_pop_kNN_kids.predict(test.iloc[69174:138349]),\n",
    "    segment_pop_kNN_kids.predict(test.iloc[138349:207524]),\n",
    "    segment_pop_kNN_kids.predict(test.iloc[207524:])\n",
    "])"
   ]
  },
  {
   "cell_type": "code",
   "execution_count": 49,
   "id": "ef5ad879",
   "metadata": {},
   "outputs": [
    {
     "data": {
      "text/plain": [
       "0.026829306147079592"
      ]
     },
     "execution_count": 49,
     "metadata": {},
     "output_type": "execute_result"
    }
   ],
   "source": [
    "metric.calc(segm_kids_pop_knn_recs, test)"
   ]
  },
  {
   "cell_type": "markdown",
   "id": "19d622ec",
   "metadata": {},
   "source": [
    "## 3.3. Сегментирование пользователей, которых нет в `users`"
   ]
  },
  {
   "cell_type": "markdown",
   "id": "07e5180b",
   "metadata": {},
   "source": [
    "Имеют место следующие наблюдения относительно данных:\n",
    "\n",
    "1) В `users` есть пользователи, которых нет в `train` - это пользователи, которые не взаимодействовали с айтемами, но про которых мы что-то знаем. **С ними все окей.** В текущей реализации мы не используем знания об их сегменте как во время обучения (так как обучение построено на взаимодействиях, которых для данных пользователей просто нет), так и во время предсказания, хоть и знаем сегмент пользователей, к которому они пренадлежат. Однако как раз на этапе предсказания для этих пользователей можно возвращать популярное по их сегменту, а не популярное в принципе.\n",
    "\n",
    "\n",
    "2) В `train` есть пользователи, которых нет в `users` - это пользователи, по которым нет предварительной информации (пол, возраст и т.д.) кроме фактов взаиомдейтсвия с айтемами. Этих пользователей не отнести к категориям, построенным на основе `users`. **Сейчас в модели по сегментам для таких пользователей предсказания не строятся вообще.**\n",
    "\n",
    "\n",
    "3) Есть пользователи, которые присутсвуют и в `users` и в `train`. **С ними все хорошо**, они сегментируются по тому, что было построено на основе `users`.\n",
    "\n",
    "Необходимо учесть второй случай и попробовать сегментировать этих пользователей по, например, новым признакам, которые можно построить на основе интеракций. Либо определить данных пользователей в один отдельный сегмент.\n",
    "\n",
    "Если рассматривать feature engineering, то нужно генерировать признаки грамотно, как можно меньше опираясь на информацию о самих фильмах, либо используя информацию, которая хорошо обобщает пользователей. Потому что в противном случае, если мы соберем пользователей в группы по одинаковым фильмам, то строить рекомендации новых айтемов относительно пользователя на основе его кластера будет просто невозможно."
   ]
  },
  {
   "cell_type": "markdown",
   "id": "b3924c9a",
   "metadata": {},
   "source": [
    "### Feature engineering"
   ]
  },
  {
   "cell_type": "code",
   "execution_count": 34,
   "id": "218c6870",
   "metadata": {},
   "outputs": [],
   "source": [
    "train_out_of_users = train[~train['user_id'].isin(users['user_id'])]"
   ]
  },
  {
   "cell_type": "code",
   "execution_count": 35,
   "id": "37d977c2",
   "metadata": {},
   "outputs": [
    {
     "data": {
      "text/plain": [
       "(866337, 5)"
      ]
     },
     "execution_count": 35,
     "metadata": {},
     "output_type": "execute_result"
    }
   ],
   "source": [
    "train_out_of_users.shape"
   ]
  },
  {
   "cell_type": "code",
   "execution_count": 36,
   "id": "46d49187",
   "metadata": {},
   "outputs": [
    {
     "data": {
      "text/html": [
       "<div>\n",
       "<style scoped>\n",
       "    .dataframe tbody tr th:only-of-type {\n",
       "        vertical-align: middle;\n",
       "    }\n",
       "\n",
       "    .dataframe tbody tr th {\n",
       "        vertical-align: top;\n",
       "    }\n",
       "\n",
       "    .dataframe thead th {\n",
       "        text-align: right;\n",
       "    }\n",
       "</style>\n",
       "<table border=\"1\" class=\"dataframe\">\n",
       "  <thead>\n",
       "    <tr style=\"text-align: right;\">\n",
       "      <th></th>\n",
       "      <th>user_id</th>\n",
       "      <th>item_id</th>\n",
       "      <th>datetime</th>\n",
       "      <th>weight</th>\n",
       "      <th>watched_pct</th>\n",
       "    </tr>\n",
       "  </thead>\n",
       "  <tbody>\n",
       "    <tr>\n",
       "      <th>5</th>\n",
       "      <td>1032142</td>\n",
       "      <td>6686</td>\n",
       "      <td>2021-05-13</td>\n",
       "      <td>11286.0</td>\n",
       "      <td>100.0</td>\n",
       "    </tr>\n",
       "    <tr>\n",
       "      <th>13</th>\n",
       "      <td>602509</td>\n",
       "      <td>496</td>\n",
       "      <td>2021-08-06</td>\n",
       "      <td>10421.0</td>\n",
       "      <td>1.0</td>\n",
       "    </tr>\n",
       "    <tr>\n",
       "      <th>16</th>\n",
       "      <td>646903</td>\n",
       "      <td>16228</td>\n",
       "      <td>2021-07-23</td>\n",
       "      <td>57375.0</td>\n",
       "      <td>46.0</td>\n",
       "    </tr>\n",
       "    <tr>\n",
       "      <th>5476235</th>\n",
       "      <td>977542</td>\n",
       "      <td>13126</td>\n",
       "      <td>2021-07-04</td>\n",
       "      <td>1830.0</td>\n",
       "      <td>26.0</td>\n",
       "    </tr>\n",
       "    <tr>\n",
       "      <th>5476241</th>\n",
       "      <td>1073802</td>\n",
       "      <td>9927</td>\n",
       "      <td>2021-08-07</td>\n",
       "      <td>6425.0</td>\n",
       "      <td>97.0</td>\n",
       "    </tr>\n",
       "    <tr>\n",
       "      <th>5476242</th>\n",
       "      <td>268216</td>\n",
       "      <td>3071</td>\n",
       "      <td>2021-04-21</td>\n",
       "      <td>5752.0</td>\n",
       "      <td>98.0</td>\n",
       "    </tr>\n",
       "  </tbody>\n",
       "</table>\n",
       "</div>"
      ],
      "text/plain": [
       "         user_id  item_id   datetime   weight  watched_pct\n",
       "5        1032142     6686 2021-05-13  11286.0        100.0\n",
       "13        602509      496 2021-08-06  10421.0          1.0\n",
       "16        646903    16228 2021-07-23  57375.0         46.0\n",
       "5476235   977542    13126 2021-07-04   1830.0         26.0\n",
       "5476241  1073802     9927 2021-08-07   6425.0         97.0\n",
       "5476242   268216     3071 2021-04-21   5752.0         98.0"
      ]
     },
     "execution_count": 36,
     "metadata": {},
     "output_type": "execute_result"
    }
   ],
   "source": [
    "pd.concat([train_out_of_users.head(3), train_out_of_users.tail(3)])"
   ]
  },
  {
   "cell_type": "code",
   "execution_count": 37,
   "id": "953e484b",
   "metadata": {},
   "outputs": [
    {
     "data": {
      "text/html": [
       "<div>\n",
       "<style scoped>\n",
       "    .dataframe tbody tr th:only-of-type {\n",
       "        vertical-align: middle;\n",
       "    }\n",
       "\n",
       "    .dataframe tbody tr th {\n",
       "        vertical-align: top;\n",
       "    }\n",
       "\n",
       "    .dataframe thead th {\n",
       "        text-align: right;\n",
       "    }\n",
       "</style>\n",
       "<table border=\"1\" class=\"dataframe\">\n",
       "  <thead>\n",
       "    <tr style=\"text-align: right;\">\n",
       "      <th></th>\n",
       "      <th>item_id</th>\n",
       "      <th>content_type</th>\n",
       "      <th>title</th>\n",
       "      <th>title_orig</th>\n",
       "      <th>release_year</th>\n",
       "      <th>genres</th>\n",
       "      <th>countries</th>\n",
       "      <th>for_kids</th>\n",
       "      <th>age_rating</th>\n",
       "      <th>studios</th>\n",
       "      <th>directors</th>\n",
       "      <th>actors</th>\n",
       "      <th>description</th>\n",
       "      <th>keywords</th>\n",
       "    </tr>\n",
       "  </thead>\n",
       "  <tbody>\n",
       "    <tr>\n",
       "      <th>0</th>\n",
       "      <td>10711</td>\n",
       "      <td>film</td>\n",
       "      <td>Поговори с ней</td>\n",
       "      <td>Hable con ella</td>\n",
       "      <td>2002.0</td>\n",
       "      <td>драмы, зарубежные, детективы, мелодрамы</td>\n",
       "      <td>Испания</td>\n",
       "      <td>NaN</td>\n",
       "      <td>16.0</td>\n",
       "      <td>NaN</td>\n",
       "      <td>Педро Альмодовар</td>\n",
       "      <td>Адольфо Фернандес, Ана Фернандес, Дарио Гранди...</td>\n",
       "      <td>Мелодрама легендарного Педро Альмодовара «Пого...</td>\n",
       "      <td>Поговори, ней, 2002, Испания, друзья, любовь, ...</td>\n",
       "    </tr>\n",
       "    <tr>\n",
       "      <th>15962</th>\n",
       "      <td>3206</td>\n",
       "      <td>series</td>\n",
       "      <td>Гоша</td>\n",
       "      <td>NaN</td>\n",
       "      <td>2019.0</td>\n",
       "      <td>комедии</td>\n",
       "      <td>Россия</td>\n",
       "      <td>0.0</td>\n",
       "      <td>16.0</td>\n",
       "      <td>NaN</td>\n",
       "      <td>Михаил Миронов</td>\n",
       "      <td>Мкртыч Арзуманян, Виктория Рунцова</td>\n",
       "      <td>Добродушный Гоша не может выйти из дома, чтобы...</td>\n",
       "      <td>Гоша, 2019, Россия</td>\n",
       "    </tr>\n",
       "  </tbody>\n",
       "</table>\n",
       "</div>"
      ],
      "text/plain": [
       "       item_id content_type           title      title_orig  release_year  \\\n",
       "0        10711         film  Поговори с ней  Hable con ella        2002.0   \n",
       "15962     3206       series            Гоша             NaN        2019.0   \n",
       "\n",
       "                                        genres countries  for_kids  \\\n",
       "0      драмы, зарубежные, детективы, мелодрамы   Испания       NaN   \n",
       "15962                                  комедии    Россия       0.0   \n",
       "\n",
       "       age_rating studios         directors  \\\n",
       "0            16.0     NaN  Педро Альмодовар   \n",
       "15962        16.0     NaN    Михаил Миронов   \n",
       "\n",
       "                                                  actors  \\\n",
       "0      Адольфо Фернандес, Ана Фернандес, Дарио Гранди...   \n",
       "15962                 Мкртыч Арзуманян, Виктория Рунцова   \n",
       "\n",
       "                                             description  \\\n",
       "0      Мелодрама легендарного Педро Альмодовара «Пого...   \n",
       "15962  Добродушный Гоша не может выйти из дома, чтобы...   \n",
       "\n",
       "                                                keywords  \n",
       "0      Поговори, ней, 2002, Испания, друзья, любовь, ...  \n",
       "15962                                 Гоша, 2019, Россия  "
      ]
     },
     "execution_count": 37,
     "metadata": {},
     "output_type": "execute_result"
    }
   ],
   "source": [
    "pd.concat([items.head(1), items.tail(1)])"
   ]
  },
  {
   "cell_type": "markdown",
   "id": "36b52d07",
   "metadata": {},
   "source": [
    "Возможные признаки:\n",
    "* Среднее время просмотра за один сеанс\n",
    "* Среднее количество просмотров в месяц/неделю/...\n",
    "* Средний возростной рейтинг фильмов\n",
    "\n",
    "Проверим полноту признаков:"
   ]
  },
  {
   "cell_type": "code",
   "execution_count": 38,
   "id": "dd3a3973",
   "metadata": {},
   "outputs": [
    {
     "data": {
      "text/plain": [
       "False"
      ]
     },
     "execution_count": 38,
     "metadata": {},
     "output_type": "execute_result"
    }
   ],
   "source": [
    "train_out_of_users['weight'].isna().any()"
   ]
  },
  {
   "cell_type": "code",
   "execution_count": 39,
   "id": "de572886",
   "metadata": {},
   "outputs": [
    {
     "data": {
      "text/plain": [
       "False"
      ]
     },
     "execution_count": 39,
     "metadata": {},
     "output_type": "execute_result"
    }
   ],
   "source": [
    "train_out_of_users['datetime'].isna().any()"
   ]
  },
  {
   "cell_type": "code",
   "execution_count": 40,
   "id": "fa76c3e6",
   "metadata": {},
   "outputs": [
    {
     "name": "stdout",
     "output_type": "stream",
     "text": [
      "True\n"
     ]
    },
    {
     "data": {
      "text/plain": [
       "2"
      ]
     },
     "execution_count": 40,
     "metadata": {},
     "output_type": "execute_result"
    }
   ],
   "source": [
    "print(items['age_rating'].isna().any())\n",
    "items[items['age_rating'].isna()].shape[0]"
   ]
  },
  {
   "cell_type": "code",
   "execution_count": 41,
   "id": "56d145cb",
   "metadata": {},
   "outputs": [
    {
     "data": {
      "text/html": [
       "<div>\n",
       "<style scoped>\n",
       "    .dataframe tbody tr th:only-of-type {\n",
       "        vertical-align: middle;\n",
       "    }\n",
       "\n",
       "    .dataframe tbody tr th {\n",
       "        vertical-align: top;\n",
       "    }\n",
       "\n",
       "    .dataframe thead th {\n",
       "        text-align: right;\n",
       "    }\n",
       "</style>\n",
       "<table border=\"1\" class=\"dataframe\">\n",
       "  <thead>\n",
       "    <tr style=\"text-align: right;\">\n",
       "      <th></th>\n",
       "      <th>item_id</th>\n",
       "      <th>content_type</th>\n",
       "      <th>title</th>\n",
       "      <th>title_orig</th>\n",
       "      <th>release_year</th>\n",
       "      <th>genres</th>\n",
       "      <th>countries</th>\n",
       "      <th>for_kids</th>\n",
       "      <th>age_rating</th>\n",
       "      <th>studios</th>\n",
       "      <th>directors</th>\n",
       "      <th>actors</th>\n",
       "      <th>description</th>\n",
       "      <th>keywords</th>\n",
       "    </tr>\n",
       "  </thead>\n",
       "  <tbody>\n",
       "    <tr>\n",
       "      <th>8297</th>\n",
       "      <td>6316</td>\n",
       "      <td>series</td>\n",
       "      <td>Машины-помощники</td>\n",
       "      <td>NaN</td>\n",
       "      <td>2016.0</td>\n",
       "      <td>русские, для детей, сериалы, хочу всё знать, р...</td>\n",
       "      <td>Россия</td>\n",
       "      <td>NaN</td>\n",
       "      <td>NaN</td>\n",
       "      <td>NaN</td>\n",
       "      <td>NaN</td>\n",
       "      <td>NaN</td>\n",
       "      <td>Маленькие мальчики всего мира любят играть в м...</td>\n",
       "      <td>Машины-помощники, 2017, Россия, работа, преодо...</td>\n",
       "    </tr>\n",
       "    <tr>\n",
       "      <th>12352</th>\n",
       "      <td>14409</td>\n",
       "      <td>series</td>\n",
       "      <td>БиБаБу</td>\n",
       "      <td>NaN</td>\n",
       "      <td>2017.0</td>\n",
       "      <td>русские, сериалы, для детей, хочу всё знать, р...</td>\n",
       "      <td>Россия</td>\n",
       "      <td>NaN</td>\n",
       "      <td>NaN</td>\n",
       "      <td>NaN</td>\n",
       "      <td>NaN</td>\n",
       "      <td>NaN</td>\n",
       "      <td>В сказочное подводное царство приглашают мален...</td>\n",
       "      <td>друзья, магия и волшебство, рыбы, моря и океан...</td>\n",
       "    </tr>\n",
       "  </tbody>\n",
       "</table>\n",
       "</div>"
      ],
      "text/plain": [
       "       item_id content_type             title title_orig  release_year  \\\n",
       "8297      6316       series  Машины-помощники        NaN        2016.0   \n",
       "12352    14409       series            БиБаБу        NaN        2017.0   \n",
       "\n",
       "                                                  genres countries  for_kids  \\\n",
       "8297   русские, для детей, сериалы, хочу всё знать, р...    Россия       NaN   \n",
       "12352  русские, сериалы, для детей, хочу всё знать, р...    Россия       NaN   \n",
       "\n",
       "       age_rating studios directors actors  \\\n",
       "8297          NaN     NaN       NaN    NaN   \n",
       "12352         NaN     NaN       NaN    NaN   \n",
       "\n",
       "                                             description  \\\n",
       "8297   Маленькие мальчики всего мира любят играть в м...   \n",
       "12352  В сказочное подводное царство приглашают мален...   \n",
       "\n",
       "                                                keywords  \n",
       "8297   Машины-помощники, 2017, Россия, работа, преодо...  \n",
       "12352  друзья, магия и волшебство, рыбы, моря и океан...  "
      ]
     },
     "execution_count": 41,
     "metadata": {},
     "output_type": "execute_result"
    }
   ],
   "source": [
    "without_age_rating = items[items['age_rating'].isna()]\n",
    "without_age_rating"
   ]
  },
  {
   "cell_type": "markdown",
   "id": "637548b5",
   "metadata": {},
   "source": [
    "Посмотрим, есть ли данные айтемы в `train`  выборке. Если нет, то хорошо, если есть, то два айтема вполне можно заполнить и руками."
   ]
  },
  {
   "cell_type": "code",
   "execution_count": 42,
   "id": "95c7e763",
   "metadata": {},
   "outputs": [
    {
     "data": {
      "text/plain": [
       "True"
      ]
     },
     "execution_count": 42,
     "metadata": {},
     "output_type": "execute_result"
    }
   ],
   "source": [
    "train['item_id'].isin(\n",
    "    items[items['age_rating'].isna()]['item_id']\n",
    ").any()"
   ]
  },
  {
   "cell_type": "code",
   "execution_count": 43,
   "id": "b7e2a6af",
   "metadata": {},
   "outputs": [
    {
     "data": {
      "text/plain": [
       "5"
      ]
     },
     "execution_count": 43,
     "metadata": {},
     "output_type": "execute_result"
    }
   ],
   "source": [
    "train[\n",
    "    train['item_id'].isin(\n",
    "    items[items['age_rating'].isna()]['item_id']\n",
    ")].shape[0]"
   ]
  },
  {
   "cell_type": "markdown",
   "id": "0ffbaae3",
   "metadata": {},
   "source": [
    "Дозаполним пропуски.\n",
    "\n",
    "Это мультфильмы для малышей, положим возрастной рейтинг равным $0$:"
   ]
  },
  {
   "cell_type": "code",
   "execution_count": 44,
   "id": "4020063d",
   "metadata": {},
   "outputs": [],
   "source": [
    "items.loc[without_age_rating.index, 'age_rating'] = [0, 0]"
   ]
  },
  {
   "cell_type": "code",
   "execution_count": 45,
   "id": "461989b6",
   "metadata": {},
   "outputs": [
    {
     "data": {
      "text/html": [
       "<div>\n",
       "<style scoped>\n",
       "    .dataframe tbody tr th:only-of-type {\n",
       "        vertical-align: middle;\n",
       "    }\n",
       "\n",
       "    .dataframe tbody tr th {\n",
       "        vertical-align: top;\n",
       "    }\n",
       "\n",
       "    .dataframe thead th {\n",
       "        text-align: right;\n",
       "    }\n",
       "</style>\n",
       "<table border=\"1\" class=\"dataframe\">\n",
       "  <thead>\n",
       "    <tr style=\"text-align: right;\">\n",
       "      <th></th>\n",
       "      <th>item_id</th>\n",
       "      <th>content_type</th>\n",
       "      <th>title</th>\n",
       "      <th>title_orig</th>\n",
       "      <th>release_year</th>\n",
       "      <th>genres</th>\n",
       "      <th>countries</th>\n",
       "      <th>for_kids</th>\n",
       "      <th>age_rating</th>\n",
       "      <th>studios</th>\n",
       "      <th>directors</th>\n",
       "      <th>actors</th>\n",
       "      <th>description</th>\n",
       "      <th>keywords</th>\n",
       "    </tr>\n",
       "  </thead>\n",
       "  <tbody>\n",
       "    <tr>\n",
       "      <th>8297</th>\n",
       "      <td>6316</td>\n",
       "      <td>series</td>\n",
       "      <td>Машины-помощники</td>\n",
       "      <td>NaN</td>\n",
       "      <td>2016.0</td>\n",
       "      <td>русские, для детей, сериалы, хочу всё знать, р...</td>\n",
       "      <td>Россия</td>\n",
       "      <td>NaN</td>\n",
       "      <td>0.0</td>\n",
       "      <td>NaN</td>\n",
       "      <td>NaN</td>\n",
       "      <td>NaN</td>\n",
       "      <td>Маленькие мальчики всего мира любят играть в м...</td>\n",
       "      <td>Машины-помощники, 2017, Россия, работа, преодо...</td>\n",
       "    </tr>\n",
       "    <tr>\n",
       "      <th>12352</th>\n",
       "      <td>14409</td>\n",
       "      <td>series</td>\n",
       "      <td>БиБаБу</td>\n",
       "      <td>NaN</td>\n",
       "      <td>2017.0</td>\n",
       "      <td>русские, сериалы, для детей, хочу всё знать, р...</td>\n",
       "      <td>Россия</td>\n",
       "      <td>NaN</td>\n",
       "      <td>0.0</td>\n",
       "      <td>NaN</td>\n",
       "      <td>NaN</td>\n",
       "      <td>NaN</td>\n",
       "      <td>В сказочное подводное царство приглашают мален...</td>\n",
       "      <td>друзья, магия и волшебство, рыбы, моря и океан...</td>\n",
       "    </tr>\n",
       "  </tbody>\n",
       "</table>\n",
       "</div>"
      ],
      "text/plain": [
       "       item_id content_type             title title_orig  release_year  \\\n",
       "8297      6316       series  Машины-помощники        NaN        2016.0   \n",
       "12352    14409       series            БиБаБу        NaN        2017.0   \n",
       "\n",
       "                                                  genres countries  for_kids  \\\n",
       "8297   русские, для детей, сериалы, хочу всё знать, р...    Россия       NaN   \n",
       "12352  русские, сериалы, для детей, хочу всё знать, р...    Россия       NaN   \n",
       "\n",
       "       age_rating studios directors actors  \\\n",
       "8297          0.0     NaN       NaN    NaN   \n",
       "12352         0.0     NaN       NaN    NaN   \n",
       "\n",
       "                                             description  \\\n",
       "8297   Маленькие мальчики всего мира любят играть в м...   \n",
       "12352  В сказочное подводное царство приглашают мален...   \n",
       "\n",
       "                                                keywords  \n",
       "8297   Машины-помощники, 2017, Россия, работа, преодо...  \n",
       "12352  друзья, магия и волшебство, рыбы, моря и океан...  "
      ]
     },
     "execution_count": 45,
     "metadata": {},
     "output_type": "execute_result"
    }
   ],
   "source": [
    "items.loc[without_age_rating.index]"
   ]
  },
  {
   "cell_type": "code",
   "execution_count": 46,
   "id": "f07d01c5",
   "metadata": {},
   "outputs": [
    {
     "data": {
      "text/plain": [
       "False"
      ]
     },
     "execution_count": 46,
     "metadata": {},
     "output_type": "execute_result"
    }
   ],
   "source": [
    "items['age_rating'].isna().any()"
   ]
  },
  {
   "cell_type": "markdown",
   "id": "1987d954",
   "metadata": {},
   "source": [
    "Сформируем признаки для пользователей:\n",
    "* Среднее время просмотра за один сеанс\n",
    "* Средний возростной рейтинг фильмов"
   ]
  },
  {
   "cell_type": "code",
   "execution_count": 47,
   "id": "6a8cc6f8",
   "metadata": {},
   "outputs": [],
   "source": [
    "from sklearn.preprocessing import MinMaxScaler"
   ]
  },
  {
   "cell_type": "code",
   "execution_count": 48,
   "id": "de527b20",
   "metadata": {},
   "outputs": [
    {
     "data": {
      "text/html": [
       "<div>\n",
       "<style scoped>\n",
       "    .dataframe tbody tr th:only-of-type {\n",
       "        vertical-align: middle;\n",
       "    }\n",
       "\n",
       "    .dataframe tbody tr th {\n",
       "        vertical-align: top;\n",
       "    }\n",
       "\n",
       "    .dataframe thead th {\n",
       "        text-align: right;\n",
       "    }\n",
       "</style>\n",
       "<table border=\"1\" class=\"dataframe\">\n",
       "  <thead>\n",
       "    <tr style=\"text-align: right;\">\n",
       "      <th></th>\n",
       "      <th>user_id</th>\n",
       "      <th>item_id</th>\n",
       "      <th>datetime</th>\n",
       "      <th>weight</th>\n",
       "      <th>watched_pct</th>\n",
       "    </tr>\n",
       "  </thead>\n",
       "  <tbody>\n",
       "    <tr>\n",
       "      <th>5</th>\n",
       "      <td>1032142</td>\n",
       "      <td>6686</td>\n",
       "      <td>2021-05-13</td>\n",
       "      <td>11286.0</td>\n",
       "      <td>100.0</td>\n",
       "    </tr>\n",
       "    <tr>\n",
       "      <th>13</th>\n",
       "      <td>602509</td>\n",
       "      <td>496</td>\n",
       "      <td>2021-08-06</td>\n",
       "      <td>10421.0</td>\n",
       "      <td>1.0</td>\n",
       "    </tr>\n",
       "  </tbody>\n",
       "</table>\n",
       "</div>"
      ],
      "text/plain": [
       "    user_id  item_id   datetime   weight  watched_pct\n",
       "5   1032142     6686 2021-05-13  11286.0        100.0\n",
       "13   602509      496 2021-08-06  10421.0          1.0"
      ]
     },
     "execution_count": 48,
     "metadata": {},
     "output_type": "execute_result"
    }
   ],
   "source": [
    "train_out_of_users.head(2)"
   ]
  },
  {
   "cell_type": "code",
   "execution_count": 49,
   "id": "ad9d115d",
   "metadata": {},
   "outputs": [],
   "source": [
    "train_out_features = train_out_of_users.merge(\n",
    "    items[['item_id', 'age_rating']], on='item_id', how='left'\n",
    ").groupby('user_id').agg(\n",
    "    **{'mean_weight': ('weight', 'mean'),\n",
    "       'mean_age_rating': ('age_rating', 'mean')}\n",
    ").round(2)"
   ]
  },
  {
   "cell_type": "code",
   "execution_count": 50,
   "id": "06fc415d",
   "metadata": {},
   "outputs": [],
   "source": [
    "minmax_scaler = MinMaxScaler()\n",
    "\n",
    "train_out_features['mean_weight_scaled'] =\\\n",
    "    minmax_scaler.fit_transform(train_out_features[['mean_weight']])"
   ]
  },
  {
   "cell_type": "code",
   "execution_count": 51,
   "id": "f96cf673",
   "metadata": {},
   "outputs": [
    {
     "data": {
      "text/html": [
       "<div>\n",
       "<style scoped>\n",
       "    .dataframe tbody tr th:only-of-type {\n",
       "        vertical-align: middle;\n",
       "    }\n",
       "\n",
       "    .dataframe tbody tr th {\n",
       "        vertical-align: top;\n",
       "    }\n",
       "\n",
       "    .dataframe thead th {\n",
       "        text-align: right;\n",
       "    }\n",
       "</style>\n",
       "<table border=\"1\" class=\"dataframe\">\n",
       "  <thead>\n",
       "    <tr style=\"text-align: right;\">\n",
       "      <th></th>\n",
       "      <th>user_id</th>\n",
       "      <th>mean_weight</th>\n",
       "      <th>mean_age_rating</th>\n",
       "      <th>mean_weight_scaled</th>\n",
       "    </tr>\n",
       "  </thead>\n",
       "  <tbody>\n",
       "    <tr>\n",
       "      <th>0</th>\n",
       "      <td>3</td>\n",
       "      <td>7227.89</td>\n",
       "      <td>16.11</td>\n",
       "      <td>0.003825</td>\n",
       "    </tr>\n",
       "    <tr>\n",
       "      <th>1</th>\n",
       "      <td>5</td>\n",
       "      <td>442.06</td>\n",
       "      <td>21.00</td>\n",
       "      <td>0.000233</td>\n",
       "    </tr>\n",
       "    <tr>\n",
       "      <th>2</th>\n",
       "      <td>14</td>\n",
       "      <td>450863.00</td>\n",
       "      <td>18.00</td>\n",
       "      <td>0.238652</td>\n",
       "    </tr>\n",
       "    <tr>\n",
       "      <th>3</th>\n",
       "      <td>15</td>\n",
       "      <td>4211.75</td>\n",
       "      <td>15.25</td>\n",
       "      <td>0.002229</td>\n",
       "    </tr>\n",
       "    <tr>\n",
       "      <th>4</th>\n",
       "      <td>27</td>\n",
       "      <td>30725.00</td>\n",
       "      <td>18.00</td>\n",
       "      <td>0.016263</td>\n",
       "    </tr>\n",
       "  </tbody>\n",
       "</table>\n",
       "</div>"
      ],
      "text/plain": [
       "   user_id  mean_weight  mean_age_rating  mean_weight_scaled\n",
       "0        3      7227.89            16.11            0.003825\n",
       "1        5       442.06            21.00            0.000233\n",
       "2       14    450863.00            18.00            0.238652\n",
       "3       15      4211.75            15.25            0.002229\n",
       "4       27     30725.00            18.00            0.016263"
      ]
     },
     "execution_count": 51,
     "metadata": {},
     "output_type": "execute_result"
    }
   ],
   "source": [
    "train_out_features.reset_index().head()"
   ]
  },
  {
   "cell_type": "code",
   "execution_count": 17,
   "id": "c50277d0",
   "metadata": {},
   "outputs": [],
   "source": [
    "import matplotlib.pyplot as plt"
   ]
  },
  {
   "cell_type": "code",
   "execution_count": 53,
   "id": "7eb34494",
   "metadata": {},
   "outputs": [
    {
     "data": {
      "image/png": "[encoded data removed]",
      "text/plain": [
       "<Figure size 640x480 with 1 Axes>"
      ]
     },
     "metadata": {},
     "output_type": "display_data"
    }
   ],
   "source": [
    "fig, ax = plt.subplots()\n",
    "ax.scatter(\n",
    "    train_out_features['mean_weight_scaled'],\n",
    "    train_out_features['mean_age_rating'])\n",
    "plt.show()"
   ]
  },
  {
   "cell_type": "markdown",
   "id": "38976658",
   "metadata": {},
   "source": [
    "Время просмотра содержит выбросы или просто очень большие значения и требует нормализации для использования его в качестве информативного фактора. Визуальная информативность признаков в целом отсутствует. Кажется, рейтинги фильмов смотрят примерно равномерно, но  небольшим перевесом между $13$ и $18$. Посмотрим на гистограмму данного признака:"
   ]
  },
  {
   "cell_type": "code",
   "execution_count": 54,
   "id": "a489958f",
   "metadata": {},
   "outputs": [
    {
     "data": {
      "text/plain": [
       "<AxesSubplot:>"
      ]
     },
     "execution_count": 54,
     "metadata": {},
     "output_type": "execute_result"
    },
    {
     "data": {
      "image/png": "[encoded data removed]",
      "text/plain": [
       "<Figure size 640x480 with 1 Axes>"
      ]
     },
     "metadata": {},
     "output_type": "display_data"
    }
   ],
   "source": [
    "train_out_features['mean_age_rating'].hist(bins=21)"
   ]
  },
  {
   "cell_type": "markdown",
   "id": "1b076d33",
   "metadata": {},
   "source": [
    "В целом признак среднего возрастного рейтинга можно использовать для сегментации юзеров, например:\n",
    "* от 0 до 7\n",
    "* от 7 до 13\n",
    "* от 13 до 14\n",
    "* от 14 до 16\n",
    "* от 16 до 21\n",
    "\n",
    "Из признаков, коррелирующих со временем просмотра, можно извлечь информацию о пользователях, которые смотрят очень много. Скорее всего таким пользователям разумно рекомендовать популярное или новое. Вопрос состоит в том, получится ли четко выделить таких пользователей."
   ]
  },
  {
   "cell_type": "code",
   "execution_count": 55,
   "id": "47bde43c",
   "metadata": {},
   "outputs": [
    {
     "data": {
      "text/plain": [
       "<AxesSubplot:>"
      ]
     },
     "execution_count": 55,
     "metadata": {},
     "output_type": "execute_result"
    },
    {
     "data": {
      "image/png": "[encoded data removed]",
      "text/plain": [
       "<Figure size 640x480 with 1 Axes>"
      ]
     },
     "metadata": {},
     "output_type": "display_data"
    }
   ],
   "source": [
    "train_out_features['mean_weight_scaled'].hist(bins=100)"
   ]
  },
  {
   "cell_type": "markdown",
   "id": "e583cce8",
   "metadata": {},
   "source": [
    "Можно изучить признак, который будет строиться из среднего числа взаимодействий, некоторым образом отшкалированный на время просмотра за тот же период и посомтреть, что получится. Однако пока что остановимся на том, что есть и перейдем к еще одному признаку.\n",
    "\n",
    "Рассмотрим признак, на основе типа контента - сериал/фильм."
   ]
  },
  {
   "cell_type": "code",
   "execution_count": 56,
   "id": "3c45aa61",
   "metadata": {},
   "outputs": [
    {
     "data": {
      "text/plain": [
       "False"
      ]
     },
     "execution_count": 56,
     "metadata": {},
     "output_type": "execute_result"
    }
   ],
   "source": [
    "items['content_type'].isna().any()"
   ]
  },
  {
   "cell_type": "code",
   "execution_count": 57,
   "id": "66cfcd27",
   "metadata": {},
   "outputs": [
    {
     "data": {
      "text/plain": [
       "array(['film', 'series'], dtype=object)"
      ]
     },
     "execution_count": 57,
     "metadata": {},
     "output_type": "execute_result"
    }
   ],
   "source": [
    "items['content_type'].unique()"
   ]
  },
  {
   "cell_type": "markdown",
   "id": "222cde4f",
   "metadata": {},
   "source": [
    "Попробуем оценить, что больше предпочитает тот или иной пользователь - сериалы, фильмы или и то и другое. Для этого посчитаем отношение сериалов к фильмам с учетом весов."
   ]
  },
  {
   "cell_type": "code",
   "execution_count": 58,
   "id": "b2df8a0b",
   "metadata": {
    "scrolled": true
   },
   "outputs": [],
   "source": [
    "content_type_map = {'film': 0, 'series': 1}\n",
    "\n",
    "def figure_content_type(content_type_col):\n",
    "    return np.average(\n",
    "        content_type_col,\n",
    "        weights=train_content_type.loc[\n",
    "            content_type_col.index, 'weight']\n",
    "    )\n",
    "\n",
    "\n",
    "train_content_type = train_out_of_users.merge(\n",
    "    items[['item_id', 'content_type']], on='item_id', how='left'\n",
    ")\n",
    "train_content_type['content_type'] = train_content_type[\n",
    "    'content_type'\n",
    "].map(content_type_map.get)"
   ]
  },
  {
   "cell_type": "code",
   "execution_count": 59,
   "id": "e276af47",
   "metadata": {},
   "outputs": [],
   "source": [
    "train_content_type_rate = train_content_type.groupby('user_id').agg(\n",
    "    **{'content_type_rate': ('content_type', figure_content_type)}\n",
    ")"
   ]
  },
  {
   "cell_type": "code",
   "execution_count": 63,
   "id": "4cad6021",
   "metadata": {},
   "outputs": [],
   "source": [
    "train_content_type_rate.reset_index().to_csv(\n",
    "    'kion_train/train_out_users_content_type_rate.csv',\n",
    "    index=False\n",
    ")"
   ]
  },
  {
   "cell_type": "code",
   "execution_count": 64,
   "id": "e7757fd5",
   "metadata": {},
   "outputs": [],
   "source": [
    "train_content_type_rate = pd.read_csv(\n",
    "    'kion_train/train_out_users_content_type_rate.csv')"
   ]
  },
  {
   "cell_type": "code",
   "execution_count": 65,
   "id": "a58e7471",
   "metadata": {},
   "outputs": [
    {
     "data": {
      "text/html": [
       "<div>\n",
       "<style scoped>\n",
       "    .dataframe tbody tr th:only-of-type {\n",
       "        vertical-align: middle;\n",
       "    }\n",
       "\n",
       "    .dataframe tbody tr th {\n",
       "        vertical-align: top;\n",
       "    }\n",
       "\n",
       "    .dataframe thead th {\n",
       "        text-align: right;\n",
       "    }\n",
       "</style>\n",
       "<table border=\"1\" class=\"dataframe\">\n",
       "  <thead>\n",
       "    <tr style=\"text-align: right;\">\n",
       "      <th></th>\n",
       "      <th>user_id</th>\n",
       "      <th>content_type_rate</th>\n",
       "    </tr>\n",
       "  </thead>\n",
       "  <tbody>\n",
       "    <tr>\n",
       "      <th>0</th>\n",
       "      <td>3</td>\n",
       "      <td>0.533969</td>\n",
       "    </tr>\n",
       "    <tr>\n",
       "      <th>1</th>\n",
       "      <td>5</td>\n",
       "      <td>0.000000</td>\n",
       "    </tr>\n",
       "    <tr>\n",
       "      <th>2</th>\n",
       "      <td>14</td>\n",
       "      <td>1.000000</td>\n",
       "    </tr>\n",
       "  </tbody>\n",
       "</table>\n",
       "</div>"
      ],
      "text/plain": [
       "   user_id  content_type_rate\n",
       "0        3           0.533969\n",
       "1        5           0.000000\n",
       "2       14           1.000000"
      ]
     },
     "execution_count": 65,
     "metadata": {},
     "output_type": "execute_result"
    }
   ],
   "source": [
    "train_content_type_rate.head(3)"
   ]
  },
  {
   "cell_type": "code",
   "execution_count": 66,
   "id": "423d0db9",
   "metadata": {},
   "outputs": [
    {
     "data": {
      "image/png": "[encoded data removed]",
      "text/plain": [
       "<Figure size 640x480 with 1 Axes>"
      ]
     },
     "metadata": {},
     "output_type": "display_data"
    }
   ],
   "source": [
    "fig, ax = plt.subplots()\n",
    "ax.hist(train_content_type_rate['content_type_rate'], bins=30)\n",
    "ax.plot([0.07, 0.07], [0, 300000], 'r--')\n",
    "ax.text(0.1, 200000, 'rate=0.07')\n",
    "ax.plot([0.93, 0.93], [0, 300000], 'r--')\n",
    "ax.text(0.75, 200000, 'rate=0.93')\n",
    "plt.show()"
   ]
  },
  {
   "cell_type": "markdown",
   "id": "58f44564",
   "metadata": {},
   "source": [
    "Можно предположить, что пользователи с рейтингом типа фильма меньше $0.07$ больше предпочитают фильмы, а выше $0.93$ - сериалы. Однако данный результат был получен в том числе с тех пользователей, кто посмотрели небольшое количество картин и делать выводы на такой выборке не стоит. Посмотрим на распределение количества числа взаимодействий:"
   ]
  },
  {
   "cell_type": "code",
   "execution_count": 67,
   "id": "ed114023",
   "metadata": {},
   "outputs": [
    {
     "data": {
      "text/plain": [
       "<AxesSubplot:>"
      ]
     },
     "execution_count": 67,
     "metadata": {},
     "output_type": "execute_result"
    },
    {
     "data": {
      "image/png": "[encoded data removed]",
      "text/plain": [
       "<Figure size 640x480 with 1 Axes>"
      ]
     },
     "metadata": {},
     "output_type": "display_data"
    }
   ],
   "source": [
    "train_out_of_users.groupby('user_id').count()['item_id'].hist(\n",
    "    bins=100\n",
    ")"
   ]
  },
  {
   "cell_type": "markdown",
   "id": "8457244d",
   "metadata": {},
   "source": [
    "Видно, что лишь небольшое количество пользователей от всей массы имеют репрезентативное количество взаимодействий."
   ]
  },
  {
   "cell_type": "code",
   "execution_count": 68,
   "id": "1bdf408c",
   "metadata": {},
   "outputs": [
    {
     "data": {
      "text/plain": [
       "<AxesSubplot:>"
      ]
     },
     "execution_count": 68,
     "metadata": {},
     "output_type": "execute_result"
    },
    {
     "data": {
      "image/png": "[encoded data removed]",
      "text/plain": [
       "<Figure size 640x480 with 1 Axes>"
      ]
     },
     "metadata": {},
     "output_type": "display_data"
    }
   ],
   "source": [
    "count_inters = train_out_of_users.groupby('user_id').count()\n",
    "count_inters[count_inters['item_id'] < 50]['item_id'].hist(\n",
    "    bins=50\n",
    ")"
   ]
  },
  {
   "cell_type": "markdown",
   "id": "a32d637d",
   "metadata": {},
   "source": [
    "Рассмотрим пользователей, которые имеют более $15$ взаимодействий:"
   ]
  },
  {
   "cell_type": "code",
   "execution_count": 69,
   "id": "c7605595",
   "metadata": {},
   "outputs": [],
   "source": [
    "users_inters_more_15 = count_inters.reset_index()[\n",
    "    count_inters.reset_index()['item_id'] > 15\n",
    "]['user_id']"
   ]
  },
  {
   "cell_type": "code",
   "execution_count": 70,
   "id": "0a0f77ed",
   "metadata": {},
   "outputs": [],
   "source": [
    "train_u15_content_type = train_out_of_users[\n",
    "    train_out_of_users['user_id'].isin(users_inters_more_15)\n",
    "].merge(\n",
    "    items[['item_id', 'content_type']], on='item_id', how='left'\n",
    ")\n",
    "train_u15_content_type['content_type'] = train_u15_content_type[\n",
    "    'content_type'\n",
    "].map(content_type_map.get)\n",
    "\n",
    "train_u15_content_type_rate = (\n",
    "    train_u15_content_type\n",
    "    .groupby('user_id')\n",
    "    .agg(\n",
    "        **{'content_type_rate': ('content_type',\n",
    "                                 figure_content_type)}\n",
    "    )\n",
    ")"
   ]
  },
  {
   "cell_type": "code",
   "execution_count": 71,
   "id": "444bb423",
   "metadata": {},
   "outputs": [
    {
     "data": {
      "image/png": "[encoded data removed]",
      "text/plain": [
       "<Figure size 640x480 with 1 Axes>"
      ]
     },
     "metadata": {},
     "output_type": "display_data"
    }
   ],
   "source": [
    "fig, ax = plt.subplots()\n",
    "ax.hist(train_u15_content_type_rate['content_type_rate'], bins=100)\n",
    "ax.plot([0.01, 0.01], [0, 10000], 'r--')\n",
    "ax.text(0.05, 6000, 'rate=0.01')\n",
    "plt.show()"
   ]
  },
  {
   "cell_type": "markdown",
   "id": "1a176012",
   "metadata": {},
   "source": [
    "Теперь можно предполагать, что пользователи, посмотревшие более $15$ картин, больше предпочитают фильмы, если соответсвующий рейтинг типа картины меньше $0.01$. Однако в виду того, что распределение рейтингов несимметричное, не понятно, в какой момент пользователи отдают предпочтение сериалам.\n",
    "\n",
    "Скорее всего здесь можно уменьшить количество классов до двух:\n",
    "* $\\leq0.01$ фильмы\n",
    "* $>0.01$ фильмы или сериалы\n",
    "\n",
    "По итогу будем использовать следующие сегменты для разделения пользователей, о которых у нас нет никаких данных кроме взаимодейтвий:\n",
    "\n",
    "1) По среднему возрастному рейтингу просмотренных картин:\n",
    "  * от 0 до 7\n",
    "  * от 7 до 13\n",
    "  * от 13 до 14\n",
    "  * от 14 до 16\n",
    "  * от 16 до 21\n",
    "  \n",
    "  \n",
    "2) По предпочтениям типа контента для пользователей с количеством просмотров > 15:\n",
    "  * $\\leq0.01$ фильмы\n",
    "  * $>0.01$ фильмы или сериалы\n",
    "\n",
    "\n",
    "3) Без разбиения в принципе"
   ]
  },
  {
   "cell_type": "code",
   "execution_count": 72,
   "id": "be323f74",
   "metadata": {},
   "outputs": [],
   "source": [
    "train_out_features_final = (\n",
    "    train_out_features.reset_index()[['user_id', 'mean_age_rating']]\n",
    "    .merge(train_u15_content_type_rate, on='user_id', how='left')\n",
    ")"
   ]
  },
  {
   "cell_type": "code",
   "execution_count": 74,
   "id": "241330da",
   "metadata": {},
   "outputs": [],
   "source": [
    "age_rate_bins = [-0.1, 7, 13, 14, 16, 23]\n",
    "train_out_features_final['segm_age_rate'] = pd.cut(\n",
    "    train_out_features_final['mean_age_rating'],\n",
    "    bins=age_rate_bins, labels=range(len(age_rate_bins)-1)\n",
    ").astype(int)"
   ]
  },
  {
   "cell_type": "code",
   "execution_count": 75,
   "id": "27f2ddc0",
   "metadata": {},
   "outputs": [],
   "source": [
    "content_rate_bins = [-0.1, 0.01, 1.1]\n",
    "train_out_features_final['segm_content_rate'] = pd.cut(\n",
    "    train_out_features_final['content_type_rate'],\n",
    "    bins=content_rate_bins, labels=range(len(content_rate_bins)-1)\n",
    ").astype(float)\n",
    "\n",
    "segm_conten_na_indx = train_out_features_final[\n",
    "    train_out_features_final['segm_content_rate'].isna()\n",
    "].index\n",
    "\n",
    "train_out_features_final.loc[\n",
    "    segm_conten_na_indx, 'segm_content_rate'\n",
    "] = train_out_features_final['segm_content_rate'].max() + 1\n",
    "\n",
    "train_out_features_final.loc[\n",
    "    train_out_features_final.index, 'segm_content_rate'\n",
    "] = train_out_features_final['segm_content_rate'].astype(int)"
   ]
  },
  {
   "cell_type": "code",
   "execution_count": 79,
   "id": "45cae813",
   "metadata": {},
   "outputs": [],
   "source": [
    "age_and_content = ['segm_age_rate', 'segm_content_rate']\n",
    "segment_age_and_content = split_into_segments(\n",
    "    train_out_features_final, age_and_content).rename(\n",
    "    columns={'segm': 'segm_age_and_content_rate'}\n",
    ")\n",
    "\n",
    "train_out_features_final = pd.merge(\n",
    "    train_out_features_final,\n",
    "    segment_age_and_content,\n",
    "    on='user_id', how='left'\n",
    ")"
   ]
  },
  {
   "cell_type": "code",
   "execution_count": 80,
   "id": "a36a0b0a",
   "metadata": {},
   "outputs": [],
   "source": [
    "train_out_features_final['segm_without'] = 0"
   ]
  },
  {
   "cell_type": "code",
   "execution_count": 81,
   "id": "ba9c07ec",
   "metadata": {},
   "outputs": [],
   "source": [
    "train_out_features_final.drop(\n",
    "    columns=['mean_age_rating', 'content_type_rate'], inplace=True\n",
    ")"
   ]
  },
  {
   "cell_type": "code",
   "execution_count": 82,
   "id": "3e142c7b",
   "metadata": {},
   "outputs": [],
   "source": [
    "train_out_features_final.to_csv(\n",
    "    'segm_train_out_users.csv',\n",
    "    index=False\n",
    ")"
   ]
  },
  {
   "cell_type": "code",
   "execution_count": 17,
   "id": "d4efcf39",
   "metadata": {},
   "outputs": [],
   "source": [
    "segm_train_out_users = pd.read_csv('segm_train_out_users.csv')"
   ]
  },
  {
   "cell_type": "code",
   "execution_count": 18,
   "id": "2085df7c",
   "metadata": {},
   "outputs": [
    {
     "data": {
      "text/html": [
       "<div>\n",
       "<style scoped>\n",
       "    .dataframe tbody tr th:only-of-type {\n",
       "        vertical-align: middle;\n",
       "    }\n",
       "\n",
       "    .dataframe tbody tr th {\n",
       "        vertical-align: top;\n",
       "    }\n",
       "\n",
       "    .dataframe thead th {\n",
       "        text-align: right;\n",
       "    }\n",
       "</style>\n",
       "<table border=\"1\" class=\"dataframe\">\n",
       "  <thead>\n",
       "    <tr style=\"text-align: right;\">\n",
       "      <th></th>\n",
       "      <th>user_id</th>\n",
       "      <th>segm_age_rate</th>\n",
       "      <th>segm_content_rate</th>\n",
       "      <th>segm_without</th>\n",
       "      <th>segm_age_and_content_rate</th>\n",
       "    </tr>\n",
       "  </thead>\n",
       "  <tbody>\n",
       "    <tr>\n",
       "      <th>0</th>\n",
       "      <td>3</td>\n",
       "      <td>4</td>\n",
       "      <td>1</td>\n",
       "      <td>0</td>\n",
       "      <td>13</td>\n",
       "    </tr>\n",
       "    <tr>\n",
       "      <th>1</th>\n",
       "      <td>5</td>\n",
       "      <td>4</td>\n",
       "      <td>0</td>\n",
       "      <td>0</td>\n",
       "      <td>12</td>\n",
       "    </tr>\n",
       "    <tr>\n",
       "      <th>2</th>\n",
       "      <td>14</td>\n",
       "      <td>4</td>\n",
       "      <td>2</td>\n",
       "      <td>0</td>\n",
       "      <td>14</td>\n",
       "    </tr>\n",
       "    <tr>\n",
       "      <th>184590</th>\n",
       "      <td>1097515</td>\n",
       "      <td>3</td>\n",
       "      <td>2</td>\n",
       "      <td>0</td>\n",
       "      <td>11</td>\n",
       "    </tr>\n",
       "    <tr>\n",
       "      <th>184591</th>\n",
       "      <td>1097534</td>\n",
       "      <td>3</td>\n",
       "      <td>2</td>\n",
       "      <td>0</td>\n",
       "      <td>11</td>\n",
       "    </tr>\n",
       "    <tr>\n",
       "      <th>184592</th>\n",
       "      <td>1097552</td>\n",
       "      <td>4</td>\n",
       "      <td>2</td>\n",
       "      <td>0</td>\n",
       "      <td>14</td>\n",
       "    </tr>\n",
       "  </tbody>\n",
       "</table>\n",
       "</div>"
      ],
      "text/plain": [
       "        user_id  segm_age_rate  segm_content_rate  segm_without  \\\n",
       "0             3              4                  1             0   \n",
       "1             5              4                  0             0   \n",
       "2            14              4                  2             0   \n",
       "184590  1097515              3                  2             0   \n",
       "184591  1097534              3                  2             0   \n",
       "184592  1097552              4                  2             0   \n",
       "\n",
       "        segm_age_and_content_rate  \n",
       "0                              13  \n",
       "1                              12  \n",
       "2                              14  \n",
       "184590                         11  \n",
       "184591                         11  \n",
       "184592                         14  "
      ]
     },
     "execution_count": 18,
     "metadata": {},
     "output_type": "execute_result"
    }
   ],
   "source": [
    "pd.concat([\n",
    "    segm_train_out_users.head(3),\n",
    "    segm_train_out_users.tail(3)\n",
    "])"
   ]
  },
  {
   "cell_type": "markdown",
   "id": "8332a554",
   "metadata": {},
   "source": [
    "Протестируем модель на данной части пользователей"
   ]
  },
  {
   "cell_type": "markdown",
   "id": "3cdd2334",
   "metadata": {},
   "source": [
    "### kNN с дополнением популярным_"
   ]
  },
  {
   "cell_type": "code",
   "execution_count": 85,
   "id": "012a9e44",
   "metadata": {},
   "outputs": [],
   "source": [
    "# out train segm age rate\n",
    "base_estimator_kwargs = {'pop_items': items_pop_ordered}\n",
    "sub_estimators_predict_kwargs = {'complete_method': 'popular'}\n",
    "\n",
    "segment_out_train_pop_kNN_age = SegmentKNN(\n",
    "    base_estimator=UserKnnComplete,\n",
    "    sub_estimator=CosineRecommender,\n",
    "    base_estimator_kwargs=base_estimator_kwargs,\n",
    "    sub_estimators_predict_kwargs=sub_estimators_predict_kwargs\n",
    ")"
   ]
  },
  {
   "cell_type": "code",
   "execution_count": 86,
   "id": "1a8a0a43",
   "metadata": {},
   "outputs": [
    {
     "data": {
      "application/vnd.jupyter.widget-view+json": {
       "model_id": "ea8a173f333a420b86f1929f3a0a04ca",
       "version_major": 2,
       "version_minor": 0
      },
      "text/plain": [
       "  0%|          | 0/90491 [00:00<?, ?it/s]"
      ]
     },
     "metadata": {},
     "output_type": "display_data"
    },
    {
     "data": {
      "application/vnd.jupyter.widget-view+json": {
       "model_id": "7197517f6f4941c392d8f3a805535b86",
       "version_major": 2,
       "version_minor": 0
      },
      "text/plain": [
       "  0%|          | 0/60511 [00:00<?, ?it/s]"
      ]
     },
     "metadata": {},
     "output_type": "display_data"
    },
    {
     "data": {
      "application/vnd.jupyter.widget-view+json": {
       "model_id": "bc3c0f5331974d9787336b574c8fd596",
       "version_major": 2,
       "version_minor": 0
      },
      "text/plain": [
       "  0%|          | 0/8243 [00:00<?, ?it/s]"
      ]
     },
     "metadata": {},
     "output_type": "display_data"
    },
    {
     "data": {
      "application/vnd.jupyter.widget-view+json": {
       "model_id": "aaf840d5692f4daea0207aa53697d20a",
       "version_major": 2,
       "version_minor": 0
      },
      "text/plain": [
       "  0%|          | 0/17271 [00:00<?, ?it/s]"
      ]
     },
     "metadata": {},
     "output_type": "display_data"
    },
    {
     "data": {
      "application/vnd.jupyter.widget-view+json": {
       "model_id": "63f351cd1d714a1ea527de295679d7c6",
       "version_major": 2,
       "version_minor": 0
      },
      "text/plain": [
       "  0%|          | 0/8077 [00:00<?, ?it/s]"
      ]
     },
     "metadata": {},
     "output_type": "display_data"
    }
   ],
   "source": [
    "segment_out_train_pop_kNN_age.fit(\n",
    "    train, segm_train_out_users, 'segm_age_rate')"
   ]
  },
  {
   "cell_type": "code",
   "execution_count": 87,
   "id": "3ccd8f31",
   "metadata": {},
   "outputs": [],
   "source": [
    "segm_out_train_age_pop_knn_recs = pd.concat([\n",
    "    segment_out_train_pop_kNN_age.predict(test.iloc[:69174]),\n",
    "    segment_out_train_pop_kNN_age.predict(test.iloc[69174:138349]),\n",
    "    segment_out_train_pop_kNN_age.predict(test.iloc[138349:207524]),\n",
    "    segment_out_train_pop_kNN_age.predict(test.iloc[207524:])\n",
    "])"
   ]
  },
  {
   "cell_type": "code",
   "execution_count": 88,
   "id": "327268dd",
   "metadata": {},
   "outputs": [
    {
     "data": {
      "text/plain": [
       "0.008437109919718902"
      ]
     },
     "execution_count": 88,
     "metadata": {},
     "output_type": "execute_result"
    }
   ],
   "source": [
    "metric.calc(segm_out_train_age_pop_knn_recs, test)"
   ]
  },
  {
   "cell_type": "code",
   "execution_count": 93,
   "id": "54d0cd7b",
   "metadata": {},
   "outputs": [],
   "source": [
    "# out train segm content rate\n",
    "base_estimator_kwargs = {'pop_items': items_pop_ordered}\n",
    "sub_estimators_predict_kwargs = {'complete_method': 'popular'}\n",
    "\n",
    "segment_out_train_pop_kNN_content = SegmentKNN(\n",
    "    base_estimator=UserKnnComplete,\n",
    "    sub_estimator=CosineRecommender,\n",
    "    base_estimator_kwargs=base_estimator_kwargs,\n",
    "    sub_estimators_predict_kwargs=sub_estimators_predict_kwargs\n",
    ")"
   ]
  },
  {
   "cell_type": "code",
   "execution_count": 94,
   "id": "05b52f0a",
   "metadata": {},
   "outputs": [
    {
     "data": {
      "application/vnd.jupyter.widget-view+json": {
       "model_id": "2952a39c8ed64f30adb549b46c961503",
       "version_major": 2,
       "version_minor": 0
      },
      "text/plain": [
       "  0%|          | 0/8454 [00:00<?, ?it/s]"
      ]
     },
     "metadata": {},
     "output_type": "display_data"
    },
    {
     "data": {
      "application/vnd.jupyter.widget-view+json": {
       "model_id": "fee26226224141ce8c400b0c852aee7f",
       "version_major": 2,
       "version_minor": 0
      },
      "text/plain": [
       "  0%|          | 0/1823 [00:00<?, ?it/s]"
      ]
     },
     "metadata": {},
     "output_type": "display_data"
    },
    {
     "data": {
      "application/vnd.jupyter.widget-view+json": {
       "model_id": "d87cd0b942874a13bb05a371b06ba533",
       "version_major": 2,
       "version_minor": 0
      },
      "text/plain": [
       "  0%|          | 0/174316 [00:00<?, ?it/s]"
      ]
     },
     "metadata": {},
     "output_type": "display_data"
    }
   ],
   "source": [
    "segment_out_train_pop_kNN_content.fit(\n",
    "    train, segm_train_out_users, 'segm_content_rate')"
   ]
  },
  {
   "cell_type": "code",
   "execution_count": 95,
   "id": "a55270f5",
   "metadata": {},
   "outputs": [],
   "source": [
    "segm_out_train_content_pop_knn_recs = pd.concat([\n",
    "    segment_out_train_pop_kNN_content.predict(test.iloc[:69174]),\n",
    "    segment_out_train_pop_kNN_content.predict(test.iloc[69174:138349]),\n",
    "    segment_out_train_pop_kNN_content.predict(test.iloc[138349:207524]),\n",
    "    segment_out_train_pop_kNN_content.predict(test.iloc[207524:])\n",
    "])"
   ]
  },
  {
   "cell_type": "code",
   "execution_count": 96,
   "id": "8ce58bd9",
   "metadata": {},
   "outputs": [
    {
     "data": {
      "text/plain": [
       "0.00920165505326036"
      ]
     },
     "execution_count": 96,
     "metadata": {},
     "output_type": "execute_result"
    }
   ],
   "source": [
    "metric.calc(segm_out_train_content_pop_knn_recs, test)"
   ]
  },
  {
   "cell_type": "code",
   "execution_count": 97,
   "id": "44165357",
   "metadata": {},
   "outputs": [],
   "source": [
    "# out train segm age and content rate\n",
    "base_estimator_kwargs = {'pop_items': items_pop_ordered}\n",
    "sub_estimators_predict_kwargs = {'complete_method': 'popular'}\n",
    "\n",
    "segment_out_train_pop_kNN_age_and_content = SegmentKNN(\n",
    "    base_estimator=UserKnnComplete,\n",
    "    sub_estimator=CosineRecommender,\n",
    "    base_estimator_kwargs=base_estimator_kwargs,\n",
    "    sub_estimators_predict_kwargs=sub_estimators_predict_kwargs\n",
    ")"
   ]
  },
  {
   "cell_type": "code",
   "execution_count": 98,
   "id": "7a70fd39",
   "metadata": {
    "scrolled": true
   },
   "outputs": [
    {
     "data": {
      "application/vnd.jupyter.widget-view+json": {
       "model_id": "66b5b2ed2f1944438d53ba15e14b8c25",
       "version_major": 2,
       "version_minor": 0
      },
      "text/plain": [
       "  0%|          | 0/1581 [00:00<?, ?it/s]"
      ]
     },
     "metadata": {},
     "output_type": "display_data"
    },
    {
     "data": {
      "application/vnd.jupyter.widget-view+json": {
       "model_id": "4f3ca8fc354944248d690164a0b3bb38",
       "version_major": 2,
       "version_minor": 0
      },
      "text/plain": [
       "  0%|          | 0/311 [00:00<?, ?it/s]"
      ]
     },
     "metadata": {},
     "output_type": "display_data"
    },
    {
     "data": {
      "application/vnd.jupyter.widget-view+json": {
       "model_id": "881f6314c8c64e67adc0bb93e80797e6",
       "version_major": 2,
       "version_minor": 0
      },
      "text/plain": [
       "  0%|          | 0/88599 [00:00<?, ?it/s]"
      ]
     },
     "metadata": {},
     "output_type": "display_data"
    },
    {
     "data": {
      "application/vnd.jupyter.widget-view+json": {
       "model_id": "992a3cc256f54b81be86da640d47e4c3",
       "version_major": 2,
       "version_minor": 0
      },
      "text/plain": [
       "  0%|          | 0/55853 [00:00<?, ?it/s]"
      ]
     },
     "metadata": {},
     "output_type": "display_data"
    },
    {
     "data": {
      "application/vnd.jupyter.widget-view+json": {
       "model_id": "c0b40c827ad149fc81e9d9296581884c",
       "version_major": 2,
       "version_minor": 0
      },
      "text/plain": [
       "  0%|          | 0/7124 [00:00<?, ?it/s]"
      ]
     },
     "metadata": {},
     "output_type": "display_data"
    },
    {
     "data": {
      "application/vnd.jupyter.widget-view+json": {
       "model_id": "58a2cf645bbb4a7d8003d9de46b171ad",
       "version_major": 2,
       "version_minor": 0
      },
      "text/plain": [
       "  0%|          | 0/15220 [00:00<?, ?it/s]"
      ]
     },
     "metadata": {},
     "output_type": "display_data"
    },
    {
     "data": {
      "application/vnd.jupyter.widget-view+json": {
       "model_id": "167cc341592d426985fe2d0d3a12df37",
       "version_major": 2,
       "version_minor": 0
      },
      "text/plain": [
       "  0%|          | 0/457 [00:00<?, ?it/s]"
      ]
     },
     "metadata": {},
     "output_type": "display_data"
    },
    {
     "data": {
      "application/vnd.jupyter.widget-view+json": {
       "model_id": "4208a124ac51455cb2b90726ccfec33b",
       "version_major": 2,
       "version_minor": 0
      },
      "text/plain": [
       "  0%|          | 0/3944 [00:00<?, ?it/s]"
      ]
     },
     "metadata": {},
     "output_type": "display_data"
    },
    {
     "data": {
      "application/vnd.jupyter.widget-view+json": {
       "model_id": "c590ed2ab962488d85e029129d45ada9",
       "version_major": 2,
       "version_minor": 0
      },
      "text/plain": [
       "  0%|          | 0/7520 [00:00<?, ?it/s]"
      ]
     },
     "metadata": {},
     "output_type": "display_data"
    },
    {
     "data": {
      "application/vnd.jupyter.widget-view+json": {
       "model_id": "14857e3b30ba45deaf26b7d226865668",
       "version_major": 2,
       "version_minor": 0
      },
      "text/plain": [
       "  0%|          | 0/902 [00:00<?, ?it/s]"
      ]
     },
     "metadata": {},
     "output_type": "display_data"
    },
    {
     "data": {
      "application/vnd.jupyter.widget-view+json": {
       "model_id": "151bf5ec2e77428f9bb42e1af5408006",
       "version_major": 2,
       "version_minor": 0
      },
      "text/plain": [
       "  0%|          | 0/1594 [00:00<?, ?it/s]"
      ]
     },
     "metadata": {},
     "output_type": "display_data"
    },
    {
     "data": {
      "application/vnd.jupyter.widget-view+json": {
       "model_id": "c2579bd7cd1b4876b0dfa587db8222c3",
       "version_major": 2,
       "version_minor": 0
      },
      "text/plain": [
       "  0%|          | 0/714 [00:00<?, ?it/s]"
      ]
     },
     "metadata": {},
     "output_type": "display_data"
    },
    {
     "data": {
      "application/vnd.jupyter.widget-view+json": {
       "model_id": "02f207d315444b5aa386d683c6783c89",
       "version_major": 2,
       "version_minor": 0
      },
      "text/plain": [
       "  0%|          | 0/433 [00:00<?, ?it/s]"
      ]
     },
     "metadata": {},
     "output_type": "display_data"
    },
    {
     "data": {
      "application/vnd.jupyter.widget-view+json": {
       "model_id": "f766c0af91ac4fb9993d04fd765cccbb",
       "version_major": 2,
       "version_minor": 0
      },
      "text/plain": [
       "  0%|          | 0/217 [00:00<?, ?it/s]"
      ]
     },
     "metadata": {},
     "output_type": "display_data"
    },
    {
     "data": {
      "application/vnd.jupyter.widget-view+json": {
       "model_id": "420d1fa4247a4029a7da4e8e31b1202d",
       "version_major": 2,
       "version_minor": 0
      },
      "text/plain": [
       "  0%|          | 0/124 [00:00<?, ?it/s]"
      ]
     },
     "metadata": {},
     "output_type": "display_data"
    }
   ],
   "source": [
    "segment_out_train_pop_kNN_age_and_content.fit(\n",
    "    train, segm_train_out_users, 'segm_age_and_content_rate')"
   ]
  },
  {
   "cell_type": "code",
   "execution_count": 99,
   "id": "61dd298b",
   "metadata": {},
   "outputs": [],
   "source": [
    "segm_out_train_age_and_content_pop_knn_recs = pd.concat([\n",
    "    segment_out_train_pop_kNN_age_and_content.predict(test.iloc[:69174]),\n",
    "    segment_out_train_pop_kNN_age_and_content.predict(test.iloc[69174:138349]),\n",
    "    segment_out_train_pop_kNN_age_and_content.predict(test.iloc[138349:207524]),\n",
    "    segment_out_train_pop_kNN_age_and_content.predict(test.iloc[207524:])\n",
    "])"
   ]
  },
  {
   "cell_type": "code",
   "execution_count": 100,
   "id": "c21d7ba3",
   "metadata": {},
   "outputs": [
    {
     "data": {
      "text/plain": [
       "0.008405746078120368"
      ]
     },
     "execution_count": 100,
     "metadata": {},
     "output_type": "execute_result"
    }
   ],
   "source": [
    "metric.calc(segm_out_train_age_and_content_pop_knn_recs, test)"
   ]
  },
  {
   "cell_type": "code",
   "execution_count": 101,
   "id": "e9b10e94",
   "metadata": {},
   "outputs": [],
   "source": [
    "# out train without segm\n",
    "base_estimator_kwargs = {'pop_items': items_pop_ordered}\n",
    "sub_estimators_predict_kwargs = {'complete_method': 'popular'}\n",
    "\n",
    "segment_out_train_pop_kNN_without_segm = SegmentKNN(\n",
    "    base_estimator=UserKnnComplete,\n",
    "    sub_estimator=CosineRecommender,\n",
    "    base_estimator_kwargs=base_estimator_kwargs,\n",
    "    sub_estimators_predict_kwargs=sub_estimators_predict_kwargs\n",
    ")"
   ]
  },
  {
   "cell_type": "code",
   "execution_count": 102,
   "id": "d280ba16",
   "metadata": {},
   "outputs": [
    {
     "data": {
      "application/vnd.jupyter.widget-view+json": {
       "model_id": "d974390317374e319e10bed0001cf221",
       "version_major": 2,
       "version_minor": 0
      },
      "text/plain": [
       "  0%|          | 0/184593 [00:00<?, ?it/s]"
      ]
     },
     "metadata": {},
     "output_type": "display_data"
    }
   ],
   "source": [
    "segment_out_train_pop_kNN_without_segm.fit(\n",
    "    train, segm_train_out_users, 'segm_without')"
   ]
  },
  {
   "cell_type": "code",
   "execution_count": 103,
   "id": "a4e81394",
   "metadata": {},
   "outputs": [],
   "source": [
    "segm_out_train_without_segm_pop_knn_recs = pd.concat([\n",
    "    segment_out_train_pop_kNN_without_segm.predict(test.iloc[:69174]),\n",
    "    segment_out_train_pop_kNN_without_segm.predict(test.iloc[69174:138349]),\n",
    "    segment_out_train_pop_kNN_without_segm.predict(test.iloc[138349:207524]),\n",
    "    segment_out_train_pop_kNN_without_segm.predict(test.iloc[207524:])\n",
    "])"
   ]
  },
  {
   "cell_type": "code",
   "execution_count": 104,
   "id": "065be85f",
   "metadata": {},
   "outputs": [
    {
     "data": {
      "text/plain": [
       "0.009249118322461626"
      ]
     },
     "execution_count": 104,
     "metadata": {},
     "output_type": "execute_result"
    }
   ],
   "source": [
    "metric.calc(segm_out_train_without_segm_pop_knn_recs, test)"
   ]
  },
  {
   "cell_type": "markdown",
   "id": "c689d3d5",
   "metadata": {},
   "source": [
    "## 3.4. Популярное"
   ]
  },
  {
   "cell_type": "markdown",
   "id": "e061e4fc",
   "metadata": {},
   "source": [
    "Большое количество пользователей в истории взаимодействий имеет небольшое количество просмотренных картин:"
   ]
  },
  {
   "cell_type": "code",
   "execution_count": 105,
   "id": "06c8b043",
   "metadata": {},
   "outputs": [
    {
     "data": {
      "text/plain": [
       "<AxesSubplot:>"
      ]
     },
     "execution_count": 105,
     "metadata": {},
     "output_type": "execute_result"
    },
    {
     "data": {
      "image/png": "[encoded data removed]",
      "text/plain": [
       "<Figure size 640x480 with 1 Axes>"
      ]
     },
     "metadata": {},
     "output_type": "display_data"
    }
   ],
   "source": [
    "train_count_users_interactions = train.groupby('user_id').count()\n",
    "\n",
    "train_count_users_interactions[\n",
    "    train_count_users_interactions['item_id'] < 50\n",
    "]['item_id'].hist(bins=50)"
   ]
  },
  {
   "cell_type": "markdown",
   "id": "a8ca7314",
   "metadata": {},
   "source": [
    "Необходиомо подобрать порог просмотров, ниже котророго пользователям будет предлагаться популярное."
   ]
  },
  {
   "cell_type": "code",
   "execution_count": 19,
   "id": "1795f2a1",
   "metadata": {},
   "outputs": [],
   "source": [
    "class PopularWrapper:\n",
    "    def __init__(\n",
    "        self,\n",
    "        base_estimator,\n",
    "        rec_pops,\n",
    "        threshold: int,\n",
    "        base_estimator_fit_kwargs: dict = None\n",
    "    ):\n",
    "        self.base_estimator = base_estimator\n",
    "        self.base_estimator_fit_kwargs = base_estimator_fit_kwargs\n",
    "        self.rec_pops = rec_pops\n",
    "        self.threshold = threshold\n",
    "        \n",
    "    def fit(self, train: pd.DataFrame):\n",
    "        train_count_users_interactions = (\n",
    "            train.groupby('user_id').count()\n",
    "        )\n",
    "        self.user_rec_pop_to = train_count_users_interactions[\n",
    "            train_count_users_interactions[\n",
    "                'item_id'\n",
    "            ] < self.threshold\n",
    "        ].index\n",
    "        \n",
    "        if self.base_estimator_fit_kwargs is not None:\n",
    "            self.base_estimator.fit(\n",
    "                train[~train['user_id'].isin(self.user_rec_pop_to)],\n",
    "                **self.base_estimator_fit_kwargs\n",
    "            )\n",
    "        else:\n",
    "            self.base_estimator.fit(\n",
    "                train[~train['user_id'].isin(self.user_rec_pop_to)]\n",
    "            )\n",
    "    \n",
    "    def predict(\n",
    "        self,\n",
    "        test: pd.DataFrame,\n",
    "        base_estimator_predict_kwargs: dict = None,\n",
    "        N_recs: int = 10\n",
    "    ):\n",
    "        to_base_estimator = test[\n",
    "            ~test['user_id'].isin(self.user_rec_pop_to)\n",
    "        ]\n",
    "        to_pop_rec = test[\n",
    "            test['user_id'].isin(self.user_rec_pop_to)\n",
    "        ]\n",
    "        \n",
    "        if base_estimator_predict_kwargs is not None:\n",
    "            pred = pd.concat([\n",
    "                self.base_estimator.predict(\n",
    "                    to_base_estimator,\n",
    "                    **base_estimator_predict_kwargs\n",
    "                ),\n",
    "                self._pred_popular(to_pop_rec, N_recs)\n",
    "            ])\n",
    "        else:\n",
    "            pred = pd.concat([\n",
    "                self.base_estimator.predict(to_base_estimator),\n",
    "                self._pred_popular(to_pop_rec, N_recs)\n",
    "            ])\n",
    "        return pred\n",
    "        \n",
    "    def _pred_popular(self, test: pd.DataFrame, N_recs: int,):\n",
    "        pred = pd.DataFrame({'user_id': test['user_id'].unique()})\n",
    "        '''\n",
    "        pred['item_id'] = pred['user_id'].apply(\n",
    "            lambda val: self.rec_pops.iloc[:10].tolist()\n",
    "        )\n",
    "        '''\n",
    "        \n",
    "        pred['item_id'] = pred['user_id'].apply(\n",
    "            lambda val: list(\n",
    "                zip(self.rec_pops.iloc[:N_recs],\n",
    "                    np.arange(1, N_recs+1))\n",
    "            )\n",
    "        )\n",
    "        pred = pred.explode('item_id')\n",
    "        pred['rank'] = pred['item_id'].apply(lambda val: val[1])\n",
    "        pred['item_id'] = pred['item_id'].apply(lambda val: val[0])\n",
    "        pred['score'] = 0\n",
    "        return pred[['user_id', 'item_id', 'score', 'rank']]"
   ]
  },
  {
   "cell_type": "code",
   "execution_count": 107,
   "id": "8f94386b",
   "metadata": {},
   "outputs": [],
   "source": [
    "base_estimator_kwargs = {'pop_items': items_pop_ordered}\n",
    "sub_estimators_predict_kwargs = {'complete_method': 'popular'}\n",
    "\n",
    "segment_out_train_pop_kNN_age_and_content_pop_wrapper = SegmentKNN(\n",
    "    base_estimator=UserKnnComplete,\n",
    "    sub_estimator=CosineRecommender,\n",
    "    base_estimator_kwargs=base_estimator_kwargs,\n",
    "    sub_estimators_predict_kwargs=sub_estimators_predict_kwargs\n",
    ")\n",
    "\n",
    "base_estimator_fit_kwargs = {\n",
    "    'user_segment_df': segm_train_out_users,\n",
    "    'segm_col': 'segm_age_and_content_rate'\n",
    "}"
   ]
  },
  {
   "cell_type": "code",
   "execution_count": 108,
   "id": "10e200da",
   "metadata": {},
   "outputs": [],
   "source": [
    " popular_wrapper = PopularWrapper(\n",
    "    base_estimator=segment_out_train_pop_kNN_age_and_content_pop_wrapper,\n",
    "    rec_pops=items_pop_ordered,\n",
    "    threshold=10,\n",
    "    base_estimator_fit_kwargs=base_estimator_fit_kwargs\n",
    ")"
   ]
  },
  {
   "cell_type": "code",
   "execution_count": 112,
   "id": "8002703c",
   "metadata": {
    "scrolled": true
   },
   "outputs": [
    {
     "data": {
      "application/vnd.jupyter.widget-view+json": {
       "model_id": "36681263d6e54d4e93f0111eb93d0efd",
       "version_major": 2,
       "version_minor": 0
      },
      "text/plain": [
       "  0%|          | 0/1581 [00:00<?, ?it/s]"
      ]
     },
     "metadata": {},
     "output_type": "display_data"
    },
    {
     "data": {
      "application/vnd.jupyter.widget-view+json": {
       "model_id": "b741219d22e94bad9b1e24946d0ed13b",
       "version_major": 2,
       "version_minor": 0
      },
      "text/plain": [
       "  0%|          | 0/311 [00:00<?, ?it/s]"
      ]
     },
     "metadata": {},
     "output_type": "display_data"
    },
    {
     "data": {
      "application/vnd.jupyter.widget-view+json": {
       "model_id": "8fac5e74bc56440298a8a42ec54fa22c",
       "version_major": 2,
       "version_minor": 0
      },
      "text/plain": [
       "  0%|          | 0/3142 [00:00<?, ?it/s]"
      ]
     },
     "metadata": {},
     "output_type": "display_data"
    },
    {
     "data": {
      "application/vnd.jupyter.widget-view+json": {
       "model_id": "ac22fe40cb824e6b9f9842158113b2b3",
       "version_major": 2,
       "version_minor": 0
      },
      "text/plain": [
       "  0%|          | 0/4674 [00:00<?, ?it/s]"
      ]
     },
     "metadata": {},
     "output_type": "display_data"
    },
    {
     "data": {
      "application/vnd.jupyter.widget-view+json": {
       "model_id": "8e1b1460f71f4693ac640d17a1ea5ca6",
       "version_major": 2,
       "version_minor": 0
      },
      "text/plain": [
       "  0%|          | 0/1009 [00:00<?, ?it/s]"
      ]
     },
     "metadata": {},
     "output_type": "display_data"
    },
    {
     "data": {
      "application/vnd.jupyter.widget-view+json": {
       "model_id": "1311acfd89684bc4a056e3ce8c37d667",
       "version_major": 2,
       "version_minor": 0
      },
      "text/plain": [
       "  0%|          | 0/1488 [00:00<?, ?it/s]"
      ]
     },
     "metadata": {},
     "output_type": "display_data"
    },
    {
     "data": {
      "application/vnd.jupyter.widget-view+json": {
       "model_id": "effa8eb39ccd4dd8aa19e38eab6f36dd",
       "version_major": 2,
       "version_minor": 0
      },
      "text/plain": [
       "  0%|          | 0/457 [00:00<?, ?it/s]"
      ]
     },
     "metadata": {},
     "output_type": "display_data"
    },
    {
     "data": {
      "application/vnd.jupyter.widget-view+json": {
       "model_id": "f3f7290e5d6548c0880be01be4830ca5",
       "version_major": 2,
       "version_minor": 0
      },
      "text/plain": [
       "  0%|          | 0/3944 [00:00<?, ?it/s]"
      ]
     },
     "metadata": {},
     "output_type": "display_data"
    },
    {
     "data": {
      "application/vnd.jupyter.widget-view+json": {
       "model_id": "f32b07ffdc36425996caeb4a51decff1",
       "version_major": 2,
       "version_minor": 0
      },
      "text/plain": [
       "  0%|          | 0/383 [00:00<?, ?it/s]"
      ]
     },
     "metadata": {},
     "output_type": "display_data"
    },
    {
     "data": {
      "application/vnd.jupyter.widget-view+json": {
       "model_id": "eb5a1fb411af4e9999ceda17caa0b433",
       "version_major": 2,
       "version_minor": 0
      },
      "text/plain": [
       "  0%|          | 0/902 [00:00<?, ?it/s]"
      ]
     },
     "metadata": {},
     "output_type": "display_data"
    },
    {
     "data": {
      "application/vnd.jupyter.widget-view+json": {
       "model_id": "7d44f5fc4a514a6eacf803fbf9cbd0c8",
       "version_major": 2,
       "version_minor": 0
      },
      "text/plain": [
       "  0%|          | 0/1594 [00:00<?, ?it/s]"
      ]
     },
     "metadata": {},
     "output_type": "display_data"
    },
    {
     "data": {
      "application/vnd.jupyter.widget-view+json": {
       "model_id": "6c2b38bc713847f5aa1556194de3a8b0",
       "version_major": 2,
       "version_minor": 0
      },
      "text/plain": [
       "  0%|          | 0/714 [00:00<?, ?it/s]"
      ]
     },
     "metadata": {},
     "output_type": "display_data"
    },
    {
     "data": {
      "application/vnd.jupyter.widget-view+json": {
       "model_id": "f99e932cbfe8429b92624f49fc0d7424",
       "version_major": 2,
       "version_minor": 0
      },
      "text/plain": [
       "  0%|          | 0/433 [00:00<?, ?it/s]"
      ]
     },
     "metadata": {},
     "output_type": "display_data"
    },
    {
     "data": {
      "application/vnd.jupyter.widget-view+json": {
       "model_id": "fc0b58c343974693bd4975f98617c18a",
       "version_major": 2,
       "version_minor": 0
      },
      "text/plain": [
       "  0%|          | 0/217 [00:00<?, ?it/s]"
      ]
     },
     "metadata": {},
     "output_type": "display_data"
    },
    {
     "data": {
      "application/vnd.jupyter.widget-view+json": {
       "model_id": "42df2cce0d6143f6a8e987b77a09dc4b",
       "version_major": 2,
       "version_minor": 0
      },
      "text/plain": [
       "  0%|          | 0/124 [00:00<?, ?it/s]"
      ]
     },
     "metadata": {},
     "output_type": "display_data"
    }
   ],
   "source": [
    "popular_wrapper.fit(train)"
   ]
  },
  {
   "cell_type": "code",
   "execution_count": 113,
   "id": "bb42d14f",
   "metadata": {},
   "outputs": [],
   "source": [
    "base_estimator_predict_kwargs = {\n",
    "    'N_recs': 10\n",
    "}\n",
    "\n",
    "pop_wrapper_segm_out_train_age_and_content_pop_knn_recs = pd.concat([\n",
    "    popular_wrapper.predict(test.iloc[:69174], base_estimator_predict_kwargs),\n",
    "    popular_wrapper.predict(test.iloc[69174:138349], base_estimator_predict_kwargs),\n",
    "    popular_wrapper.predict(test.iloc[138349:207524], base_estimator_predict_kwargs),\n",
    "    popular_wrapper.predict(test.iloc[207524:], base_estimator_predict_kwargs)\n",
    "])"
   ]
  },
  {
   "cell_type": "code",
   "execution_count": 114,
   "id": "8908d65d",
   "metadata": {},
   "outputs": [
    {
     "data": {
      "text/plain": [
       "0.06542598311119296"
      ]
     },
     "execution_count": 114,
     "metadata": {},
     "output_type": "execute_result"
    }
   ],
   "source": [
    "metric.calc(\n",
    "    pop_wrapper_segm_out_train_age_and_content_pop_knn_recs, test\n",
    ")"
   ]
  },
  {
   "cell_type": "markdown",
   "id": "806b4784",
   "metadata": {},
   "source": [
    "Даже без сегментации пользователей, о которых у нас есть информация, мертика существенно возрасла."
   ]
  },
  {
   "cell_type": "markdown",
   "id": "0ca5b8c1",
   "metadata": {},
   "source": [
    "## 3.5. Подбор гиперпараметров"
   ]
  },
  {
   "cell_type": "markdown",
   "id": "4086fe40",
   "metadata": {},
   "source": [
    "Применим все собранные улучшения для подбора следующих гиперпараметров:\n",
    "* Разбиение пользователей\n",
    "* Порог количества просмотренных картин\n",
    "\n",
    "Остальные гиперпараметры будем подбирать на основе лучшей модели для сокращения вычислительного времени."
   ]
  },
  {
   "cell_type": "code",
   "execution_count": 20,
   "id": "ed2ac8c5",
   "metadata": {},
   "outputs": [],
   "source": [
    "from IPython.display import clear_output"
   ]
  },
  {
   "cell_type": "code",
   "execution_count": 21,
   "id": "16351105",
   "metadata": {},
   "outputs": [],
   "source": [
    "def join_user_splits(split_1, split_2, split_1_col, split_2_col):\n",
    "    segm_shift = split_1[split_1_col].max() + 1\n",
    "    join_split = pd.concat([\n",
    "        split_1[['user_id', split_1_col]],\n",
    "        pd.DataFrame(\n",
    "            {\n",
    "                'user_id': split_2['user_id'],\n",
    "                split_1_col: split_2[split_2_col] + segm_shift,}\n",
    "        )\n",
    "    ])\n",
    "    return join_split"
   ]
  },
  {
   "cell_type": "code",
   "execution_count": 29,
   "id": "9183d744",
   "metadata": {
    "scrolled": true
   },
   "outputs": [
    {
     "name": "stdout",
     "output_type": "stream",
     "text": [
      "224/224\n",
      "--------------------\n",
      "('segm_custom', 'segm_age_rate', 3): 0.03582\n",
      "('segm_custom', 'segm_age_rate', 5): 0.04933\n",
      "('segm_custom', 'segm_age_rate', 7): 0.05821\n",
      "('segm_custom', 'segm_age_rate', 9): 0.06394\n",
      "('segm_custom', 'segm_age_rate', 11): 0.068\n",
      "('segm_custom', 'segm_age_rate', 13): 0.07083\n",
      "('segm_custom', 'segm_age_rate', 15): 0.07293\n",
      "('segm_custom', 'segm_age_rate', 17): 0.07455\n",
      "('segm_custom', 'segm_age_rate', 19): 0.07606\n",
      "('segm_custom', 'segm_age_rate', 21): 0.07706\n",
      "('segm_custom', 'segm_age_rate', 23): 0.07791\n",
      "('segm_custom', 'segm_age_rate', 25): 0.07855\n",
      "('segm_custom', 'segm_age_rate', 27): 0.07905\n",
      "('segm_custom', 'segm_age_rate', 29): 0.07947\n",
      "('segm_custom', 'segm_content_rate', 3): 0.03606\n",
      "('segm_custom', 'segm_content_rate', 5): 0.04939\n",
      "('segm_custom', 'segm_content_rate', 7): 0.05827\n",
      "('segm_custom', 'segm_content_rate', 9): 0.06399\n",
      "('segm_custom', 'segm_content_rate', 11): 0.06804\n",
      "('segm_custom', 'segm_content_rate', 13): 0.07086\n",
      "('segm_custom', 'segm_content_rate', 15): 0.07294\n",
      "('segm_custom', 'segm_content_rate', 17): 0.07457\n",
      "('segm_custom', 'segm_content_rate', 19): 0.07608\n",
      "('segm_custom', 'segm_content_rate', 21): 0.07707\n",
      "('segm_custom', 'segm_content_rate', 23): 0.0779\n",
      "('segm_custom', 'segm_content_rate', 25): 0.07855\n",
      "('segm_custom', 'segm_content_rate', 27): 0.07904\n",
      "('segm_custom', 'segm_content_rate', 29): 0.07946\n",
      "('segm_custom', 'segm_age_and_content_rate', 3): 0.0358\n",
      "('segm_custom', 'segm_age_and_content_rate', 5): 0.0493\n",
      "('segm_custom', 'segm_age_and_content_rate', 7): 0.0582\n",
      "('segm_custom', 'segm_age_and_content_rate', 9): 0.06395\n",
      "('segm_custom', 'segm_age_and_content_rate', 11): 0.06802\n",
      "('segm_custom', 'segm_age_and_content_rate', 13): 0.07085\n",
      "('segm_custom', 'segm_age_and_content_rate', 15): 0.07292\n",
      "('segm_custom', 'segm_age_and_content_rate', 17): 0.07455\n",
      "('segm_custom', 'segm_age_and_content_rate', 19): 0.07605\n",
      "('segm_custom', 'segm_age_and_content_rate', 21): 0.07705\n",
      "('segm_custom', 'segm_age_and_content_rate', 23): 0.07789\n",
      "('segm_custom', 'segm_age_and_content_rate', 25): 0.07855\n",
      "('segm_custom', 'segm_age_and_content_rate', 27): 0.07905\n",
      "('segm_custom', 'segm_age_and_content_rate', 29): 0.07947\n",
      "('segm_custom', 'segm_without', 3): 0.03611\n",
      "('segm_custom', 'segm_without', 5): 0.04942\n",
      "('segm_custom', 'segm_without', 7): 0.05828\n",
      "('segm_custom', 'segm_without', 9): 0.06397\n",
      "('segm_custom', 'segm_without', 11): 0.06802\n",
      "('segm_custom', 'segm_without', 13): 0.07084\n",
      "('segm_custom', 'segm_without', 15): 0.07292\n",
      "('segm_custom', 'segm_without', 17): 0.07456\n",
      "('segm_custom', 'segm_without', 19): 0.07606\n",
      "('segm_custom', 'segm_without', 21): 0.07706\n",
      "('segm_custom', 'segm_without', 23): 0.0779\n",
      "('segm_custom', 'segm_without', 25): 0.07855\n",
      "('segm_custom', 'segm_without', 27): 0.07905\n",
      "('segm_custom', 'segm_without', 29): 0.07947\n",
      "('segm_all', 'segm_age_rate', 3): 0.0355\n",
      "('segm_all', 'segm_age_rate', 5): 0.04941\n",
      "('segm_all', 'segm_age_rate', 7): 0.05825\n",
      "('segm_all', 'segm_age_rate', 9): 0.06401\n",
      "('segm_all', 'segm_age_rate', 11): 0.06809\n",
      "('segm_all', 'segm_age_rate', 13): 0.07095\n",
      "('segm_all', 'segm_age_rate', 15): 0.07303\n",
      "('segm_all', 'segm_age_rate', 17): 0.07466\n",
      "('segm_all', 'segm_age_rate', 19): 0.07617\n",
      "('segm_all', 'segm_age_rate', 21): 0.07716\n",
      "('segm_all', 'segm_age_rate', 23): 0.07802\n",
      "('segm_all', 'segm_age_rate', 25): 0.07864\n",
      "('segm_all', 'segm_age_rate', 27): 0.07911\n",
      "('segm_all', 'segm_age_rate', 29): 0.07952\n",
      "('segm_all', 'segm_content_rate', 3): 0.03574\n",
      "('segm_all', 'segm_content_rate', 5): 0.04947\n",
      "('segm_all', 'segm_content_rate', 7): 0.05831\n",
      "('segm_all', 'segm_content_rate', 9): 0.06407\n",
      "('segm_all', 'segm_content_rate', 11): 0.06813\n",
      "('segm_all', 'segm_content_rate', 13): 0.07098\n",
      "('segm_all', 'segm_content_rate', 15): 0.07304\n",
      "('segm_all', 'segm_content_rate', 17): 0.07469\n",
      "('segm_all', 'segm_content_rate', 19): 0.07619\n",
      "('segm_all', 'segm_content_rate', 21): 0.07717\n",
      "('segm_all', 'segm_content_rate', 23): 0.07802\n",
      "('segm_all', 'segm_content_rate', 25): 0.07863\n",
      "('segm_all', 'segm_content_rate', 27): 0.07911\n",
      "('segm_all', 'segm_content_rate', 29): 0.07951\n",
      "('segm_all', 'segm_age_and_content_rate', 3): 0.03547\n",
      "('segm_all', 'segm_age_and_content_rate', 5): 0.04938\n",
      "('segm_all', 'segm_age_and_content_rate', 7): 0.05823\n",
      "('segm_all', 'segm_age_and_content_rate', 9): 0.06402\n",
      "('segm_all', 'segm_age_and_content_rate', 11): 0.0681\n",
      "('segm_all', 'segm_age_and_content_rate', 13): 0.07096\n",
      "('segm_all', 'segm_age_and_content_rate', 15): 0.07302\n",
      "('segm_all', 'segm_age_and_content_rate', 17): 0.07466\n",
      "('segm_all', 'segm_age_and_content_rate', 19): 0.07617\n",
      "('segm_all', 'segm_age_and_content_rate', 21): 0.07714\n",
      "('segm_all', 'segm_age_and_content_rate', 23): 0.07801\n",
      "('segm_all', 'segm_age_and_content_rate', 25): 0.07863\n",
      "('segm_all', 'segm_age_and_content_rate', 27): 0.07911\n",
      "('segm_all', 'segm_age_and_content_rate', 29): 0.07951\n",
      "('segm_all', 'segm_without', 3): 0.03578\n",
      "('segm_all', 'segm_without', 5): 0.0495\n",
      "('segm_all', 'segm_without', 7): 0.05832\n",
      "('segm_all', 'segm_without', 9): 0.06405\n",
      "('segm_all', 'segm_without', 11): 0.06811\n",
      "('segm_all', 'segm_without', 13): 0.07095\n",
      "('segm_all', 'segm_without', 15): 0.07302\n",
      "('segm_all', 'segm_without', 17): 0.07467\n",
      "('segm_all', 'segm_without', 19): 0.07617\n",
      "('segm_all', 'segm_without', 21): 0.07715\n",
      "('segm_all', 'segm_without', 23): 0.07802\n",
      "('segm_all', 'segm_without', 25): 0.07863\n",
      "('segm_all', 'segm_without', 27): 0.07911\n",
      "('segm_all', 'segm_without', 29): 0.07951\n",
      "('segm_sex', 'segm_age_rate', 3): 0.03696\n",
      "('segm_sex', 'segm_age_rate', 5): 0.04939\n",
      "('segm_sex', 'segm_age_rate', 7): 0.05815\n",
      "('segm_sex', 'segm_age_rate', 9): 0.0638\n",
      "('segm_sex', 'segm_age_rate', 11): 0.06788\n",
      "('segm_sex', 'segm_age_rate', 13): 0.07075\n",
      "('segm_sex', 'segm_age_rate', 15): 0.07286\n",
      "('segm_sex', 'segm_age_rate', 17): 0.07449\n",
      "('segm_sex', 'segm_age_rate', 19): 0.07598\n",
      "('segm_sex', 'segm_age_rate', 21): 0.07699\n",
      "('segm_sex', 'segm_age_rate', 23): 0.07786\n",
      "('segm_sex', 'segm_age_rate', 25): 0.07851\n",
      "('segm_sex', 'segm_age_rate', 27): 0.07898\n",
      "('segm_sex', 'segm_age_rate', 29): 0.07941\n",
      "('segm_sex', 'segm_content_rate', 3): 0.0372\n",
      "('segm_sex', 'segm_content_rate', 5): 0.04945\n",
      "('segm_sex', 'segm_content_rate', 7): 0.05821\n",
      "('segm_sex', 'segm_content_rate', 9): 0.06385\n",
      "('segm_sex', 'segm_content_rate', 11): 0.06792\n",
      "('segm_sex', 'segm_content_rate', 13): 0.07078\n",
      "('segm_sex', 'segm_content_rate', 15): 0.07287\n",
      "('segm_sex', 'segm_content_rate', 17): 0.07451\n",
      "('segm_sex', 'segm_content_rate', 19): 0.076\n",
      "('segm_sex', 'segm_content_rate', 21): 0.077\n",
      "('segm_sex', 'segm_content_rate', 23): 0.07786\n",
      "('segm_sex', 'segm_content_rate', 25): 0.0785\n",
      "('segm_sex', 'segm_content_rate', 27): 0.07898\n",
      "('segm_sex', 'segm_content_rate', 29): 0.0794\n",
      "('segm_sex', 'segm_age_and_content_rate', 3): 0.03694\n",
      "('segm_sex', 'segm_age_and_content_rate', 5): 0.04936\n",
      "('segm_sex', 'segm_age_and_content_rate', 7): 0.05814\n",
      "('segm_sex', 'segm_age_and_content_rate', 9): 0.06381\n",
      "('segm_sex', 'segm_age_and_content_rate', 11): 0.0679\n",
      "('segm_sex', 'segm_age_and_content_rate', 13): 0.07076\n",
      "('segm_sex', 'segm_age_and_content_rate', 15): 0.07285\n",
      "('segm_sex', 'segm_age_and_content_rate', 17): 0.07449\n",
      "('segm_sex', 'segm_age_and_content_rate', 19): 0.07598\n",
      "('segm_sex', 'segm_age_and_content_rate', 21): 0.07698\n",
      "('segm_sex', 'segm_age_and_content_rate', 23): 0.07785\n",
      "('segm_sex', 'segm_age_and_content_rate', 25): 0.0785\n",
      "('segm_sex', 'segm_age_and_content_rate', 27): 0.07898\n",
      "('segm_sex', 'segm_age_and_content_rate', 29): 0.0794\n",
      "('segm_sex', 'segm_without', 3): 0.03725\n",
      "('segm_sex', 'segm_without', 5): 0.04947\n",
      "('segm_sex', 'segm_without', 7): 0.05822\n",
      "('segm_sex', 'segm_without', 9): 0.06383\n",
      "('segm_sex', 'segm_without', 11): 0.0679\n",
      "('segm_sex', 'segm_without', 13): 0.07075\n",
      "('segm_sex', 'segm_without', 15): 0.07285\n",
      "('segm_sex', 'segm_without', 17): 0.0745\n",
      "('segm_sex', 'segm_without', 19): 0.07598\n",
      "('segm_sex', 'segm_without', 21): 0.07699\n",
      "('segm_sex', 'segm_without', 23): 0.07785\n",
      "('segm_sex', 'segm_without', 25): 0.0785\n",
      "('segm_sex', 'segm_without', 27): 0.07898\n",
      "('segm_sex', 'segm_without', 29): 0.0794\n",
      "('segm_kids', 'segm_age_rate', 3): 0.03644\n",
      "('segm_kids', 'segm_age_rate', 5): 0.04935\n",
      "('segm_kids', 'segm_age_rate', 7): 0.05806\n",
      "('segm_kids', 'segm_age_rate', 9): 0.06381\n",
      "('segm_kids', 'segm_age_rate', 11): 0.06789\n",
      "('segm_kids', 'segm_age_rate', 13): 0.07075\n",
      "('segm_kids', 'segm_age_rate', 15): 0.07286\n",
      "('segm_kids', 'segm_age_rate', 17): 0.0745\n",
      "('segm_kids', 'segm_age_rate', 19): 0.07598\n",
      "('segm_kids', 'segm_age_rate', 21): 0.077\n",
      "('segm_kids', 'segm_age_rate', 23): 0.07785\n",
      "('segm_kids', 'segm_age_rate', 25): 0.0785\n",
      "('segm_kids', 'segm_age_rate', 27): 0.07898\n",
      "('segm_kids', 'segm_age_rate', 29): 0.0794\n",
      "('segm_kids', 'segm_content_rate', 3): 0.03668\n",
      "('segm_kids', 'segm_content_rate', 5): 0.04941\n",
      "('segm_kids', 'segm_content_rate', 7): 0.05812\n",
      "('segm_kids', 'segm_content_rate', 9): 0.06386\n",
      "('segm_kids', 'segm_content_rate', 11): 0.06793\n",
      "('segm_kids', 'segm_content_rate', 13): 0.07079\n",
      "('segm_kids', 'segm_content_rate', 15): 0.07287\n",
      "('segm_kids', 'segm_content_rate', 17): 0.07452\n",
      "('segm_kids', 'segm_content_rate', 19): 0.076\n",
      "('segm_kids', 'segm_content_rate', 21): 0.07701\n",
      "('segm_kids', 'segm_content_rate', 23): 0.07785\n",
      "('segm_kids', 'segm_content_rate', 25): 0.0785\n",
      "('segm_kids', 'segm_content_rate', 27): 0.07898\n",
      "('segm_kids', 'segm_content_rate', 29): 0.07939\n",
      "('segm_kids', 'segm_age_and_content_rate', 3): 0.03641\n",
      "('segm_kids', 'segm_age_and_content_rate', 5): 0.04932\n",
      "('segm_kids', 'segm_age_and_content_rate', 7): 0.05805\n",
      "('segm_kids', 'segm_age_and_content_rate', 9): 0.06382\n",
      "('segm_kids', 'segm_age_and_content_rate', 11): 0.0679\n",
      "('segm_kids', 'segm_age_and_content_rate', 13): 0.07077\n",
      "('segm_kids', 'segm_age_and_content_rate', 15): 0.07285\n",
      "('segm_kids', 'segm_age_and_content_rate', 17): 0.07449\n",
      "('segm_kids', 'segm_age_and_content_rate', 19): 0.07598\n",
      "('segm_kids', 'segm_age_and_content_rate', 21): 0.07698\n",
      "('segm_kids', 'segm_age_and_content_rate', 23): 0.07784\n",
      "('segm_kids', 'segm_age_and_content_rate', 25): 0.07849\n",
      "('segm_kids', 'segm_age_and_content_rate', 27): 0.07898\n",
      "('segm_kids', 'segm_age_and_content_rate', 29): 0.0794\n",
      "('segm_kids', 'segm_without', 3): 0.03672\n",
      "('segm_kids', 'segm_without', 5): 0.04944\n",
      "('segm_kids', 'segm_without', 7): 0.05813\n",
      "('segm_kids', 'segm_without', 9): 0.06384\n",
      "('segm_kids', 'segm_without', 11): 0.06791\n",
      "('segm_kids', 'segm_without', 13): 0.07076\n",
      "('segm_kids', 'segm_without', 15): 0.07285\n",
      "('segm_kids', 'segm_without', 17): 0.0745\n",
      "('segm_kids', 'segm_without', 19): 0.07598\n",
      "('segm_kids', 'segm_without', 21): 0.07699\n",
      "('segm_kids', 'segm_without', 23): 0.07785\n",
      "('segm_kids', 'segm_without', 25): 0.0785\n",
      "('segm_kids', 'segm_without', 27): 0.07898\n",
      "('segm_kids', 'segm_without', 29): 0.0794\n"
     ]
    }
   ],
   "source": [
    "in_users_splits = [\n",
    "    'segm_custom',\n",
    "    'segm_all',\n",
    "    'segm_sex',\n",
    "    'segm_kids'\n",
    "]\n",
    "\n",
    "out_of_users_splits = [\n",
    "    'segm_age_rate',\n",
    "    'segm_content_rate',\n",
    "    'segm_age_and_content_rate',\n",
    "    'segm_without'\n",
    "]\n",
    "\n",
    "N_watched_tresholds = list(range(3, 30, 2))\n",
    "\n",
    "total = (\n",
    "    len(in_users_splits)\n",
    "    * len(out_of_users_splits)\n",
    "    * len(N_watched_tresholds)\n",
    ")\n",
    "\n",
    "results = {}\n",
    "c = 0\n",
    "for inner_split in in_users_splits:    \n",
    "    for outer_split in out_of_users_splits:\n",
    "        for watched_thershold in N_watched_tresholds:\n",
    "            \n",
    "            c += 1\n",
    "            \n",
    "            # skip\n",
    "            r = (inner_split, outer_split, watched_thershold)\n",
    "            if r in results.keys():\n",
    "                continue\n",
    "            \n",
    "            # join users splits\n",
    "            split = join_user_splits(\n",
    "                segment_users, segm_train_out_users,\n",
    "                inner_split, outer_split\n",
    "            )\n",
    "        \n",
    "            # init base estimator (segment knn) for popular wrapper\n",
    "\n",
    "            base_estimator_kwargs = {\n",
    "                'pop_items': items_pop_ordered\n",
    "            }\n",
    "            sub_est_predict_kwargs = {\n",
    "                'complete_method': 'popular'\n",
    "            }\n",
    "\n",
    "            segment_knn = SegmentKNN(\n",
    "                base_estimator=UserKnnComplete,\n",
    "                sub_estimator=CosineRecommender,\n",
    "                base_estimator_kwargs=base_estimator_kwargs,\n",
    "                sub_estimators_predict_kwargs=sub_est_predict_kwargs\n",
    "            )\n",
    "\n",
    "            # current split\n",
    "            base_estimator_fit_kwargs = {\n",
    "                'user_segment_df': split,\n",
    "                'segm_col': inner_split\n",
    "            }\n",
    "\n",
    "            # init and fit popular wrapper\n",
    "\n",
    "            popular_wrapper = PopularWrapper(\n",
    "                base_estimator=segment_knn,\n",
    "                rec_pops=items_pop_ordered,\n",
    "                threshold=watched_thershold,  # current threshold\n",
    "                base_estimator_fit_kwargs=base_estimator_fit_kwargs\n",
    "            )\n",
    "\n",
    "            popular_wrapper.fit(train)\n",
    "\n",
    "            # predict on test data\n",
    "\n",
    "            base_estimator_predict_kwargs = {\n",
    "                'N_recs': 10\n",
    "            }\n",
    "\n",
    "            pop_wrapper_recs = pd.concat([\n",
    "                popular_wrapper.predict(\n",
    "                    test.iloc[:69174],\n",
    "                    base_estimator_predict_kwargs\n",
    "                ),\n",
    "                popular_wrapper.predict(\n",
    "                    test.iloc[69174:138349],\n",
    "                    base_estimator_predict_kwargs\n",
    "                ),\n",
    "                popular_wrapper.predict(\n",
    "                    test.iloc[138349:207524],\n",
    "                    base_estimator_predict_kwargs\n",
    "                ),\n",
    "                popular_wrapper.predict(\n",
    "                    test.iloc[207524:],\n",
    "                    base_estimator_predict_kwargs\n",
    "                )\n",
    "            ])\n",
    "\n",
    "            # evaluate metric\n",
    "\n",
    "            pop_wrapper_map = metric.calc(pop_wrapper_recs, test)\n",
    "            results[\n",
    "                (inner_split, outer_split, watched_thershold)\n",
    "            ] = pop_wrapper_map\n",
    "\n",
    "            with open('watched_th_search_metrics.dill', 'wb') as f:\n",
    "                dill.dump(results, f)\n",
    "\n",
    "            # stdout evaluation results:\n",
    "            clear_output()\n",
    "            print(f'{c}/{total}')\n",
    "            print('-'*20)\n",
    "            for k,v in results.items():\n",
    "                print(f'{k}: {round(v, 5)}')"
   ]
  },
  {
   "cell_type": "code",
   "execution_count": 58,
   "id": "50340f21",
   "metadata": {},
   "outputs": [
    {
     "data": {
      "image/png": "[encoded data removed]",
      "text/plain": [
       "<Figure size 640x480 with 1 Axes>"
      ]
     },
     "metadata": {},
     "output_type": "display_data"
    }
   ],
   "source": [
    "with open('watched_th_search_metrics_final.dill', 'rb') as f:\n",
    "    t = dill.load(f)\n",
    "\n",
    "in_users_splits = [\n",
    "    'segm_custom',\n",
    "    'segm_all',\n",
    "    'segm_sex',\n",
    "    'segm_kids'\n",
    "]\n",
    "\n",
    "out_of_users_splits = [\n",
    "    'segm_age_rate',\n",
    "    'segm_content_rate',\n",
    "    'segm_age_and_content_rate',\n",
    "    'segm_without'\n",
    "]\n",
    "\n",
    "splits_pairs = []\n",
    "\n",
    "for inner_split in in_users_splits:    \n",
    "    for outer_split in out_of_users_splits:\n",
    "        splits_pairs.append((inner_split, outer_split))\n",
    "     \n",
    "    \n",
    "def same_keys_q(k1, k2):\n",
    "    return k1[0] == k2[0] and k1[1] == k2[1]\n",
    "    \n",
    "\n",
    "fig, ax = plt.subplots()\n",
    "\n",
    "for i, sp in enumerate(splits_pairs):\n",
    "    scores = np.array(list(map(\n",
    "        lambda x: x[1],\n",
    "        filter(lambda x: same_keys_q(x[0], sp), t.items())\n",
    "    )))\n",
    "    ax.plot(scores, label=i)\n",
    "\n",
    "plt.xlabel('N watched', fontsize=11)\n",
    "plt.ylabel('MAP', fontsize=11)\n",
    "plt.legend()\n",
    "plt.show()"
   ]
  },
  {
   "cell_type": "markdown",
   "id": "edb81128",
   "metadata": {},
   "source": [
    "Все разбиения дают примерно одинаковый эффект. Посмотрим, что будет, если всем рекомендовать популярное:"
   ]
  },
  {
   "cell_type": "code",
   "execution_count": 51,
   "id": "84e00efd",
   "metadata": {},
   "outputs": [
    {
     "data": {
      "text/plain": [
       "0.08235218758429014"
      ]
     },
     "execution_count": 51,
     "metadata": {},
     "output_type": "execute_result"
    }
   ],
   "source": [
    "max_watched = train.groupby('user_id').count().max()['item_id'] + 1\n",
    "\n",
    "base_estimator_kwargs = {\n",
    "    'pop_items': items_pop_ordered\n",
    "}\n",
    "sub_est_predict_kwargs = {\n",
    "    'complete_method': 'popular'\n",
    "}\n",
    "\n",
    "segment_knn = SegmentKNN(\n",
    "    base_estimator=UserKnnComplete,\n",
    "    sub_estimator=CosineRecommender,\n",
    "    base_estimator_kwargs=base_estimator_kwargs,\n",
    "    sub_estimators_predict_kwargs=sub_est_predict_kwargs\n",
    ")\n",
    "\n",
    "# current split (any possible)\n",
    "base_estimator_fit_kwargs = {\n",
    "    'user_segment_df': segment_users,\n",
    "    'segm_col': 'segm_custom'\n",
    "}\n",
    "\n",
    "# init and fit popular wrapper\n",
    "\n",
    "popular_wrapper = PopularWrapper(\n",
    "    base_estimator=segment_knn,\n",
    "    rec_pops=items_pop_ordered,\n",
    "    threshold=max_watched,  # recommend popular to everyone\n",
    "    base_estimator_fit_kwargs=base_estimator_fit_kwargs\n",
    ")\n",
    "\n",
    "popular_wrapper.fit(train)\n",
    "\n",
    "# predict on test data\n",
    "\n",
    "base_estimator_predict_kwargs = {\n",
    "    'N_recs': 10\n",
    "}\n",
    "\n",
    "pop_wrapper_recs = pd.concat([\n",
    "    popular_wrapper.predict(\n",
    "        test.iloc[:69174],\n",
    "        base_estimator_predict_kwargs\n",
    "    ),\n",
    "    popular_wrapper.predict(\n",
    "        test.iloc[69174:138349],\n",
    "        base_estimator_predict_kwargs\n",
    "    ),\n",
    "    popular_wrapper.predict(\n",
    "        test.iloc[138349:207524],\n",
    "        base_estimator_predict_kwargs\n",
    "    ),\n",
    "    popular_wrapper.predict(\n",
    "        test.iloc[207524:],\n",
    "        base_estimator_predict_kwargs\n",
    "    )\n",
    "])\n",
    "\n",
    "# evaluate metric\n",
    "\n",
    "pop_wrapper_map = metric.calc(pop_wrapper_recs, test)\n",
    "pop_wrapper_map"
   ]
  },
  {
   "cell_type": "markdown",
   "id": "5ac76e0d",
   "metadata": {},
   "source": [
    "Выберем топ 4 лучших решений с kNN:"
   ]
  },
  {
   "cell_type": "code",
   "execution_count": 62,
   "id": "21cdf35d",
   "metadata": {},
   "outputs": [
    {
     "data": {
      "text/plain": [
       "[(('segm_all', 'segm_age_rate', 29), 0.07951781067528697),\n",
       " (('segm_all', 'segm_age_and_content_rate', 29), 0.07951353845635395),\n",
       " (('segm_all', 'segm_without', 29), 0.07951206369239931),\n",
       " (('segm_all', 'segm_content_rate', 29), 0.07950775890202572)]"
      ]
     },
     "execution_count": 62,
     "metadata": {},
     "output_type": "execute_result"
    }
   ],
   "source": [
    "best_params = sorted(t.items(), key=lambda x: x[1], reverse=True)\n",
    "best_params[:4]"
   ]
  },
  {
   "cell_type": "markdown",
   "id": "09ec10aa",
   "metadata": {},
   "source": [
    "Для данных решений посмотрим, можно ли улучшить качество отностиельно рекомендаций популярного всем подряд, при этом оставив относительно разумный порог по количеству просмотров контента."
   ]
  },
  {
   "cell_type": "code",
   "execution_count": 26,
   "id": "52bcc99c",
   "metadata": {
    "scrolled": true
   },
   "outputs": [
    {
     "name": "stdout",
     "output_type": "stream",
     "text": [
      "168/168\n",
      "--------------------\n",
      "('segm_all', 'segm_age_rate', 25, 10): 0.07864\n",
      "('segm_all', 'segm_age_rate', 25, 20): 0.07864\n",
      "('segm_all', 'segm_age_rate', 25, 30): 0.07864\n",
      "('segm_all', 'segm_age_rate', 25, 40): 0.07864\n",
      "('segm_all', 'segm_age_rate', 25, 50): 0.07864\n",
      "('segm_all', 'segm_age_rate', 25, 60): 0.07864\n",
      "('segm_all', 'segm_age_rate', 25, 70): 0.07864\n",
      "('segm_all', 'segm_age_rate', 30, 10): 0.07968\n",
      "('segm_all', 'segm_age_rate', 30, 20): 0.07968\n",
      "('segm_all', 'segm_age_rate', 30, 30): 0.07968\n",
      "('segm_all', 'segm_age_rate', 30, 40): 0.07968\n",
      "('segm_all', 'segm_age_rate', 30, 50): 0.07968\n",
      "('segm_all', 'segm_age_rate', 30, 60): 0.07968\n",
      "('segm_all', 'segm_age_rate', 30, 70): 0.07968\n",
      "('segm_all', 'segm_age_rate', 35, 10): 0.08038\n",
      "('segm_all', 'segm_age_rate', 35, 20): 0.08038\n",
      "('segm_all', 'segm_age_rate', 35, 30): 0.08038\n",
      "('segm_all', 'segm_age_rate', 35, 40): 0.08038\n",
      "('segm_all', 'segm_age_rate', 35, 50): 0.08038\n",
      "('segm_all', 'segm_age_rate', 35, 60): 0.08038\n",
      "('segm_all', 'segm_age_rate', 35, 70): 0.08038\n",
      "('segm_all', 'segm_age_rate', 40, 10): 0.08091\n",
      "('segm_all', 'segm_age_rate', 40, 20): 0.08091\n",
      "('segm_all', 'segm_age_rate', 40, 30): 0.08091\n",
      "('segm_all', 'segm_age_rate', 40, 40): 0.08091\n",
      "('segm_all', 'segm_age_rate', 40, 50): 0.08091\n",
      "('segm_all', 'segm_age_rate', 40, 60): 0.08091\n",
      "('segm_all', 'segm_age_rate', 40, 70): 0.08091\n",
      "('segm_all', 'segm_age_rate', 45, 10): 0.08123\n",
      "('segm_all', 'segm_age_rate', 45, 20): 0.08123\n",
      "('segm_all', 'segm_age_rate', 45, 30): 0.08123\n",
      "('segm_all', 'segm_age_rate', 45, 40): 0.08123\n",
      "('segm_all', 'segm_age_rate', 45, 50): 0.08123\n",
      "('segm_all', 'segm_age_rate', 45, 60): 0.08123\n",
      "('segm_all', 'segm_age_rate', 45, 70): 0.08123\n",
      "('segm_all', 'segm_age_rate', 50, 10): 0.08151\n",
      "('segm_all', 'segm_age_rate', 50, 20): 0.08151\n",
      "('segm_all', 'segm_age_rate', 50, 30): 0.08151\n",
      "('segm_all', 'segm_age_rate', 50, 40): 0.08151\n",
      "('segm_all', 'segm_age_rate', 50, 50): 0.08151\n",
      "('segm_all', 'segm_age_rate', 50, 60): 0.08151\n",
      "('segm_all', 'segm_age_rate', 50, 70): 0.08151\n",
      "('segm_all', 'segm_content_rate', 25, 10): 0.07864\n",
      "('segm_all', 'segm_content_rate', 25, 20): 0.07863\n",
      "('segm_all', 'segm_content_rate', 25, 30): 0.07863\n",
      "('segm_all', 'segm_content_rate', 25, 40): 0.07863\n",
      "('segm_all', 'segm_content_rate', 25, 50): 0.07863\n",
      "('segm_all', 'segm_content_rate', 25, 60): 0.07863\n",
      "('segm_all', 'segm_content_rate', 25, 70): 0.07863\n",
      "('segm_all', 'segm_content_rate', 30, 10): 0.07968\n",
      "('segm_all', 'segm_content_rate', 30, 20): 0.07968\n",
      "('segm_all', 'segm_content_rate', 30, 30): 0.07968\n",
      "('segm_all', 'segm_content_rate', 30, 40): 0.07968\n",
      "('segm_all', 'segm_content_rate', 30, 50): 0.07968\n",
      "('segm_all', 'segm_content_rate', 30, 60): 0.07968\n",
      "('segm_all', 'segm_content_rate', 30, 70): 0.07968\n",
      "('segm_all', 'segm_content_rate', 35, 10): 0.08038\n",
      "('segm_all', 'segm_content_rate', 35, 20): 0.08038\n",
      "('segm_all', 'segm_content_rate', 35, 30): 0.08038\n",
      "('segm_all', 'segm_content_rate', 35, 40): 0.08038\n",
      "('segm_all', 'segm_content_rate', 35, 50): 0.08038\n",
      "('segm_all', 'segm_content_rate', 35, 60): 0.08038\n",
      "('segm_all', 'segm_content_rate', 35, 70): 0.08038\n",
      "('segm_all', 'segm_content_rate', 40, 10): 0.08091\n",
      "('segm_all', 'segm_content_rate', 40, 20): 0.08091\n",
      "('segm_all', 'segm_content_rate', 40, 30): 0.08091\n",
      "('segm_all', 'segm_content_rate', 40, 40): 0.08091\n",
      "('segm_all', 'segm_content_rate', 40, 50): 0.08091\n",
      "('segm_all', 'segm_content_rate', 40, 60): 0.08091\n",
      "('segm_all', 'segm_content_rate', 40, 70): 0.08091\n",
      "('segm_all', 'segm_content_rate', 45, 10): 0.08124\n",
      "('segm_all', 'segm_content_rate', 45, 20): 0.08124\n",
      "('segm_all', 'segm_content_rate', 45, 30): 0.08124\n",
      "('segm_all', 'segm_content_rate', 45, 40): 0.08124\n",
      "('segm_all', 'segm_content_rate', 45, 50): 0.08124\n",
      "('segm_all', 'segm_content_rate', 45, 60): 0.08124\n",
      "('segm_all', 'segm_content_rate', 45, 70): 0.08124\n",
      "('segm_all', 'segm_content_rate', 50, 10): 0.08152\n",
      "('segm_all', 'segm_content_rate', 50, 20): 0.08152\n",
      "('segm_all', 'segm_content_rate', 50, 30): 0.08152\n",
      "('segm_all', 'segm_content_rate', 50, 40): 0.08152\n",
      "('segm_all', 'segm_content_rate', 50, 50): 0.08152\n",
      "('segm_all', 'segm_content_rate', 50, 60): 0.08152\n",
      "('segm_all', 'segm_content_rate', 50, 70): 0.08152\n",
      "('segm_all', 'segm_age_and_content_rate', 25, 10): 0.07863\n",
      "('segm_all', 'segm_age_and_content_rate', 25, 20): 0.07863\n",
      "('segm_all', 'segm_age_and_content_rate', 25, 30): 0.07863\n",
      "('segm_all', 'segm_age_and_content_rate', 25, 40): 0.07863\n",
      "('segm_all', 'segm_age_and_content_rate', 25, 50): 0.07863\n",
      "('segm_all', 'segm_age_and_content_rate', 25, 60): 0.07863\n",
      "('segm_all', 'segm_age_and_content_rate', 25, 70): 0.07863\n",
      "('segm_all', 'segm_age_and_content_rate', 30, 10): 0.07968\n",
      "('segm_all', 'segm_age_and_content_rate', 30, 20): 0.07968\n",
      "('segm_all', 'segm_age_and_content_rate', 30, 30): 0.07968\n",
      "('segm_all', 'segm_age_and_content_rate', 30, 40): 0.07968\n",
      "('segm_all', 'segm_age_and_content_rate', 30, 50): 0.07968\n",
      "('segm_all', 'segm_age_and_content_rate', 30, 60): 0.07968\n",
      "('segm_all', 'segm_age_and_content_rate', 30, 70): 0.07968\n",
      "('segm_all', 'segm_age_and_content_rate', 35, 10): 0.08037\n",
      "('segm_all', 'segm_age_and_content_rate', 35, 20): 0.08037\n",
      "('segm_all', 'segm_age_and_content_rate', 35, 30): 0.08037\n",
      "('segm_all', 'segm_age_and_content_rate', 35, 40): 0.08037\n",
      "('segm_all', 'segm_age_and_content_rate', 35, 50): 0.08037\n",
      "('segm_all', 'segm_age_and_content_rate', 35, 60): 0.08037\n",
      "('segm_all', 'segm_age_and_content_rate', 35, 70): 0.08037\n",
      "('segm_all', 'segm_age_and_content_rate', 40, 10): 0.08091\n",
      "('segm_all', 'segm_age_and_content_rate', 40, 20): 0.08091\n",
      "('segm_all', 'segm_age_and_content_rate', 40, 30): 0.08091\n",
      "('segm_all', 'segm_age_and_content_rate', 40, 40): 0.08091\n",
      "('segm_all', 'segm_age_and_content_rate', 40, 50): 0.08091\n",
      "('segm_all', 'segm_age_and_content_rate', 40, 60): 0.08091\n",
      "('segm_all', 'segm_age_and_content_rate', 40, 70): 0.08091\n",
      "('segm_all', 'segm_age_and_content_rate', 45, 10): 0.08123\n",
      "('segm_all', 'segm_age_and_content_rate', 45, 20): 0.08123\n",
      "('segm_all', 'segm_age_and_content_rate', 45, 30): 0.08123\n",
      "('segm_all', 'segm_age_and_content_rate', 45, 40): 0.08123\n",
      "('segm_all', 'segm_age_and_content_rate', 45, 50): 0.08123\n",
      "('segm_all', 'segm_age_and_content_rate', 45, 60): 0.08123\n",
      "('segm_all', 'segm_age_and_content_rate', 45, 70): 0.08123\n",
      "('segm_all', 'segm_age_and_content_rate', 50, 10): 0.08151\n",
      "('segm_all', 'segm_age_and_content_rate', 50, 20): 0.08151\n",
      "('segm_all', 'segm_age_and_content_rate', 50, 30): 0.08151\n",
      "('segm_all', 'segm_age_and_content_rate', 50, 40): 0.08151\n",
      "('segm_all', 'segm_age_and_content_rate', 50, 50): 0.08151\n",
      "('segm_all', 'segm_age_and_content_rate', 50, 60): 0.08151\n",
      "('segm_all', 'segm_age_and_content_rate', 50, 70): 0.08151\n",
      "('segm_all', 'segm_without', 25, 10): 0.07864\n",
      "('segm_all', 'segm_without', 25, 20): 0.07863\n",
      "('segm_all', 'segm_without', 25, 30): 0.07863\n",
      "('segm_all', 'segm_without', 25, 40): 0.07863\n",
      "('segm_all', 'segm_without', 25, 50): 0.07863\n",
      "('segm_all', 'segm_without', 25, 60): 0.07863\n",
      "('segm_all', 'segm_without', 25, 70): 0.07863\n",
      "('segm_all', 'segm_without', 30, 10): 0.07968\n",
      "('segm_all', 'segm_without', 30, 20): 0.07968\n",
      "('segm_all', 'segm_without', 30, 30): 0.07968\n",
      "('segm_all', 'segm_without', 30, 40): 0.07968\n",
      "('segm_all', 'segm_without', 30, 50): 0.07968\n",
      "('segm_all', 'segm_without', 30, 60): 0.07968\n",
      "('segm_all', 'segm_without', 30, 70): 0.07968\n",
      "('segm_all', 'segm_without', 35, 10): 0.08038\n",
      "('segm_all', 'segm_without', 35, 20): 0.08038\n",
      "('segm_all', 'segm_without', 35, 30): 0.08038\n",
      "('segm_all', 'segm_without', 35, 40): 0.08038\n",
      "('segm_all', 'segm_without', 35, 50): 0.08038\n",
      "('segm_all', 'segm_without', 35, 60): 0.08038\n",
      "('segm_all', 'segm_without', 35, 70): 0.08038\n",
      "('segm_all', 'segm_without', 40, 10): 0.08091\n",
      "('segm_all', 'segm_without', 40, 20): 0.08091\n",
      "('segm_all', 'segm_without', 40, 30): 0.08091\n",
      "('segm_all', 'segm_without', 40, 40): 0.08091\n",
      "('segm_all', 'segm_without', 40, 50): 0.08091\n",
      "('segm_all', 'segm_without', 40, 60): 0.08091\n",
      "('segm_all', 'segm_without', 40, 70): 0.08091\n",
      "('segm_all', 'segm_without', 45, 10): 0.08124\n",
      "('segm_all', 'segm_without', 45, 20): 0.08124\n",
      "('segm_all', 'segm_without', 45, 30): 0.08124\n",
      "('segm_all', 'segm_without', 45, 40): 0.08124\n",
      "('segm_all', 'segm_without', 45, 50): 0.08124\n",
      "('segm_all', 'segm_without', 45, 60): 0.08124\n",
      "('segm_all', 'segm_without', 45, 70): 0.08124\n",
      "('segm_all', 'segm_without', 50, 10): 0.08152\n",
      "('segm_all', 'segm_without', 50, 20): 0.08152\n",
      "('segm_all', 'segm_without', 50, 30): 0.08152\n",
      "('segm_all', 'segm_without', 50, 40): 0.08152\n",
      "('segm_all', 'segm_without', 50, 50): 0.08152\n",
      "('segm_all', 'segm_without', 50, 60): 0.08152\n",
      "('segm_all', 'segm_without', 50, 70): 0.08152\n"
     ]
    }
   ],
   "source": [
    "in_users_splits = [\n",
    "    'segm_all',\n",
    "]\n",
    "\n",
    "out_of_users_splits = [\n",
    "    'segm_age_rate',\n",
    "    'segm_content_rate',\n",
    "    'segm_age_and_content_rate',\n",
    "    'segm_without'\n",
    "]\n",
    "\n",
    "N_watched_tresholds = list(range(25, 55, 5))\n",
    "\n",
    "N_neibhs = list(range(10, 80, 10))\n",
    "\n",
    "total = (\n",
    "    len(in_users_splits)\n",
    "    * len(out_of_users_splits)\n",
    "    * len(N_watched_tresholds)\n",
    "    * len(N_neibhs)\n",
    ")\n",
    "\n",
    "results = {}\n",
    "c = 0\n",
    "for inner_split in in_users_splits:    \n",
    "    for outer_split in out_of_users_splits:\n",
    "        for watched_thershold in N_watched_tresholds:\n",
    "            for N_neibh in N_neibhs:\n",
    "\n",
    "                c += 1\n",
    "\n",
    "                # skip\n",
    "                r = (inner_split, outer_split, watched_thershold, N_neibh)\n",
    "                if r in results.keys():\n",
    "                    continue\n",
    "\n",
    "                # join users splits\n",
    "                split = join_user_splits(\n",
    "                    segment_users, segm_train_out_users,\n",
    "                    inner_split, outer_split\n",
    "                )\n",
    "\n",
    "                # init base estimator (segment knn)\n",
    "                # for popular wrapper\n",
    "\n",
    "                base_estimator_kwargs = {\n",
    "                    'pop_items': items_pop_ordered,\n",
    "                    'N_users': N_neibh  # current Nneibhs\n",
    "                }\n",
    "                sub_est_predict_kwargs = {\n",
    "                    'complete_method': 'popular',\n",
    "\n",
    "                }\n",
    "\n",
    "                segment_knn = SegmentKNN(\n",
    "                    base_estimator=UserKnnComplete,\n",
    "                    sub_estimator=CosineRecommender,\n",
    "                    base_estimator_kwargs=base_estimator_kwargs,\n",
    "                    sub_estimators_predict_kwargs=sub_est_predict_kwargs\n",
    "                )\n",
    "\n",
    "                # current split\n",
    "                base_estimator_fit_kwargs = {\n",
    "                    'user_segment_df': split,\n",
    "                    'segm_col': inner_split\n",
    "                }\n",
    "\n",
    "                # init and fit popular wrapper\n",
    "\n",
    "                popular_wrapper = PopularWrapper(\n",
    "                    base_estimator=segment_knn,\n",
    "                    rec_pops=items_pop_ordered,\n",
    "                    threshold=watched_thershold,  # current threshold\n",
    "                    base_estimator_fit_kwargs=base_estimator_fit_kwargs\n",
    "                )\n",
    "\n",
    "                popular_wrapper.fit(train)\n",
    "\n",
    "                # predict on test data\n",
    "\n",
    "                base_estimator_predict_kwargs = {\n",
    "                    'N_recs': 10\n",
    "                }\n",
    "\n",
    "                pop_wrapper_recs = pd.concat([\n",
    "                    popular_wrapper.predict(\n",
    "                        test.iloc[:69174],\n",
    "                        base_estimator_predict_kwargs\n",
    "                    ),\n",
    "                    popular_wrapper.predict(\n",
    "                        test.iloc[69174:138349],\n",
    "                        base_estimator_predict_kwargs\n",
    "                    ),\n",
    "                    popular_wrapper.predict(\n",
    "                        test.iloc[138349:207524],\n",
    "                        base_estimator_predict_kwargs\n",
    "                    ),\n",
    "                    popular_wrapper.predict(\n",
    "                        test.iloc[207524:],\n",
    "                        base_estimator_predict_kwargs\n",
    "                    )\n",
    "                ])\n",
    "\n",
    "                # evaluate metric\n",
    "\n",
    "                pop_wrapper_map = metric.calc(pop_wrapper_recs, test)\n",
    "                results[\n",
    "                    (inner_split, outer_split, watched_thershold, N_neibh)\n",
    "                ] = pop_wrapper_map\n",
    "\n",
    "                with open(\n",
    "                    'watched_th_and_Nneibhs_metrics.dill', 'wb') as f:\n",
    "                    dill.dump(results, f)\n",
    "\n",
    "                # stdout evaluation results:\n",
    "                clear_output()\n",
    "                print(f'{c}/{total}')\n",
    "                print('-'*20)\n",
    "                for k,v in results.items():\n",
    "                    print(f'{k}: {round(v, 5)}')"
   ]
  },
  {
   "cell_type": "code",
   "execution_count": 22,
   "id": "b6a15a12",
   "metadata": {},
   "outputs": [],
   "source": [
    "# with open('watched_th_and_Nneibhs_metrics_final.dill', 'rb') as f:\n",
    "#     u = dill.load(f)"
   ]
  },
  {
   "cell_type": "markdown",
   "id": "1dfbff33",
   "metadata": {},
   "source": [
    "Исходя из результатов перебора, количество соседей практически никак не влияет на результирующую метрику, оставим это значение равным $50$ (значение по умолчанию). Увеличение порога количества просмотров в свою очередь оказывает существенное влияние на метрику. Тем не менее не будем сильно завышать данный параметр и положим его равным $15$. Относительно данного параметра выберем наилучшее разбиение:"
   ]
  },
  {
   "cell_type": "code",
   "execution_count": 28,
   "id": "dd454e57",
   "metadata": {},
   "outputs": [
    {
     "data": {
      "text/plain": [
       "(('segm_all', 'segm_content_rate', 15), 0.07304300363872418)"
      ]
     },
     "execution_count": 28,
     "metadata": {},
     "output_type": "execute_result"
    }
   ],
   "source": [
    "sorted(\n",
    "    (filter(lambda x: x[0][2] == 15, t.items())),\n",
    "    key=lambda x: x[1],\n",
    "    reverse=True\n",
    ")[0]"
   ]
  },
  {
   "cell_type": "markdown",
   "id": "44229e24",
   "metadata": {},
   "source": [
    "Данные параметры будем использовать для результирующей модели на основе kNN."
   ]
  },
  {
   "cell_type": "markdown",
   "id": "947d09b6",
   "metadata": {},
   "source": [
    "# 4. Оптимизация модели для одного пользователя"
   ]
  },
  {
   "cell_type": "markdown",
   "id": "07b70ef2",
   "metadata": {},
   "source": [
    "По больщому счету нам необходимы только маппинги пользователей по сегментам и соответсвующие им модели. Для всех пользователей, которые в данные маппинги не попадают, рекомендациями будет популярное.\n",
    "\n",
    "Обучим выбранную модель и сохраним все необходиоме."
   ]
  },
  {
   "cell_type": "code",
   "execution_count": 73,
   "id": "b3d12dc2",
   "metadata": {
    "scrolled": true
   },
   "outputs": [
    {
     "data": {
      "application/vnd.jupyter.widget-view+json": {
       "model_id": "ec30da631d3a4b258653d7ead558b04a",
       "version_major": 2,
       "version_minor": 0
      },
      "text/plain": [
       "  0%|          | 0/1372 [00:00<?, ?it/s]"
      ]
     },
     "metadata": {},
     "output_type": "display_data"
    },
    {
     "data": {
      "application/vnd.jupyter.widget-view+json": {
       "model_id": "cf3a3836db844da1bbc7046764cf3263",
       "version_major": 2,
       "version_minor": 0
      },
      "text/plain": [
       "  0%|          | 0/71 [00:00<?, ?it/s]"
      ]
     },
     "metadata": {},
     "output_type": "display_data"
    },
    {
     "data": {
      "application/vnd.jupyter.widget-view+json": {
       "model_id": "d033c1196c38498fa7f6059a6a27e9a2",
       "version_major": 2,
       "version_minor": 0
      },
      "text/plain": [
       "  0%|          | 0/2813 [00:00<?, ?it/s]"
      ]
     },
     "metadata": {},
     "output_type": "display_data"
    },
    {
     "data": {
      "application/vnd.jupyter.widget-view+json": {
       "model_id": "10171fb03f954936a13a4320b0b0466b",
       "version_major": 2,
       "version_minor": 0
      },
      "text/plain": [
       "  0%|          | 0/112 [00:00<?, ?it/s]"
      ]
     },
     "metadata": {},
     "output_type": "display_data"
    },
    {
     "data": {
      "application/vnd.jupyter.widget-view+json": {
       "model_id": "8794e653f3974c979c2b57a757c76ebf",
       "version_major": 2,
       "version_minor": 0
      },
      "text/plain": [
       "  0%|          | 0/2465 [00:00<?, ?it/s]"
      ]
     },
     "metadata": {},
     "output_type": "display_data"
    },
    {
     "data": {
      "application/vnd.jupyter.widget-view+json": {
       "model_id": "b8df9a3ca7bf4ef1b1bfe2b383213529",
       "version_major": 2,
       "version_minor": 0
      },
      "text/plain": [
       "  0%|          | 0/449 [00:00<?, ?it/s]"
      ]
     },
     "metadata": {},
     "output_type": "display_data"
    },
    {
     "data": {
      "application/vnd.jupyter.widget-view+json": {
       "model_id": "1224b775c03845c6818b4983141e8c7e",
       "version_major": 2,
       "version_minor": 0
      },
      "text/plain": [
       "  0%|          | 0/491 [00:00<?, ?it/s]"
      ]
     },
     "metadata": {},
     "output_type": "display_data"
    },
    {
     "data": {
      "application/vnd.jupyter.widget-view+json": {
       "model_id": "39792effdffa4253abb3b92fca332a0c",
       "version_major": 2,
       "version_minor": 0
      },
      "text/plain": [
       "  0%|          | 0/58 [00:00<?, ?it/s]"
      ]
     },
     "metadata": {},
     "output_type": "display_data"
    },
    {
     "data": {
      "application/vnd.jupyter.widget-view+json": {
       "model_id": "3595fa21c9d04e5aa388d79e40f6a4fa",
       "version_major": 2,
       "version_minor": 0
      },
      "text/plain": [
       "  0%|          | 0/65 [00:00<?, ?it/s]"
      ]
     },
     "metadata": {},
     "output_type": "display_data"
    },
    {
     "data": {
      "application/vnd.jupyter.widget-view+json": {
       "model_id": "6d960df35fbe444199ad12ad84d41d61",
       "version_major": 2,
       "version_minor": 0
      },
      "text/plain": [
       "  0%|          | 0/5 [00:00<?, ?it/s]"
      ]
     },
     "metadata": {},
     "output_type": "display_data"
    },
    {
     "data": {
      "application/vnd.jupyter.widget-view+json": {
       "model_id": "365e4e75003748139792a4980f0b6676",
       "version_major": 2,
       "version_minor": 0
      },
      "text/plain": [
       "  0%|          | 0/1 [00:00<?, ?it/s]"
      ]
     },
     "metadata": {},
     "output_type": "display_data"
    },
    {
     "data": {
      "application/vnd.jupyter.widget-view+json": {
       "model_id": "90d4df40dde542bab67be3cf4c3b4bfc",
       "version_major": 2,
       "version_minor": 0
      },
      "text/plain": [
       "  0%|          | 0/2021 [00:00<?, ?it/s]"
      ]
     },
     "metadata": {},
     "output_type": "display_data"
    },
    {
     "data": {
      "application/vnd.jupyter.widget-view+json": {
       "model_id": "03ff8524469445e9abe762caee26034d",
       "version_major": 2,
       "version_minor": 0
      },
      "text/plain": [
       "  0%|          | 0/1634 [00:00<?, ?it/s]"
      ]
     },
     "metadata": {},
     "output_type": "display_data"
    },
    {
     "data": {
      "application/vnd.jupyter.widget-view+json": {
       "model_id": "6111270e8bec41128d2028da22ca0470",
       "version_major": 2,
       "version_minor": 0
      },
      "text/plain": [
       "  0%|          | 0/38 [00:00<?, ?it/s]"
      ]
     },
     "metadata": {},
     "output_type": "display_data"
    },
    {
     "data": {
      "application/vnd.jupyter.widget-view+json": {
       "model_id": "56a905ababd34668a12069844fa1aafb",
       "version_major": 2,
       "version_minor": 0
      },
      "text/plain": [
       "  0%|          | 0/33 [00:00<?, ?it/s]"
      ]
     },
     "metadata": {},
     "output_type": "display_data"
    },
    {
     "data": {
      "application/vnd.jupyter.widget-view+json": {
       "model_id": "fc713a6577324ccbac1e3fe94e93ecf4",
       "version_major": 2,
       "version_minor": 0
      },
      "text/plain": [
       "  0%|          | 0/470 [00:00<?, ?it/s]"
      ]
     },
     "metadata": {},
     "output_type": "display_data"
    },
    {
     "data": {
      "application/vnd.jupyter.widget-view+json": {
       "model_id": "e2b3c297de78417295d5060bcea97367",
       "version_major": 2,
       "version_minor": 0
      },
      "text/plain": [
       "  0%|          | 0/1782 [00:00<?, ?it/s]"
      ]
     },
     "metadata": {},
     "output_type": "display_data"
    },
    {
     "data": {
      "application/vnd.jupyter.widget-view+json": {
       "model_id": "f74b9fc37f4943b98c0a70992fcc29f8",
       "version_major": 2,
       "version_minor": 0
      },
      "text/plain": [
       "  0%|          | 0/1452 [00:00<?, ?it/s]"
      ]
     },
     "metadata": {},
     "output_type": "display_data"
    },
    {
     "data": {
      "application/vnd.jupyter.widget-view+json": {
       "model_id": "4d49c5bb4c04411fa324b68f29b12b07",
       "version_major": 2,
       "version_minor": 0
      },
      "text/plain": [
       "  0%|          | 0/598 [00:00<?, ?it/s]"
      ]
     },
     "metadata": {},
     "output_type": "display_data"
    },
    {
     "data": {
      "application/vnd.jupyter.widget-view+json": {
       "model_id": "21e59dcfee8143acabfa07c703c61d4a",
       "version_major": 2,
       "version_minor": 0
      },
      "text/plain": [
       "  0%|          | 0/146 [00:00<?, ?it/s]"
      ]
     },
     "metadata": {},
     "output_type": "display_data"
    },
    {
     "data": {
      "application/vnd.jupyter.widget-view+json": {
       "model_id": "a24d7dd4dd7446c0a1ad058cab55e240",
       "version_major": 2,
       "version_minor": 0
      },
      "text/plain": [
       "  0%|          | 0/16 [00:00<?, ?it/s]"
      ]
     },
     "metadata": {},
     "output_type": "display_data"
    },
    {
     "data": {
      "application/vnd.jupyter.widget-view+json": {
       "model_id": "b0df0c2a2f8b415da32977168a8f3af9",
       "version_major": 2,
       "version_minor": 0
      },
      "text/plain": [
       "  0%|          | 0/102 [00:00<?, ?it/s]"
      ]
     },
     "metadata": {},
     "output_type": "display_data"
    },
    {
     "data": {
      "application/vnd.jupyter.widget-view+json": {
       "model_id": "d41850c87f95419284d6ae709fde6df7",
       "version_major": 2,
       "version_minor": 0
      },
      "text/plain": [
       "  0%|          | 0/13 [00:00<?, ?it/s]"
      ]
     },
     "metadata": {},
     "output_type": "display_data"
    },
    {
     "data": {
      "application/vnd.jupyter.widget-view+json": {
       "model_id": "e7e9b54902b34394b9f27732fb50c9db",
       "version_major": 2,
       "version_minor": 0
      },
      "text/plain": [
       "  0%|          | 0/1103 [00:00<?, ?it/s]"
      ]
     },
     "metadata": {},
     "output_type": "display_data"
    },
    {
     "data": {
      "application/vnd.jupyter.widget-view+json": {
       "model_id": "6363c320b2a2421099226c6161c727f9",
       "version_major": 2,
       "version_minor": 0
      },
      "text/plain": [
       "  0%|          | 0/597 [00:00<?, ?it/s]"
      ]
     },
     "metadata": {},
     "output_type": "display_data"
    },
    {
     "data": {
      "application/vnd.jupyter.widget-view+json": {
       "model_id": "e05f7fae9c064fafaa1ae8eb15e19fe4",
       "version_major": 2,
       "version_minor": 0
      },
      "text/plain": [
       "  0%|          | 0/22 [00:00<?, ?it/s]"
      ]
     },
     "metadata": {},
     "output_type": "display_data"
    },
    {
     "data": {
      "application/vnd.jupyter.widget-view+json": {
       "model_id": "a2aea81948754f619c3c9b32bcdda97b",
       "version_major": 2,
       "version_minor": 0
      },
      "text/plain": [
       "  0%|          | 0/17 [00:00<?, ?it/s]"
      ]
     },
     "metadata": {},
     "output_type": "display_data"
    },
    {
     "data": {
      "application/vnd.jupyter.widget-view+json": {
       "model_id": "4140367257704fb98c4810b98badafb3",
       "version_major": 2,
       "version_minor": 0
      },
      "text/plain": [
       "  0%|          | 0/612 [00:00<?, ?it/s]"
      ]
     },
     "metadata": {},
     "output_type": "display_data"
    },
    {
     "data": {
      "application/vnd.jupyter.widget-view+json": {
       "model_id": "9f4c7404fa994f3381847ca8b33cbb04",
       "version_major": 2,
       "version_minor": 0
      },
      "text/plain": [
       "  0%|          | 0/281 [00:00<?, ?it/s]"
      ]
     },
     "metadata": {},
     "output_type": "display_data"
    },
    {
     "data": {
      "application/vnd.jupyter.widget-view+json": {
       "model_id": "990b66ad17e4461fb6a5533de216e62f",
       "version_major": 2,
       "version_minor": 0
      },
      "text/plain": [
       "  0%|          | 0/54 [00:00<?, ?it/s]"
      ]
     },
     "metadata": {},
     "output_type": "display_data"
    },
    {
     "data": {
      "application/vnd.jupyter.widget-view+json": {
       "model_id": "685534c64b284c24b7378002d98a0dba",
       "version_major": 2,
       "version_minor": 0
      },
      "text/plain": [
       "  0%|          | 0/145 [00:00<?, ?it/s]"
      ]
     },
     "metadata": {},
     "output_type": "display_data"
    },
    {
     "data": {
      "application/vnd.jupyter.widget-view+json": {
       "model_id": "31fec76863194bad958f965f3b0c09e2",
       "version_major": 2,
       "version_minor": 0
      },
      "text/plain": [
       "  0%|          | 0/24 [00:00<?, ?it/s]"
      ]
     },
     "metadata": {},
     "output_type": "display_data"
    },
    {
     "data": {
      "application/vnd.jupyter.widget-view+json": {
       "model_id": "a4b5c3386e954723b265819dfbbe785d",
       "version_major": 2,
       "version_minor": 0
      },
      "text/plain": [
       "  0%|          | 0/6 [00:00<?, ?it/s]"
      ]
     },
     "metadata": {},
     "output_type": "display_data"
    },
    {
     "data": {
      "application/vnd.jupyter.widget-view+json": {
       "model_id": "b33b5db64ae34e36a1a0d92ec24502e7",
       "version_major": 2,
       "version_minor": 0
      },
      "text/plain": [
       "  0%|          | 0/1 [00:00<?, ?it/s]"
      ]
     },
     "metadata": {},
     "output_type": "display_data"
    },
    {
     "data": {
      "application/vnd.jupyter.widget-view+json": {
       "model_id": "8d7cad647da2470190942789acfcdc6d",
       "version_major": 2,
       "version_minor": 0
      },
      "text/plain": [
       "  0%|          | 0/1259 [00:00<?, ?it/s]"
      ]
     },
     "metadata": {},
     "output_type": "display_data"
    },
    {
     "data": {
      "application/vnd.jupyter.widget-view+json": {
       "model_id": "dc0e641bfa34474b856706de35097755",
       "version_major": 2,
       "version_minor": 0
      },
      "text/plain": [
       "  0%|          | 0/318 [00:00<?, ?it/s]"
      ]
     },
     "metadata": {},
     "output_type": "display_data"
    },
    {
     "data": {
      "application/vnd.jupyter.widget-view+json": {
       "model_id": "e0bb17ac2b3c4c0d87d192e9bb798b9a",
       "version_major": 2,
       "version_minor": 0
      },
      "text/plain": [
       "  0%|          | 0/32 [00:00<?, ?it/s]"
      ]
     },
     "metadata": {},
     "output_type": "display_data"
    },
    {
     "data": {
      "application/vnd.jupyter.widget-view+json": {
       "model_id": "421eb183ae634c6e983b9233e85f7e47",
       "version_major": 2,
       "version_minor": 0
      },
      "text/plain": [
       "  0%|          | 0/26 [00:00<?, ?it/s]"
      ]
     },
     "metadata": {},
     "output_type": "display_data"
    },
    {
     "data": {
      "application/vnd.jupyter.widget-view+json": {
       "model_id": "4ace7a1001bf4768afa5694065d0b125",
       "version_major": 2,
       "version_minor": 0
      },
      "text/plain": [
       "  0%|          | 0/280 [00:00<?, ?it/s]"
      ]
     },
     "metadata": {},
     "output_type": "display_data"
    },
    {
     "data": {
      "application/vnd.jupyter.widget-view+json": {
       "model_id": "f51f7745f42443a2959107f3ca20e3f2",
       "version_major": 2,
       "version_minor": 0
      },
      "text/plain": [
       "  0%|          | 0/1094 [00:00<?, ?it/s]"
      ]
     },
     "metadata": {},
     "output_type": "display_data"
    },
    {
     "data": {
      "application/vnd.jupyter.widget-view+json": {
       "model_id": "574f8dfba73e4fea96a913db52a99224",
       "version_major": 2,
       "version_minor": 0
      },
      "text/plain": [
       "  0%|          | 0/135 [00:00<?, ?it/s]"
      ]
     },
     "metadata": {},
     "output_type": "display_data"
    },
    {
     "data": {
      "application/vnd.jupyter.widget-view+json": {
       "model_id": "15b719e87c034aa093ce1530fa82de00",
       "version_major": 2,
       "version_minor": 0
      },
      "text/plain": [
       "  0%|          | 0/18 [00:00<?, ?it/s]"
      ]
     },
     "metadata": {},
     "output_type": "display_data"
    },
    {
     "data": {
      "application/vnd.jupyter.widget-view+json": {
       "model_id": "4aed1131babe47a0a07616ff182e5aa2",
       "version_major": 2,
       "version_minor": 0
      },
      "text/plain": [
       "  0%|          | 0/44 [00:00<?, ?it/s]"
      ]
     },
     "metadata": {},
     "output_type": "display_data"
    },
    {
     "data": {
      "application/vnd.jupyter.widget-view+json": {
       "model_id": "78fe39162eda404588f96bef0176134c",
       "version_major": 2,
       "version_minor": 0
      },
      "text/plain": [
       "  0%|          | 0/1 [00:00<?, ?it/s]"
      ]
     },
     "metadata": {},
     "output_type": "display_data"
    },
    {
     "data": {
      "application/vnd.jupyter.widget-view+json": {
       "model_id": "8aca3d75eb264e278da297442803f073",
       "version_major": 2,
       "version_minor": 0
      },
      "text/plain": [
       "  0%|          | 0/1864 [00:00<?, ?it/s]"
      ]
     },
     "metadata": {},
     "output_type": "display_data"
    },
    {
     "data": {
      "application/vnd.jupyter.widget-view+json": {
       "model_id": "68f342a547e140dd8bfafe02fa0ef8f3",
       "version_major": 2,
       "version_minor": 0
      },
      "text/plain": [
       "  0%|          | 0/752 [00:00<?, ?it/s]"
      ]
     },
     "metadata": {},
     "output_type": "display_data"
    },
    {
     "data": {
      "application/vnd.jupyter.widget-view+json": {
       "model_id": "90207d9078144ad9a2185afa03a05988",
       "version_major": 2,
       "version_minor": 0
      },
      "text/plain": [
       "  0%|          | 0/24 [00:00<?, ?it/s]"
      ]
     },
     "metadata": {},
     "output_type": "display_data"
    },
    {
     "data": {
      "application/vnd.jupyter.widget-view+json": {
       "model_id": "e70bb6381b774ea1a426d5dab0ec48ab",
       "version_major": 2,
       "version_minor": 0
      },
      "text/plain": [
       "  0%|          | 0/11 [00:00<?, ?it/s]"
      ]
     },
     "metadata": {},
     "output_type": "display_data"
    },
    {
     "data": {
      "application/vnd.jupyter.widget-view+json": {
       "model_id": "7ab7706e1b5641069a9ee3f2db7c60b4",
       "version_major": 2,
       "version_minor": 0
      },
      "text/plain": [
       "  0%|          | 0/2183 [00:00<?, ?it/s]"
      ]
     },
     "metadata": {},
     "output_type": "display_data"
    },
    {
     "data": {
      "application/vnd.jupyter.widget-view+json": {
       "model_id": "a9e5a946e8a64cc9bdf346a0896c55da",
       "version_major": 2,
       "version_minor": 0
      },
      "text/plain": [
       "  0%|          | 0/728 [00:00<?, ?it/s]"
      ]
     },
     "metadata": {},
     "output_type": "display_data"
    },
    {
     "data": {
      "application/vnd.jupyter.widget-view+json": {
       "model_id": "0568a4291a1049688a1f6abaa6b934ab",
       "version_major": 2,
       "version_minor": 0
      },
      "text/plain": [
       "  0%|          | 0/885 [00:00<?, ?it/s]"
      ]
     },
     "metadata": {},
     "output_type": "display_data"
    },
    {
     "data": {
      "application/vnd.jupyter.widget-view+json": {
       "model_id": "5c8be3d43dbf4fde84b63f107cd181f1",
       "version_major": 2,
       "version_minor": 0
      },
      "text/plain": [
       "  0%|          | 0/304 [00:00<?, ?it/s]"
      ]
     },
     "metadata": {},
     "output_type": "display_data"
    },
    {
     "data": {
      "application/vnd.jupyter.widget-view+json": {
       "model_id": "ca9186f6dc5746b7b51625078f103503",
       "version_major": 2,
       "version_minor": 0
      },
      "text/plain": [
       "  0%|          | 0/88 [00:00<?, ?it/s]"
      ]
     },
     "metadata": {},
     "output_type": "display_data"
    },
    {
     "data": {
      "application/vnd.jupyter.widget-view+json": {
       "model_id": "015c26aef781498cb8f2d61fa2ee90ad",
       "version_major": 2,
       "version_minor": 0
      },
      "text/plain": [
       "  0%|          | 0/152 [00:00<?, ?it/s]"
      ]
     },
     "metadata": {},
     "output_type": "display_data"
    },
    {
     "data": {
      "application/vnd.jupyter.widget-view+json": {
       "model_id": "ed0598c6b014466383a2b07d0ea33526",
       "version_major": 2,
       "version_minor": 0
      },
      "text/plain": [
       "  0%|          | 0/6 [00:00<?, ?it/s]"
      ]
     },
     "metadata": {},
     "output_type": "display_data"
    },
    {
     "data": {
      "application/vnd.jupyter.widget-view+json": {
       "model_id": "0a3e96b598b64ec193b44d2fd6f1e2e0",
       "version_major": 2,
       "version_minor": 0
      },
      "text/plain": [
       "  0%|          | 0/4 [00:00<?, ?it/s]"
      ]
     },
     "metadata": {},
     "output_type": "display_data"
    },
    {
     "data": {
      "application/vnd.jupyter.widget-view+json": {
       "model_id": "e1ee5293537941b9a446ea86879f09e2",
       "version_major": 2,
       "version_minor": 0
      },
      "text/plain": [
       "  0%|          | 0/190 [00:00<?, ?it/s]"
      ]
     },
     "metadata": {},
     "output_type": "display_data"
    },
    {
     "data": {
      "application/vnd.jupyter.widget-view+json": {
       "model_id": "76c6e550f4f6496dadc0da509b6ab6cb",
       "version_major": 2,
       "version_minor": 0
      },
      "text/plain": [
       "  0%|          | 0/54 [00:00<?, ?it/s]"
      ]
     },
     "metadata": {},
     "output_type": "display_data"
    },
    {
     "data": {
      "application/vnd.jupyter.widget-view+json": {
       "model_id": "afb82f16bfd946e0b4424eed632620a3",
       "version_major": 2,
       "version_minor": 0
      },
      "text/plain": [
       "  0%|          | 0/1 [00:00<?, ?it/s]"
      ]
     },
     "metadata": {},
     "output_type": "display_data"
    },
    {
     "data": {
      "application/vnd.jupyter.widget-view+json": {
       "model_id": "aaa98be28eee48bea6182020af0cf7f9",
       "version_major": 2,
       "version_minor": 0
      },
      "text/plain": [
       "  0%|          | 0/5 [00:00<?, ?it/s]"
      ]
     },
     "metadata": {},
     "output_type": "display_data"
    },
    {
     "data": {
      "application/vnd.jupyter.widget-view+json": {
       "model_id": "5edba7b1c2214a468db92ff15ed70267",
       "version_major": 2,
       "version_minor": 0
      },
      "text/plain": [
       "  0%|          | 0/192 [00:00<?, ?it/s]"
      ]
     },
     "metadata": {},
     "output_type": "display_data"
    },
    {
     "data": {
      "application/vnd.jupyter.widget-view+json": {
       "model_id": "d904b3b4168f4418b2a5ee113d3bf550",
       "version_major": 2,
       "version_minor": 0
      },
      "text/plain": [
       "  0%|          | 0/34 [00:00<?, ?it/s]"
      ]
     },
     "metadata": {},
     "output_type": "display_data"
    },
    {
     "data": {
      "application/vnd.jupyter.widget-view+json": {
       "model_id": "015ce2f2b796443a917737e53a436a6b",
       "version_major": 2,
       "version_minor": 0
      },
      "text/plain": [
       "  0%|          | 0/47 [00:00<?, ?it/s]"
      ]
     },
     "metadata": {},
     "output_type": "display_data"
    },
    {
     "data": {
      "application/vnd.jupyter.widget-view+json": {
       "model_id": "4c88a06a716147a091fbe3d9cf497985",
       "version_major": 2,
       "version_minor": 0
      },
      "text/plain": [
       "  0%|          | 0/12 [00:00<?, ?it/s]"
      ]
     },
     "metadata": {},
     "output_type": "display_data"
    },
    {
     "data": {
      "application/vnd.jupyter.widget-view+json": {
       "model_id": "081aab1e67284ed3b2044f8efcdd6c6d",
       "version_major": 2,
       "version_minor": 0
      },
      "text/plain": [
       "  0%|          | 0/8 [00:00<?, ?it/s]"
      ]
     },
     "metadata": {},
     "output_type": "display_data"
    },
    {
     "data": {
      "application/vnd.jupyter.widget-view+json": {
       "model_id": "3e2f91f0abf948a7865d0c47de62f659",
       "version_major": 2,
       "version_minor": 0
      },
      "text/plain": [
       "  0%|          | 0/1 [00:00<?, ?it/s]"
      ]
     },
     "metadata": {},
     "output_type": "display_data"
    },
    {
     "data": {
      "application/vnd.jupyter.widget-view+json": {
       "model_id": "9c89aa028f9f4c6ea5605fb94c79366c",
       "version_major": 2,
       "version_minor": 0
      },
      "text/plain": [
       "  0%|          | 0/3 [00:00<?, ?it/s]"
      ]
     },
     "metadata": {},
     "output_type": "display_data"
    },
    {
     "data": {
      "application/vnd.jupyter.widget-view+json": {
       "model_id": "a6524926ce0a4ceda1d8b7e01945f11a",
       "version_major": 2,
       "version_minor": 0
      },
      "text/plain": [
       "  0%|          | 0/2502 [00:00<?, ?it/s]"
      ]
     },
     "metadata": {},
     "output_type": "display_data"
    },
    {
     "data": {
      "application/vnd.jupyter.widget-view+json": {
       "model_id": "a1c6b3503be74d52826b02c42cd7db19",
       "version_major": 2,
       "version_minor": 0
      },
      "text/plain": [
       "  0%|          | 0/3710 [00:00<?, ?it/s]"
      ]
     },
     "metadata": {},
     "output_type": "display_data"
    },
    {
     "data": {
      "application/vnd.jupyter.widget-view+json": {
       "model_id": "8586abfd0c754540b4d6622a4d6164e7",
       "version_major": 2,
       "version_minor": 0
      },
      "text/plain": [
       "  0%|          | 0/244 [00:00<?, ?it/s]"
      ]
     },
     "metadata": {},
     "output_type": "display_data"
    },
    {
     "data": {
      "application/vnd.jupyter.widget-view+json": {
       "model_id": "f89b7592c537480188d85164f103acdc",
       "version_major": 2,
       "version_minor": 0
      },
      "text/plain": [
       "  0%|          | 0/206 [00:00<?, ?it/s]"
      ]
     },
     "metadata": {},
     "output_type": "display_data"
    },
    {
     "data": {
      "application/vnd.jupyter.widget-view+json": {
       "model_id": "b4ea444be60a4efda6666aba5fd47fe9",
       "version_major": 2,
       "version_minor": 0
      },
      "text/plain": [
       "  0%|          | 0/1492 [00:00<?, ?it/s]"
      ]
     },
     "metadata": {},
     "output_type": "display_data"
    },
    {
     "data": {
      "application/vnd.jupyter.widget-view+json": {
       "model_id": "3d3b785ea0e44ecb9193284715e9f830",
       "version_major": 2,
       "version_minor": 0
      },
      "text/plain": [
       "  0%|          | 0/327 [00:00<?, ?it/s]"
      ]
     },
     "metadata": {},
     "output_type": "display_data"
    },
    {
     "data": {
      "application/vnd.jupyter.widget-view+json": {
       "model_id": "a55a978b491a45248fb34b908b850d9c",
       "version_major": 2,
       "version_minor": 0
      },
      "text/plain": [
       "  0%|          | 0/523 [00:00<?, ?it/s]"
      ]
     },
     "metadata": {},
     "output_type": "display_data"
    },
    {
     "data": {
      "application/vnd.jupyter.widget-view+json": {
       "model_id": "6b5a61ba91aa45f5b34738d607d7c041",
       "version_major": 2,
       "version_minor": 0
      },
      "text/plain": [
       "  0%|          | 0/53 [00:00<?, ?it/s]"
      ]
     },
     "metadata": {},
     "output_type": "display_data"
    },
    {
     "data": {
      "application/vnd.jupyter.widget-view+json": {
       "model_id": "ddf8f6a34e944d52a59f706c9c297b47",
       "version_major": 2,
       "version_minor": 0
      },
      "text/plain": [
       "  0%|          | 0/70 [00:00<?, ?it/s]"
      ]
     },
     "metadata": {},
     "output_type": "display_data"
    },
    {
     "data": {
      "application/vnd.jupyter.widget-view+json": {
       "model_id": "3fffe52b7f96463da090ffa8c39fb465",
       "version_major": 2,
       "version_minor": 0
      },
      "text/plain": [
       "  0%|          | 0/5 [00:00<?, ?it/s]"
      ]
     },
     "metadata": {},
     "output_type": "display_data"
    },
    {
     "data": {
      "application/vnd.jupyter.widget-view+json": {
       "model_id": "2f3c3532dd4240419dc8ad6df220e454",
       "version_major": 2,
       "version_minor": 0
      },
      "text/plain": [
       "  0%|          | 0/5 [00:00<?, ?it/s]"
      ]
     },
     "metadata": {},
     "output_type": "display_data"
    },
    {
     "data": {
      "application/vnd.jupyter.widget-view+json": {
       "model_id": "79c92bd149f742528a3e1adcfcf6776f",
       "version_major": 2,
       "version_minor": 0
      },
      "text/plain": [
       "  0%|          | 0/1611 [00:00<?, ?it/s]"
      ]
     },
     "metadata": {},
     "output_type": "display_data"
    },
    {
     "data": {
      "application/vnd.jupyter.widget-view+json": {
       "model_id": "5ae38638116f4a908590cac3302b1ff4",
       "version_major": 2,
       "version_minor": 0
      },
      "text/plain": [
       "  0%|          | 0/2166 [00:00<?, ?it/s]"
      ]
     },
     "metadata": {},
     "output_type": "display_data"
    },
    {
     "data": {
      "application/vnd.jupyter.widget-view+json": {
       "model_id": "6f3cfaa49d1d4a598e22ea5d67597019",
       "version_major": 2,
       "version_minor": 0
      },
      "text/plain": [
       "  0%|          | 0/78 [00:00<?, ?it/s]"
      ]
     },
     "metadata": {},
     "output_type": "display_data"
    },
    {
     "data": {
      "application/vnd.jupyter.widget-view+json": {
       "model_id": "7b22272618ae43f194f8ea21199cd4d8",
       "version_major": 2,
       "version_minor": 0
      },
      "text/plain": [
       "  0%|          | 0/100 [00:00<?, ?it/s]"
      ]
     },
     "metadata": {},
     "output_type": "display_data"
    },
    {
     "data": {
      "application/vnd.jupyter.widget-view+json": {
       "model_id": "efb46433979249d4ae551c081d346014",
       "version_major": 2,
       "version_minor": 0
      },
      "text/plain": [
       "  0%|          | 0/801 [00:00<?, ?it/s]"
      ]
     },
     "metadata": {},
     "output_type": "display_data"
    },
    {
     "data": {
      "application/vnd.jupyter.widget-view+json": {
       "model_id": "20e10a22eb614476a0290295c529546e",
       "version_major": 2,
       "version_minor": 0
      },
      "text/plain": [
       "  0%|          | 0/261 [00:00<?, ?it/s]"
      ]
     },
     "metadata": {},
     "output_type": "display_data"
    },
    {
     "data": {
      "application/vnd.jupyter.widget-view+json": {
       "model_id": "ea5ae87b7db44688a15509a7f7a5628d",
       "version_major": 2,
       "version_minor": 0
      },
      "text/plain": [
       "  0%|          | 0/963 [00:00<?, ?it/s]"
      ]
     },
     "metadata": {},
     "output_type": "display_data"
    },
    {
     "data": {
      "application/vnd.jupyter.widget-view+json": {
       "model_id": "6c1241b1498a4ace85c1d53825928ccf",
       "version_major": 2,
       "version_minor": 0
      },
      "text/plain": [
       "  0%|          | 0/206 [00:00<?, ?it/s]"
      ]
     },
     "metadata": {},
     "output_type": "display_data"
    },
    {
     "data": {
      "application/vnd.jupyter.widget-view+json": {
       "model_id": "603cd9517b3d44559145c9b498207367",
       "version_major": 2,
       "version_minor": 0
      },
      "text/plain": [
       "  0%|          | 0/80 [00:00<?, ?it/s]"
      ]
     },
     "metadata": {},
     "output_type": "display_data"
    },
    {
     "data": {
      "application/vnd.jupyter.widget-view+json": {
       "model_id": "4343ce7b08f742efb24d7bc8c3954052",
       "version_major": 2,
       "version_minor": 0
      },
      "text/plain": [
       "  0%|          | 0/39 [00:00<?, ?it/s]"
      ]
     },
     "metadata": {},
     "output_type": "display_data"
    },
    {
     "data": {
      "application/vnd.jupyter.widget-view+json": {
       "model_id": "e637c0a4bd8141c2b620d3927790c9bc",
       "version_major": 2,
       "version_minor": 0
      },
      "text/plain": [
       "  0%|          | 0/3 [00:00<?, ?it/s]"
      ]
     },
     "metadata": {},
     "output_type": "display_data"
    },
    {
     "data": {
      "application/vnd.jupyter.widget-view+json": {
       "model_id": "e913edae064b45be8ca9315281db985b",
       "version_major": 2,
       "version_minor": 0
      },
      "text/plain": [
       "  0%|          | 0/6 [00:00<?, ?it/s]"
      ]
     },
     "metadata": {},
     "output_type": "display_data"
    },
    {
     "data": {
      "application/vnd.jupyter.widget-view+json": {
       "model_id": "dbe50fb6266d4927ae604a5a79642096",
       "version_major": 2,
       "version_minor": 0
      },
      "text/plain": [
       "  0%|          | 0/54 [00:00<?, ?it/s]"
      ]
     },
     "metadata": {},
     "output_type": "display_data"
    },
    {
     "data": {
      "application/vnd.jupyter.widget-view+json": {
       "model_id": "21424cb73ae34981add79e92009fcedc",
       "version_major": 2,
       "version_minor": 0
      },
      "text/plain": [
       "  0%|          | 0/764 [00:00<?, ?it/s]"
      ]
     },
     "metadata": {},
     "output_type": "display_data"
    },
    {
     "data": {
      "application/vnd.jupyter.widget-view+json": {
       "model_id": "24ef378cf0bb4e9b8239906dfe4dcf9c",
       "version_major": 2,
       "version_minor": 0
      },
      "text/plain": [
       "  0%|          | 0/1137 [00:00<?, ?it/s]"
      ]
     },
     "metadata": {},
     "output_type": "display_data"
    },
    {
     "data": {
      "application/vnd.jupyter.widget-view+json": {
       "model_id": "6cdd15309cc04c55bea29d2f00102b7e",
       "version_major": 2,
       "version_minor": 0
      },
      "text/plain": [
       "  0%|          | 0/68 [00:00<?, ?it/s]"
      ]
     },
     "metadata": {},
     "output_type": "display_data"
    },
    {
     "data": {
      "application/vnd.jupyter.widget-view+json": {
       "model_id": "827ca7c6ffb042edbf7670a416c6b620",
       "version_major": 2,
       "version_minor": 0
      },
      "text/plain": [
       "  0%|          | 0/48 [00:00<?, ?it/s]"
      ]
     },
     "metadata": {},
     "output_type": "display_data"
    },
    {
     "data": {
      "application/vnd.jupyter.widget-view+json": {
       "model_id": "12022eb8237d4baeb7532fec4a0c968d",
       "version_major": 2,
       "version_minor": 0
      },
      "text/plain": [
       "  0%|          | 0/215 [00:00<?, ?it/s]"
      ]
     },
     "metadata": {},
     "output_type": "display_data"
    },
    {
     "data": {
      "application/vnd.jupyter.widget-view+json": {
       "model_id": "36baae9c15f44c60b2c43d3d91187081",
       "version_major": 2,
       "version_minor": 0
      },
      "text/plain": [
       "  0%|          | 0/314 [00:00<?, ?it/s]"
      ]
     },
     "metadata": {},
     "output_type": "display_data"
    },
    {
     "data": {
      "application/vnd.jupyter.widget-view+json": {
       "model_id": "fd1b15b7e809429788bd6cc0d85a5dcd",
       "version_major": 2,
       "version_minor": 0
      },
      "text/plain": [
       "  0%|          | 0/32 [00:00<?, ?it/s]"
      ]
     },
     "metadata": {},
     "output_type": "display_data"
    },
    {
     "data": {
      "application/vnd.jupyter.widget-view+json": {
       "model_id": "c8bfd36fae8c4a4d87aa317a7e4f9041",
       "version_major": 2,
       "version_minor": 0
      },
      "text/plain": [
       "  0%|          | 0/14 [00:00<?, ?it/s]"
      ]
     },
     "metadata": {},
     "output_type": "display_data"
    },
    {
     "data": {
      "application/vnd.jupyter.widget-view+json": {
       "model_id": "96921154741c47e081e174e49efb94f3",
       "version_major": 2,
       "version_minor": 0
      },
      "text/plain": [
       "  0%|          | 0/6 [00:00<?, ?it/s]"
      ]
     },
     "metadata": {},
     "output_type": "display_data"
    },
    {
     "data": {
      "application/vnd.jupyter.widget-view+json": {
       "model_id": "92f3b67d3ece4807a960b8c00f60b814",
       "version_major": 2,
       "version_minor": 0
      },
      "text/plain": [
       "  0%|          | 0/585 [00:00<?, ?it/s]"
      ]
     },
     "metadata": {},
     "output_type": "display_data"
    },
    {
     "data": {
      "application/vnd.jupyter.widget-view+json": {
       "model_id": "fb006454f2e34c3ba4725ad5a6b1b94f",
       "version_major": 2,
       "version_minor": 0
      },
      "text/plain": [
       "  0%|          | 0/1619 [00:00<?, ?it/s]"
      ]
     },
     "metadata": {},
     "output_type": "display_data"
    },
    {
     "data": {
      "application/vnd.jupyter.widget-view+json": {
       "model_id": "210793cb5a9342c68e0480bfb733749f",
       "version_major": 2,
       "version_minor": 0
      },
      "text/plain": [
       "  0%|          | 0/88 [00:00<?, ?it/s]"
      ]
     },
     "metadata": {},
     "output_type": "display_data"
    },
    {
     "data": {
      "application/vnd.jupyter.widget-view+json": {
       "model_id": "5027cd195bb1458b83adfb38d55d96a3",
       "version_major": 2,
       "version_minor": 0
      },
      "text/plain": [
       "  0%|          | 0/73 [00:00<?, ?it/s]"
      ]
     },
     "metadata": {},
     "output_type": "display_data"
    },
    {
     "data": {
      "application/vnd.jupyter.widget-view+json": {
       "model_id": "ada42f8013b84cd98b07c5573ff37fbd",
       "version_major": 2,
       "version_minor": 0
      },
      "text/plain": [
       "  0%|          | 0/730 [00:00<?, ?it/s]"
      ]
     },
     "metadata": {},
     "output_type": "display_data"
    },
    {
     "data": {
      "application/vnd.jupyter.widget-view+json": {
       "model_id": "a859a78f79674dacb90809abe71f9f41",
       "version_major": 2,
       "version_minor": 0
      },
      "text/plain": [
       "  0%|          | 0/137 [00:00<?, ?it/s]"
      ]
     },
     "metadata": {},
     "output_type": "display_data"
    },
    {
     "data": {
      "application/vnd.jupyter.widget-view+json": {
       "model_id": "72d7e8d875624bbc90c845b9dce79d0c",
       "version_major": 2,
       "version_minor": 0
      },
      "text/plain": [
       "  0%|          | 0/189 [00:00<?, ?it/s]"
      ]
     },
     "metadata": {},
     "output_type": "display_data"
    },
    {
     "data": {
      "application/vnd.jupyter.widget-view+json": {
       "model_id": "68fc302e1e274d8fb697c3ee9736f6f8",
       "version_major": 2,
       "version_minor": 0
      },
      "text/plain": [
       "  0%|          | 0/9 [00:00<?, ?it/s]"
      ]
     },
     "metadata": {},
     "output_type": "display_data"
    },
    {
     "data": {
      "application/vnd.jupyter.widget-view+json": {
       "model_id": "ed3ce056a19145479045dbadce25d5ab",
       "version_major": 2,
       "version_minor": 0
      },
      "text/plain": [
       "  0%|          | 0/30 [00:00<?, ?it/s]"
      ]
     },
     "metadata": {},
     "output_type": "display_data"
    },
    {
     "data": {
      "application/vnd.jupyter.widget-view+json": {
       "model_id": "48359b396a6e45dfb937bd5708566164",
       "version_major": 2,
       "version_minor": 0
      },
      "text/plain": [
       "  0%|          | 0/1 [00:00<?, ?it/s]"
      ]
     },
     "metadata": {},
     "output_type": "display_data"
    },
    {
     "data": {
      "application/vnd.jupyter.widget-view+json": {
       "model_id": "ac6d42f36f36464c88249d2b282877e9",
       "version_major": 2,
       "version_minor": 0
      },
      "text/plain": [
       "  0%|          | 0/2105 [00:00<?, ?it/s]"
      ]
     },
     "metadata": {},
     "output_type": "display_data"
    },
    {
     "data": {
      "application/vnd.jupyter.widget-view+json": {
       "model_id": "a941767e451746fe87ad43d701bdb784",
       "version_major": 2,
       "version_minor": 0
      },
      "text/plain": [
       "  0%|          | 0/800 [00:00<?, ?it/s]"
      ]
     },
     "metadata": {},
     "output_type": "display_data"
    },
    {
     "data": {
      "application/vnd.jupyter.widget-view+json": {
       "model_id": "0be741cba90f4d2a919f61301d9dc313",
       "version_major": 2,
       "version_minor": 0
      },
      "text/plain": [
       "  0%|          | 0/81 [00:00<?, ?it/s]"
      ]
     },
     "metadata": {},
     "output_type": "display_data"
    },
    {
     "data": {
      "application/vnd.jupyter.widget-view+json": {
       "model_id": "b983de137aaa44e8ba3ac55cb3107910",
       "version_major": 2,
       "version_minor": 0
      },
      "text/plain": [
       "  0%|          | 0/30 [00:00<?, ?it/s]"
      ]
     },
     "metadata": {},
     "output_type": "display_data"
    },
    {
     "data": {
      "application/vnd.jupyter.widget-view+json": {
       "model_id": "957d4949307b473f8b7c0337e6b4c4c5",
       "version_major": 2,
       "version_minor": 0
      },
      "text/plain": [
       "  0%|          | 0/1164 [00:00<?, ?it/s]"
      ]
     },
     "metadata": {},
     "output_type": "display_data"
    },
    {
     "data": {
      "application/vnd.jupyter.widget-view+json": {
       "model_id": "e8c85d640fc7496cacbc27f70c41b6af",
       "version_major": 2,
       "version_minor": 0
      },
      "text/plain": [
       "  0%|          | 0/149 [00:00<?, ?it/s]"
      ]
     },
     "metadata": {},
     "output_type": "display_data"
    },
    {
     "data": {
      "application/vnd.jupyter.widget-view+json": {
       "model_id": "83b7dea66e16421395256db96da9d1f9",
       "version_major": 2,
       "version_minor": 0
      },
      "text/plain": [
       "  0%|          | 0/321 [00:00<?, ?it/s]"
      ]
     },
     "metadata": {},
     "output_type": "display_data"
    },
    {
     "data": {
      "application/vnd.jupyter.widget-view+json": {
       "model_id": "f0d8746a45cd418ba02b62ddde2ebc95",
       "version_major": 2,
       "version_minor": 0
      },
      "text/plain": [
       "  0%|          | 0/463 [00:00<?, ?it/s]"
      ]
     },
     "metadata": {},
     "output_type": "display_data"
    },
    {
     "data": {
      "application/vnd.jupyter.widget-view+json": {
       "model_id": "3fed4e036e054814ade71a9354c5fd36",
       "version_major": 2,
       "version_minor": 0
      },
      "text/plain": [
       "  0%|          | 0/26 [00:00<?, ?it/s]"
      ]
     },
     "metadata": {},
     "output_type": "display_data"
    },
    {
     "data": {
      "application/vnd.jupyter.widget-view+json": {
       "model_id": "8dbb009e8a604cd19c21fd66c4dd55ef",
       "version_major": 2,
       "version_minor": 0
      },
      "text/plain": [
       "  0%|          | 0/55 [00:00<?, ?it/s]"
      ]
     },
     "metadata": {},
     "output_type": "display_data"
    },
    {
     "data": {
      "application/vnd.jupyter.widget-view+json": {
       "model_id": "4f8aa341edea48539a9b52cd9eef7759",
       "version_major": 2,
       "version_minor": 0
      },
      "text/plain": [
       "  0%|          | 0/7 [00:00<?, ?it/s]"
      ]
     },
     "metadata": {},
     "output_type": "display_data"
    },
    {
     "data": {
      "application/vnd.jupyter.widget-view+json": {
       "model_id": "8a0139e8f91a43d4a71ef1a9974eaa91",
       "version_major": 2,
       "version_minor": 0
      },
      "text/plain": [
       "  0%|          | 0/2 [00:00<?, ?it/s]"
      ]
     },
     "metadata": {},
     "output_type": "display_data"
    },
    {
     "data": {
      "application/vnd.jupyter.widget-view+json": {
       "model_id": "54dbad7cf8b5470caa3a9cb4d45fcb30",
       "version_major": 2,
       "version_minor": 0
      },
      "text/plain": [
       "  0%|          | 0/182 [00:00<?, ?it/s]"
      ]
     },
     "metadata": {},
     "output_type": "display_data"
    },
    {
     "data": {
      "application/vnd.jupyter.widget-view+json": {
       "model_id": "5a10409c700b439b8cce5eb8e0031e74",
       "version_major": 2,
       "version_minor": 0
      },
      "text/plain": [
       "  0%|          | 0/93 [00:00<?, ?it/s]"
      ]
     },
     "metadata": {},
     "output_type": "display_data"
    },
    {
     "data": {
      "application/vnd.jupyter.widget-view+json": {
       "model_id": "d805f38878554e0b9256650e10528fbf",
       "version_major": 2,
       "version_minor": 0
      },
      "text/plain": [
       "  0%|          | 0/10 [00:00<?, ?it/s]"
      ]
     },
     "metadata": {},
     "output_type": "display_data"
    },
    {
     "data": {
      "application/vnd.jupyter.widget-view+json": {
       "model_id": "ee2e8a8dbf3341a88d00b3acbc2012a2",
       "version_major": 2,
       "version_minor": 0
      },
      "text/plain": [
       "  0%|          | 0/13 [00:00<?, ?it/s]"
      ]
     },
     "metadata": {},
     "output_type": "display_data"
    },
    {
     "data": {
      "application/vnd.jupyter.widget-view+json": {
       "model_id": "3ce06af1f0954b569ef198aaf7228801",
       "version_major": 2,
       "version_minor": 0
      },
      "text/plain": [
       "  0%|          | 0/87 [00:00<?, ?it/s]"
      ]
     },
     "metadata": {},
     "output_type": "display_data"
    },
    {
     "data": {
      "application/vnd.jupyter.widget-view+json": {
       "model_id": "721a00f73a524f5a981c9bfda6008536",
       "version_major": 2,
       "version_minor": 0
      },
      "text/plain": [
       "  0%|          | 0/42 [00:00<?, ?it/s]"
      ]
     },
     "metadata": {},
     "output_type": "display_data"
    },
    {
     "data": {
      "application/vnd.jupyter.widget-view+json": {
       "model_id": "937c0abbb3bf44dc825a47883e2e415b",
       "version_major": 2,
       "version_minor": 0
      },
      "text/plain": [
       "  0%|          | 0/11 [00:00<?, ?it/s]"
      ]
     },
     "metadata": {},
     "output_type": "display_data"
    },
    {
     "data": {
      "application/vnd.jupyter.widget-view+json": {
       "model_id": "fef9e16ee1ea4dcca108274876fa0a13",
       "version_major": 2,
       "version_minor": 0
      },
      "text/plain": [
       "  0%|          | 0/14 [00:00<?, ?it/s]"
      ]
     },
     "metadata": {},
     "output_type": "display_data"
    },
    {
     "data": {
      "application/vnd.jupyter.widget-view+json": {
       "model_id": "4d690266d748486e9bb78bfcc1317264",
       "version_major": 2,
       "version_minor": 0
      },
      "text/plain": [
       "  0%|          | 0/2 [00:00<?, ?it/s]"
      ]
     },
     "metadata": {},
     "output_type": "display_data"
    },
    {
     "data": {
      "application/vnd.jupyter.widget-view+json": {
       "model_id": "fbbe9b6343ac4d21898c482f3b65a788",
       "version_major": 2,
       "version_minor": 0
      },
      "text/plain": [
       "  0%|          | 0/2 [00:00<?, ?it/s]"
      ]
     },
     "metadata": {},
     "output_type": "display_data"
    },
    {
     "data": {
      "application/vnd.jupyter.widget-view+json": {
       "model_id": "b3f0477505b545eb8be0ff0e75d0549a",
       "version_major": 2,
       "version_minor": 0
      },
      "text/plain": [
       "  0%|          | 0/8454 [00:00<?, ?it/s]"
      ]
     },
     "metadata": {},
     "output_type": "display_data"
    },
    {
     "data": {
      "application/vnd.jupyter.widget-view+json": {
       "model_id": "69bc9c6fcb69477084a2bd845902f755",
       "version_major": 2,
       "version_minor": 0
      },
      "text/plain": [
       "  0%|          | 0/1823 [00:00<?, ?it/s]"
      ]
     },
     "metadata": {},
     "output_type": "display_data"
    },
    {
     "data": {
      "application/vnd.jupyter.widget-view+json": {
       "model_id": "8140a6b68266424e876a7bd48a33219b",
       "version_major": 2,
       "version_minor": 0
      },
      "text/plain": [
       "  0%|          | 0/1051 [00:00<?, ?it/s]"
      ]
     },
     "metadata": {},
     "output_type": "display_data"
    }
   ],
   "source": [
    "# join users splits\n",
    "split = join_user_splits(\n",
    "    segment_users, segm_train_out_users,\n",
    "    'segm_all', 'segm_content_rate'\n",
    ")\n",
    "\n",
    "watched_thershold = 15\n",
    "\n",
    "# init base estimator (segment knn)\n",
    "# for popular wrapper\n",
    "\n",
    "base_estimator_kwargs = {\n",
    "    'pop_items': items_pop_ordered,\n",
    "}\n",
    "sub_est_predict_kwargs = {\n",
    "    'complete_method': 'popular',\n",
    "}\n",
    "\n",
    "segment_knn = SegmentKNN(\n",
    "    base_estimator=UserKnnComplete,\n",
    "    sub_estimator=CosineRecommender,\n",
    "    base_estimator_kwargs=base_estimator_kwargs,\n",
    "    sub_estimators_predict_kwargs=sub_est_predict_kwargs\n",
    ")\n",
    "\n",
    "# split\n",
    "base_estimator_fit_kwargs = {\n",
    "    'user_segment_df': split,\n",
    "    'segm_col': 'segm_all'\n",
    "}\n",
    "\n",
    "# init and fit popular wrapper\n",
    "\n",
    "popular_wrapper = PopularWrapper(\n",
    "    base_estimator=segment_knn,\n",
    "    rec_pops=items_pop_ordered,\n",
    "    threshold=watched_thershold,\n",
    "    base_estimator_fit_kwargs=base_estimator_fit_kwargs\n",
    ")\n",
    "\n",
    "popular_wrapper.fit(train)"
   ]
  },
  {
   "cell_type": "markdown",
   "id": "61dbeecb",
   "metadata": {},
   "source": [
    "Маппинги пользователей:"
   ]
  },
  {
   "cell_type": "code",
   "execution_count": 74,
   "id": "0fc0173b",
   "metadata": {},
   "outputs": [
    {
     "data": {
      "text/plain": [
       "{216495: 7,\n",
       " 515668: 7,\n",
       " 306720: 7,\n",
       " 555792: 7,\n",
       " 1066967: 1,\n",
       " 182442: 0,\n",
       " 372268: 7,\n",
       " 657798: 7,\n",
       " 505924: 6,\n",
       " 19772: 0,\n",
       " 621344: 7,\n",
       " 1011510: 7,\n",
       " 519719: 7,\n",
       " 753791: 7,\n",
       " 85214: 7,\n",
       " 485652: 7,\n",
       " 656295: 1,\n",
       " 579268: 7,\n",
       " 886671: 7,\n",
       " 1068489: 7,\n",
       " 844373: 1,\n",
       " 516186: 1,\n",
       " 879632: 7,\n",
       " 929627: 1,\n",
       " 15157: 1,\n",
       " 513749: 7,\n",
       " 569584: 7,\n",
       " 778000: 7,\n",
       " 384896: 6,\n",
       " 777240: 7,\n",
       " 996197: 7,\n",
       " 964307: 1,\n",
       " 548757: 7,\n",
       " 80568: 1,\n",
       " 964820: 7,\n",
       " 735611: 7,\n",
       " 810485: 7,\n",
       " 378651: 1,\n",
       " 503790: 7,\n",
       " 156939: 7,\n",
       " 173046: 7,\n",
       " 608108: 7,\n",
       " 926953: 7,\n",
       " 358542: 7,\n",
       " 794054: 7,\n",
       " 813535: 7,\n",
       " 64739: 7,\n",
       " 157555: 1,\n",
       " 163322: 1,\n",
       " 407397: 7,\n",
       " 963906: 7,\n",
       " 147041: 7,\n",
       " 782894: 7,\n",
       " 837382: 1,\n",
       " 880906: 1,\n",
       " 1041354: 7,\n",
       " 530707: 7,\n",
       " 255957: 1,\n",
       " 318819: 1,\n",
       " 1034112: 7,\n",
       " 1055086: 1,\n",
       " 139053: 1,\n",
       " 665074: 1,\n",
       " 14046: 7,\n",
       " 93102: 1,\n",
       " 43969: 7,\n",
       " 322823: 1,\n",
       " 619935: 7,\n",
       " 656216: 7,\n",
       " 470766: 1,\n",
       " 932336: 7,\n",
       " 277690: 7,\n",
       " 225996: 1,\n",
       " 694850: 7,\n",
       " 946187: 1,\n",
       " 1079639: 1,\n",
       " 358256: 0,\n",
       " 116523: 7,\n",
       " 158490: 1,\n",
       " 968761: 7,\n",
       " 986283: 1,\n",
       " 587163: 1,\n",
       " 279758: 1,\n",
       " 513052: 7,\n",
       " 195919: 6,\n",
       " 1048238: 1,\n",
       " 523649: 1,\n",
       " 848292: 1,\n",
       " 687296: 7,\n",
       " 66298: 1,\n",
       " 465705: 1,\n",
       " 655410: 7,\n",
       " 1087118: 1,\n",
       " 889325: 7,\n",
       " 942122: 1,\n",
       " 243020: 1,\n",
       " 103905: 7,\n",
       " 914679: 7,\n",
       " 1081361: 7,\n",
       " 636083: 7,\n",
       " 667078: 0,\n",
       " 561775: 1,\n",
       " 177768: 7,\n",
       " 1041865: 1,\n",
       " 405847: 1,\n",
       " 663916: 7,\n",
       " 709133: 1,\n",
       " 927942: 7,\n",
       " 856707: 7,\n",
       " 864241: 1,\n",
       " 694387: 7,\n",
       " 783082: 7,\n",
       " 145424: 7,\n",
       " 119410: 7,\n",
       " 281243: 7,\n",
       " 208205: 7,\n",
       " 83135: 1,\n",
       " 497527: 7,\n",
       " 606069: 1,\n",
       " 327479: 7,\n",
       " 250730: 7,\n",
       " 632425: 0,\n",
       " 893472: 7,\n",
       " 784245: 7,\n",
       " 622668: 1,\n",
       " 852869: 7,\n",
       " 218210: 6,\n",
       " 236115: 1,\n",
       " 19080: 7,\n",
       " 167208: 7,\n",
       " 496916: 7,\n",
       " 50187: 7,\n",
       " 880558: 1,\n",
       " 739743: 1,\n",
       " 105050: 7,\n",
       " 757645: 7,\n",
       " 271059: 1,\n",
       " 1021767: 1,\n",
       " 337383: 7,\n",
       " 302585: 7,\n",
       " 226012: 1,\n",
       " 897659: 7,\n",
       " 113833: 7,\n",
       " 874332: 7,\n",
       " 191090: 7,\n",
       " 368507: 7,\n",
       " 615667: 1,\n",
       " 65231: 1,\n",
       " 621689: 7,\n",
       " 1076409: 1,\n",
       " 786622: 7,\n",
       " 78153: 7,\n",
       " 1051321: 1,\n",
       " 312247: 7,\n",
       " 1057611: 7,\n",
       " 647364: 1,\n",
       " 339004: 7,\n",
       " 365201: 7,\n",
       " 660804: 1,\n",
       " 587957: 7,\n",
       " 489717: 7,\n",
       " 346082: 7,\n",
       " 144251: 7,\n",
       " 39293: 7,\n",
       " 295360: 7,\n",
       " 495402: 1,\n",
       " 687519: 7,\n",
       " 492939: 1,\n",
       " 719807: 7,\n",
       " 461544: 1,\n",
       " 736195: 1,\n",
       " 136027: 7,\n",
       " 437160: 7,\n",
       " 38521: 7,\n",
       " 778844: 7,\n",
       " 1038739: 1,\n",
       " 968673: 7,\n",
       " 781063: 7,\n",
       " 994669: 7,\n",
       " 487766: 0,\n",
       " 1078877: 7,\n",
       " 1032513: 7,\n",
       " 496165: 7,\n",
       " 993087: 1,\n",
       " 367369: 7,\n",
       " 166139: 7,\n",
       " 733714: 7,\n",
       " 314630: 7,\n",
       " 1002403: 7,\n",
       " 834506: 7,\n",
       " 752389: 7,\n",
       " 728783: 7,\n",
       " 126856: 7,\n",
       " 691160: 1,\n",
       " 148479: 7,\n",
       " 715206: 7,\n",
       " 791356: 7,\n",
       " 296046: 7,\n",
       " 889250: 7,\n",
       " 890090: 7,\n",
       " 839687: 7,\n",
       " 1064273: 7,\n",
       " 583724: 7,\n",
       " 863715: 1,\n",
       " 1082610: 1,\n",
       " 97900: 1,\n",
       " 381831: 7,\n",
       " 623397: 7,\n",
       " 645756: 1,\n",
       " 196341: 7,\n",
       " 657685: 7,\n",
       " 512725: 7,\n",
       " 442694: 7,\n",
       " 120839: 7,\n",
       " 732451: 1,\n",
       " 314071: 7,\n",
       " 334917: 7,\n",
       " 478997: 7,\n",
       " 1054035: 7,\n",
       " 667294: 7,\n",
       " 974954: 7,\n",
       " 92438: 7,\n",
       " 798024: 7,\n",
       " 1074791: 1,\n",
       " 251007: 6,\n",
       " 1064075: 7,\n",
       " 593689: 7,\n",
       " 297642: 7,\n",
       " 74371: 1,\n",
       " 1040950: 1,\n",
       " 662697: 1,\n",
       " 634217: 7,\n",
       " 716703: 7,\n",
       " 602242: 7,\n",
       " 143690: 7,\n",
       " 625199: 1,\n",
       " 869439: 7,\n",
       " 158572: 7,\n",
       " 753773: 7,\n",
       " 403740: 7,\n",
       " 887476: 1,\n",
       " 165056: 7,\n",
       " 1054148: 7,\n",
       " 891487: 1,\n",
       " 157736: 1,\n",
       " 26089: 7,\n",
       " 321114: 7,\n",
       " 423571: 7,\n",
       " 795576: 7,\n",
       " 581238: 7,\n",
       " 165532: 7,\n",
       " 488177: 1,\n",
       " 201972: 7,\n",
       " 689802: 7,\n",
       " 459238: 7,\n",
       " 895614: 1,\n",
       " 215591: 7,\n",
       " 781012: 7,\n",
       " 1028684: 7,\n",
       " 623653: 7,\n",
       " 256418: 1,\n",
       " 838396: 7,\n",
       " 10650: 1,\n",
       " 477460: 7,\n",
       " 591172: 7,\n",
       " 907215: 7,\n",
       " 409960: 7,\n",
       " 698283: 7,\n",
       " 435881: 1,\n",
       " 168954: 7,\n",
       " 767411: 7,\n",
       " 714879: 1,\n",
       " 55930: 1,\n",
       " 83896: 7,\n",
       " 601899: 1,\n",
       " 317308: 1,\n",
       " 446987: 7,\n",
       " 338977: 7,\n",
       " 917984: 7,\n",
       " 347488: 7,\n",
       " 834801: 7,\n",
       " 1007080: 7,\n",
       " 906407: 7,\n",
       " 673604: 1,\n",
       " 156726: 1,\n",
       " 96197: 7,\n",
       " 915009: 7,\n",
       " 799918: 7,\n",
       " 788725: 7,\n",
       " 1020125: 1,\n",
       " 700758: 6,\n",
       " 387981: 1,\n",
       " 319008: 7,\n",
       " 670113: 7,\n",
       " 1026796: 7,\n",
       " 163044: 7,\n",
       " 507947: 1,\n",
       " 887018: 7,\n",
       " 251006: 7,\n",
       " 1094252: 1,\n",
       " 133594: 7,\n",
       " 155361: 1,\n",
       " 1007041: 7,\n",
       " 476018: 1,\n",
       " 576450: 7,\n",
       " 956503: 1,\n",
       " 805413: 7,\n",
       " 12519: 7,\n",
       " 687333: 7,\n",
       " 543696: 7,\n",
       " 965490: 7,\n",
       " 1078306: 1,\n",
       " 1053401: 7,\n",
       " 370429: 7,\n",
       " 409011: 7,\n",
       " 919011: 1,\n",
       " 28732: 1,\n",
       " 202869: 7,\n",
       " 638338: 1,\n",
       " 742960: 7,\n",
       " 208014: 7,\n",
       " 455590: 1,\n",
       " 620586: 7,\n",
       " 1002020: 1,\n",
       " 485968: 7,\n",
       " 360976: 1,\n",
       " 1034065: 7,\n",
       " 1077199: 7,\n",
       " 55842: 7,\n",
       " 754779: 0,\n",
       " 619827: 7,\n",
       " 735707: 7,\n",
       " 844960: 7,\n",
       " 295884: 1,\n",
       " 863723: 7,\n",
       " 112139: 7,\n",
       " 641923: 7,\n",
       " 893583: 7,\n",
       " 603629: 1,\n",
       " 67856: 6,\n",
       " 476439: 7,\n",
       " 547045: 1,\n",
       " 843425: 1,\n",
       " 845029: 7,\n",
       " 633393: 7,\n",
       " 423839: 7,\n",
       " 1095385: 7,\n",
       " 761672: 7,\n",
       " 857590: 1,\n",
       " 562769: 7,\n",
       " 1020375: 7,\n",
       " 56229: 7,\n",
       " 263941: 1,\n",
       " 982288: 1,\n",
       " 548768: 7,\n",
       " 47136: 7,\n",
       " 147383: 7,\n",
       " 1012321: 7,\n",
       " 1040801: 7,\n",
       " 544853: 7,\n",
       " 239898: 7,\n",
       " 689024: 7,\n",
       " 519055: 1,\n",
       " 656907: 1,\n",
       " 111021: 7,\n",
       " 441192: 1,\n",
       " 367413: 7,\n",
       " 368658: 1,\n",
       " 644042: 1,\n",
       " 917168: 7,\n",
       " 991154: 7,\n",
       " 934391: 7,\n",
       " 1028875: 1,\n",
       " 528899: 7,\n",
       " 710651: 7,\n",
       " 904185: 7,\n",
       " 217331: 7,\n",
       " 519057: 7,\n",
       " 318269: 7,\n",
       " 503521: 7,\n",
       " 906542: 7,\n",
       " 1040264: 1,\n",
       " 985086: 7,\n",
       " 233944: 1,\n",
       " 666824: 7,\n",
       " 930594: 1,\n",
       " 559045: 1,\n",
       " 1044940: 1,\n",
       " 43450: 7,\n",
       " 783044: 7,\n",
       " 339974: 7,\n",
       " 1014044: 7,\n",
       " 536079: 7,\n",
       " 445826: 7,\n",
       " 1058705: 7,\n",
       " 413885: 7,\n",
       " 649491: 7,\n",
       " 1012821: 1,\n",
       " 118299: 7,\n",
       " 1030701: 7,\n",
       " 375081: 1,\n",
       " 377935: 0,\n",
       " 428636: 1,\n",
       " 897777: 1,\n",
       " 977296: 7,\n",
       " 428132: 1,\n",
       " 305117: 7,\n",
       " 33951: 7,\n",
       " 212034: 7,\n",
       " 180570: 1,\n",
       " 275432: 7,\n",
       " 161579: 7,\n",
       " 768778: 7,\n",
       " 642283: 7,\n",
       " 193297: 7,\n",
       " 681940: 7,\n",
       " 54430: 0,\n",
       " 447511: 1,\n",
       " 40060: 7,\n",
       " 1040126: 1,\n",
       " 221332: 1,\n",
       " 435159: 1,\n",
       " 212689: 7,\n",
       " 419785: 1,\n",
       " 246010: 7,\n",
       " 57245: 1,\n",
       " 160923: 1,\n",
       " 427439: 1,\n",
       " 402525: 7,\n",
       " 911339: 1,\n",
       " 154486: 7,\n",
       " 705352: 7,\n",
       " 523646: 7,\n",
       " 469804: 1,\n",
       " 551981: 7,\n",
       " 336780: 7,\n",
       " 877307: 7,\n",
       " 1068900: 1,\n",
       " 81649: 7,\n",
       " 1081391: 7,\n",
       " 1048476: 7,\n",
       " 277260: 7,\n",
       " 392634: 7,\n",
       " 864916: 1,\n",
       " 838638: 7,\n",
       " 551937: 7,\n",
       " 772436: 1,\n",
       " 689293: 7,\n",
       " 257876: 7,\n",
       " 641977: 7,\n",
       " 468484: 7,\n",
       " 725933: 7,\n",
       " 654970: 1,\n",
       " 506681: 7,\n",
       " 323082: 1,\n",
       " 681069: 7,\n",
       " 802565: 7,\n",
       " 581259: 7,\n",
       " 404095: 7,\n",
       " 495550: 1,\n",
       " 1096268: 1,\n",
       " 629542: 7,\n",
       " 1095115: 1,\n",
       " 793754: 7,\n",
       " 144864: 7,\n",
       " 498509: 1,\n",
       " 1028057: 7,\n",
       " 840057: 1,\n",
       " 469577: 1,\n",
       " 863498: 1,\n",
       " 156452: 7,\n",
       " 208129: 7,\n",
       " 172886: 7,\n",
       " 623313: 7,\n",
       " 720846: 7,\n",
       " 312613: 7,\n",
       " 1076345: 7,\n",
       " 526087: 7,\n",
       " 244884: 1,\n",
       " 488131: 1,\n",
       " 934637: 7,\n",
       " 142011: 7,\n",
       " 599058: 7,\n",
       " 555379: 1,\n",
       " 402564: 1,\n",
       " 627385: 7,\n",
       " 359919: 1,\n",
       " 453254: 7,\n",
       " 595462: 7,\n",
       " 821425: 1,\n",
       " 576088: 7,\n",
       " 735312: 0,\n",
       " 361381: 7,\n",
       " 704213: 7,\n",
       " 950037: 7,\n",
       " 860026: 1,\n",
       " 623636: 7,\n",
       " 92191: 1,\n",
       " 1088897: 1,\n",
       " 88124: 7,\n",
       " 468586: 7,\n",
       " 354191: 1,\n",
       " 135911: 1,\n",
       " 318527: 7,\n",
       " 308313: 7,\n",
       " 800561: 1,\n",
       " 141072: 7,\n",
       " 841818: 7,\n",
       " 975673: 7,\n",
       " 901703: 0,\n",
       " 628633: 1,\n",
       " 521862: 7,\n",
       " 956476: 7,\n",
       " 604448: 1,\n",
       " 292698: 1,\n",
       " 998146: 1,\n",
       " 751032: 7,\n",
       " 505249: 7,\n",
       " 369131: 1,\n",
       " 788076: 7,\n",
       " 757696: 7,\n",
       " 435187: 7,\n",
       " 539649: 7,\n",
       " 130967: 7,\n",
       " 928750: 7,\n",
       " 215807: 7,\n",
       " 860673: 7,\n",
       " 829286: 7,\n",
       " 892995: 7,\n",
       " 7146: 1,\n",
       " 129059: 7,\n",
       " 139688: 7,\n",
       " 519065: 6,\n",
       " 978215: 1,\n",
       " 126742: 0,\n",
       " 330736: 7,\n",
       " 483126: 7,\n",
       " 752286: 7,\n",
       " 955921: 7,\n",
       " 989910: 7,\n",
       " 552503: 7,\n",
       " 825351: 7,\n",
       " 962922: 7,\n",
       " 326924: 7,\n",
       " 995418: 6,\n",
       " 290732: 7,\n",
       " 649339: 7,\n",
       " 684558: 7,\n",
       " 775929: 1,\n",
       " 346824: 1,\n",
       " 510227: 7,\n",
       " 940424: 7,\n",
       " 1029756: 0,\n",
       " 806425: 1,\n",
       " 143665: 7,\n",
       " 810893: 1,\n",
       " 538177: 1,\n",
       " 34827: 7,\n",
       " 341328: 7,\n",
       " 1093276: 1,\n",
       " 658354: 1,\n",
       " 431396: 7,\n",
       " 321414: 1,\n",
       " 533701: 1,\n",
       " 537135: 7,\n",
       " 333875: 1,\n",
       " 410051: 7,\n",
       " 738886: 1,\n",
       " 607665: 0,\n",
       " 768226: 7,\n",
       " 455809: 1,\n",
       " 1067094: 7,\n",
       " 492989: 7,\n",
       " 761346: 1,\n",
       " 1028143: 1,\n",
       " 631588: 7,\n",
       " 54008: 7,\n",
       " 743827: 7,\n",
       " 1079336: 7,\n",
       " 647560: 7,\n",
       " 225758: 7,\n",
       " 1059697: 7,\n",
       " 321217: 1,\n",
       " 202154: 7,\n",
       " 725791: 7,\n",
       " 854918: 7,\n",
       " 600032: 7,\n",
       " 449154: 7,\n",
       " 418948: 7,\n",
       " 1060299: 7,\n",
       " 464686: 7,\n",
       " 606563: 7,\n",
       " 119854: 1,\n",
       " 672616: 7,\n",
       " 492148: 1,\n",
       " 125211: 7,\n",
       " 14317: 7,\n",
       " 631770: 7,\n",
       " 310662: 1,\n",
       " 537879: 1,\n",
       " 576184: 7,\n",
       " 202601: 1,\n",
       " 1005482: 7,\n",
       " 879928: 7,\n",
       " 839203: 7,\n",
       " 711831: 7,\n",
       " 1036838: 7,\n",
       " 312739: 7,\n",
       " 22700: 1,\n",
       " 253854: 7,\n",
       " 849780: 1,\n",
       " 1003890: 1,\n",
       " 823475: 7,\n",
       " 201877: 7,\n",
       " 192468: 1,\n",
       " 302392: 7,\n",
       " 360806: 7,\n",
       " 647264: 7,\n",
       " 392123: 0,\n",
       " 369876: 1,\n",
       " 719548: 7,\n",
       " 455325: 7,\n",
       " 807566: 1,\n",
       " 152006: 7,\n",
       " 259639: 7,\n",
       " 979695: 7,\n",
       " 637656: 7,\n",
       " 575184: 1,\n",
       " 844128: 7,\n",
       " 387948: 1,\n",
       " 772511: 7,\n",
       " 990978: 1,\n",
       " 399432: 7,\n",
       " 1062267: 7,\n",
       " 86656: 7,\n",
       " 775881: 7,\n",
       " 528675: 7,\n",
       " 1008287: 7,\n",
       " 839996: 1,\n",
       " 141208: 7,\n",
       " 1011901: 7,\n",
       " 392567: 7,\n",
       " 223577: 7,\n",
       " 364504: 1,\n",
       " 533116: 7,\n",
       " 1029659: 1,\n",
       " 554807: 7,\n",
       " 329411: 1,\n",
       " 302261: 0,\n",
       " 498853: 7,\n",
       " 301940: 7,\n",
       " 620221: 7,\n",
       " 176593: 7,\n",
       " 313124: 1,\n",
       " 701993: 7,\n",
       " 554256: 1,\n",
       " 816139: 1,\n",
       " 388734: 7,\n",
       " 755152: 7,\n",
       " 791975: 1,\n",
       " 938399: 7,\n",
       " 115425: 7,\n",
       " 334649: 7,\n",
       " 843283: 1,\n",
       " 43277: 1,\n",
       " 10780: 7,\n",
       " 1915: 7,\n",
       " 681341: 7,\n",
       " 688728: 7,\n",
       " 271292: 7,\n",
       " 594081: 7,\n",
       " 375808: 1,\n",
       " 688353: 7,\n",
       " 73081: 7,\n",
       " 964302: 1,\n",
       " 579010: 7,\n",
       " 744376: 7,\n",
       " 210788: 7,\n",
       " 23501: 1,\n",
       " 1038715: 1,\n",
       " 562339: 7,\n",
       " 955732: 7,\n",
       " 466751: 7,\n",
       " 259063: 7,\n",
       " 1014594: 7,\n",
       " 958113: 1,\n",
       " 95866: 7,\n",
       " 420746: 7,\n",
       " 401753: 0,\n",
       " 342587: 7,\n",
       " 161173: 6,\n",
       " 897947: 7,\n",
       " 1034179: 7,\n",
       " 402115: 7,\n",
       " 981762: 1,\n",
       " 779004: 7,\n",
       " 1003530: 7,\n",
       " 537050: 7,\n",
       " 278752: 7,\n",
       " 1090813: 7,\n",
       " 1094982: 1,\n",
       " 800756: 1,\n",
       " 242496: 7,\n",
       " 214519: 1,\n",
       " 382633: 7,\n",
       " 589140: 7,\n",
       " 661608: 7,\n",
       " 641033: 7,\n",
       " 607981: 1,\n",
       " 160068: 7,\n",
       " 260570: 1,\n",
       " 882213: 1,\n",
       " 928108: 7,\n",
       " 38003: 7,\n",
       " 700361: 7,\n",
       " 377713: 7,\n",
       " 375758: 1,\n",
       " 623559: 1,\n",
       " 492658: 7,\n",
       " 7760: 1,\n",
       " 292961: 7,\n",
       " 804386: 1,\n",
       " 970070: 7,\n",
       " 37519: 7,\n",
       " 844543: 7,\n",
       " 215595: 7,\n",
       " 133533: 0,\n",
       " 937626: 7,\n",
       " 624921: 1,\n",
       " 553780: 7,\n",
       " 424279: 6,\n",
       " 88618: 7,\n",
       " 679490: 7,\n",
       " 782820: 1,\n",
       " 921707: 1,\n",
       " 999480: 7,\n",
       " 766764: 7,\n",
       " 529274: 0,\n",
       " 610024: 7,\n",
       " 635252: 1,\n",
       " 234681: 1,\n",
       " 977000: 7,\n",
       " 649320: 6,\n",
       " 627339: 1,\n",
       " 523672: 7,\n",
       " 335227: 7,\n",
       " 488881: 7,\n",
       " 1005130: 7,\n",
       " 476497: 7,\n",
       " 800116: 7,\n",
       " 991027: 7,\n",
       " 98558: 1,\n",
       " 62051: 7,\n",
       " 47989: 7,\n",
       " 190292: 7,\n",
       " 413688: 1,\n",
       " 790136: 7,\n",
       " 64700: 1,\n",
       " 821260: 1,\n",
       " 713177: 7,\n",
       " 834849: 0,\n",
       " 588677: 1,\n",
       " 241006: 1,\n",
       " 830951: 0,\n",
       " 1045314: 1,\n",
       " 746086: 1,\n",
       " 945758: 7,\n",
       " 186297: 7,\n",
       " 968609: 1,\n",
       " 487511: 7,\n",
       " 823857: 7,\n",
       " 159500: 7,\n",
       " 914267: 7,\n",
       " 842871: 7,\n",
       " 224083: 7,\n",
       " 367109: 7,\n",
       " 73677: 7,\n",
       " 871670: 7,\n",
       " 627816: 7,\n",
       " 217680: 7,\n",
       " 540613: 7,\n",
       " 392015: 7,\n",
       " 52902: 7,\n",
       " 1064523: 1,\n",
       " 89594: 1,\n",
       " 233805: 7,\n",
       " 1004478: 0,\n",
       " 78016: 7,\n",
       " 840404: 7,\n",
       " 22892: 1,\n",
       " 406948: 7,\n",
       " 399370: 1,\n",
       " 1029276: 1,\n",
       " 247360: 1,\n",
       " 782563: 7,\n",
       " 918659: 7,\n",
       " 216203: 1,\n",
       " 981134: 7,\n",
       " 647: 7,\n",
       " 611919: 1,\n",
       " 982409: 1,\n",
       " 249084: 7,\n",
       " 422059: 7,\n",
       " 790721: 7,\n",
       " 976791: 7,\n",
       " 36470: 7,\n",
       " 96560: 1,\n",
       " 443412: 7,\n",
       " 98748: 1,\n",
       " 396701: 7,\n",
       " 160697: 7,\n",
       " 982481: 1,\n",
       " 684039: 7,\n",
       " 994121: 1,\n",
       " 590461: 7,\n",
       " 925308: 7,\n",
       " 565835: 7,\n",
       " 238540: 1,\n",
       " 617504: 1,\n",
       " 273212: 7,\n",
       " 776861: 7,\n",
       " 396502: 7,\n",
       " 747070: 1,\n",
       " 572091: 7,\n",
       " 505105: 7,\n",
       " 366067: 7,\n",
       " 892126: 7,\n",
       " 655171: 1,\n",
       " 110403: 7,\n",
       " 878042: 1,\n",
       " 169793: 7,\n",
       " 1045524: 7,\n",
       " 749306: 7,\n",
       " 913249: 1,\n",
       " 452786: 1,\n",
       " 569746: 7,\n",
       " 35053: 7,\n",
       " 110236: 7,\n",
       " 805646: 1,\n",
       " 86415: 7,\n",
       " 811386: 7,\n",
       " 49282: 7,\n",
       " 27113: 7,\n",
       " 410074: 7,\n",
       " 52619: 7,\n",
       " 1034438: 7,\n",
       " 474932: 7,\n",
       " 871394: 7,\n",
       " 607663: 7,\n",
       " 76037: 1,\n",
       " 605491: 7,\n",
       " 404978: 7,\n",
       " 699438: 7,\n",
       " 510607: 7,\n",
       " 241475: 1,\n",
       " 601446: 7,\n",
       " 251828: 1,\n",
       " 1086206: 6,\n",
       " 794822: 7,\n",
       " 255392: 7,\n",
       " 1017577: 7,\n",
       " 972915: 7,\n",
       " 178826: 7,\n",
       " 763235: 1,\n",
       " 923959: 7,\n",
       " 291010: 7,\n",
       " 526877: 6,\n",
       " 1038864: 1,\n",
       " 920354: 6,\n",
       " 270821: 1,\n",
       " 185093: 1,\n",
       " 633066: 7,\n",
       " 623068: 7,\n",
       " 329827: 7,\n",
       " 687626: 7,\n",
       " 361646: 7,\n",
       " 747738: 1,\n",
       " 558104: 1,\n",
       " 673680: 1,\n",
       " 443444: 7,\n",
       " 730000: 7,\n",
       " 1072472: 1,\n",
       " 665578: 1,\n",
       " 432725: 7,\n",
       " 589939: 7,\n",
       " 920640: 1,\n",
       " 858160: 7,\n",
       " 347409: 7,\n",
       " 440771: 7,\n",
       " 142415: 7,\n",
       " 836460: 1,\n",
       " 697913: 1,\n",
       " 712764: 7,\n",
       " 477595: 7,\n",
       " 3240: 7,\n",
       " 1070581: 7,\n",
       " 673352: 1,\n",
       " 232698: 7,\n",
       " 553572: 1,\n",
       " 721820: 1,\n",
       " 114299: 7,\n",
       " 328852: 7,\n",
       " 627720: 1,\n",
       " 221309: 7,\n",
       " 309492: 6,\n",
       " 995869: 1,\n",
       " 47200: 1,\n",
       " 990743: 1,\n",
       " 85882: 7,\n",
       " 810395: 7,\n",
       " 87683: 7,\n",
       " 193767: 1,\n",
       " 49172: 7,\n",
       " 996507: 7,\n",
       " 375217: 1,\n",
       " 930463: 7,\n",
       " 260172: 7,\n",
       " 109205: 7,\n",
       " 815552: 7,\n",
       " 167373: 7,\n",
       " 93895: 7,\n",
       " 556602: 1,\n",
       " 902488: 7,\n",
       " 141154: 1,\n",
       " 666009: 7,\n",
       " 241684: 0,\n",
       " 550116: 1,\n",
       " 1056934: 6,\n",
       " 483362: 7,\n",
       " 559717: 7,\n",
       " 87168: 1,\n",
       " 264836: 1,\n",
       " 162349: 1,\n",
       " 989727: 1,\n",
       " 229738: 7,\n",
       " 226069: 7,\n",
       " 370726: 7,\n",
       " 849281: 0,\n",
       " 915920: 7,\n",
       " 557779: 7,\n",
       " 980802: 7,\n",
       " 57675: 7,\n",
       " 187576: 1,\n",
       " 822453: 1,\n",
       " 55547: 7,\n",
       " 1075522: 7,\n",
       " 388644: 1,\n",
       " 525876: 1,\n",
       " 985514: 7,\n",
       " 549911: 1,\n",
       " 225031: 1,\n",
       " 730757: 1,\n",
       " 278945: 1,\n",
       " 475604: 1,\n",
       " 485369: 1,\n",
       " 627834: 1,\n",
       " 103980: 1,\n",
       " 1037137: 7,\n",
       " 593177: 7,\n",
       " 459850: 7,\n",
       " 605417: 7,\n",
       " 302581: 1,\n",
       " 451924: 7,\n",
       " 1000306: 1,\n",
       " 705329: 1,\n",
       " 59943: 7,\n",
       " 767426: 1,\n",
       " 62153: 7,\n",
       " 812249: 7,\n",
       " 422162: 1,\n",
       " 309568: 6,\n",
       " 1095789: 6,\n",
       " 67629: 7,\n",
       " 693663: 7,\n",
       " 571531: 1,\n",
       " 348469: 7,\n",
       " 652493: 7,\n",
       " 444231: 1,\n",
       " 426310: 7,\n",
       " 925064: 7,\n",
       " 196526: 1,\n",
       " 234540: 7,\n",
       " 703110: 7,\n",
       " 315049: 1,\n",
       " 269717: 7,\n",
       " 71818: 7,\n",
       " 145839: 7,\n",
       " 971908: 1,\n",
       " 742092: 7,\n",
       " 803800: 1,\n",
       " 263101: 1,\n",
       " 435317: 7,\n",
       " 440018: 1,\n",
       " 1077705: 7,\n",
       " 784772: 1,\n",
       " 304470: 7,\n",
       " 121834: 7,\n",
       " 43119: 1,\n",
       " 927609: 7,\n",
       " 480215: 6,\n",
       " ...}"
      ]
     },
     "execution_count": 74,
     "metadata": {},
     "output_type": "execute_result"
    }
   ],
   "source": [
    "popular_wrapper.base_estimator.users_segment_map"
   ]
  },
  {
   "cell_type": "code",
   "execution_count": 75,
   "id": "996fa6fe",
   "metadata": {},
   "outputs": [],
   "source": [
    "with open('users_segment_map.dill', 'wb') as f:\n",
    "    dill.dump(popular_wrapper.base_estimator.users_segment_map, f)"
   ]
  },
  {
   "cell_type": "markdown",
   "id": "6d662404",
   "metadata": {},
   "source": [
    "Маппинги моделей:"
   ]
  },
  {
   "cell_type": "code",
   "execution_count": 76,
   "id": "02410be0",
   "metadata": {},
   "outputs": [
    {
     "data": {
      "text/plain": [
       "{1: <__main__.UserKnnComplete at 0x7f517cb83040>,\n",
       " 6: <__main__.UserKnnComplete at 0x7f5196bb8100>,\n",
       " 7: <__main__.UserKnnComplete at 0x7f51ad53bbb0>,\n",
       " 0: <__main__.UserKnnComplete at 0x7f51650fcdc0>,\n",
       " 8: <__main__.UserKnnComplete at 0x7f5196bb85e0>,\n",
       " 9: <__main__.UserKnnComplete at 0x7f5196bb81c0>,\n",
       " 2: <__main__.UserKnnComplete at 0x7f5196718070>,\n",
       " 3: <__main__.UserKnnComplete at 0x7f5196bb87f0>,\n",
       " 11: <__main__.UserKnnComplete at 0x7f518374f8e0>,\n",
       " 10: <__main__.UserKnnComplete at 0x7f517e0e7d00>,\n",
       " 5: <__main__.UserKnnComplete at 0x7f51874cd070>,\n",
       " 13: <__main__.UserKnnComplete at 0x7f517c3bcd00>,\n",
       " 19: <__main__.UserKnnComplete at 0x7f5196b75f40>,\n",
       " 12: <__main__.UserKnnComplete at 0x7f517c3bcca0>,\n",
       " 18: <__main__.UserKnnComplete at 0x7f51889baa60>,\n",
       " 21: <__main__.UserKnnComplete at 0x7f51650bd8b0>,\n",
       " 14: <__main__.UserKnnComplete at 0x7f5161da4df0>,\n",
       " 20: <__main__.UserKnnComplete at 0x7f51889a2c40>,\n",
       " 15: <__main__.UserKnnComplete at 0x7f51889a2e20>,\n",
       " 17: <__main__.UserKnnComplete at 0x7f5187cde2e0>,\n",
       " 22: <__main__.UserKnnComplete at 0x7f515d685e80>,\n",
       " 23: <__main__.UserKnnComplete at 0x7f5187cde220>,\n",
       " 16: <__main__.UserKnnComplete at 0x7f517d9c8970>,\n",
       " 25: <__main__.UserKnnComplete at 0x7f5188839df0>,\n",
       " 31: <__main__.UserKnnComplete at 0x7f518c1a7c40>,\n",
       " 24: <__main__.UserKnnComplete at 0x7f51969a8eb0>,\n",
       " 30: <__main__.UserKnnComplete at 0x7f517df57fd0>,\n",
       " 26: <__main__.UserKnnComplete at 0x7f5197473f40>,\n",
       " 32: <__main__.UserKnnComplete at 0x7f517df57a60>,\n",
       " 33: <__main__.UserKnnComplete at 0x7f5187cc5250>,\n",
       " 27: <__main__.UserKnnComplete at 0x7f518c269760>,\n",
       " 29: <__main__.UserKnnComplete at 0x7f517c63deb0>,\n",
       " 35: <__main__.UserKnnComplete at 0x7f518c1cc130>,\n",
       " 28: <__main__.UserKnnComplete at 0x7f518803a8b0>,\n",
       " 42: <__main__.UserKnnComplete at 0x7f5188646340>,\n",
       " 37: <__main__.UserKnnComplete at 0x7f517d0ed070>,\n",
       " 41: <__main__.UserKnnComplete at 0x7f51642ba370>,\n",
       " 36: <__main__.UserKnnComplete at 0x7f517def0940>,\n",
       " 44: <__main__.UserKnnComplete at 0x7f5197a994c0>,\n",
       " 43: <__main__.UserKnnComplete at 0x7f518b4c5ac0>,\n",
       " 38: <__main__.UserKnnComplete at 0x7f5197a99490>,\n",
       " 39: <__main__.UserKnnComplete at 0x7f517def0e50>,\n",
       " 46: <__main__.UserKnnComplete at 0x7f5153159e80>,\n",
       " 45: <__main__.UserKnnComplete at 0x7f515395aac0>,\n",
       " 48: <__main__.UserKnnComplete at 0x7f515b5317c0>,\n",
       " 54: <__main__.UserKnnComplete at 0x7f5153159fa0>,\n",
       " 47: <__main__.UserKnnComplete at 0x7f51635e00a0>,\n",
       " 53: <__main__.UserKnnComplete at 0x7f5164947280>,\n",
       " 49: <__main__.UserKnnComplete at 0x7f515af58f40>,\n",
       " 50: <__main__.UserKnnComplete at 0x7f5164947040>,\n",
       " 55: <__main__.UserKnnComplete at 0x7f51531e7670>,\n",
       " 56: <__main__.UserKnnComplete at 0x7f51534da310>,\n",
       " 58: <__main__.UserKnnComplete at 0x7f515386cca0>,\n",
       " 52: <__main__.UserKnnComplete at 0x7f515404dcd0>,\n",
       " 51: <__main__.UserKnnComplete at 0x7f516276eca0>,\n",
       " 57: <__main__.UserKnnComplete at 0x7f5154340f10>,\n",
       " 60: <__main__.UserKnnComplete at 0x7f515d2a78b0>,\n",
       " 66: <__main__.UserKnnComplete at 0x7f5153cd31f0>,\n",
       " 65: <__main__.UserKnnComplete at 0x7f5153af7c10>,\n",
       " 59: <__main__.UserKnnComplete at 0x7f51539879d0>,\n",
       " 61: <__main__.UserKnnComplete at 0x7f518bec0430>,\n",
       " 67: <__main__.UserKnnComplete at 0x7f5165234370>,\n",
       " 62: <__main__.UserKnnComplete at 0x7f516011c820>,\n",
       " 68: <__main__.UserKnnComplete at 0x7f515b531100>,\n",
       " 64: <__main__.UserKnnComplete at 0x7f518beecbb0>,\n",
       " 63: <__main__.UserKnnComplete at 0x7f5160f00f40>,\n",
       " 70: <__main__.UserKnnComplete at 0x7f5160ee3ac0>,\n",
       " 72: <__main__.UserKnnComplete at 0x7f515b7f4190>,\n",
       " 78: <__main__.UserKnnComplete at 0x7f51660faf10>,\n",
       " 71: <__main__.UserKnnComplete at 0x7f51658dec40>,\n",
       " 77: <__main__.UserKnnComplete at 0x7f515b8e5940>,\n",
       " 79: <__main__.UserKnnComplete at 0x7f5154c64cd0>,\n",
       " 80: <__main__.UserKnnComplete at 0x7f5157600820>,\n",
       " 73: <__main__.UserKnnComplete at 0x7f51660fad30>,\n",
       " 74: <__main__.UserKnnComplete at 0x7f515ded73d0>,\n",
       " 82: <__main__.UserKnnComplete at 0x7f515ded7460>,\n",
       " 76: <__main__.UserKnnComplete at 0x7f5196875700>,\n",
       " 81: <__main__.UserKnnComplete at 0x7f516086e970>,\n",
       " 90: <__main__.UserKnnComplete at 0x7f5156a9b1c0>,\n",
       " 84: <__main__.UserKnnComplete at 0x7f5152b9ae50>,\n",
       " 89: <__main__.UserKnnComplete at 0x7f515ded7100>,\n",
       " 83: <__main__.UserKnnComplete at 0x7f5165b1e430>,\n",
       " 91: <__main__.UserKnnComplete at 0x7f515690df10>,\n",
       " 86: <__main__.UserKnnComplete at 0x7f518ad49370>,\n",
       " 85: <__main__.UserKnnComplete at 0x7f51875fa250>,\n",
       " 92: <__main__.UserKnnComplete at 0x7f5158a3a670>,\n",
       " 88: <__main__.UserKnnComplete at 0x7f515de5ba30>,\n",
       " 94: <__main__.UserKnnComplete at 0x7f5196bee130>,\n",
       " 87: <__main__.UserKnnComplete at 0x7f51580ba0a0>,\n",
       " 93: <__main__.UserKnnComplete at 0x7f515de5bfa0>,\n",
       " 101: <__main__.UserKnnComplete at 0x7f51875fa460>,\n",
       " 102: <__main__.UserKnnComplete at 0x7f5158438910>,\n",
       " 96: <__main__.UserKnnComplete at 0x7f5152b27a60>,\n",
       " 95: <__main__.UserKnnComplete at 0x7f5152b638b0>,\n",
       " 98: <__main__.UserKnnComplete at 0x7f5152cf6be0>,\n",
       " 103: <__main__.UserKnnComplete at 0x7f5157c5cdc0>,\n",
       " 97: <__main__.UserKnnComplete at 0x7f5152cf6970>,\n",
       " 104: <__main__.UserKnnComplete at 0x7f5154413b50>,\n",
       " 106: <__main__.UserKnnComplete at 0x7f5162a52100>,\n",
       " 100: <__main__.UserKnnComplete at 0x7f5159e2bd00>,\n",
       " 108: <__main__.UserKnnComplete at 0x7f5152ccef40>,\n",
       " 114: <__main__.UserKnnComplete at 0x7f51586f5b50>,\n",
       " 113: <__main__.UserKnnComplete at 0x7f5152b63880>,\n",
       " 107: <__main__.UserKnnComplete at 0x7f5156999310>,\n",
       " 115: <__main__.UserKnnComplete at 0x7f515937c280>,\n",
       " 109: <__main__.UserKnnComplete at 0x7f5152cf1c70>,\n",
       " 116: <__main__.UserKnnComplete at 0x7f5166cf5130>,\n",
       " 110: <__main__.UserKnnComplete at 0x7f5156de2a90>,\n",
       " 118: <__main__.UserKnnComplete at 0x7f5166ce1700>,\n",
       " 111: <__main__.UserKnnComplete at 0x7f517d3530d0>,\n",
       " 120: <__main__.UserKnnComplete at 0x7f5159c6a4f0>,\n",
       " 126: <__main__.UserKnnComplete at 0x7f5164e9d9d0>,\n",
       " 119: <__main__.UserKnnComplete at 0x7f5163d96d30>,\n",
       " 125: <__main__.UserKnnComplete at 0x7f5164e9db80>,\n",
       " 121: <__main__.UserKnnComplete at 0x7f5166e9b190>,\n",
       " 128: <__main__.UserKnnComplete at 0x7f5164e9ddc0>,\n",
       " 122: <__main__.UserKnnComplete at 0x7f515b714df0>,\n",
       " 127: <__main__.UserKnnComplete at 0x7f5164e9d910>,\n",
       " 130: <__main__.UserKnnComplete at 0x7f515b714610>,\n",
       " 124: <__main__.UserKnnComplete at 0x7f515b714b80>,\n",
       " 123: <__main__.UserKnnComplete at 0x7f515fd0d580>,\n",
       " 129: <__main__.UserKnnComplete at 0x7f517c177b80>,\n",
       " 132: <__main__.UserKnnComplete at 0x7f517c177190>,\n",
       " 138: <__main__.UserKnnComplete at 0x7f517c177e80>,\n",
       " 137: <__main__.UserKnnComplete at 0x7f517c177700>,\n",
       " 131: <__main__.UserKnnComplete at 0x7f517d77ae80>,\n",
       " 133: <__main__.UserKnnComplete at 0x7f517d77ac70>,\n",
       " 139: <__main__.UserKnnComplete at 0x7f517d77ad90>,\n",
       " 140: <__main__.UserKnnComplete at 0x7f5164cf4670>,\n",
       " 134: <__main__.UserKnnComplete at 0x7f5153e88f70>,\n",
       " 136: <__main__.UserKnnComplete at 0x7f5164cf4b80>,\n",
       " 142: <__main__.UserKnnComplete at 0x7f5164cf4310>,\n",
       " 144: <__main__.UserKnnComplete at 0x7f5153e88220>,\n",
       " 143: <__main__.UserKnnComplete at 0x7f5153e882e0>,\n",
       " 145: <__main__.UserKnnComplete at 0x7f517d91df70>}"
      ]
     },
     "execution_count": 76,
     "metadata": {},
     "output_type": "execute_result"
    }
   ],
   "source": [
    "popular_wrapper.base_estimator.sub_estimators"
   ]
  },
  {
   "cell_type": "code",
   "execution_count": 77,
   "id": "75da26da",
   "metadata": {},
   "outputs": [],
   "source": [
    "with open('segment_model_map.dill', 'wb') as f:\n",
    "    dill.dump(popular_wrapper.base_estimator.sub_estimators, f)"
   ]
  },
  {
   "cell_type": "code",
   "execution_count": 78,
   "id": "2c5d45f0",
   "metadata": {},
   "outputs": [],
   "source": [
    "with open('warmup_users.dill', 'wb') as f:\n",
    "    dill.dump(train['user_id'].unique().tolist()[:100000], f)"
   ]
  },
  {
   "cell_type": "markdown",
   "id": "71ffe52e",
   "metadata": {},
   "source": [
    "Популярное:"
   ]
  },
  {
   "cell_type": "code",
   "execution_count": 121,
   "id": "7d62e43e",
   "metadata": {},
   "outputs": [],
   "source": [
    "from typing import List, Tuple\n",
    "\n",
    "\n",
    "class BaseModel:\n",
    "    def __init__(self, model_name: str):\n",
    "        self.model_name = model_name\n",
    "\n",
    "\n",
    "class KNNModel(BaseModel):\n",
    "    model_name = 'knn_model'\n",
    "    \n",
    "    def __init__(\n",
    "        self,\n",
    "        user_segment_map: dict,\n",
    "        segment_model_map: dict,\n",
    "        pop_items: List[int],\n",
    "    ):\n",
    "        super().__init__(self.model_name)\n",
    "        self.user_segment_map = user_segment_map\n",
    "        self.segment_model_map = segment_model_map\n",
    "        self.pop_items = pop_items\n",
    "        \n",
    "    def predict(self, user_id: int, k:int) -> List[int]:\n",
    "        user_segment = self.user_segment_map.get(user_id)\n",
    "        if user_segment is None:\n",
    "            return self._predict_popular(k)\n",
    "        else:\n",
    "            return self._predict_by_model(user_id, user_segment, k)\n",
    "        \n",
    "    def _predict_popular(self, k: int) -> List[int]:\n",
    "        return self.pop_items[:k].tolist()\n",
    "        \n",
    "    def _get_similar_users(\n",
    "        self,\n",
    "        user_id: int,\n",
    "        user_segment: int,\n",
    "    ) -> Tuple[List[int], List[float]]:\n",
    "        # take segment model:\n",
    "        model = self.segment_model_map[user_segment]\n",
    "        # find similar users:\n",
    "        inner_user_id = model.users_mapping[user_id]\n",
    "        sim = list(filter(\n",
    "            lambda x: x[1] < 1,\n",
    "            model.user_knn.similar_items(\n",
    "                inner_user_id,\n",
    "                N=model.N_users\n",
    "            )[1:] # exclude same user\n",
    "        ))\n",
    "        return (\n",
    "            [model.users_inv_mapping[user] for user, _ in sim],\n",
    "            [user_s for _, user_s in sim]\n",
    "        )\n",
    "        \n",
    "    def _predict_by_model(\n",
    "        self,\n",
    "        user_id: int,\n",
    "        user_segment: int,\n",
    "        k: int\n",
    "    ) -> List[int]:\n",
    "        # get similar users (ids and scores):\n",
    "        sim_users, sim_score = self._get_similar_users(\n",
    "            user_id, user_segment\n",
    "        )\n",
    "        # prepare df to sort items of similar users:\n",
    "        model = self.segment_model_map[user_segment]\n",
    "        sim_users_items = model.watched.loc[sim_users]\n",
    "        sim_users_items['sim'] = sim_score\n",
    "        # evaluate score:\n",
    "        sim_users_items = (\n",
    "            # items of similar users:\n",
    "            sim_users_items\n",
    "            .explode('item_id')\n",
    "            .reset_index()\n",
    "            .rename(columns={'user_id': 'sim_user_id'})\n",
    "            .drop_duplicates(['item_id'],keep='first')\n",
    "            # idf of items of similar users:\n",
    "            .merge(\n",
    "                model.item_idf,\n",
    "                left_on='item_id',\n",
    "                right_on='index',\n",
    "                how='left'\n",
    "            )\n",
    "        )\n",
    "        # final score:\n",
    "        sim_users_items['score'] = (\n",
    "            sim_users_items['sim'] * sim_users_items['idf']\n",
    "        )\n",
    "        # sort by score:\n",
    "        sim_users_items = (\n",
    "            sim_users_items.sort_values(['score'], ascending=False)\n",
    "        )\n",
    "        recs = sim_users_items['item_id'].iloc[:k].tolist()\n",
    "        # complete with popular:\n",
    "        if len(recs) < k:\n",
    "            pop = list(filter(\n",
    "                lambda x: x not in recs,\n",
    "                self._predict_popular(k)\n",
    "            ))\n",
    "            recs = (recs + pop)[:k]\n",
    "        return recs\n",
    "    \n",
    "    def warmup(self, users_ids: List[int]) -> None:\n",
    "        for user_id in tqdm(users_ids):\n",
    "            self.predict(user_id, k=10)\n",
    "    \n",
    "\n",
    "def read_dill(filepath: str):\n",
    "    with open(filepath, 'rb') as f:\n",
    "        data = dill.load(f)\n",
    "    return data\n",
    "\n",
    "\n",
    "class KNNModelConfig:\n",
    "    def __init__(\n",
    "        self,\n",
    "        users_segment_map_path: str,\n",
    "        sub_estimators_path: str,\n",
    "        items_pop_ordered_path: str,\n",
    "        warmup_users_path: str = None\n",
    "    ):\n",
    "        self.users_segment_map_path = users_segment_map_path\n",
    "        self.sub_estimators_path = sub_estimators_path\n",
    "        self.items_pop_ordered_path = items_pop_ordered_path\n",
    "        self.warmup_users_path = warmup_users_path\n",
    "        \n",
    "        self.users_segment_map = None,\n",
    "        self.sub_estimators = None,\n",
    "        self.items_pop_ordered = None\n",
    "        self.warmup_users = None\n",
    "    \n",
    "    def parse(self):\n",
    "        self.users_segment_map = read_dill(\n",
    "            self.users_segment_map_path\n",
    "        )\n",
    "        self.sub_estimators = read_dill(\n",
    "            self.sub_estimators_path\n",
    "        )\n",
    "        self.items_pop_ordered = read_dill(\n",
    "            self.items_pop_ordered_path\n",
    "        )\n",
    "        if self.warmup_users_path is not None:\n",
    "            self.warmup_users = read_dill(\n",
    "                self.warmup_users_path\n",
    "            )\n",
    "\n",
    "            \n",
    "class KNNModelInitializer:\n",
    "    def __init__(\n",
    "        self,\n",
    "        config: KNNModelConfig,\n",
    "    ):\n",
    "        self.config = config\n",
    "        \n",
    "    def init_model(self):\n",
    "        self.config.parse()\n",
    "        model = KNNModel(\n",
    "            user_segment_map=self.config.users_segment_map,\n",
    "            segment_model_map=self.config.sub_estimators,\n",
    "            pop_items=self.config.items_pop_ordered\n",
    "        )\n",
    "        if self.config.warmup_users is not None:\n",
    "            model.warmup(self.config.warmup_users)\n",
    "        return model"
   ]
  },
  {
   "cell_type": "code",
   "execution_count": 122,
   "id": "bd4d6ac7",
   "metadata": {},
   "outputs": [],
   "source": [
    "knn_model_config = KNNModelConfig(\n",
    "    users_segment_map_path = 'users_segment_map.dill',\n",
    "    sub_estimators_path = 'segment_model_map.dill',\n",
    "    items_pop_ordered_path = 'items_pop_ordered.dill',\n",
    "    warmup_users_path = None  # 'warmup_users.dill' \n",
    ")\n",
    "\n",
    "knn_model_initializer = KNNModelInitializer(knn_model_config)\n",
    "\n",
    "test_knn_model = knn_model_initializer.init_model()"
   ]
  },
  {
   "cell_type": "code",
   "execution_count": 123,
   "id": "b3c17eca",
   "metadata": {
    "scrolled": true
   },
   "outputs": [
    {
     "data": {
      "text/plain": [
       "[10440, 15297, 9728, 13865, 4151, 3734, 2657, 4880, 142, 6809]"
      ]
     },
     "execution_count": 123,
     "metadata": {},
     "output_type": "execute_result"
    }
   ],
   "source": [
    "test_knn_model.predict(1, 10)"
   ]
  },
  {
   "cell_type": "code",
   "execution_count": 124,
   "id": "94d49820",
   "metadata": {},
   "outputs": [
    {
     "data": {
      "text/plain": [
       "[10440, 15297, 9728, 13865, 4151, 3734, 2657, 4880, 142, 6809]"
      ]
     },
     "execution_count": 124,
     "metadata": {},
     "output_type": "execute_result"
    }
   ],
   "source": [
    "test_knn_model.predict(382508, 10)"
   ]
  },
  {
   "cell_type": "code",
   "execution_count": 125,
   "id": "6424e6b9",
   "metadata": {},
   "outputs": [
    {
     "data": {
      "text/plain": [
       "[5438, 3306, 1193, 12596, 2356, 11004, 10506, 3959, 10287, 2169]"
      ]
     },
     "execution_count": 125,
     "metadata": {},
     "output_type": "execute_result"
    }
   ],
   "source": [
    "test_knn_model.predict(1097470, 10)"
   ]
  },
  {
   "cell_type": "code",
   "execution_count": 126,
   "id": "f7aebde7",
   "metadata": {},
   "outputs": [
    {
     "data": {
      "text/plain": [
       "[2650, 5114, 9961, 5589, 7440, 7053, 14841, 615, 12846, 13023]"
      ]
     },
     "execution_count": 126,
     "metadata": {},
     "output_type": "execute_result"
    }
   ],
   "source": [
    "test_knn_model.predict(241, 10)"
   ]
  },
  {
   "cell_type": "markdown",
   "id": "bb37a532",
   "metadata": {},
   "source": [
    "# Резюме\n",
    "\n",
    "Была побита метрика на лидерборде. Наша модель показывает качество $0.085$.\n",
    "\n",
    "Было реализовано дополнение количества рекомендаций до $N$.\n",
    "\n",
    "Проведен подбор множетсва различных гиперпараметров:\n",
    "* Несколько видов сегментации пользователей\n",
    "* Количество соседей\n",
    "* Порог количества просмотренных картин в контексте сегментации холодных пользователей\n",
    "* Различные knn модели (без дополнения, с дополнением, по различным сегментам)\n",
    "* Также для реализации сегментации всех теплых пользователей был применен метод заполнения пропущенных значений MissForest\n",
    "\n",
    "Все подборы гиперпараметров основывались на офлайн валидации на разделенной выборке.\n",
    "\n",
    "Было рализовано покрытие холодных пользователей рекомендациями популярных айтемов.\n",
    "\n",
    "Был реализован блендинг моделей подбора айтемов:\n",
    "* Первичное выделение айтемов путем кластеризации пользователей на сегменты\n",
    "* Уточнение айтемов knn моделью по соответсвующему сегменту\n",
    "\n",
    "Модель была оптимизирована для внедрения в сервис. Предсказания строятся для одного пользователя за раз. Инициализация модели заключается в подгрузке соответсвующих маппингов пользователей на сегменты и моделей по сегментам. Был реализован онлайн формат выдачи рекомендаций (\"на лету\")."
   ]
  }
 ],
 "metadata": {
  "kernelspec": {
   "display_name": "Python 3 (ipykernel)",
   "language": "python",
   "name": "python3"
  },
  "language_info": {
   "codemirror_mode": {
    "name": "ipython",
    "version": 3
   },
   "file_extension": ".py",
   "mimetype": "text/x-python",
   "name": "python",
   "nbconvert_exporter": "python",
   "pygments_lexer": "ipython3",
   "version": "3.8.15"
  }
 },
 "nbformat": 4,
 "nbformat_minor": 5
}
