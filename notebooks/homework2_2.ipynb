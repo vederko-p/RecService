{
 "cells": [
  {
   "cell_type": "markdown",
   "id": "8e22254a",
   "metadata": {},
   "source": [
    "## Homework\n",
    "\n",
    "### PFound\n",
    "Исходные данные - Yandex Cup 2022 Analytics\n",
    "- Ссылка - https://yandex.ru/cup/analytics/analysis/ , пример A. Рассчитать pFound\n",
    "- Данные - https://yadi.sk/d/guqki4UI4hFlXQ\n",
    "- Формула\n",
    "$$pFound@K = \\sum_{i=1}^{k} pLook[i]\\ pRel[i]$$\n",
    "\n",
    "$$pLook[1] = 1$$\n",
    "\n",
    "$$pLook[i] = pLook[i-1]\\ (1 - pRel[i-1])\\ (1 - pBreak)$$\n",
    "\n",
    "$$pBreak = 0.15$$\n",
    "\n",
    "**Задача** - написать функцию, которая принимает на вход dataframe (после join), а на выходе дает средний pFound по всем query.\n",
    "- Запрещается использовать циклы for для расчет метрики (как полностью, так и ее частей).\n",
    "- Усложнение, если задача показалась легкой - попробуйте обойтись без groupby (не уверен, что это возможно, но вдруг вы справитесь)\n",
    "\n",
    "### MRR\n",
    "Исходные данные - результат `generate_subsample` \n",
    "\n",
    "**Задача** - по аналогии с precision написать три версии функции подсчета Mean Reciprocal Rank (naive, numba, pandas) и протестировать на разных размерах выборки\n",
    "- Протестируйте для всех комбинаций (users_count, top_k):\n",
    "  - users_count - [100, 1000, 10000, 100000]\n",
    "  - top_k - [10, 50, 100]\n",
    "- Результатом тестирования должен быть график, где будут отражены следующие показатели:\n",
    "  - Алгоритм - naive, numba, pandas\n",
    "  - Скорость работы (время)\n",
    "  - users_count\n",
    "  - top_k"
   ]
  },
  {
   "cell_type": "code",
   "execution_count": 1,
   "id": "3e6365f5",
   "metadata": {},
   "outputs": [],
   "source": [
    "import pandas as pd\n",
    "import numba as nb\n",
    "import numpy as np\n",
    "import timeit\n",
    "\n",
    "import matplotlib.pyplot as plt\n",
    "\n",
    "from rectools import Columns\n",
    "import warnings\n",
    "warnings.simplefilter(action='ignore', category=FutureWarning)"
   ]
  },
  {
   "cell_type": "code",
   "execution_count": 2,
   "id": "e6b1c41c",
   "metadata": {},
   "outputs": [],
   "source": [
    "qid_query = pd.read_csv(\"yandex_data/hidden_task/qid_query.tsv\", sep=\"\\t\", names=[\"qid\", \"query\"])\n",
    "qid_url_rating = pd.read_csv(\"yandex_data/hidden_task/qid_url_rating.tsv\", sep=\"\\t\", names=[\"qid\", \"url\", \"rating\"])\n",
    "hostid_url = pd.read_csv(\"yandex_data/hidden_task/hostid_url.tsv\", sep=\"\\t\", names=[\"hostid\", \"url\"])\n"
   ]
  },
  {
   "cell_type": "code",
   "execution_count": 3,
   "id": "1a9bebd3",
   "metadata": {},
   "outputs": [
    {
     "data": {
      "text/html": [
       "<div>\n",
       "<style scoped>\n",
       "    .dataframe tbody tr th:only-of-type {\n",
       "        vertical-align: middle;\n",
       "    }\n",
       "\n",
       "    .dataframe tbody tr th {\n",
       "        vertical-align: top;\n",
       "    }\n",
       "\n",
       "    .dataframe thead th {\n",
       "        text-align: right;\n",
       "    }\n",
       "</style>\n",
       "<table border=\"1\" class=\"dataframe\">\n",
       "  <thead>\n",
       "    <tr style=\"text-align: right;\">\n",
       "      <th></th>\n",
       "      <th>hostid</th>\n",
       "      <th>url</th>\n",
       "    </tr>\n",
       "  </thead>\n",
       "  <tbody>\n",
       "    <tr>\n",
       "      <th>0</th>\n",
       "      <td>1</td>\n",
       "      <td>http://09spravki.ru/requisites.php</td>\n",
       "    </tr>\n",
       "    <tr>\n",
       "      <th>1</th>\n",
       "      <td>10</td>\n",
       "      <td>http://3pu.info/seo-tools/domains</td>\n",
       "    </tr>\n",
       "    <tr>\n",
       "      <th>2</th>\n",
       "      <td>1006</td>\n",
       "      <td>http://www.priroda.su/item/820</td>\n",
       "    </tr>\n",
       "    <tr>\n",
       "      <th>3</th>\n",
       "      <td>1007</td>\n",
       "      <td>http://www.prisnilos.su/znaki_zodiaka/strelets...</td>\n",
       "    </tr>\n",
       "    <tr>\n",
       "      <th>4</th>\n",
       "      <td>1009</td>\n",
       "      <td>http://www.prohotel.ru/hotel-108042/0/</td>\n",
       "    </tr>\n",
       "    <tr>\n",
       "      <th>...</th>\n",
       "      <td>...</td>\n",
       "      <td>...</td>\n",
       "    </tr>\n",
       "    <tr>\n",
       "      <th>798</th>\n",
       "      <td>991</td>\n",
       "      <td>http://www.phototopic.ru/photo-art/</td>\n",
       "    </tr>\n",
       "    <tr>\n",
       "      <th>799</th>\n",
       "      <td>992</td>\n",
       "      <td>http://www.piplz.ru/page.php?id=183</td>\n",
       "    </tr>\n",
       "    <tr>\n",
       "      <th>800</th>\n",
       "      <td>995</td>\n",
       "      <td>http://www.playground.ru/cheats/il-2_shturmovi...</td>\n",
       "    </tr>\n",
       "    <tr>\n",
       "      <th>801</th>\n",
       "      <td>995</td>\n",
       "      <td>http://www.playground.ru/files/907/</td>\n",
       "    </tr>\n",
       "    <tr>\n",
       "      <th>802</th>\n",
       "      <td>996</td>\n",
       "      <td>http://www.podelkidoma.ru/node/2230</td>\n",
       "    </tr>\n",
       "  </tbody>\n",
       "</table>\n",
       "<p>803 rows × 2 columns</p>\n",
       "</div>"
      ],
      "text/plain": [
       "     hostid                                                url\n",
       "0         1                 http://09spravki.ru/requisites.php\n",
       "1        10                  http://3pu.info/seo-tools/domains\n",
       "2      1006                     http://www.priroda.su/item/820\n",
       "3      1007  http://www.prisnilos.su/znaki_zodiaka/strelets...\n",
       "4      1009             http://www.prohotel.ru/hotel-108042/0/\n",
       "..      ...                                                ...\n",
       "798     991                http://www.phototopic.ru/photo-art/\n",
       "799     992                http://www.piplz.ru/page.php?id=183\n",
       "800     995  http://www.playground.ru/cheats/il-2_shturmovi...\n",
       "801     995                http://www.playground.ru/files/907/\n",
       "802     996                http://www.podelkidoma.ru/node/2230\n",
       "\n",
       "[803 rows x 2 columns]"
      ]
     },
     "execution_count": 3,
     "metadata": {},
     "output_type": "execute_result"
    }
   ],
   "source": [
    "hostid_url"
   ]
  },
  {
   "cell_type": "markdown",
   "id": "c6b15ab0",
   "metadata": {},
   "source": [
    "### Яндекс версия plook"
   ]
  },
  {
   "cell_type": "code",
   "execution_count": 36,
   "id": "817a948b",
   "metadata": {},
   "outputs": [
    {
     "data": {
      "text/html": [
       "<div>\n",
       "<style scoped>\n",
       "    .dataframe tbody tr th:only-of-type {\n",
       "        vertical-align: middle;\n",
       "    }\n",
       "\n",
       "    .dataframe tbody tr th {\n",
       "        vertical-align: top;\n",
       "    }\n",
       "\n",
       "    .dataframe thead th {\n",
       "        text-align: right;\n",
       "    }\n",
       "</style>\n",
       "<table border=\"1\" class=\"dataframe\">\n",
       "  <thead>\n",
       "    <tr style=\"text-align: right;\">\n",
       "      <th></th>\n",
       "      <th>qid</th>\n",
       "      <th>query</th>\n",
       "    </tr>\n",
       "  </thead>\n",
       "  <tbody>\n",
       "    <tr>\n",
       "      <th>14</th>\n",
       "      <td>692308</td>\n",
       "      <td>бесплатный просмотр камеди клаб</td>\n",
       "    </tr>\n",
       "  </tbody>\n",
       "</table>\n",
       "</div>"
      ],
      "text/plain": [
       "       qid                            query\n",
       "14  692308  бесплатный просмотр камеди клаб"
      ]
     },
     "execution_count": 36,
     "metadata": {},
     "output_type": "execute_result"
    }
   ],
   "source": [
    "# делаем join двух таблиц, чтобы было просто брать url с максимальным рейтингом\n",
    "qid_url_rating_hostid = pd.merge(qid_url_rating, hostid_url, on=\"url\")\n",
    "p=0.15\n",
    "k = 10\n",
    "\n",
    "def plook(ind, rels):\n",
    "    if ind == 0:\n",
    "        return 1\n",
    "    return plook(ind-1, rels)*(1-rels[ind-1])*(1-0.15)\n",
    "\n",
    "\n",
    "def pfound(group):\n",
    "    max_by_host = group.groupby(\"hostid\")[\"rating\"].max() # максимальный рейтинг хоста\n",
    "    top10 = max_by_host.sort_values(ascending=False)[:10] # берем топ10 урлов с наивысшим рейтингом\n",
    "    pfound = 0\n",
    "    for ind, val in enumerate(top10):\n",
    "        pfound += val*plook(ind, top10.values)\n",
    "    return pfound\n",
    "\n",
    "\n",
    "qid_pfound = qid_url_rating_hostid.groupby('qid').apply(pfound) # группируем по qid и вычисляем pfound\n",
    "qid_max = qid_pfound.idxmax() # берем qid с максимальным pfound\n",
    "\n",
    "qid_query[qid_query[\"qid\"] == qid_max]"
   ]
  },
  {
   "cell_type": "code",
   "execution_count": 39,
   "id": "6582461a",
   "metadata": {},
   "outputs": [],
   "source": [
    "def mean_pfound(df, k, p_break):\n",
    "    #удаляем адреса ссылок за ненадобностью\n",
    "    df = df.drop(['url'], axis=1)\n",
    "    # для каждого запроса оставляем одну ссылку(один хост)\n",
    "    grouped_qid_rating_hostid = df.groupby(['qid', 'hostid']).max()\n",
    "    #cортируем хосты по рейтингу\n",
    "    grouped_qid_rating_hostid = grouped_qid_rating_hostid.sort_values(['qid', 'rating'], ascending=False)\n",
    "    #нумеруем выдачу по убыванию рейтинга\n",
    "    grouped_qid_rating_hostid['order'] = grouped_qid_rating_hostid.groupby('qid').cumcount() + 1 \n",
    "    #выбираем топ к рекомендаций\n",
    "    topk_recs_for_qid = grouped_qid_rating_hostid[grouped_qid_rating_hostid['order'] <= k] \n",
    "    topk_recs_for_qid = topk_recs_for_qid.reset_index()\n",
    "    #добавляем столбец с рел-1\n",
    "    topk_recs_for_qid['pred_pReil'] = topk_recs_for_qid['rating'].shift(1) \n",
    "    # считаем второй множитель\n",
    "    topk_recs_for_qid['pLook_second'] = (1 - topk_recs_for_qid['pred_pReil']) * (1 - p_break) \n",
    "    # устанавливаем первый второй множитель равный 1\n",
    "    topk_recs_for_qid.loc[(topk_recs_for_qid['order'] == 1), 'pLook_second'] = 1 \n",
    "    # счтаем рекурсивно plook\n",
    "    topk_recs_for_qid['pLook'] = topk_recs_for_qid.groupby('qid')['pLook_second'].cumprod() \n",
    "    # считаем всю  формулу\n",
    "    topk_recs_for_qid['pFound'] = topk_recs_for_qid['pLook'] * topk_recs_for_qid['rating'] \n",
    "    \n",
    "    return topk_recs_for_qid.groupby(['qid']).sum()['pFound'].mean()\n",
    "    "
   ]
  },
  {
   "cell_type": "markdown",
   "id": "aa427778",
   "metadata": {},
   "source": [
    "### Время для нашей версии"
   ]
  },
  {
   "cell_type": "code",
   "execution_count": 41,
   "id": "d14ec621",
   "metadata": {},
   "outputs": [
    {
     "data": {
      "text/plain": [
       "0.5822199638393889"
      ]
     },
     "execution_count": 41,
     "metadata": {},
     "output_type": "execute_result"
    }
   ],
   "source": [
    "%%timeit\n",
    "res = mean_pfound(qid_url_rating_hostid, 10, 0.15)\n",
    "res"
   ]
  },
  {
   "cell_type": "markdown",
   "id": "3d55a9b8",
   "metadata": {},
   "source": [
    "### Время для версии Яндекса"
   ]
  },
  {
   "cell_type": "code",
   "execution_count": 38,
   "id": "44773393",
   "metadata": {},
   "outputs": [
    {
     "data": {
      "text/plain": [
       "0.5822199638393889"
      ]
     },
     "execution_count": 38,
     "metadata": {},
     "output_type": "execute_result"
    }
   ],
   "source": [
    "%%timeit\n",
    "qid_url_rating_hostid.groupby('qid').apply(pfound).mean()\n"
   ]
  },
  {
   "cell_type": "code",
   "execution_count": 44,
   "id": "66ccbe37",
   "metadata": {},
   "outputs": [],
   "source": [
    "assert qid_url_rating_hostid.groupby('qid').apply(pfound).mean()==mean_pfound(qid_url_rating_hostid, 10, 0.15)"
   ]
  },
  {
   "cell_type": "markdown",
   "id": "50bcffe4",
   "metadata": {},
   "source": [
    "<h1>MRR</h1>"
   ]
  },
  {
   "cell_type": "code",
   "execution_count": 49,
   "id": "a9f02ada",
   "metadata": {},
   "outputs": [
    {
     "data": {
      "text/html": [
       "<div>\n",
       "<style scoped>\n",
       "    .dataframe tbody tr th:only-of-type {\n",
       "        vertical-align: middle;\n",
       "    }\n",
       "\n",
       "    .dataframe tbody tr th {\n",
       "        vertical-align: top;\n",
       "    }\n",
       "\n",
       "    .dataframe thead th {\n",
       "        text-align: right;\n",
       "    }\n",
       "</style>\n",
       "<table border=\"1\" class=\"dataframe\">\n",
       "  <thead>\n",
       "    <tr style=\"text-align: right;\">\n",
       "      <th></th>\n",
       "      <th>user_id</th>\n",
       "      <th>item_id</th>\n",
       "      <th>datetime</th>\n",
       "      <th>weight</th>\n",
       "      <th>watched_pct</th>\n",
       "    </tr>\n",
       "  </thead>\n",
       "  <tbody>\n",
       "    <tr>\n",
       "      <th>0</th>\n",
       "      <td>176549</td>\n",
       "      <td>9506</td>\n",
       "      <td>2021-05-11</td>\n",
       "      <td>4250</td>\n",
       "      <td>72.0</td>\n",
       "    </tr>\n",
       "    <tr>\n",
       "      <th>1</th>\n",
       "      <td>699317</td>\n",
       "      <td>1659</td>\n",
       "      <td>2021-05-29</td>\n",
       "      <td>8317</td>\n",
       "      <td>100.0</td>\n",
       "    </tr>\n",
       "    <tr>\n",
       "      <th>2</th>\n",
       "      <td>656683</td>\n",
       "      <td>7107</td>\n",
       "      <td>2021-05-09</td>\n",
       "      <td>10</td>\n",
       "      <td>0.0</td>\n",
       "    </tr>\n",
       "    <tr>\n",
       "      <th>3</th>\n",
       "      <td>864613</td>\n",
       "      <td>7638</td>\n",
       "      <td>2021-07-05</td>\n",
       "      <td>14483</td>\n",
       "      <td>100.0</td>\n",
       "    </tr>\n",
       "    <tr>\n",
       "      <th>4</th>\n",
       "      <td>964868</td>\n",
       "      <td>9506</td>\n",
       "      <td>2021-04-30</td>\n",
       "      <td>6725</td>\n",
       "      <td>100.0</td>\n",
       "    </tr>\n",
       "  </tbody>\n",
       "</table>\n",
       "</div>"
      ],
      "text/plain": [
       "   user_id  item_id   datetime  weight  watched_pct\n",
       "0   176549     9506 2021-05-11    4250         72.0\n",
       "1   699317     1659 2021-05-29    8317        100.0\n",
       "2   656683     7107 2021-05-09      10          0.0\n",
       "3   864613     7638 2021-07-05   14483        100.0\n",
       "4   964868     9506 2021-04-30    6725        100.0"
      ]
     },
     "execution_count": 49,
     "metadata": {},
     "output_type": "execute_result"
    }
   ],
   "source": [
    "interactions = pd.read_csv('kion_train/interactions.csv')\n",
    "interactions.rename(\n",
    "    columns={\n",
    "        'track_id': Columns.Item,\n",
    "        'last_watch_dt': Columns.Datetime,\n",
    "        'total_dur': Columns.Weight\n",
    "    }, \n",
    "    inplace=True) \n",
    "\n",
    "interactions[Columns.Datetime] = pd.to_datetime(interactions[Columns.Datetime])\n",
    "interactions.head()"
   ]
  },
  {
   "cell_type": "code",
   "execution_count": 50,
   "id": "c9d54532",
   "metadata": {},
   "outputs": [],
   "source": [
    "\n",
    "def generate_subsample(users_count, top_k):\n",
    "    users = np.random.choice(interactions[Columns.User].unique(), users_count, replace=False)\n",
    "    df = interactions[interactions[Columns.User].isin(users)].reset_index(drop=True)\n",
    "    del df[Columns.Datetime], df[Columns.Weight], df['watched_pct']\n",
    "    \n",
    "    recs = np.random.choice(df[Columns.Item], size=(users_count, top_k))\n",
    "    return df, users, recs"
   ]
  },
  {
   "cell_type": "code",
   "execution_count": 51,
   "id": "554b79c0",
   "metadata": {},
   "outputs": [],
   "source": [
    "df, users, recs = generate_subsample(5, 10)"
   ]
  },
  {
   "cell_type": "markdown",
   "id": "b082a8f3",
   "metadata": {},
   "source": [
    "<h2>Naive MRR</h2>"
   ]
  },
  {
   "cell_type": "code",
   "execution_count": 97,
   "id": "46bfc9d7",
   "metadata": {},
   "outputs": [],
   "source": [
    "def mrr_naive(df, users, recs):\n",
    "    df = df.values\n",
    "    mrr = 0\n",
    "    r = 0\n",
    "    for i, user in enumerate(users):\n",
    "        r=0\n",
    "        #рекомендации которые мы предоставили для каждого пользователя\n",
    "        user_target = df[df[:, 0] == user][:, 1]\n",
    "        for j, rec in enumerate(recs[i], start=1):\n",
    "            if rec in user_target:\n",
    "                r = 1/(j)\n",
    "                mrr+=r\n",
    "                break\n",
    "    return mrr/len(users)"
   ]
  },
  {
   "cell_type": "code",
   "execution_count": 98,
   "id": "56d5a5fa",
   "metadata": {},
   "outputs": [
    {
     "data": {
      "text/plain": [
       "0.08002619047619056"
      ]
     },
     "execution_count": 98,
     "metadata": {},
     "output_type": "execute_result"
    }
   ],
   "source": [
    "mrr_naive(df, users, recs)"
   ]
  },
  {
   "cell_type": "markdown",
   "id": "7725be61",
   "metadata": {},
   "source": [
    "<h2>Pandas MRR</h2>"
   ]
  },
  {
   "cell_type": "code",
   "execution_count": 58,
   "id": "996051a1",
   "metadata": {},
   "outputs": [],
   "source": [
    "def mrr_pandas(df, users, recs):\n",
    "    k = recs.shape[1]\n",
    "    #мапим предикты по юзерам\n",
    "    df_recs = pd.DataFrame({'user_id': np.repeat(users, k), 'item_id': recs.ravel()})\n",
    "    #нумеруем\n",
    "    df_recs['rank'] = df_recs.groupby('user_id').cumcount() + 1\n",
    "    df['is_rec'] = 1\n",
    "    # мержим предсказанные рекомендации и топ рекомендаций\n",
    "    df_recs = df_recs.merge(df, how='left', left_on=['user_id', 'item_id'], right_on=['user_id', 'item_id'])\n",
    "    df_recs['reverse_rank'] = 0\n",
    "    #считаем обратный ранг\n",
    "    df_recs.loc[~df_recs['is_rec'].isna(), 'reverse_rank'] = 1/(df_recs.loc[~df_recs['is_rec'].isna(), 'rank'])\n",
    "    #считаем мрр\n",
    "    mrr = df_recs.groupby('user_id')['reverse_rank'].max().sum()/len(users)\n",
    "    return mrr"
   ]
  },
  {
   "cell_type": "code",
   "execution_count": 132,
   "id": "5c52c032",
   "metadata": {},
   "outputs": [
    {
     "name": "stdout",
     "output_type": "stream",
     "text": [
      "CPU times: user 9.29 ms, sys: 0 ns, total: 9.29 ms\n",
      "Wall time: 8.7 ms\n"
     ]
    },
    {
     "data": {
      "text/plain": [
       "0.5952380952380951"
      ]
     },
     "execution_count": 132,
     "metadata": {},
     "output_type": "execute_result"
    }
   ],
   "source": [
    "%%time\n",
    "mrr_pandas(df, users, recs)\n"
   ]
  },
  {
   "cell_type": "markdown",
   "id": "eaf1c08f",
   "metadata": {},
   "source": [
    "<h2>Numba MRR</h2>"
   ]
  },
  {
   "cell_type": "code",
   "execution_count": 84,
   "id": "c9a7fc23",
   "metadata": {},
   "outputs": [],
   "source": [
    "@nb.njit(cache=True, parallel=True)\n",
    "def mrr_numba(df,users, recs):\n",
    "    result_mrr = np.zeros(len(users))\n",
    "    for i in nb.prange(len(users)):\n",
    "        mrr = 0.0\n",
    "        user = users[i]\n",
    "        user_target = df[df[:, 0] == user][:, 1]\n",
    "        for j, rec in enumerate(recs[i]):\n",
    "            if rec in user_target:\n",
    "                mrr = 1 /(j+1)\n",
    "                break\n",
    "        result_mrr[i] = mrr\n",
    "    return result_mrr.mean()\n"
   ]
  },
  {
   "cell_type": "markdown",
   "id": "dacdeddf",
   "metadata": {},
   "source": [
    "<h2>Посчитаем время выполнения каждого варианта MRR</h2>"
   ]
  },
  {
   "cell_type": "code",
   "execution_count": 54,
   "id": "4f2fd91c",
   "metadata": {},
   "outputs": [],
   "source": [
    "k = 10\n",
    "users_count = 500\n",
    "df, users, recs = generate_subsample(users_count, k)"
   ]
  },
  {
   "cell_type": "code",
   "execution_count": 91,
   "id": "83f713c0",
   "metadata": {},
   "outputs": [
    {
     "name": "stdout",
     "output_type": "stream",
     "text": [
      "CPU times: user 40.8 ms, sys: 9 µs, total: 40.8 ms\n",
      "Wall time: 40.1 ms\n"
     ]
    },
    {
     "data": {
      "text/plain": [
       "0.08002619047619056"
      ]
     },
     "execution_count": 91,
     "metadata": {},
     "output_type": "execute_result"
    }
   ],
   "source": [
    "%%time\n",
    "mrr_naive(df, users, recs)\n"
   ]
  },
  {
   "cell_type": "code",
   "execution_count": 59,
   "id": "5eb1521f",
   "metadata": {},
   "outputs": [
    {
     "name": "stdout",
     "output_type": "stream",
     "text": [
      "CPU times: user 13.8 ms, sys: 15 µs, total: 13.8 ms\n",
      "Wall time: 13 ms\n"
     ]
    },
    {
     "data": {
      "text/plain": [
       "0.08002619047619047"
      ]
     },
     "execution_count": 59,
     "metadata": {},
     "output_type": "execute_result"
    }
   ],
   "source": [
    "%%time\n",
    "mrr_pandas(df, users, recs)\n"
   ]
  },
  {
   "cell_type": "code",
   "execution_count": 85,
   "id": "04d5bce7",
   "metadata": {},
   "outputs": [
    {
     "name": "stdout",
     "output_type": "stream",
     "text": [
      "CPU times: user 1.21 s, sys: 4.09 ms, total: 1.21 s\n",
      "Wall time: 1.2 s\n"
     ]
    },
    {
     "data": {
      "text/plain": [
       "0.06039365079365078"
      ]
     },
     "execution_count": 85,
     "metadata": {},
     "output_type": "execute_result"
    }
   ],
   "source": [
    "%%time\n",
    "numba_df = df.values\n",
    "mrr_numba(numba_df, users, recs)"
   ]
  },
  {
   "cell_type": "code",
   "execution_count": 99,
   "id": "4f48c5a2",
   "metadata": {},
   "outputs": [
    {
     "name": "stdout",
     "output_type": "stream",
     "text": [
      "naive time:  0.010325220006052405  users count:  100  k:  10\n",
      "pandas time:   0.012334764003753662  users count:  100  k:  10\n",
      "numba time:   0.0009197469917126  users count:  100  k:  10\n",
      "naive time:  0.14134516500052996  users count:  1000  k:  10\n",
      "pandas time:   0.01778558999649249  users count:  1000  k:  10\n",
      "numba time:   0.004127349995542318  users count:  1000  k:  10\n",
      "naive time:  5.042027019022498  users count:  10000  k:  10\n",
      "pandas time:   0.08249898999929428  users count:  10000  k:  10\n",
      "numba time:   0.034579358994960785  users count:  10000  k:  10\n",
      "naive time:  406.54885984701104  users count:  100000  k:  10\n",
      "pandas time:   1.109600190015044  users count:  100000  k:  10\n",
      "numba time:   0.20909000802203082  users count:  100000  k:  10\n",
      "naive time:  0.03247371799079701  users count:  100  k:  50\n",
      "pandas time:   0.01323196801240556  users count:  100  k:  50\n",
      "numba time:   0.0010488619736861438  users count:  100  k:  50\n",
      "naive time:  0.3513888629968278  users count:  1000  k:  50\n",
      "pandas time:   0.03146223700605333  users count:  1000  k:  50\n",
      "numba time:   0.0041991549951490015  users count:  1000  k:  50\n",
      "naive time:  7.093349829025101  users count:  10000  k:  50\n",
      "pandas time:   0.334263461001683  users count:  10000  k:  50\n",
      "numba time:   0.035962379013653845  users count:  10000  k:  50\n",
      "naive time:  432.2227820729895  users count:  100000  k:  50\n",
      "pandas time:   4.486231844028225  users count:  100000  k:  50\n",
      "numba time:   0.2669325530005153  users count:  100000  k:  50\n",
      "naive time:  0.04032165798707865  users count:  100  k:  100\n",
      "pandas time:   0.015053480979986489  users count:  100  k:  100\n",
      "numba time:   0.0008371550065930933  users count:  100  k:  100\n",
      "naive time:  0.5635701709834393  users count:  1000  k:  100\n",
      "pandas time:   0.05195334099698812  users count:  1000  k:  100\n",
      "numba time:   0.0041660879796836525  users count:  1000  k:  100\n",
      "naive time:  9.17097788900719  users count:  10000  k:  100\n",
      "pandas time:   0.6621167289849836  users count:  10000  k:  100\n",
      "numba time:   0.03526140900794417  users count:  10000  k:  100\n",
      "naive time:  444.7424587409769  users count:  100000  k:  100\n",
      "pandas time:   9.116927796014352  users count:  100000  k:  100\n",
      "numba time:   0.2428241599991452  users count:  100000  k:  100\n"
     ]
    }
   ],
   "source": [
    "\n",
    "users_count = [100, 1000, 10000, 100000]\n",
    "top_k = [10, 50, 100]\n",
    "\n",
    "naive_time = []\n",
    "numba_time = []\n",
    "pandas_time = []\n",
    "\n",
    "for k in top_k:\n",
    "    time_k_naive = []\n",
    "    time_k_pandas = []\n",
    "    time_k_numba = []\n",
    "    \n",
    "    for j in range(len(users_count)):\n",
    "        df, users, recs = generate_subsample(users_count[j], k)\n",
    "        target = df.values\n",
    "        time = timeit.timeit('mrr_naive(df, users, recs)', \"from __main__ import mrr_naive, df, users, recs\", number = 3)\n",
    "        time_k_naive.append(time)\n",
    "        print(\"naive time: \", time, \" users count: \", users_count[j], \" k: \", k)\n",
    "        time = timeit.timeit('mrr_pandas(df, users, recs)', \"from __main__ import mrr_pandas, df, users, recs\", number = 3)\n",
    "        time_k_pandas.append(time)\n",
    "        print(\"pandas time:  \", time, \" users count: \", users_count[j], \" k: \", k)\n",
    "        time = timeit.timeit('mrr_numba(numba_df, users, recs)', \"from __main__ import mrr_numba, numba_df, users, recs\", number = 3)\n",
    "        time_k_numba.append(time)\n",
    "        print(\"numba time:  \", time, \" users count: \", users_count[j], \" k: \", k)\n",
    "\n",
    "    naive_time.append(time_k_naive)    \n",
    "    numba_time.append(time_k_numba)    \n",
    "    pandas_time.append(time_k_pandas)"
   ]
  },
  {
   "cell_type": "markdown",
   "id": "6030a292",
   "metadata": {},
   "source": [
    "<h2>Скорость работы в зависимости от количества пользователей при разном К</h2>"
   ]
  },
  {
   "cell_type": "code",
   "execution_count": 109,
   "id": "0b00c374",
   "metadata": {},
   "outputs": [
    {
     "data": {
      "image/png": "[encoded data removed]",
      "text/plain": [
       "<Figure size 1000x1500 with 3 Axes>"
      ]
     },
     "metadata": {},
     "output_type": "display_data"
    }
   ],
   "source": [
    "fx, ax = plt.subplots(3, figsize=(10, 15))\n",
    "for i in range(3):\n",
    "    ax[i].plot(users_count, naive_time[i], label='naive')\n",
    "    ax[i].plot(users_count, numba_time[i], label='numba')\n",
    "    ax[i].plot(users_count, pandas_time[i], label='pandas')\n",
    "    ax[i].set_title(f'top_k {top_k[i]}')\n",
    "    ax[i].set_ylabel('time')\n",
    "    ax[i].set_xlabel('users_count')\n",
    "    ax[i].set_ylim(0, 15)\n",
    "    ax[i].legend()\n",
    "plt.show()\n"
   ]
  },
  {
   "cell_type": "code",
   "execution_count": null,
   "id": "ec8acf86",
   "metadata": {},
   "outputs": [],
   "source": []
  }
 ],
 "metadata": {
  "kernelspec": {
   "display_name": "Python 3 (ipykernel)",
   "language": "python",
   "name": "python3"
  },
  "language_info": {
   "codemirror_mode": {
    "name": "ipython",
    "version": 3
   },
   "file_extension": ".py",
   "mimetype": "text/x-python",
   "name": "python",
   "nbconvert_exporter": "python",
   "pygments_lexer": "ipython3",
   "version": "3.8.15"
  }
 },
 "nbformat": 4,
 "nbformat_minor": 5
}
