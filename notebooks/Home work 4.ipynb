{
 "cells": [
  {
   "cell_type": "markdown",
   "id": "b4e7564f",
   "metadata": {},
   "source": [
    "# Dependencies"
   ]
  },
  {
   "cell_type": "code",
   "execution_count": 1,
   "id": "4df36760",
   "metadata": {},
   "outputs": [],
   "source": [
    "import os"
   ]
  },
  {
   "cell_type": "code",
   "execution_count": 2,
   "id": "9c6e7e24",
   "metadata": {},
   "outputs": [],
   "source": [
    "os.environ[\"OPENBLAS_NUM_THREADS\"] = \"1\"  # For implicit ALS"
   ]
  },
  {
   "cell_type": "code",
   "execution_count": 3,
   "id": "adaddcd1",
   "metadata": {},
   "outputs": [],
   "source": [
    "import warnings\n",
    "warnings.filterwarnings('ignore')"
   ]
  },
  {
   "cell_type": "code",
   "execution_count": 4,
   "id": "3d281db4",
   "metadata": {},
   "outputs": [],
   "source": [
    "import pandas as pd\n",
    "import numpy as np\n",
    "\n",
    "from tqdm.notebook import tqdm\n",
    "import dill\n",
    "\n",
    "from implicit.als import AlternatingLeastSquares\n",
    "\n",
    "from rectools.metrics import Precision, Recall, MAP, calc_metrics\n",
    "from rectools.models import PopularModel, RandomModel, ImplicitALSWrapperModel\n",
    "from rectools import Columns\n",
    "from rectools.dataset import Dataset\n",
    "from rectools.models import ImplicitALSWrapperModel, LightFMWrapperModel\n",
    "\n",
    "from pathlib import Path\n",
    "import typing as tp\n",
    "from tqdm import tqdm\n",
    "\n",
    "from lightfm import LightFM\n",
    "\n",
    "from implicit.bpr import BayesianPersonalizedRanking\n",
    "\n",
    "from implicit.lmf import LogisticMatrixFactorization\n",
    "\n",
    "import nmslib"
   ]
  },
  {
   "cell_type": "markdown",
   "id": "6fabf53b",
   "metadata": {},
   "source": [
    "# 1. Data"
   ]
  },
  {
   "cell_type": "code",
   "execution_count": 5,
   "id": "15ca74f7",
   "metadata": {},
   "outputs": [],
   "source": [
    "DATA_PATH = Path(\"../Lecture 3. Baselines and kNN/kion_train\")\n",
    "\n",
    "users = pd.read_csv(DATA_PATH / 'users.csv')\n",
    "items = pd.read_csv(DATA_PATH / 'items.csv')\n",
    "interactions = pd.read_csv(DATA_PATH / 'interactions.csv')"
   ]
  },
  {
   "cell_type": "markdown",
   "id": "bd8c3c36",
   "metadata": {},
   "source": [
    "## 1.1. Preprocess"
   ]
  },
  {
   "cell_type": "code",
   "execution_count": 6,
   "id": "9fe00a5d",
   "metadata": {},
   "outputs": [],
   "source": [
    "# interactions preprocess\n",
    "Columns.Datetime = 'last_watch_dt'\n",
    "\n",
    "interactions.drop(\n",
    "    interactions[\n",
    "        interactions[Columns.Datetime].str.len() != 10\n",
    "    ].index,\n",
    "    inplace=True\n",
    ")\n",
    "\n",
    "interactions[Columns.Datetime] = pd.to_datetime(\n",
    "    interactions[Columns.Datetime],\n",
    "    format='%Y-%m-%d'\n",
    ")\n",
    "\n",
    "interactions[Columns.Weight] = np.where(\n",
    "    interactions['watched_pct'] > 10, 3, 1\n",
    ")"
   ]
  },
  {
   "cell_type": "markdown",
   "id": "f03d7d90",
   "metadata": {},
   "source": [
    "## 1.2. Train test split"
   ]
  },
  {
   "cell_type": "code",
   "execution_count": 7,
   "id": "234ff236",
   "metadata": {},
   "outputs": [
    {
     "name": "stdout",
     "output_type": "stream",
     "text": [
      "train: (3832711, 6)\n",
      "test: (333026, 6)\n"
     ]
    }
   ],
   "source": [
    "max_date = interactions[Columns.Datetime].max()\n",
    "split_point = max_date - pd.Timedelta(days=7)\n",
    "\n",
    "\n",
    "train = interactions[\n",
    "    interactions[Columns.Datetime] < split_point\n",
    "].copy()\n",
    "train.drop(train.query(\"total_dur < 300\").index, inplace=True)\n",
    "\n",
    "\n",
    "test = interactions[\n",
    "    interactions[Columns.Datetime] >= split_point\n",
    "].copy()\n",
    "# отфильтруем холодных пользователей из теста\n",
    "cold_users = set(test[Columns.User]) - set(train[Columns.User])\n",
    "test.drop(\n",
    "    test[test[Columns.User].isin(cold_users)].index,\n",
    "    inplace=True\n",
    ")\n",
    "\n",
    "\n",
    "print(f\"train: {train.shape}\")\n",
    "print(f\"test: {test.shape}\")"
   ]
  },
  {
   "cell_type": "markdown",
   "id": "c0e71d71",
   "metadata": {},
   "source": [
    "## 1.3. User features"
   ]
  },
  {
   "cell_type": "code",
   "execution_count": 8,
   "id": "54ac6ef3",
   "metadata": {},
   "outputs": [
    {
     "data": {
      "text/html": [
       "<div>\n",
       "<style scoped>\n",
       "    .dataframe tbody tr th:only-of-type {\n",
       "        vertical-align: middle;\n",
       "    }\n",
       "\n",
       "    .dataframe tbody tr th {\n",
       "        vertical-align: top;\n",
       "    }\n",
       "\n",
       "    .dataframe thead th {\n",
       "        text-align: right;\n",
       "    }\n",
       "</style>\n",
       "<table border=\"1\" class=\"dataframe\">\n",
       "  <thead>\n",
       "    <tr style=\"text-align: right;\">\n",
       "      <th></th>\n",
       "      <th>id</th>\n",
       "      <th>value</th>\n",
       "      <th>feature</th>\n",
       "    </tr>\n",
       "  </thead>\n",
       "  <tbody>\n",
       "    <tr>\n",
       "      <th>0</th>\n",
       "      <td>973171</td>\n",
       "      <td>М</td>\n",
       "      <td>sex</td>\n",
       "    </tr>\n",
       "    <tr>\n",
       "      <th>1</th>\n",
       "      <td>962099</td>\n",
       "      <td>М</td>\n",
       "      <td>sex</td>\n",
       "    </tr>\n",
       "    <tr>\n",
       "      <th>3</th>\n",
       "      <td>721985</td>\n",
       "      <td>Ж</td>\n",
       "      <td>sex</td>\n",
       "    </tr>\n",
       "    <tr>\n",
       "      <th>4</th>\n",
       "      <td>704055</td>\n",
       "      <td>Ж</td>\n",
       "      <td>sex</td>\n",
       "    </tr>\n",
       "    <tr>\n",
       "      <th>5</th>\n",
       "      <td>1037719</td>\n",
       "      <td>М</td>\n",
       "      <td>sex</td>\n",
       "    </tr>\n",
       "  </tbody>\n",
       "</table>\n",
       "</div>"
      ],
      "text/plain": [
       "        id value feature\n",
       "0   973171     М     sex\n",
       "1   962099     М     sex\n",
       "3   721985     Ж     sex\n",
       "4   704055     Ж     sex\n",
       "5  1037719     М     sex"
      ]
     },
     "execution_count": 8,
     "metadata": {},
     "output_type": "execute_result"
    }
   ],
   "source": [
    "# preprocess\n",
    "users.fillna('Unknown', inplace=True)\n",
    "users = users.loc[\n",
    "    users[Columns.User].isin(train[Columns.User])\n",
    "].copy()\n",
    "\n",
    "# features\n",
    "user_features_frames = []\n",
    "for feature in [\"sex\", \"age\", \"income\"]:\n",
    "    feature_frame = users.reindex(columns=[Columns.User, feature])\n",
    "    feature_frame.columns = [\"id\", \"value\"]\n",
    "    feature_frame[\"feature\"] = feature\n",
    "    user_features_frames.append(feature_frame)\n",
    "user_features = pd.concat(user_features_frames)\n",
    "user_features.head()"
   ]
  },
  {
   "cell_type": "markdown",
   "id": "154fbd03",
   "metadata": {},
   "source": [
    "## 1.4. Item features"
   ]
  },
  {
   "cell_type": "code",
   "execution_count": 9,
   "id": "caa80c96",
   "metadata": {},
   "outputs": [
    {
     "data": {
      "text/html": [
       "<div>\n",
       "<style scoped>\n",
       "    .dataframe tbody tr th:only-of-type {\n",
       "        vertical-align: middle;\n",
       "    }\n",
       "\n",
       "    .dataframe tbody tr th {\n",
       "        vertical-align: top;\n",
       "    }\n",
       "\n",
       "    .dataframe thead th {\n",
       "        text-align: right;\n",
       "    }\n",
       "</style>\n",
       "<table border=\"1\" class=\"dataframe\">\n",
       "  <thead>\n",
       "    <tr style=\"text-align: right;\">\n",
       "      <th></th>\n",
       "      <th>id</th>\n",
       "      <th>value</th>\n",
       "      <th>feature</th>\n",
       "    </tr>\n",
       "  </thead>\n",
       "  <tbody>\n",
       "    <tr>\n",
       "      <th>0</th>\n",
       "      <td>10711</td>\n",
       "      <td>драмы</td>\n",
       "      <td>genre</td>\n",
       "    </tr>\n",
       "    <tr>\n",
       "      <th>0</th>\n",
       "      <td>10711</td>\n",
       "      <td>зарубежные</td>\n",
       "      <td>genre</td>\n",
       "    </tr>\n",
       "    <tr>\n",
       "      <th>0</th>\n",
       "      <td>10711</td>\n",
       "      <td>детективы</td>\n",
       "      <td>genre</td>\n",
       "    </tr>\n",
       "    <tr>\n",
       "      <th>0</th>\n",
       "      <td>10711</td>\n",
       "      <td>мелодрамы</td>\n",
       "      <td>genre</td>\n",
       "    </tr>\n",
       "    <tr>\n",
       "      <th>1</th>\n",
       "      <td>2508</td>\n",
       "      <td>зарубежные</td>\n",
       "      <td>genre</td>\n",
       "    </tr>\n",
       "  </tbody>\n",
       "</table>\n",
       "</div>"
      ],
      "text/plain": [
       "      id       value feature\n",
       "0  10711       драмы   genre\n",
       "0  10711  зарубежные   genre\n",
       "0  10711   детективы   genre\n",
       "0  10711   мелодрамы   genre\n",
       "1   2508  зарубежные   genre"
      ]
     },
     "execution_count": 9,
     "metadata": {},
     "output_type": "execute_result"
    }
   ],
   "source": [
    "items = items.loc[\n",
    "    items[Columns.Item].isin(train[Columns.Item])\n",
    "].copy()\n",
    "\n",
    "# Explode genres to flatten table\n",
    "items[\"genre\"] = (\n",
    "    items[\"genres\"].str.lower()\n",
    "    .str.replace(\", \", \",\", regex=False)\n",
    "    .str.split(\",\")\n",
    ")\n",
    "genre_feature = items[[\"item_id\", \"genre\"]].explode(\"genre\")\n",
    "genre_feature.columns = [\"id\", \"value\"]\n",
    "genre_feature[\"feature\"] = \"genre\"\n",
    "genre_feature.head()\n",
    "\n",
    "# Content\n",
    "content_feature = items.reindex(\n",
    "    columns=[Columns.Item, \"content_type\"]\n",
    ")\n",
    "content_feature.columns = [\"id\", \"value\"]\n",
    "content_feature[\"feature\"] = \"content_type\"\n",
    "\n",
    "# Al features\n",
    "item_features = pd.concat((genre_feature, content_feature))\n",
    "item_features.head()"
   ]
  },
  {
   "cell_type": "markdown",
   "id": "f82a0e70",
   "metadata": {},
   "source": [
    "# 2. Metrics"
   ]
  },
  {
   "cell_type": "code",
   "execution_count": 10,
   "id": "8a678219",
   "metadata": {},
   "outputs": [],
   "source": [
    "metrics_name = {\n",
    "    'Precision': Precision,\n",
    "    'Recall': Recall,\n",
    "    'MAP': MAP,\n",
    "}\n",
    "\n",
    "metrics = {}\n",
    "for metric_name, metric in metrics_name.items():\n",
    "    for k in range(1, 11, 3):\n",
    "        metrics[f'{metric_name}@{k}'] = metric(k=k)"
   ]
  },
  {
   "cell_type": "markdown",
   "id": "99217fa5",
   "metadata": {},
   "source": [
    "# 3. Models"
   ]
  },
  {
   "cell_type": "markdown",
   "id": "355086d0",
   "metadata": {},
   "source": [
    "Будем рассматривать модели с учетом признаков. В качестве гиперпараметров переберем:\n",
    "* Размерность эмбеддингов\n",
    "* Коэффициенты регуляризации\n",
    "* Количество эпох"
   ]
  },
  {
   "cell_type": "markdown",
   "id": "326c55aa",
   "metadata": {},
   "source": [
    "## 3.1. Initialization"
   ]
  },
  {
   "cell_type": "code",
   "execution_count": 11,
   "id": "712c4d21",
   "metadata": {},
   "outputs": [],
   "source": [
    "K_RECOS = 10\n",
    "RANDOM_STATE = 16\n",
    "NUM_THREADS = 8\n",
    "N_FACTORS = [8, 12]\n",
    "\n",
    "# Implicit:\n",
    "REGULARIZATION = [0.01, 0.05]\n",
    "\n",
    "# Lightfm:\n",
    "N_EPOCHS = [1, 3]\n",
    "USER_ALPHA = [0.01, 0.05]\n",
    "ITEM_ALPHA = [0.01, 0.05]\n",
    "LEARNING_RATE = 0.05"
   ]
  },
  {
   "cell_type": "code",
   "execution_count": 12,
   "id": "18328ff5",
   "metadata": {},
   "outputs": [],
   "source": [
    "models = {\n",
    "    'popular': PopularModel(),\n",
    "}"
   ]
  },
  {
   "cell_type": "markdown",
   "id": "7e63bd51",
   "metadata": {},
   "source": [
    "Рассмотрим модель ALS:"
   ]
  },
  {
   "cell_type": "code",
   "execution_count": 13,
   "id": "084a7225",
   "metadata": {},
   "outputs": [],
   "source": [
    "implicit_models = {\n",
    "    'ALS': AlternatingLeastSquares,\n",
    "}\n",
    "\n",
    "for implicit_name, implicit_model in implicit_models.items():\n",
    "    for is_fitting_features in (True, False):\n",
    "        for n_factors in N_FACTORS:\n",
    "            for reg in REGULARIZATION:\n",
    "                models[\n",
    "                    f\"{implicit_name}_{n_factors}_{is_fitting_features}_{reg}\"\n",
    "                      ] = (\n",
    "                    ImplicitALSWrapperModel(\n",
    "                        model=implicit_model(\n",
    "                            factors=n_factors, \n",
    "                            random_state=RANDOM_STATE, \n",
    "                            num_threads=NUM_THREADS,\n",
    "                            regularization=reg\n",
    "                        ),\n",
    "                        fit_features_together=is_fitting_features,\n",
    "                    )\n",
    "                )"
   ]
  },
  {
   "cell_type": "markdown",
   "id": "a6782e37",
   "metadata": {},
   "source": [
    "И рассмотрим модель на основе warp loss:"
   ]
  },
  {
   "cell_type": "code",
   "execution_count": 14,
   "id": "b32992b4",
   "metadata": {},
   "outputs": [],
   "source": [
    "lightfm_losses = ('warp',)\n",
    "\n",
    "for loss in lightfm_losses:\n",
    "    for n_factors in N_FACTORS:\n",
    "        for n_epochs in N_EPOCHS:\n",
    "            for u_alpha in USER_ALPHA:\n",
    "                for i_alpha in ITEM_ALPHA:\n",
    "                    models[\n",
    "                        f\"LightFM_{loss}_{n_factors}_{n_epochs}_{u_alpha}_{i_alpha}\"\n",
    "                    ] = LightFMWrapperModel(\n",
    "                        LightFM(\n",
    "                            no_components=n_factors,\n",
    "                            loss=loss,\n",
    "                            random_state=RANDOM_STATE,\n",
    "                            learning_rate=LEARNING_RATE,\n",
    "                            user_alpha=u_alpha,\n",
    "                            item_alpha=i_alpha,\n",
    "                        ),\n",
    "                        epochs=n_epochs,\n",
    "                        num_threads=NUM_THREADS,\n",
    "                    )"
   ]
  },
  {
   "cell_type": "markdown",
   "id": "82ded578",
   "metadata": {},
   "source": [
    "## 3.2. Fit"
   ]
  },
  {
   "cell_type": "code",
   "execution_count": 86,
   "id": "49c8bcd1",
   "metadata": {},
   "outputs": [],
   "source": [
    "dataset = Dataset.construct(\n",
    "    interactions_df=train,\n",
    "    user_features_df=user_features,\n",
    "    cat_user_features=[\"sex\", \"age\", \"income\"],\n",
    "    item_features_df=item_features,\n",
    "    cat_item_features=[\"genre\", \"content_type\"],\n",
    ")"
   ]
  },
  {
   "cell_type": "code",
   "execution_count": 87,
   "id": "0f574093",
   "metadata": {},
   "outputs": [],
   "source": [
    "TEST_USERS = test[Columns.User].unique()"
   ]
  },
  {
   "cell_type": "code",
   "execution_count": 225,
   "id": "b9fb8c12",
   "metadata": {},
   "outputs": [
    {
     "name": "stderr",
     "output_type": "stream",
     "text": [
      "\r",
      "  0%|                                                                             | 0/25 [00:00<?, ?it/s]"
     ]
    },
    {
     "name": "stdout",
     "output_type": "stream",
     "text": [
      "Fitting model popular...\n"
     ]
    },
    {
     "name": "stderr",
     "output_type": "stream",
     "text": [
      "  0%|                                                                             | 0/25 [00:20<?, ?it/s]\n"
     ]
    }
   ],
   "source": [
    "results = []\n",
    "iters = tqdm(models.items(), total=len(models.items()))\n",
    "for model_name, model in iters:\n",
    "    if model_name in [r['model'] for r in results]:\n",
    "        continue\n",
    "        \n",
    "    print(f\"Fitting model {model_name}...\")\n",
    "    model_quality = {'model': model_name}\n",
    "\n",
    "    model.fit(dataset)\n",
    "    recos = model.recommend(\n",
    "        users=TEST_USERS,\n",
    "        dataset=dataset,\n",
    "        k=K_RECOS,\n",
    "        filter_viewed=True,\n",
    "    )\n",
    "    metric_values = calc_metrics(metrics, recos, test, train)\n",
    "    model_quality.update(metric_values)\n",
    "    results.append(model_quality)\n",
    "    del recos\n",
    "    \n",
    "    # with open('fit_results.dill', 'wb') as f:\n",
    "    #     dill.dump(results, f)\n",
    "\n",
    "    break"
   ]
  },
  {
   "cell_type": "code",
   "execution_count": 18,
   "id": "84140316",
   "metadata": {},
   "outputs": [
    {
     "data": {
      "text/html": [
       "<style type=\"text/css\">\n",
       "#T_7f24b_row0_col1, #T_7f24b_row1_col1, #T_7f24b_row2_col0, #T_7f24b_row3_col0, #T_7f24b_row4_col9, #T_7f24b_row5_col9, #T_7f24b_row6_col9, #T_7f24b_row7_col9, #T_7f24b_row8_col1, #T_7f24b_row9_col21, #T_7f24b_row10_col21, #T_7f24b_row11_col21 {\n",
       "  background-color: lightgreen;\n",
       "}\n",
       "</style>\n",
       "<table id=\"T_7f24b\">\n",
       "  <thead>\n",
       "    <tr>\n",
       "      <th class=\"index_name level0\" >model</th>\n",
       "      <th id=\"T_7f24b_level0_col0\" class=\"col_heading level0 col0\" >popular</th>\n",
       "      <th id=\"T_7f24b_level0_col1\" class=\"col_heading level0 col1\" >ALS_8_True_0.01</th>\n",
       "      <th id=\"T_7f24b_level0_col2\" class=\"col_heading level0 col2\" >ALS_8_True_0.05</th>\n",
       "      <th id=\"T_7f24b_level0_col3\" class=\"col_heading level0 col3\" >ALS_12_True_0.01</th>\n",
       "      <th id=\"T_7f24b_level0_col4\" class=\"col_heading level0 col4\" >ALS_12_True_0.05</th>\n",
       "      <th id=\"T_7f24b_level0_col5\" class=\"col_heading level0 col5\" >ALS_8_False_0.01</th>\n",
       "      <th id=\"T_7f24b_level0_col6\" class=\"col_heading level0 col6\" >ALS_8_False_0.05</th>\n",
       "      <th id=\"T_7f24b_level0_col7\" class=\"col_heading level0 col7\" >ALS_12_False_0.01</th>\n",
       "      <th id=\"T_7f24b_level0_col8\" class=\"col_heading level0 col8\" >ALS_12_False_0.05</th>\n",
       "      <th id=\"T_7f24b_level0_col9\" class=\"col_heading level0 col9\" >LightFM_warp_8_1_0.01_0.01</th>\n",
       "      <th id=\"T_7f24b_level0_col10\" class=\"col_heading level0 col10\" >LightFM_warp_8_1_0.01_0.05</th>\n",
       "      <th id=\"T_7f24b_level0_col11\" class=\"col_heading level0 col11\" >LightFM_warp_8_1_0.05_0.01</th>\n",
       "      <th id=\"T_7f24b_level0_col12\" class=\"col_heading level0 col12\" >LightFM_warp_8_1_0.05_0.05</th>\n",
       "      <th id=\"T_7f24b_level0_col13\" class=\"col_heading level0 col13\" >LightFM_warp_8_3_0.01_0.01</th>\n",
       "      <th id=\"T_7f24b_level0_col14\" class=\"col_heading level0 col14\" >LightFM_warp_8_3_0.01_0.05</th>\n",
       "      <th id=\"T_7f24b_level0_col15\" class=\"col_heading level0 col15\" >LightFM_warp_8_3_0.05_0.01</th>\n",
       "      <th id=\"T_7f24b_level0_col16\" class=\"col_heading level0 col16\" >LightFM_warp_8_3_0.05_0.05</th>\n",
       "      <th id=\"T_7f24b_level0_col17\" class=\"col_heading level0 col17\" >LightFM_warp_12_1_0.01_0.01</th>\n",
       "      <th id=\"T_7f24b_level0_col18\" class=\"col_heading level0 col18\" >LightFM_warp_12_1_0.01_0.05</th>\n",
       "      <th id=\"T_7f24b_level0_col19\" class=\"col_heading level0 col19\" >LightFM_warp_12_1_0.05_0.01</th>\n",
       "      <th id=\"T_7f24b_level0_col20\" class=\"col_heading level0 col20\" >LightFM_warp_12_1_0.05_0.05</th>\n",
       "      <th id=\"T_7f24b_level0_col21\" class=\"col_heading level0 col21\" >LightFM_warp_12_3_0.01_0.01</th>\n",
       "      <th id=\"T_7f24b_level0_col22\" class=\"col_heading level0 col22\" >LightFM_warp_12_3_0.01_0.05</th>\n",
       "      <th id=\"T_7f24b_level0_col23\" class=\"col_heading level0 col23\" >LightFM_warp_12_3_0.05_0.01</th>\n",
       "      <th id=\"T_7f24b_level0_col24\" class=\"col_heading level0 col24\" >LightFM_warp_12_3_0.05_0.05</th>\n",
       "    </tr>\n",
       "  </thead>\n",
       "  <tbody>\n",
       "    <tr>\n",
       "      <th id=\"T_7f24b_level0_row0\" class=\"row_heading level0 row0\" >Precision@1</th>\n",
       "      <td id=\"T_7f24b_row0_col0\" class=\"data row0 col0\" >0.069368</td>\n",
       "      <td id=\"T_7f24b_row0_col1\" class=\"data row0 col1\" >0.081866</td>\n",
       "      <td id=\"T_7f24b_row0_col2\" class=\"data row0 col2\" >0.081229</td>\n",
       "      <td id=\"T_7f24b_row0_col3\" class=\"data row0 col3\" >0.080884</td>\n",
       "      <td id=\"T_7f24b_row0_col4\" class=\"data row0 col4\" >0.080990</td>\n",
       "      <td id=\"T_7f24b_row0_col5\" class=\"data row0 col5\" >0.068518</td>\n",
       "      <td id=\"T_7f24b_row0_col6\" class=\"data row0 col6\" >0.068554</td>\n",
       "      <td id=\"T_7f24b_row0_col7\" class=\"data row0 col7\" >0.063172</td>\n",
       "      <td id=\"T_7f24b_row0_col8\" class=\"data row0 col8\" >0.063119</td>\n",
       "      <td id=\"T_7f24b_row0_col9\" class=\"data row0 col9\" >0.040052</td>\n",
       "      <td id=\"T_7f24b_row0_col10\" class=\"data row0 col10\" >0.058392</td>\n",
       "      <td id=\"T_7f24b_row0_col11\" class=\"data row0 col11\" >0.076131</td>\n",
       "      <td id=\"T_7f24b_row0_col12\" class=\"data row0 col12\" >0.074378</td>\n",
       "      <td id=\"T_7f24b_row0_col13\" class=\"data row0 col13\" >0.075599</td>\n",
       "      <td id=\"T_7f24b_row0_col14\" class=\"data row0 col14\" >0.074351</td>\n",
       "      <td id=\"T_7f24b_row0_col15\" class=\"data row0 col15\" >0.069386</td>\n",
       "      <td id=\"T_7f24b_row0_col16\" class=\"data row0 col16\" >0.074316</td>\n",
       "      <td id=\"T_7f24b_row0_col17\" class=\"data row0 col17\" >0.058171</td>\n",
       "      <td id=\"T_7f24b_row0_col18\" class=\"data row0 col18\" >0.039778</td>\n",
       "      <td id=\"T_7f24b_row0_col19\" class=\"data row0 col19\" >0.074316</td>\n",
       "      <td id=\"T_7f24b_row0_col20\" class=\"data row0 col20\" >0.076086</td>\n",
       "      <td id=\"T_7f24b_row0_col21\" class=\"data row0 col21\" >0.075936</td>\n",
       "      <td id=\"T_7f24b_row0_col22\" class=\"data row0 col22\" >0.075971</td>\n",
       "      <td id=\"T_7f24b_row0_col23\" class=\"data row0 col23\" >0.076095</td>\n",
       "      <td id=\"T_7f24b_row0_col24\" class=\"data row0 col24\" >0.074378</td>\n",
       "    </tr>\n",
       "    <tr>\n",
       "      <th id=\"T_7f24b_level0_row1\" class=\"row_heading level0 row1\" >Recall@1</th>\n",
       "      <td id=\"T_7f24b_row1_col0\" class=\"data row1 col0\" >0.035863</td>\n",
       "      <td id=\"T_7f24b_row1_col1\" class=\"data row1 col1\" >0.042250</td>\n",
       "      <td id=\"T_7f24b_row1_col2\" class=\"data row1 col2\" >0.041695</td>\n",
       "      <td id=\"T_7f24b_row1_col3\" class=\"data row1 col3\" >0.041371</td>\n",
       "      <td id=\"T_7f24b_row1_col4\" class=\"data row1 col4\" >0.041456</td>\n",
       "      <td id=\"T_7f24b_row1_col5\" class=\"data row1 col5\" >0.033405</td>\n",
       "      <td id=\"T_7f24b_row1_col6\" class=\"data row1 col6\" >0.033423</td>\n",
       "      <td id=\"T_7f24b_row1_col7\" class=\"data row1 col7\" >0.031148</td>\n",
       "      <td id=\"T_7f24b_row1_col8\" class=\"data row1 col8\" >0.031102</td>\n",
       "      <td id=\"T_7f24b_row1_col9\" class=\"data row1 col9\" >0.019392</td>\n",
       "      <td id=\"T_7f24b_row1_col10\" class=\"data row1 col10\" >0.031178</td>\n",
       "      <td id=\"T_7f24b_row1_col11\" class=\"data row1 col11\" >0.040277</td>\n",
       "      <td id=\"T_7f24b_row1_col12\" class=\"data row1 col12\" >0.039099</td>\n",
       "      <td id=\"T_7f24b_row1_col13\" class=\"data row1 col13\" >0.039745</td>\n",
       "      <td id=\"T_7f24b_row1_col14\" class=\"data row1 col14\" >0.039090</td>\n",
       "      <td id=\"T_7f24b_row1_col15\" class=\"data row1 col15\" >0.035872</td>\n",
       "      <td id=\"T_7f24b_row1_col16\" class=\"data row1 col16\" >0.039083</td>\n",
       "      <td id=\"T_7f24b_row1_col17\" class=\"data row1 col17\" >0.028956</td>\n",
       "      <td id=\"T_7f24b_row1_col18\" class=\"data row1 col18\" >0.022456</td>\n",
       "      <td id=\"T_7f24b_row1_col19\" class=\"data row1 col19\" >0.039095</td>\n",
       "      <td id=\"T_7f24b_row1_col20\" class=\"data row1 col20\" >0.040212</td>\n",
       "      <td id=\"T_7f24b_row1_col21\" class=\"data row1 col21\" >0.039867</td>\n",
       "      <td id=\"T_7f24b_row1_col22\" class=\"data row1 col22\" >0.040168</td>\n",
       "      <td id=\"T_7f24b_row1_col23\" class=\"data row1 col23\" >0.040207</td>\n",
       "      <td id=\"T_7f24b_row1_col24\" class=\"data row1 col24\" >0.039099</td>\n",
       "    </tr>\n",
       "    <tr>\n",
       "      <th id=\"T_7f24b_level0_row2\" class=\"row_heading level0 row2\" >Precision@4</th>\n",
       "      <td id=\"T_7f24b_row2_col0\" class=\"data row2 col0\" >0.057348</td>\n",
       "      <td id=\"T_7f24b_row2_col1\" class=\"data row2 col1\" >0.052955</td>\n",
       "      <td id=\"T_7f24b_row2_col2\" class=\"data row2 col2\" >0.052553</td>\n",
       "      <td id=\"T_7f24b_row2_col3\" class=\"data row2 col3\" >0.052265</td>\n",
       "      <td id=\"T_7f24b_row2_col4\" class=\"data row2 col4\" >0.051732</td>\n",
       "      <td id=\"T_7f24b_row2_col5\" class=\"data row2 col5\" >0.049408</td>\n",
       "      <td id=\"T_7f24b_row2_col6\" class=\"data row2 col6\" >0.049413</td>\n",
       "      <td id=\"T_7f24b_row2_col7\" class=\"data row2 col7\" >0.047193</td>\n",
       "      <td id=\"T_7f24b_row2_col8\" class=\"data row2 col8\" >0.047209</td>\n",
       "      <td id=\"T_7f24b_row2_col9\" class=\"data row2 col9\" >0.052597</td>\n",
       "      <td id=\"T_7f24b_row2_col10\" class=\"data row2 col10\" >0.047463</td>\n",
       "      <td id=\"T_7f24b_row2_col11\" class=\"data row2 col11\" >0.050072</td>\n",
       "      <td id=\"T_7f24b_row2_col12\" class=\"data row2 col12\" >0.057222</td>\n",
       "      <td id=\"T_7f24b_row2_col13\" class=\"data row2 col13\" >0.056671</td>\n",
       "      <td id=\"T_7f24b_row2_col14\" class=\"data row2 col14\" >0.057007</td>\n",
       "      <td id=\"T_7f24b_row2_col15\" class=\"data row2 col15\" >0.056689</td>\n",
       "      <td id=\"T_7f24b_row2_col16\" class=\"data row2 col16\" >0.057091</td>\n",
       "      <td id=\"T_7f24b_row2_col17\" class=\"data row2 col17\" >0.056943</td>\n",
       "      <td id=\"T_7f24b_row2_col18\" class=\"data row2 col18\" >0.035228</td>\n",
       "      <td id=\"T_7f24b_row2_col19\" class=\"data row2 col19\" >0.052323</td>\n",
       "      <td id=\"T_7f24b_row2_col20\" class=\"data row2 col20\" >0.052188</td>\n",
       "      <td id=\"T_7f24b_row2_col21\" class=\"data row2 col21\" >0.055458</td>\n",
       "      <td id=\"T_7f24b_row2_col22\" class=\"data row2 col22\" >0.051949</td>\n",
       "      <td id=\"T_7f24b_row2_col23\" class=\"data row2 col23\" >0.052309</td>\n",
       "      <td id=\"T_7f24b_row2_col24\" class=\"data row2 col24\" >0.057215</td>\n",
       "    </tr>\n",
       "    <tr>\n",
       "      <th id=\"T_7f24b_level0_row3\" class=\"row_heading level0 row3\" >Recall@4</th>\n",
       "      <td id=\"T_7f24b_row3_col0\" class=\"data row3 col0\" >0.112881</td>\n",
       "      <td id=\"T_7f24b_row3_col1\" class=\"data row3 col1\" >0.102997</td>\n",
       "      <td id=\"T_7f24b_row3_col2\" class=\"data row3 col2\" >0.102069</td>\n",
       "      <td id=\"T_7f24b_row3_col3\" class=\"data row3 col3\" >0.101571</td>\n",
       "      <td id=\"T_7f24b_row3_col4\" class=\"data row3 col4\" >0.100200</td>\n",
       "      <td id=\"T_7f24b_row3_col5\" class=\"data row3 col5\" >0.094324</td>\n",
       "      <td id=\"T_7f24b_row3_col6\" class=\"data row3 col6\" >0.094358</td>\n",
       "      <td id=\"T_7f24b_row3_col7\" class=\"data row3 col7\" >0.089689</td>\n",
       "      <td id=\"T_7f24b_row3_col8\" class=\"data row3 col8\" >0.089668</td>\n",
       "      <td id=\"T_7f24b_row3_col9\" class=\"data row3 col9\" >0.103295</td>\n",
       "      <td id=\"T_7f24b_row3_col10\" class=\"data row3 col10\" >0.094449</td>\n",
       "      <td id=\"T_7f24b_row3_col11\" class=\"data row3 col11\" >0.098227</td>\n",
       "      <td id=\"T_7f24b_row3_col12\" class=\"data row3 col12\" >0.112695</td>\n",
       "      <td id=\"T_7f24b_row3_col13\" class=\"data row3 col13\" >0.110916</td>\n",
       "      <td id=\"T_7f24b_row3_col14\" class=\"data row3 col14\" >0.112337</td>\n",
       "      <td id=\"T_7f24b_row3_col15\" class=\"data row3 col15\" >0.111596</td>\n",
       "      <td id=\"T_7f24b_row3_col16\" class=\"data row3 col16\" >0.112486</td>\n",
       "      <td id=\"T_7f24b_row3_col17\" class=\"data row3 col17\" >0.111947</td>\n",
       "      <td id=\"T_7f24b_row3_col18\" class=\"data row3 col18\" >0.072469</td>\n",
       "      <td id=\"T_7f24b_row3_col19\" class=\"data row3 col19\" >0.102809</td>\n",
       "      <td id=\"T_7f24b_row3_col20\" class=\"data row3 col20\" >0.102609</td>\n",
       "      <td id=\"T_7f24b_row3_col21\" class=\"data row3 col21\" >0.109372</td>\n",
       "      <td id=\"T_7f24b_row3_col22\" class=\"data row3 col22\" >0.102249</td>\n",
       "      <td id=\"T_7f24b_row3_col23\" class=\"data row3 col23\" >0.102838</td>\n",
       "      <td id=\"T_7f24b_row3_col24\" class=\"data row3 col24\" >0.112681</td>\n",
       "    </tr>\n",
       "    <tr>\n",
       "      <th id=\"T_7f24b_level0_row4\" class=\"row_heading level0 row4\" >Precision@7</th>\n",
       "      <td id=\"T_7f24b_row4_col0\" class=\"data row4 col0\" >0.041242</td>\n",
       "      <td id=\"T_7f24b_row4_col1\" class=\"data row4 col1\" >0.038453</td>\n",
       "      <td id=\"T_7f24b_row4_col2\" class=\"data row4 col2\" >0.038459</td>\n",
       "      <td id=\"T_7f24b_row4_col3\" class=\"data row4 col3\" >0.038276</td>\n",
       "      <td id=\"T_7f24b_row4_col4\" class=\"data row4 col4\" >0.038019</td>\n",
       "      <td id=\"T_7f24b_row4_col5\" class=\"data row4 col5\" >0.039343</td>\n",
       "      <td id=\"T_7f24b_row4_col6\" class=\"data row4 col6\" >0.039351</td>\n",
       "      <td id=\"T_7f24b_row4_col7\" class=\"data row4 col7\" >0.038565</td>\n",
       "      <td id=\"T_7f24b_row4_col8\" class=\"data row4 col8\" >0.038610</td>\n",
       "      <td id=\"T_7f24b_row4_col9\" class=\"data row4 col9\" >0.042456</td>\n",
       "      <td id=\"T_7f24b_row4_col10\" class=\"data row4 col10\" >0.035077</td>\n",
       "      <td id=\"T_7f24b_row4_col11\" class=\"data row4 col11\" >0.040608</td>\n",
       "      <td id=\"T_7f24b_row4_col12\" class=\"data row4 col12\" >0.040551</td>\n",
       "      <td id=\"T_7f24b_row4_col13\" class=\"data row4 col13\" >0.040283</td>\n",
       "      <td id=\"T_7f24b_row4_col14\" class=\"data row4 col14\" >0.039647</td>\n",
       "      <td id=\"T_7f24b_row4_col15\" class=\"data row4 col15\" >0.041032</td>\n",
       "      <td id=\"T_7f24b_row4_col16\" class=\"data row4 col16\" >0.040255</td>\n",
       "      <td id=\"T_7f24b_row4_col17\" class=\"data row4 col17\" >0.041787</td>\n",
       "      <td id=\"T_7f24b_row4_col18\" class=\"data row4 col18\" >0.027682</td>\n",
       "      <td id=\"T_7f24b_row4_col19\" class=\"data row4 col19\" >0.041070</td>\n",
       "      <td id=\"T_7f24b_row4_col20\" class=\"data row4 col20\" >0.040369</td>\n",
       "      <td id=\"T_7f24b_row4_col21\" class=\"data row4 col21\" >0.040687</td>\n",
       "      <td id=\"T_7f24b_row4_col22\" class=\"data row4 col22\" >0.040207</td>\n",
       "      <td id=\"T_7f24b_row4_col23\" class=\"data row4 col23\" >0.040791</td>\n",
       "      <td id=\"T_7f24b_row4_col24\" class=\"data row4 col24\" >0.040649</td>\n",
       "    </tr>\n",
       "    <tr>\n",
       "      <th id=\"T_7f24b_level0_row5\" class=\"row_heading level0 row5\" >Recall@7</th>\n",
       "      <td id=\"T_7f24b_row5_col0\" class=\"data row5 col0\" >0.138390</td>\n",
       "      <td id=\"T_7f24b_row5_col1\" class=\"data row5 col1\" >0.127212</td>\n",
       "      <td id=\"T_7f24b_row5_col2\" class=\"data row5 col2\" >0.127023</td>\n",
       "      <td id=\"T_7f24b_row5_col3\" class=\"data row5 col3\" >0.126427</td>\n",
       "      <td id=\"T_7f24b_row5_col4\" class=\"data row5 col4\" >0.125432</td>\n",
       "      <td id=\"T_7f24b_row5_col5\" class=\"data row5 col5\" >0.129050</td>\n",
       "      <td id=\"T_7f24b_row5_col6\" class=\"data row5 col6\" >0.129084</td>\n",
       "      <td id=\"T_7f24b_row5_col7\" class=\"data row5 col7\" >0.125316</td>\n",
       "      <td id=\"T_7f24b_row5_col8\" class=\"data row5 col8\" >0.125465</td>\n",
       "      <td id=\"T_7f24b_row5_col9\" class=\"data row5 col9\" >0.142895</td>\n",
       "      <td id=\"T_7f24b_row5_col10\" class=\"data row5 col10\" >0.118869</td>\n",
       "      <td id=\"T_7f24b_row5_col11\" class=\"data row5 col11\" >0.136256</td>\n",
       "      <td id=\"T_7f24b_row5_col12\" class=\"data row5 col12\" >0.136394</td>\n",
       "      <td id=\"T_7f24b_row5_col13\" class=\"data row5 col13\" >0.135319</td>\n",
       "      <td id=\"T_7f24b_row5_col14\" class=\"data row5 col14\" >0.133442</td>\n",
       "      <td id=\"T_7f24b_row5_col15\" class=\"data row5 col15\" >0.137208</td>\n",
       "      <td id=\"T_7f24b_row5_col16\" class=\"data row5 col16\" >0.135237</td>\n",
       "      <td id=\"T_7f24b_row5_col17\" class=\"data row5 col17\" >0.140236</td>\n",
       "      <td id=\"T_7f24b_row5_col18\" class=\"data row5 col18\" >0.096086</td>\n",
       "      <td id=\"T_7f24b_row5_col19\" class=\"data row5 col19\" >0.137546</td>\n",
       "      <td id=\"T_7f24b_row5_col20\" class=\"data row5 col20\" >0.135566</td>\n",
       "      <td id=\"T_7f24b_row5_col21\" class=\"data row5 col21\" >0.136573</td>\n",
       "      <td id=\"T_7f24b_row5_col22\" class=\"data row5 col22\" >0.135183</td>\n",
       "      <td id=\"T_7f24b_row5_col23\" class=\"data row5 col23\" >0.137016</td>\n",
       "      <td id=\"T_7f24b_row5_col24\" class=\"data row5 col24\" >0.136515</td>\n",
       "    </tr>\n",
       "    <tr>\n",
       "      <th id=\"T_7f24b_level0_row6\" class=\"row_heading level0 row6\" >Precision@10</th>\n",
       "      <td id=\"T_7f24b_row6_col0\" class=\"data row6 col0\" >0.032803</td>\n",
       "      <td id=\"T_7f24b_row6_col1\" class=\"data row6 col1\" >0.030882</td>\n",
       "      <td id=\"T_7f24b_row6_col2\" class=\"data row6 col2\" >0.031006</td>\n",
       "      <td id=\"T_7f24b_row6_col3\" class=\"data row6 col3\" >0.030874</td>\n",
       "      <td id=\"T_7f24b_row6_col4\" class=\"data row6 col4\" >0.030836</td>\n",
       "      <td id=\"T_7f24b_row6_col5\" class=\"data row6 col5\" >0.033347</td>\n",
       "      <td id=\"T_7f24b_row6_col6\" class=\"data row6 col6\" >0.033355</td>\n",
       "      <td id=\"T_7f24b_row6_col7\" class=\"data row6 col7\" >0.032994</td>\n",
       "      <td id=\"T_7f24b_row6_col8\" class=\"data row6 col8\" >0.033019</td>\n",
       "      <td id=\"T_7f24b_row6_col9\" class=\"data row6 col9\" >0.035335</td>\n",
       "      <td id=\"T_7f24b_row6_col10\" class=\"data row6 col10\" >0.028124</td>\n",
       "      <td id=\"T_7f24b_row6_col11\" class=\"data row6 col11\" >0.031864</td>\n",
       "      <td id=\"T_7f24b_row6_col12\" class=\"data row6 col12\" >0.032071</td>\n",
       "      <td id=\"T_7f24b_row6_col13\" class=\"data row6 col13\" >0.031434</td>\n",
       "      <td id=\"T_7f24b_row6_col14\" class=\"data row6 col14\" >0.028982</td>\n",
       "      <td id=\"T_7f24b_row6_col15\" class=\"data row6 col15\" >0.032541</td>\n",
       "      <td id=\"T_7f24b_row6_col16\" class=\"data row6 col16\" >0.031359</td>\n",
       "      <td id=\"T_7f24b_row6_col17\" class=\"data row6 col17\" >0.034218</td>\n",
       "      <td id=\"T_7f24b_row6_col18\" class=\"data row6 col18\" >0.023127</td>\n",
       "      <td id=\"T_7f24b_row6_col19\" class=\"data row6 col19\" >0.032036</td>\n",
       "      <td id=\"T_7f24b_row6_col20\" class=\"data row6 col20\" >0.031599</td>\n",
       "      <td id=\"T_7f24b_row6_col21\" class=\"data row6 col21\" >0.032046</td>\n",
       "      <td id=\"T_7f24b_row6_col22\" class=\"data row6 col22\" >0.031731</td>\n",
       "      <td id=\"T_7f24b_row6_col23\" class=\"data row6 col23\" >0.032442</td>\n",
       "      <td id=\"T_7f24b_row6_col24\" class=\"data row6 col24\" >0.032012</td>\n",
       "    </tr>\n",
       "    <tr>\n",
       "      <th id=\"T_7f24b_level0_row7\" class=\"row_heading level0 row7\" >Recall@10</th>\n",
       "      <td id=\"T_7f24b_row7_col0\" class=\"data row7 col0\" >0.156070</td>\n",
       "      <td id=\"T_7f24b_row7_col1\" class=\"data row7 col1\" >0.143266</td>\n",
       "      <td id=\"T_7f24b_row7_col2\" class=\"data row7 col2\" >0.143778</td>\n",
       "      <td id=\"T_7f24b_row7_col3\" class=\"data row7 col3\" >0.143102</td>\n",
       "      <td id=\"T_7f24b_row7_col4\" class=\"data row7 col4\" >0.143014</td>\n",
       "      <td id=\"T_7f24b_row7_col5\" class=\"data row7 col5\" >0.153344</td>\n",
       "      <td id=\"T_7f24b_row7_col6\" class=\"data row7 col6\" >0.153377</td>\n",
       "      <td id=\"T_7f24b_row7_col7\" class=\"data row7 col7\" >0.150453</td>\n",
       "      <td id=\"T_7f24b_row7_col8\" class=\"data row7 col8\" >0.150612</td>\n",
       "      <td id=\"T_7f24b_row7_col9\" class=\"data row7 col9\" >0.169260</td>\n",
       "      <td id=\"T_7f24b_row7_col10\" class=\"data row7 col10\" >0.134390</td>\n",
       "      <td id=\"T_7f24b_row7_col11\" class=\"data row7 col11\" >0.151600</td>\n",
       "      <td id=\"T_7f24b_row7_col12\" class=\"data row7 col12\" >0.153496</td>\n",
       "      <td id=\"T_7f24b_row7_col13\" class=\"data row7 col13\" >0.149031</td>\n",
       "      <td id=\"T_7f24b_row7_col14\" class=\"data row7 col14\" >0.138006</td>\n",
       "      <td id=\"T_7f24b_row7_col15\" class=\"data row7 col15\" >0.152435</td>\n",
       "      <td id=\"T_7f24b_row7_col16\" class=\"data row7 col16\" >0.148752</td>\n",
       "      <td id=\"T_7f24b_row7_col17\" class=\"data row7 col17\" >0.162752</td>\n",
       "      <td id=\"T_7f24b_row7_col18\" class=\"data row7 col18\" >0.112871</td>\n",
       "      <td id=\"T_7f24b_row7_col19\" class=\"data row7 col19\" >0.151296</td>\n",
       "      <td id=\"T_7f24b_row7_col20\" class=\"data row7 col20\" >0.150607</td>\n",
       "      <td id=\"T_7f24b_row7_col21\" class=\"data row7 col21\" >0.152545</td>\n",
       "      <td id=\"T_7f24b_row7_col22\" class=\"data row7 col22\" >0.150535</td>\n",
       "      <td id=\"T_7f24b_row7_col23\" class=\"data row7 col23\" >0.154330</td>\n",
       "      <td id=\"T_7f24b_row7_col24\" class=\"data row7 col24\" >0.152263</td>\n",
       "    </tr>\n",
       "    <tr>\n",
       "      <th id=\"T_7f24b_level0_row8\" class=\"row_heading level0 row8\" >MAP@1</th>\n",
       "      <td id=\"T_7f24b_row8_col0\" class=\"data row8 col0\" >0.035863</td>\n",
       "      <td id=\"T_7f24b_row8_col1\" class=\"data row8 col1\" >0.042250</td>\n",
       "      <td id=\"T_7f24b_row8_col2\" class=\"data row8 col2\" >0.041695</td>\n",
       "      <td id=\"T_7f24b_row8_col3\" class=\"data row8 col3\" >0.041371</td>\n",
       "      <td id=\"T_7f24b_row8_col4\" class=\"data row8 col4\" >0.041456</td>\n",
       "      <td id=\"T_7f24b_row8_col5\" class=\"data row8 col5\" >0.033405</td>\n",
       "      <td id=\"T_7f24b_row8_col6\" class=\"data row8 col6\" >0.033423</td>\n",
       "      <td id=\"T_7f24b_row8_col7\" class=\"data row8 col7\" >0.031148</td>\n",
       "      <td id=\"T_7f24b_row8_col8\" class=\"data row8 col8\" >0.031102</td>\n",
       "      <td id=\"T_7f24b_row8_col9\" class=\"data row8 col9\" >0.019392</td>\n",
       "      <td id=\"T_7f24b_row8_col10\" class=\"data row8 col10\" >0.031178</td>\n",
       "      <td id=\"T_7f24b_row8_col11\" class=\"data row8 col11\" >0.040277</td>\n",
       "      <td id=\"T_7f24b_row8_col12\" class=\"data row8 col12\" >0.039099</td>\n",
       "      <td id=\"T_7f24b_row8_col13\" class=\"data row8 col13\" >0.039745</td>\n",
       "      <td id=\"T_7f24b_row8_col14\" class=\"data row8 col14\" >0.039090</td>\n",
       "      <td id=\"T_7f24b_row8_col15\" class=\"data row8 col15\" >0.035872</td>\n",
       "      <td id=\"T_7f24b_row8_col16\" class=\"data row8 col16\" >0.039083</td>\n",
       "      <td id=\"T_7f24b_row8_col17\" class=\"data row8 col17\" >0.028956</td>\n",
       "      <td id=\"T_7f24b_row8_col18\" class=\"data row8 col18\" >0.022456</td>\n",
       "      <td id=\"T_7f24b_row8_col19\" class=\"data row8 col19\" >0.039095</td>\n",
       "      <td id=\"T_7f24b_row8_col20\" class=\"data row8 col20\" >0.040212</td>\n",
       "      <td id=\"T_7f24b_row8_col21\" class=\"data row8 col21\" >0.039867</td>\n",
       "      <td id=\"T_7f24b_row8_col22\" class=\"data row8 col22\" >0.040168</td>\n",
       "      <td id=\"T_7f24b_row8_col23\" class=\"data row8 col23\" >0.040207</td>\n",
       "      <td id=\"T_7f24b_row8_col24\" class=\"data row8 col24\" >0.039099</td>\n",
       "    </tr>\n",
       "    <tr>\n",
       "      <th id=\"T_7f24b_level0_row9\" class=\"row_heading level0 row9\" >MAP@4</th>\n",
       "      <td id=\"T_7f24b_row9_col0\" class=\"data row9 col0\" >0.066049</td>\n",
       "      <td id=\"T_7f24b_row9_col1\" class=\"data row9 col1\" >0.067475</td>\n",
       "      <td id=\"T_7f24b_row9_col2\" class=\"data row9 col2\" >0.066767</td>\n",
       "      <td id=\"T_7f24b_row9_col3\" class=\"data row9 col3\" >0.066526</td>\n",
       "      <td id=\"T_7f24b_row9_col4\" class=\"data row9 col4\" >0.066160</td>\n",
       "      <td id=\"T_7f24b_row9_col5\" class=\"data row9 col5\" >0.057711</td>\n",
       "      <td id=\"T_7f24b_row9_col6\" class=\"data row9 col6\" >0.057735</td>\n",
       "      <td id=\"T_7f24b_row9_col7\" class=\"data row9 col7\" >0.054363</td>\n",
       "      <td id=\"T_7f24b_row9_col8\" class=\"data row9 col8\" >0.054353</td>\n",
       "      <td id=\"T_7f24b_row9_col9\" class=\"data row9 col9\" >0.051449</td>\n",
       "      <td id=\"T_7f24b_row9_col10\" class=\"data row9 col10\" >0.055519</td>\n",
       "      <td id=\"T_7f24b_row9_col11\" class=\"data row9 col11\" >0.064042</td>\n",
       "      <td id=\"T_7f24b_row9_col12\" class=\"data row9 col12\" >0.067598</td>\n",
       "      <td id=\"T_7f24b_row9_col13\" class=\"data row9 col13\" >0.068418</td>\n",
       "      <td id=\"T_7f24b_row9_col14\" class=\"data row9 col14\" >0.067489</td>\n",
       "      <td id=\"T_7f24b_row9_col15\" class=\"data row9 col15\" >0.065629</td>\n",
       "      <td id=\"T_7f24b_row9_col16\" class=\"data row9 col16\" >0.067528</td>\n",
       "      <td id=\"T_7f24b_row9_col17\" class=\"data row9 col17\" >0.060390</td>\n",
       "      <td id=\"T_7f24b_row9_col18\" class=\"data row9 col18\" >0.041540</td>\n",
       "      <td id=\"T_7f24b_row9_col19\" class=\"data row9 col19\" >0.064758</td>\n",
       "      <td id=\"T_7f24b_row9_col20\" class=\"data row9 col20\" >0.065211</td>\n",
       "      <td id=\"T_7f24b_row9_col21\" class=\"data row9 col21\" >0.068458</td>\n",
       "      <td id=\"T_7f24b_row9_col22\" class=\"data row9 col22\" >0.065061</td>\n",
       "      <td id=\"T_7f24b_row9_col23\" class=\"data row9 col23\" >0.065276</td>\n",
       "      <td id=\"T_7f24b_row9_col24\" class=\"data row9 col24\" >0.067596</td>\n",
       "    </tr>\n",
       "    <tr>\n",
       "      <th id=\"T_7f24b_level0_row10\" class=\"row_heading level0 row10\" >MAP@7</th>\n",
       "      <td id=\"T_7f24b_row10_col0\" class=\"data row10 col0\" >0.071412</td>\n",
       "      <td id=\"T_7f24b_row10_col1\" class=\"data row10 col1\" >0.072431</td>\n",
       "      <td id=\"T_7f24b_row10_col2\" class=\"data row10 col2\" >0.071876</td>\n",
       "      <td id=\"T_7f24b_row10_col3\" class=\"data row10 col3\" >0.071620</td>\n",
       "      <td id=\"T_7f24b_row10_col4\" class=\"data row10 col4\" >0.071271</td>\n",
       "      <td id=\"T_7f24b_row10_col5\" class=\"data row10 col5\" >0.064531</td>\n",
       "      <td id=\"T_7f24b_row10_col6\" class=\"data row10 col6\" >0.064551</td>\n",
       "      <td id=\"T_7f24b_row10_col7\" class=\"data row10 col7\" >0.061330</td>\n",
       "      <td id=\"T_7f24b_row10_col8\" class=\"data row10 col8\" >0.061352</td>\n",
       "      <td id=\"T_7f24b_row10_col9\" class=\"data row10 col9\" >0.059652</td>\n",
       "      <td id=\"T_7f24b_row10_col10\" class=\"data row10 col10\" >0.060553</td>\n",
       "      <td id=\"T_7f24b_row10_col11\" class=\"data row10 col11\" >0.071999</td>\n",
       "      <td id=\"T_7f24b_row10_col12\" class=\"data row10 col12\" >0.072608</td>\n",
       "      <td id=\"T_7f24b_row10_col13\" class=\"data row10 col13\" >0.073647</td>\n",
       "      <td id=\"T_7f24b_row10_col14\" class=\"data row10 col14\" >0.072052</td>\n",
       "      <td id=\"T_7f24b_row10_col15\" class=\"data row10 col15\" >0.070841</td>\n",
       "      <td id=\"T_7f24b_row10_col16\" class=\"data row10 col16\" >0.072356</td>\n",
       "      <td id=\"T_7f24b_row10_col17\" class=\"data row10 col17\" >0.066259</td>\n",
       "      <td id=\"T_7f24b_row10_col18\" class=\"data row10 col18\" >0.046285</td>\n",
       "      <td id=\"T_7f24b_row10_col19\" class=\"data row10 col19\" >0.072100</td>\n",
       "      <td id=\"T_7f24b_row10_col20\" class=\"data row10 col20\" >0.072196</td>\n",
       "      <td id=\"T_7f24b_row10_col21\" class=\"data row10 col21\" >0.074214</td>\n",
       "      <td id=\"T_7f24b_row10_col22\" class=\"data row10 col22\" >0.071972</td>\n",
       "      <td id=\"T_7f24b_row10_col23\" class=\"data row10 col23\" >0.072480</td>\n",
       "      <td id=\"T_7f24b_row10_col24\" class=\"data row10 col24\" >0.072633</td>\n",
       "    </tr>\n",
       "    <tr>\n",
       "      <th id=\"T_7f24b_level0_row11\" class=\"row_heading level0 row11\" >MAP@10</th>\n",
       "      <td id=\"T_7f24b_row11_col0\" class=\"data row11 col0\" >0.073836</td>\n",
       "      <td id=\"T_7f24b_row11_col1\" class=\"data row11 col1\" >0.074626</td>\n",
       "      <td id=\"T_7f24b_row11_col2\" class=\"data row11 col2\" >0.074166</td>\n",
       "      <td id=\"T_7f24b_row11_col3\" class=\"data row11 col3\" >0.073909</td>\n",
       "      <td id=\"T_7f24b_row11_col4\" class=\"data row11 col4\" >0.073652</td>\n",
       "      <td id=\"T_7f24b_row11_col5\" class=\"data row11 col5\" >0.067790</td>\n",
       "      <td id=\"T_7f24b_row11_col6\" class=\"data row11 col6\" >0.067807</td>\n",
       "      <td id=\"T_7f24b_row11_col7\" class=\"data row11 col7\" >0.064672</td>\n",
       "      <td id=\"T_7f24b_row11_col8\" class=\"data row11 col8\" >0.064697</td>\n",
       "      <td id=\"T_7f24b_row11_col9\" class=\"data row11 col9\" >0.063107</td>\n",
       "      <td id=\"T_7f24b_row11_col10\" class=\"data row11 col10\" >0.062662</td>\n",
       "      <td id=\"T_7f24b_row11_col11\" class=\"data row11 col11\" >0.074073</td>\n",
       "      <td id=\"T_7f24b_row11_col12\" class=\"data row11 col12\" >0.074874</td>\n",
       "      <td id=\"T_7f24b_row11_col13\" class=\"data row11 col13\" >0.075559</td>\n",
       "      <td id=\"T_7f24b_row11_col14\" class=\"data row11 col14\" >0.072701</td>\n",
       "      <td id=\"T_7f24b_row11_col15\" class=\"data row11 col15\" >0.072860</td>\n",
       "      <td id=\"T_7f24b_row11_col16\" class=\"data row11 col16\" >0.074248</td>\n",
       "      <td id=\"T_7f24b_row11_col17\" class=\"data row11 col17\" >0.069203</td>\n",
       "      <td id=\"T_7f24b_row11_col18\" class=\"data row11 col18\" >0.048514</td>\n",
       "      <td id=\"T_7f24b_row11_col19\" class=\"data row11 col19\" >0.074055</td>\n",
       "      <td id=\"T_7f24b_row11_col20\" class=\"data row11 col20\" >0.074197</td>\n",
       "      <td id=\"T_7f24b_row11_col21\" class=\"data row11 col21\" >0.076372</td>\n",
       "      <td id=\"T_7f24b_row11_col22\" class=\"data row11 col22\" >0.074109</td>\n",
       "      <td id=\"T_7f24b_row11_col23\" class=\"data row11 col23\" >0.074847</td>\n",
       "      <td id=\"T_7f24b_row11_col24\" class=\"data row11 col24\" >0.074774</td>\n",
       "    </tr>\n",
       "  </tbody>\n",
       "</table>\n"
      ],
      "text/plain": [
       "<pandas.io.formats.style.Styler at 0x7f26a56ca5e0>"
      ]
     },
     "execution_count": 18,
     "metadata": {},
     "output_type": "execute_result"
    }
   ],
   "source": [
    "df_quality = pd.DataFrame(results).T\n",
    "df_quality.columns = df_quality.iloc[0]\n",
    "df_quality.drop('model', inplace=True)\n",
    "df_quality.style.highlight_max(color='lightgreen', axis=1)"
   ]
  },
  {
   "cell_type": "markdown",
   "id": "69b18a3f",
   "metadata": {},
   "source": [
    "В качестве результирующей модели рассмотрим модель на основе LightFM и warp с параметрами:\n",
    "* `loss`: `warp`\n",
    "* `no_components`: `12`\n",
    "* `epochs`: `3`\n",
    "* `user_alpha`: `0.01`\n",
    "* `item_alpha`: `0.01`\n",
    "\n",
    "Данная модель показывает лучшее качество по метрике MAP с увеличением $k$."
   ]
  },
  {
   "cell_type": "code",
   "execution_count": 16,
   "id": "70d88d43",
   "metadata": {},
   "outputs": [],
   "source": [
    "MF_final_model = LightFMWrapperModel(\n",
    "    LightFM(\n",
    "        no_components=12,\n",
    "        loss='warp',\n",
    "        random_state=RANDOM_STATE,\n",
    "        learning_rate=LEARNING_RATE,\n",
    "        user_alpha=0.01,\n",
    "        item_alpha=0.01,\n",
    "    ),\n",
    "    epochs=3,\n",
    "    num_threads=NUM_THREADS,\n",
    ")"
   ]
  },
  {
   "cell_type": "code",
   "execution_count": 17,
   "id": "92850ca0",
   "metadata": {},
   "outputs": [
    {
     "data": {
      "text/plain": [
       "<rectools.models.lightfm.LightFMWrapperModel at 0x7f6ee01cf850>"
      ]
     },
     "execution_count": 17,
     "metadata": {},
     "output_type": "execute_result"
    }
   ],
   "source": [
    "MF_final_model.fit(dataset)"
   ]
  },
  {
   "cell_type": "code",
   "execution_count": 91,
   "id": "b578b0bd",
   "metadata": {},
   "outputs": [],
   "source": [
    "popular_model = PopularModel()\n",
    "popular_model.fit(dataset)\n",
    "popular_items_all = popular_model.recommend(\n",
    "    users=TEST_USERS[:1],\n",
    "    dataset=dataset,\n",
    "    k=train['item_id'].shape[0],\n",
    "    filter_viewed=True,\n",
    ")['item_id'].tolist()"
   ]
  },
  {
   "cell_type": "code",
   "execution_count": 93,
   "id": "79daef66",
   "metadata": {},
   "outputs": [
    {
     "data": {
      "text/plain": [
       "[10440, 15297, 13865, 9728, 4151, 3734, 2657, 142, 6809, 8636]"
      ]
     },
     "execution_count": 93,
     "metadata": {},
     "output_type": "execute_result"
    }
   ],
   "source": [
    "popular_items_all[:10]"
   ]
  },
  {
   "cell_type": "markdown",
   "id": "6bd9ff9d",
   "metadata": {},
   "source": [
    "# 4. HNSW algorithm"
   ]
  },
  {
   "cell_type": "markdown",
   "id": "50d4d62f",
   "metadata": {},
   "source": [
    "## 4.1. Implementation"
   ]
  },
  {
   "cell_type": "code",
   "execution_count": 23,
   "id": "83754615",
   "metadata": {},
   "outputs": [],
   "source": [
    "user_embeds, item_embeds = MF_final_model.get_vectors(dataset)"
   ]
  },
  {
   "cell_type": "code",
   "execution_count": 24,
   "id": "6adbb0fb",
   "metadata": {},
   "outputs": [
    {
     "name": "stdout",
     "output_type": "stream",
     "text": [
      "user_embeds: (756562, 14)\n",
      "item_embeds: (14019, 14)\n"
     ]
    }
   ],
   "source": [
    "print(f'user_embeds: {user_embeds.shape}')\n",
    "print(f'item_embeds: {item_embeds.shape}')"
   ]
  },
  {
   "cell_type": "code",
   "execution_count": 18,
   "id": "85b731ab",
   "metadata": {},
   "outputs": [],
   "source": [
    "def augment_inner_product(factors):\n",
    "    normed_factors = np.linalg.norm(factors, axis=1)\n",
    "    max_norm = normed_factors.max()\n",
    "    \n",
    "    extra_dim = np.sqrt(\n",
    "        max_norm ** 2 - normed_factors ** 2\n",
    "    ).reshape(-1, 1)\n",
    "    augmented_factors = np.append(factors, extra_dim, axis=1)\n",
    "    return max_norm, augmented_factors\n",
    "\n",
    "\n",
    "def augment_usres(factors):\n",
    "    extra_zero = np.zeros((factors.shape[0], 1))\n",
    "    return np.append(factors, extra_zero, axis=1)\n",
    "\n",
    "\n",
    "def augments_embeds(ue, ie):\n",
    "    _, item_embeddings_aug = augment_inner_product(ie)\n",
    "    users_embeddings_aug = augment_usres(ue)\n",
    "    return users_embeddings_aug, item_embeddings_aug"
   ]
  },
  {
   "cell_type": "code",
   "execution_count": 26,
   "id": "a1705bda",
   "metadata": {},
   "outputs": [],
   "source": [
    "user_embeds_aug, item_embeds_aug = augments_embeds(\n",
    "    user_embeds,\n",
    "    item_embeds\n",
    ")"
   ]
  },
  {
   "cell_type": "code",
   "execution_count": 27,
   "id": "20762014",
   "metadata": {},
   "outputs": [
    {
     "name": "stdout",
     "output_type": "stream",
     "text": [
      "user_embeds: (756562, 15)\n",
      "item_embeds: (14019, 15)\n"
     ]
    }
   ],
   "source": [
    "print(f'user_embeds: {user_embeds_aug.shape}')\n",
    "print(f'item_embeds: {item_embeds_aug.shape}')"
   ]
  },
  {
   "cell_type": "code",
   "execution_count": 99,
   "id": "0ebc7758",
   "metadata": {},
   "outputs": [],
   "source": [
    "M = 48\n",
    "efC = 100\n",
    "num_threads = 4\n",
    "\n",
    "index_time_params = {\n",
    "    'M': M,\n",
    "    'indexThreadQty': num_threads,\n",
    "    'efConstruction': efC,\n",
    "}\n",
    "\n",
    "\n",
    "method = 'hnsw'\n",
    "space_name = 'negdotprod'\n",
    "data_type = nmslib.DataType.DENSE_VECTOR\n",
    "\n",
    "index_params = {\n",
    "    'method': method,\n",
    "    'space_name': space_name,\n",
    "    'data_type': data_type\n",
    "}\n",
    "\n",
    "\n",
    "embeddings = {\n",
    "    'user_embeds_aug': user_embeds_aug,\n",
    "    'item_embeds_aug': item_embeds_aug,\n",
    "}"
   ]
  },
  {
   "cell_type": "code",
   "execution_count": 101,
   "id": "b8af5cb4",
   "metadata": {},
   "outputs": [],
   "source": [
    "from typing import Tuple, Union\n",
    "\n",
    "\n",
    "class HNSW:\n",
    "    def __init__(\n",
    "        self,\n",
    "        index_time_params: dict,\n",
    "        index_params: dict,\n",
    "        embeddings: dict\n",
    "    ):\n",
    "        # Params:\n",
    "        self.index_time_params = index_time_params\n",
    "        self.index_params = index_params\n",
    "        # Index:\n",
    "        self.index = nmslib.init(\n",
    "            method = index_params['method'],\n",
    "            space = index_params['space_name'],\n",
    "            data_type = index_params['data_type']\n",
    "        )\n",
    "        self.index.addDataPointBatch(embeddings['item_embeds_aug'])\n",
    "        self.index.createIndex(index_time_params)\n",
    "        # Query params:\n",
    "        self.index.setQueryTimeParams(\n",
    "            {'efSearch': index_time_params['efConstruction']}\n",
    "        )\n",
    "    \n",
    "    def query(\n",
    "        self,\n",
    "        query: np.array,\n",
    "        k:int = 10,\n",
    "        num_threads: int = -1\n",
    "    ) -> Tuple[np.array, np.array]:\n",
    "        if query.ndim == 1:\n",
    "            return self.index.knnQuery(query, k=k)\n",
    "        else:\n",
    "            pred = self.index.knnQueryBatch(\n",
    "                query,\n",
    "                k=k,\n",
    "                num_threads=num_threads,\n",
    "            )\n",
    "            items, scores = list(zip(*pred))\n",
    "            return np.array(items), np.array(scores)"
   ]
  },
  {
   "cell_type": "code",
   "execution_count": 195,
   "id": "5e858684",
   "metadata": {},
   "outputs": [],
   "source": [
    "hnsw = HNSW(index_time_params, index_params, embeddings)"
   ]
  },
  {
   "cell_type": "code",
   "execution_count": 196,
   "id": "242a5e5c",
   "metadata": {},
   "outputs": [],
   "source": [
    "predict = hnsw.query(\n",
    "    user_embeds_aug[:5, :],\n",
    "    k=3,\n",
    "    num_threads=4\n",
    ")"
   ]
  },
  {
   "cell_type": "code",
   "execution_count": 199,
   "id": "2a7a19fd",
   "metadata": {},
   "outputs": [
    {
     "data": {
      "text/plain": [
       "(array([[31, 19, 43],\n",
       "        [31, 19, 43],\n",
       "        [31, 19, 43],\n",
       "        [31, 19, 43],\n",
       "        [31, 19, 43]], dtype=int32),\n",
       " array([[ 0.11126111,  0.11154806,  0.11174665],\n",
       "        [ 0.1113352 ,  0.11162215,  0.11182075],\n",
       "        [ 0.103005  ,  0.10329195,  0.10349055],\n",
       "        [ 0.12341713,  0.12370408,  0.12390268],\n",
       "        [-0.00116866, -0.00088171, -0.00068312]], dtype=float32))"
      ]
     },
     "execution_count": 199,
     "metadata": {},
     "output_type": "execute_result"
    }
   ],
   "source": [
    "predict"
   ]
  },
  {
   "cell_type": "code",
   "execution_count": 201,
   "id": "b8a450bc",
   "metadata": {},
   "outputs": [
    {
     "data": {
      "text/plain": [
       "(array([31, 19, 43], dtype=int32),\n",
       " array([-0.00116406, -0.0008771 , -0.00067851], dtype=float32))"
      ]
     },
     "execution_count": 201,
     "metadata": {},
     "output_type": "execute_result"
    }
   ],
   "source": [
    "pred_items, pred_scores = hnsw.query(\n",
    "    user_embeds_aug[10],\n",
    "    k=3,\n",
    "    num_threads=4\n",
    ")\n",
    "\n",
    "pred_items, pred_scores"
   ]
  },
  {
   "cell_type": "markdown",
   "id": "c66d1896",
   "metadata": {},
   "source": [
    "Видно, что предсказания представляют из себя одни и те же айтемы:"
   ]
  },
  {
   "cell_type": "code",
   "execution_count": 335,
   "id": "71be0d0f",
   "metadata": {},
   "outputs": [
    {
     "data": {
      "text/plain": [
       "array([10440, 15297, 13865,  9728,  3734,  6809,  4880,  4151,  2657,\n",
       "        4740])"
      ]
     },
     "execution_count": 335,
     "metadata": {},
     "output_type": "execute_result"
    }
   ],
   "source": [
    "pred_items, _ = hnsw.query(\n",
    "    user_embeds_aug,\n",
    "    k=10,\n",
    "    num_threads=4\n",
    ")\n",
    "\n",
    "dataset.item_id_map.convert_to_external(np.unique(pred_items))"
   ]
  },
  {
   "cell_type": "code",
   "execution_count": 94,
   "id": "d76cf402",
   "metadata": {},
   "outputs": [
    {
     "data": {
      "text/plain": [
       "[10440, 15297, 13865, 9728, 4151, 3734, 2657, 142, 6809, 8636]"
      ]
     },
     "execution_count": 94,
     "metadata": {},
     "output_type": "execute_result"
    }
   ],
   "source": [
    "popular_items_all[:10]"
   ]
  },
  {
   "cell_type": "markdown",
   "id": "73d03040",
   "metadata": {},
   "source": [
    "Таким образом получилось, что даже с учетом регуляризации, все рекомендации это немного измененное популярное и работает это лучше, чем популярное в контексте, например, $MAP@10$."
   ]
  },
  {
   "cell_type": "markdown",
   "id": "b542fd84",
   "metadata": {},
   "source": [
    "## 4.2. Evaluation"
   ]
  },
  {
   "cell_type": "code",
   "execution_count": 202,
   "id": "398d2ec2",
   "metadata": {},
   "outputs": [],
   "source": [
    "# MF\n",
    "mf_recos = MF_final_model.recommend(\n",
    "    users=TEST_USERS,\n",
    "    dataset=dataset,\n",
    "    k=K_RECOS,\n",
    "    filter_viewed=True,\n",
    ")\n",
    "\n",
    "mf_quality = {'model': 'clear MF'}\n",
    "mf_metrics = calc_metrics(metrics, mf_recos, test, train)\n",
    "mf_quality.update(mf_metrics)"
   ]
  },
  {
   "cell_type": "code",
   "execution_count": 210,
   "id": "cb0547c8",
   "metadata": {},
   "outputs": [],
   "source": [
    "# MF + HNSW\n",
    "test_embeds = user_embeds_aug[\n",
    "    dataset.user_id_map.convert_to_internal(TEST_USERS)\n",
    "]\n",
    "\n",
    "pred_items, _ = hnsw.query(test_embeds, k=10, num_threads=8)\n",
    "\n",
    "hnsw_recos = pd.DataFrame({\n",
    "    'user_id': TEST_USERS,\n",
    "    'item_id': pred_items.tolist()\n",
    "}).explode('item_id')\n",
    "hnsw_recos['rank'] = hnsw_recos.groupby('user_id').cumcount() + 1\n",
    "hnsw_recos['item_id'] = dataset.item_id_map.convert_to_external(\n",
    "    hnsw_recos['item_id']\n",
    ")\n",
    "\n",
    "hnsw_quality = {'model': 'MF + HNSW'}\n",
    "hnsw_metrics = calc_metrics(metrics, hnsw_recos, test, train)\n",
    "hnsw_quality.update(hnsw_metrics)"
   ]
  },
  {
   "cell_type": "code",
   "execution_count": 211,
   "id": "fb006cd5",
   "metadata": {},
   "outputs": [
    {
     "data": {
      "text/html": [
       "<style type=\"text/css\">\n",
       "#T_aa63b_row0_col0, #T_aa63b_row1_col0, #T_aa63b_row2_col0, #T_aa63b_row3_col0, #T_aa63b_row4_col0, #T_aa63b_row5_col0, #T_aa63b_row6_col0, #T_aa63b_row7_col0, #T_aa63b_row8_col0, #T_aa63b_row9_col0, #T_aa63b_row10_col0, #T_aa63b_row11_col0 {\n",
       "  background-color: lightgreen;\n",
       "}\n",
       "</style>\n",
       "<table id=\"T_aa63b\">\n",
       "  <thead>\n",
       "    <tr>\n",
       "      <th class=\"index_name level0\" >model</th>\n",
       "      <th id=\"T_aa63b_level0_col0\" class=\"col_heading level0 col0\" >clear MF</th>\n",
       "      <th id=\"T_aa63b_level0_col1\" class=\"col_heading level0 col1\" >MF + HNSW</th>\n",
       "    </tr>\n",
       "  </thead>\n",
       "  <tbody>\n",
       "    <tr>\n",
       "      <th id=\"T_aa63b_level0_row0\" class=\"row_heading level0 row0\" >Precision@1</th>\n",
       "      <td id=\"T_aa63b_row0_col0\" class=\"data row0 col0\" >0.075936</td>\n",
       "      <td id=\"T_aa63b_row0_col1\" class=\"data row0 col1\" >0.057375</td>\n",
       "    </tr>\n",
       "    <tr>\n",
       "      <th id=\"T_aa63b_level0_row1\" class=\"row_heading level0 row1\" >Recall@1</th>\n",
       "      <td id=\"T_aa63b_row1_col0\" class=\"data row1 col0\" >0.039867</td>\n",
       "      <td id=\"T_aa63b_row1_col1\" class=\"data row1 col1\" >0.030132</td>\n",
       "    </tr>\n",
       "    <tr>\n",
       "      <th id=\"T_aa63b_level0_row2\" class=\"row_heading level0 row2\" >Precision@4</th>\n",
       "      <td id=\"T_aa63b_row2_col0\" class=\"data row2 col0\" >0.055414</td>\n",
       "      <td id=\"T_aa63b_row2_col1\" class=\"data row2 col1\" >0.048309</td>\n",
       "    </tr>\n",
       "    <tr>\n",
       "      <th id=\"T_aa63b_level0_row3\" class=\"row_heading level0 row3\" >Recall@4</th>\n",
       "      <td id=\"T_aa63b_row3_col0\" class=\"data row3 col0\" >0.109286</td>\n",
       "      <td id=\"T_aa63b_row3_col1\" class=\"data row3 col1\" >0.096593</td>\n",
       "    </tr>\n",
       "    <tr>\n",
       "      <th id=\"T_aa63b_level0_row4\" class=\"row_heading level0 row4\" >Precision@7</th>\n",
       "      <td id=\"T_aa63b_row4_col0\" class=\"data row4 col0\" >0.040427</td>\n",
       "      <td id=\"T_aa63b_row4_col1\" class=\"data row4 col1\" >0.038014</td>\n",
       "    </tr>\n",
       "    <tr>\n",
       "      <th id=\"T_aa63b_level0_row5\" class=\"row_heading level0 row5\" >Recall@7</th>\n",
       "      <td id=\"T_aa63b_row5_col0\" class=\"data row5 col0\" >0.135851</td>\n",
       "      <td id=\"T_aa63b_row5_col1\" class=\"data row5 col1\" >0.128765</td>\n",
       "    </tr>\n",
       "    <tr>\n",
       "      <th id=\"T_aa63b_level0_row6\" class=\"row_heading level0 row6\" >Precision@10</th>\n",
       "      <td id=\"T_aa63b_row6_col0\" class=\"data row6 col0\" >0.031723</td>\n",
       "      <td id=\"T_aa63b_row6_col1\" class=\"data row6 col1\" >0.028452</td>\n",
       "    </tr>\n",
       "    <tr>\n",
       "      <th id=\"T_aa63b_level0_row7\" class=\"row_heading level0 row7\" >Recall@10</th>\n",
       "      <td id=\"T_aa63b_row7_col0\" class=\"data row7 col0\" >0.151352</td>\n",
       "      <td id=\"T_aa63b_row7_col1\" class=\"data row7 col1\" >0.136605</td>\n",
       "    </tr>\n",
       "    <tr>\n",
       "      <th id=\"T_aa63b_level0_row8\" class=\"row_heading level0 row8\" >MAP@1</th>\n",
       "      <td id=\"T_aa63b_row8_col0\" class=\"data row8 col0\" >0.039867</td>\n",
       "      <td id=\"T_aa63b_row8_col1\" class=\"data row8 col1\" >0.030132</td>\n",
       "    </tr>\n",
       "    <tr>\n",
       "      <th id=\"T_aa63b_level0_row9\" class=\"row_heading level0 row9\" >MAP@4</th>\n",
       "      <td id=\"T_aa63b_row9_col0\" class=\"data row9 col0\" >0.068431</td>\n",
       "      <td id=\"T_aa63b_row9_col1\" class=\"data row9 col1\" >0.056272</td>\n",
       "    </tr>\n",
       "    <tr>\n",
       "      <th id=\"T_aa63b_level0_row10\" class=\"row_heading level0 row10\" >MAP@7</th>\n",
       "      <td id=\"T_aa63b_row10_col0\" class=\"data row10 col0\" >0.074066</td>\n",
       "      <td id=\"T_aa63b_row10_col1\" class=\"data row10 col1\" >0.062891</td>\n",
       "    </tr>\n",
       "    <tr>\n",
       "      <th id=\"T_aa63b_level0_row11\" class=\"row_heading level0 row11\" >MAP@10</th>\n",
       "      <td id=\"T_aa63b_row11_col0\" class=\"data row11 col0\" >0.076125</td>\n",
       "      <td id=\"T_aa63b_row11_col1\" class=\"data row11 col1\" >0.064011</td>\n",
       "    </tr>\n",
       "  </tbody>\n",
       "</table>\n"
      ],
      "text/plain": [
       "<pandas.io.formats.style.Styler at 0x7f2657616100>"
      ]
     },
     "execution_count": 211,
     "metadata": {},
     "output_type": "execute_result"
    }
   ],
   "source": [
    "df_quality = pd.DataFrame([mf_quality, hnsw_quality]).T\n",
    "df_quality.columns = df_quality.iloc[0]\n",
    "df_quality.drop('model', inplace=True)\n",
    "df_quality.style.highlight_max(color='lightgreen', axis=1)"
   ]
  },
  {
   "cell_type": "markdown",
   "id": "7e4e76d2",
   "metadata": {},
   "source": [
    "## 4.3. HNSW Hyperparameters"
   ]
  },
  {
   "cell_type": "markdown",
   "id": "9631f6eb",
   "metadata": {},
   "source": [
    "Посмотрим, какой trade-off время/качетсво предлагает hnsw в нашем случае."
   ]
  },
  {
   "cell_type": "code",
   "execution_count": 212,
   "id": "2b37c4e8",
   "metadata": {},
   "outputs": [],
   "source": [
    "import time"
   ]
  },
  {
   "cell_type": "code",
   "execution_count": 215,
   "id": "f63e64e3",
   "metadata": {},
   "outputs": [],
   "source": [
    "def init_configs(\n",
    "    M_1: int, efC_1: int, num_threads_1: int,\n",
    "    method_1: str, space_name_1: str, data_type_1: nmslib.DataType,\n",
    "    user_embeds_aug_1: np.array, item_embeds_aug_1: np.array\n",
    ") -> Tuple[dict, dict, dict]:\n",
    "    index_time_params_0 = {\n",
    "        'M': M_1,\n",
    "        'indexThreadQty': num_threads_1,\n",
    "        'efConstruction': efC_1,\n",
    "    }\n",
    "    index_params_0 = {\n",
    "        'method': method_1,\n",
    "        'space_name': space_name_1,\n",
    "        'data_type': data_type_1\n",
    "    }\n",
    "    embeddings_0 = {\n",
    "        'user_embeds_aug': user_embeds_aug_1,\n",
    "        'item_embeds_aug': item_embeds_aug_1,\n",
    "    }\n",
    "    return index_time_params_0, index_params_0, embeddings_0\n",
    "\n",
    "\n",
    "def transform_hnsw_to_rectools_recs(\n",
    "    preds: np.array, out_test_users: np.array\n",
    ") -> pd.DataFrame:\n",
    "    rect_recos = pd.DataFrame({\n",
    "        'user_id': out_test_users,\n",
    "        'item_id': preds.tolist()\n",
    "    }).explode('item_id')\n",
    "    rect_recos['rank'] = (\n",
    "        rect_recos\n",
    "        .groupby('user_id')\n",
    "        .cumcount() + 1\n",
    "    )\n",
    "    rect_recos['item_id'] = dataset.item_id_map.convert_to_external(\n",
    "        rect_recos['item_id']\n",
    "    )\n",
    "    return rect_recos\n",
    "\n",
    "\n",
    "def make_hnsw_test(\n",
    "    model_name: str, rect_recos: pd.DataFrame, metrics: dict,\n",
    "    test: pd.DataFrame, train: pd.DataFrame\n",
    ") -> dict:\n",
    "    quality = {'model': model_name}\n",
    "    metrics = calc_metrics(metrics, rect_recos, test, train)\n",
    "    quality.update(metrics)\n",
    "    return quality"
   ]
  },
  {
   "cell_type": "code",
   "execution_count": 216,
   "id": "fcaef6c3",
   "metadata": {
    "scrolled": true
   },
   "outputs": [
    {
     "name": "stderr",
     "output_type": "stream",
     "text": [
      "\r",
      "  0%|                                                                             | 0/10 [00:00<?, ?it/s]"
     ]
    },
    {
     "name": "stdout",
     "output_type": "stream",
     "text": [
      "1/120 | 0.971 sec | MAP@10: 0.064\n",
      "2/120 | 1.326 sec | MAP@10: 0.0\n",
      "3/120 | 1.279 sec | MAP@10: 0.0\n",
      "4/120 | 1.171 sec | MAP@10: 0.064\n",
      "5/120 | 2.159 sec | MAP@10: 0.0\n",
      "6/120 | 2.655 sec | MAP@10: 0.0\n",
      "7/120 | 1.413 sec | MAP@10: 0.064\n",
      "8/120 | 2.601 sec | MAP@10: 0.0\n",
      "9/120 | 2.511 sec | MAP@10: 0.064\n",
      "10/120 | 3.478 sec | MAP@10: 0.064\n",
      "11/120 | 4.331 sec | MAP@10: 0.0\n"
     ]
    },
    {
     "name": "stderr",
     "output_type": "stream",
     "text": [
      "\r",
      " 10%|██████▉                                                              | 1/10 [00:53<07:58, 53.21s/it]"
     ]
    },
    {
     "name": "stdout",
     "output_type": "stream",
     "text": [
      "12/120 | 4.824 sec | MAP@10: 0.0\n",
      "13/120 | 0.982 sec | MAP@10: 0.064\n",
      "14/120 | 1.319 sec | MAP@10: 0.064\n",
      "15/120 | 1.519 sec | MAP@10: 0.0\n",
      "16/120 | 1.699 sec | MAP@10: 0.0\n",
      "17/120 | 2.276 sec | MAP@10: 0.0\n",
      "18/120 | 2.882 sec | MAP@10: 0.0\n",
      "19/120 | 1.837 sec | MAP@10: 0.064\n",
      "20/120 | 3.872 sec | MAP@10: 0.0\n",
      "21/120 | 2.182 sec | MAP@10: 0.064\n",
      "22/120 | 6.562 sec | MAP@10: 0.064\n",
      "23/120 | 6.803 sec | MAP@10: 0.064\n"
     ]
    },
    {
     "name": "stderr",
     "output_type": "stream",
     "text": [
      "\r",
      " 20%|█████████████▊                                                       | 2/10 [02:09<08:54, 66.86s/it]"
     ]
    },
    {
     "name": "stdout",
     "output_type": "stream",
     "text": [
      "24/120 | 8.395 sec | MAP@10: 0.064\n",
      "25/120 | 0.851 sec | MAP@10: 0.0\n",
      "26/120 | 1.091 sec | MAP@10: 0.064\n",
      "27/120 | 1.347 sec | MAP@10: 0.064\n",
      "28/120 | 1.644 sec | MAP@10: 0.064\n",
      "29/120 | 1.945 sec | MAP@10: 0.064\n",
      "30/120 | 3.437 sec | MAP@10: 0.064\n",
      "31/120 | 3.858 sec | MAP@10: 0.0\n",
      "32/120 | 2.448 sec | MAP@10: 0.064\n",
      "33/120 | 2.538 sec | MAP@10: 0.064\n",
      "34/120 | 2.641 sec | MAP@10: 0.064\n",
      "35/120 | 2.995 sec | MAP@10: 0.064\n"
     ]
    },
    {
     "name": "stderr",
     "output_type": "stream",
     "text": [
      "\r",
      " 30%|████████████████████▋                                                | 3/10 [03:52<09:44, 83.47s/it]"
     ]
    },
    {
     "name": "stdout",
     "output_type": "stream",
     "text": [
      "36/120 | 4.472 sec | MAP@10: 0.064\n",
      "37/120 | 1.08 sec | MAP@10: 0.064\n",
      "38/120 | 1.081 sec | MAP@10: 0.0\n",
      "39/120 | 1.79 sec | MAP@10: 0.0\n",
      "40/120 | 1.67 sec | MAP@10: 0.064\n",
      "41/120 | 2.938 sec | MAP@10: 0.0\n",
      "42/120 | 1.923 sec | MAP@10: 0.064\n",
      "43/120 | 3.463 sec | MAP@10: 0.064\n",
      "44/120 | 5.004 sec | MAP@10: 0.064\n",
      "45/120 | 7.367 sec | MAP@10: 0.064\n",
      "46/120 | 5.696 sec | MAP@10: 0.064\n",
      "47/120 | 4.419 sec | MAP@10: 0.064\n"
     ]
    },
    {
     "name": "stderr",
     "output_type": "stream",
     "text": [
      "\r",
      " 40%|███████████████████████████▏                                        | 4/10 [06:27<11:08, 111.38s/it]"
     ]
    },
    {
     "name": "stdout",
     "output_type": "stream",
     "text": [
      "48/120 | 7.268 sec | MAP@10: 0.064\n",
      "49/120 | 1.03 sec | MAP@10: 0.0\n",
      "50/120 | 0.986 sec | MAP@10: 0.0\n",
      "51/120 | 2.016 sec | MAP@10: 0.0\n",
      "52/120 | 2.006 sec | MAP@10: 0.05\n",
      "53/120 | 2.112 sec | MAP@10: 0.064\n",
      "54/120 | 3.879 sec | MAP@10: 0.064\n",
      "55/120 | 3.905 sec | MAP@10: 0.064\n",
      "56/120 | 4.587 sec | MAP@10: 0.064\n",
      "57/120 | 5.999 sec | MAP@10: 0.0\n",
      "58/120 | 6.306 sec | MAP@10: 0.064\n",
      "59/120 | 5.054 sec | MAP@10: 0.064\n"
     ]
    },
    {
     "name": "stderr",
     "output_type": "stream",
     "text": [
      "\r",
      " 50%|██████████████████████████████████                                  | 5/10 [10:22<13:00, 156.04s/it]"
     ]
    },
    {
     "name": "stdout",
     "output_type": "stream",
     "text": [
      "60/120 | 7.077 sec | MAP@10: 0.064\n",
      "61/120 | 3.191 sec | MAP@10: 0.0\n",
      "62/120 | 1.425 sec | MAP@10: 0.0\n",
      "63/120 | 2.09 sec | MAP@10: 0.0\n",
      "64/120 | 2.53 sec | MAP@10: 0.0\n",
      "65/120 | 1.986 sec | MAP@10: 0.0\n",
      "66/120 | 2.628 sec | MAP@10: 0.064\n",
      "67/120 | 4.619 sec | MAP@10: 0.064\n",
      "68/120 | 2.889 sec | MAP@10: 0.064\n",
      "69/120 | 7.671 sec | MAP@10: 0.064\n",
      "70/120 | 3.449 sec | MAP@10: 0.064\n",
      "71/120 | 8.095 sec | MAP@10: 0.064\n"
     ]
    },
    {
     "name": "stderr",
     "output_type": "stream",
     "text": [
      "\r",
      " 60%|████████████████████████████████████████▊                           | 6/10 [15:48<14:15, 213.78s/it]"
     ]
    },
    {
     "name": "stdout",
     "output_type": "stream",
     "text": [
      "72/120 | 6.282 sec | MAP@10: 0.064\n",
      "73/120 | 1.31 sec | MAP@10: 0.064\n",
      "74/120 | 1.601 sec | MAP@10: 0.064\n",
      "75/120 | 1.866 sec | MAP@10: 0.064\n",
      "76/120 | 2.715 sec | MAP@10: 0.0\n",
      "77/120 | 2.385 sec | MAP@10: 0.064\n",
      "78/120 | 4.087 sec | MAP@10: 0.064\n",
      "79/120 | 4.367 sec | MAP@10: 0.064\n",
      "80/120 | 4.244 sec | MAP@10: 0.064\n",
      "81/120 | 6.782 sec | MAP@10: 0.064\n",
      "82/120 | 3.355 sec | MAP@10: 0.064\n",
      "83/120 | 5.887 sec | MAP@10: 0.064\n"
     ]
    },
    {
     "name": "stderr",
     "output_type": "stream",
     "text": [
      "\r",
      " 70%|███████████████████████████████████████████████▌                    | 7/10 [24:02<15:16, 305.47s/it]"
     ]
    },
    {
     "name": "stdout",
     "output_type": "stream",
     "text": [
      "84/120 | 8.94 sec | MAP@10: 0.064\n",
      "85/120 | 1.035 sec | MAP@10: 0.064\n",
      "86/120 | 1.35 sec | MAP@10: 0.064\n",
      "87/120 | 1.834 sec | MAP@10: 0.001\n",
      "88/120 | 4.268 sec | MAP@10: 0.064\n",
      "89/120 | 2.869 sec | MAP@10: 0.0\n",
      "90/120 | 4.872 sec | MAP@10: 0.064\n",
      "91/120 | 3.152 sec | MAP@10: 0.064\n",
      "92/120 | 3.261 sec | MAP@10: 0.064\n",
      "93/120 | 2.887 sec | MAP@10: 0.064\n",
      "94/120 | 3.207 sec | MAP@10: 0.064\n",
      "95/120 | 5.459 sec | MAP@10: 0.064\n"
     ]
    },
    {
     "name": "stderr",
     "output_type": "stream",
     "text": [
      "\r",
      " 80%|██████████████████████████████████████████████████████▍             | 8/10 [37:55<15:46, 473.41s/it]"
     ]
    },
    {
     "name": "stdout",
     "output_type": "stream",
     "text": [
      "96/120 | 5.296 sec | MAP@10: 0.064\n",
      "97/120 | 0.716 sec | MAP@10: 0.0\n",
      "98/120 | 1.328 sec | MAP@10: 0.064\n",
      "99/120 | 1.992 sec | MAP@10: 0.064\n",
      "100/120 | 4.348 sec | MAP@10: 0.064\n",
      "101/120 | 2.615 sec | MAP@10: 0.001\n",
      "102/120 | 5.6 sec | MAP@10: 0.064\n",
      "103/120 | 5.484 sec | MAP@10: 0.0\n",
      "104/120 | 2.953 sec | MAP@10: 0.064\n",
      "105/120 | 3.483 sec | MAP@10: 0.064\n",
      "106/120 | 3.693 sec | MAP@10: 0.064\n",
      "107/120 | 5.859 sec | MAP@10: 0.064\n"
     ]
    },
    {
     "name": "stderr",
     "output_type": "stream",
     "text": [
      "\r",
      " 90%|█████████████████████████████████████████████████████████████▏      | 9/10 [56:31<11:14, 674.36s/it]"
     ]
    },
    {
     "name": "stdout",
     "output_type": "stream",
     "text": [
      "108/120 | 8.102 sec | MAP@10: 0.064\n",
      "109/120 | 1.325 sec | MAP@10: 0.064\n",
      "110/120 | 1.086 sec | MAP@10: 0.0\n",
      "111/120 | 1.908 sec | MAP@10: 0.064\n",
      "112/120 | 2.782 sec | MAP@10: 0.064\n",
      "113/120 | 2.789 sec | MAP@10: 0.064\n",
      "114/120 | 3.192 sec | MAP@10: 0.064\n",
      "115/120 | 2.268 sec | MAP@10: 0.064\n",
      "116/120 | 3.643 sec | MAP@10: 0.064\n",
      "117/120 | 3.359 sec | MAP@10: 0.064\n",
      "118/120 | 4.175 sec | MAP@10: 0.064\n",
      "119/120 | 9.217 sec | MAP@10: 0.064\n"
     ]
    },
    {
     "name": "stderr",
     "output_type": "stream",
     "text": [
      "100%|█████████████████████████████████████████████████████████████████| 10/10 [1:23:26<00:00, 500.61s/it]"
     ]
    },
    {
     "name": "stdout",
     "output_type": "stream",
     "text": [
      "120/120 | 7.019 sec | MAP@10: 0.064\n"
     ]
    },
    {
     "name": "stderr",
     "output_type": "stream",
     "text": [
      "\n"
     ]
    }
   ],
   "source": [
    "# HNSW params:\n",
    "M = range(10, 110, 10)\n",
    "efC = range(20, 200, 15)\n",
    "num_threads = 8\n",
    "\n",
    "total = len(M)*len(efC)\n",
    "\n",
    "method = 'hnsw'\n",
    "space_name = 'negdotprod'\n",
    "data_type = nmslib.DataType.DENSE_VECTOR\n",
    "\n",
    "# Evaluate params:\n",
    "test_embeds = user_embeds_aug[\n",
    "    dataset.user_id_map.convert_to_internal(TEST_USERS)\n",
    "]\n",
    "\n",
    "# GridSearch:\n",
    "hnsw_results = []\n",
    "cnt = 0\n",
    "for m in tqdm(M):\n",
    "    for efc in efC:\n",
    "        cnt += 1\n",
    "        # init model:\n",
    "        a, b, c = init_configs(\n",
    "            M_1=m, efC_1=efc, num_threads_1=num_threads,\n",
    "            method_1=method, space_name_1=space_name,\n",
    "            data_type_1=data_type,\n",
    "            user_embeds_aug_1=user_embeds_aug,\n",
    "            item_embeds_aug_1=item_embeds_aug\n",
    "        )\n",
    "        hnsw_c = HNSW(a, b, c)\n",
    "        # evaluate:\n",
    "        start = time.time()\n",
    "        pred_items, _ = hnsw_c.query(\n",
    "            test_embeds, k=10, num_threads=8\n",
    "        )\n",
    "        end = time.time()\n",
    "        rect_recs_c = transform_hnsw_to_rectools_recs(\n",
    "            pred_items, TEST_USERS\n",
    "        )\n",
    "        model_name = f'hnsw_{m}_{efc}'\n",
    "        qual_c = make_hnsw_test(\n",
    "            model_name, rect_recs_c, metrics, test, train\n",
    "        )\n",
    "        sec = round(end - start, 3)\n",
    "        qual_c['time sec'] = sec\n",
    "        # save quality:\n",
    "        hnsw_results.append(qual_c)\n",
    "        with open('hnsw_results.dill_1', 'wb') as f:\n",
    "            dill.dump(hnsw_results, f)\n",
    "            \n",
    "        # Stdout:\n",
    "        print(\n",
    "            f'{cnt}/{total} | {sec} sec |',\n",
    "            f'MAP@10: {round(hnsw_results[-1][\"MAP@10\"], 3)}'\n",
    "        )"
   ]
  },
  {
   "cell_type": "markdown",
   "id": "f0b64547",
   "metadata": {},
   "source": [
    "Судя по всему значения $MAP@10$ отличаются в незначимых числах после запятой. Тогда отберем наилучшее решение по времени работы."
   ]
  },
  {
   "cell_type": "code",
   "execution_count": 217,
   "id": "787b218a",
   "metadata": {},
   "outputs": [
    {
     "data": {
      "text/plain": [
       "0.0640108277103709"
      ]
     },
     "execution_count": 217,
     "metadata": {},
     "output_type": "execute_result"
    }
   ],
   "source": [
    "max([r['MAP@10'] for r in hnsw_results])"
   ]
  },
  {
   "cell_type": "code",
   "execution_count": 248,
   "id": "ed1a5a0b",
   "metadata": {},
   "outputs": [
    {
     "data": {
      "text/plain": [
       "[('hnsw_10_20', 0.971, 0.0640108277103709),\n",
       " ('hnsw_20_20', 0.982, 0.0640108277103709),\n",
       " ('hnsw_80_20', 1.035, 0.0640108277103709),\n",
       " ('hnsw_40_20', 1.08, 0.0640108277103709)]"
      ]
     },
     "execution_count": 248,
     "metadata": {},
     "output_type": "execute_result"
    }
   ],
   "source": [
    "sorted_by_time = sorted(\n",
    "    filter(lambda r: r['MAP@10'] > 0.06, hnsw_results),\n",
    "    key=lambda x: x['time sec']\n",
    ")\n",
    "[\n",
    "    (r['model'], r['time sec'], r['MAP@10']) for r in sorted_by_time\n",
    "][:4]"
   ]
  },
  {
   "cell_type": "code",
   "execution_count": 102,
   "id": "d40923cd",
   "metadata": {},
   "outputs": [],
   "source": [
    "a_best, b_best, c_best = init_configs(\n",
    "    M_1=10, efC_1=20, num_threads_1=num_threads,\n",
    "    method_1=method, space_name_1=space_name,\n",
    "    data_type_1=data_type,\n",
    "    user_embeds_aug_1=user_embeds_aug,\n",
    "    item_embeds_aug_1=item_embeds_aug\n",
    ")\n",
    "hnsw_best = HNSW(a_best, b_best, c_best)"
   ]
  },
  {
   "cell_type": "code",
   "execution_count": 106,
   "id": "30e5f347",
   "metadata": {},
   "outputs": [
    {
     "name": "stdout",
     "output_type": "stream",
     "text": [
      "[ 9996 11237  5732  5658 14901  7571  1819  7793  9194 16228]\n"
     ]
    }
   ],
   "source": [
    "predict_items, _ = hnsw_best.query(\n",
    "    user_embeds_aug,\n",
    "    k=10,\n",
    "    num_threads=4\n",
    ")\n",
    "\n",
    "predict_items_unique = np.unique(predict_items, axis=0)\n",
    "if predict_items_unique.shape[0] == 1:\n",
    "    unique_res = dataset.item_id_map.convert_to_external(\n",
    "        predict_items_unique[0]\n",
    "    )\n",
    "else:\n",
    "    unique_res = dataset.item_id_map.convert_to_external(\n",
    "        np.unique(predict_items_unique)\n",
    "    )\n",
    "print(unique_res)"
   ]
  },
  {
   "cell_type": "markdown",
   "id": "b0e230ba",
   "metadata": {},
   "source": [
    "Рекомендуемые айтемы несколько изменились относительно популярного."
   ]
  },
  {
   "cell_type": "code",
   "execution_count": 107,
   "id": "960c9c99",
   "metadata": {},
   "outputs": [
    {
     "data": {
      "text/plain": [
       "[10440, 15297, 13865, 9728, 4151, 3734, 2657, 142, 6809, 8636]"
      ]
     },
     "execution_count": 107,
     "metadata": {},
     "output_type": "execute_result"
    }
   ],
   "source": [
    "popular_items_all[:10]"
   ]
  },
  {
   "cell_type": "code",
   "execution_count": 108,
   "id": "dddd07b1",
   "metadata": {},
   "outputs": [
    {
     "data": {
      "text/plain": [
       "array([10, 13, 14, 19, 30, 32, 34, 60, 73, 82])"
      ]
     },
     "execution_count": 108,
     "metadata": {},
     "output_type": "execute_result"
    }
   ],
   "source": [
    "# Индексы рекомендуемых hnsw айтемов в популярном:\n",
    "np.where(np.isin(popular_items_all, unique_res))[0]"
   ]
  },
  {
   "cell_type": "markdown",
   "id": "6dae2ce7",
   "metadata": {},
   "source": [
    "# 5. Avatars"
   ]
  },
  {
   "cell_type": "code",
   "execution_count": 381,
   "id": "fa99fe7c",
   "metadata": {},
   "outputs": [],
   "source": [
    "np.random.seed(3)"
   ]
  },
  {
   "cell_type": "markdown",
   "id": "74ef18f9",
   "metadata": {},
   "source": [
    "## 5.1. Avatar 1\n",
    "\n",
    "Посмотрим, какие жанры фильмов самые не популярные и построим аватара на их основе.\n",
    "\n",
    "Ожидаемые рекомендации от модели: фильмы того же жанра и как следствие - отсутствие переобучения на популярные жанры картин."
   ]
  },
  {
   "cell_type": "code",
   "execution_count": 315,
   "id": "e3e9fced",
   "metadata": {},
   "outputs": [],
   "source": [
    "genre_counts = item_features[\n",
    "    item_features['feature'] == 'genre'\n",
    "].value_counts('value')"
   ]
  },
  {
   "cell_type": "code",
   "execution_count": 340,
   "id": "35064b37",
   "metadata": {
    "scrolled": false
   },
   "outputs": [
    {
     "data": {
      "text/plain": [
       "value\n",
       "мировая классика       24\n",
       "катастрофы             22\n",
       "живая природа          20\n",
       "вокруг света           19\n",
       "дорамы                 18\n",
       "медицинские            16\n",
       "для самых маленьких    15\n",
       "телешоу                14\n",
       "короткий метр          13\n",
       "стендап                12\n",
       "увлечения              12\n",
       "по комиксам             9\n",
       "охота и рыбалка         9\n",
       "ток-шоу                 9\n",
       "футбол                  9\n",
       "фильмы-спектакли        9\n",
       "юмор                    7\n",
       "популярное              7\n",
       "единоборства            7\n",
       "тележурналы             6\n",
       "dtype: int64"
      ]
     },
     "execution_count": 340,
     "metadata": {},
     "output_type": "execute_result"
    }
   ],
   "source": [
    "genre_counts.tail(40).iloc[:-20]"
   ]
  },
  {
   "cell_type": "markdown",
   "id": "76836465",
   "metadata": {},
   "source": [
    "К сожалнию видны ошибки в некоторых наименованиях, однако примем их как есть. Отберем не самые последние и тематически связанные, чтобы модели было что рекомендовать:"
   ]
  },
  {
   "cell_type": "code",
   "execution_count": 408,
   "id": "3e52e256",
   "metadata": {},
   "outputs": [],
   "source": [
    "chosen_genre = ['живая природа', 'вокруг света', 'охота и рыбалка']"
   ]
  },
  {
   "cell_type": "markdown",
   "id": "b1a62090",
   "metadata": {},
   "source": [
    "И сделаем пользователя примерно средним по количеству взаимодействий."
   ]
  },
  {
   "cell_type": "code",
   "execution_count": 409,
   "id": "5f623868",
   "metadata": {},
   "outputs": [
    {
     "data": {
      "text/plain": [
       "5.692"
      ]
     },
     "execution_count": 409,
     "metadata": {},
     "output_type": "execute_result"
    }
   ],
   "source": [
    "interactions.groupby('user_id').count()['item_id'].mean().round(3)"
   ]
  },
  {
   "cell_type": "code",
   "execution_count": 410,
   "id": "ed3faed7",
   "metadata": {},
   "outputs": [
    {
     "data": {
      "text/plain": [
       "38"
      ]
     },
     "execution_count": 410,
     "metadata": {},
     "output_type": "execute_result"
    }
   ],
   "source": [
    "genre_features = item_features[item_features['feature'] == 'genre']\n",
    "same_genre_items = genre_features[\n",
    "    genre_features['value'].isin(chosen_genre)\n",
    "]['id'].unique()\n",
    "same_genre_items.shape[0]"
   ]
  },
  {
   "cell_type": "markdown",
   "id": "16084b38",
   "metadata": {},
   "source": [
    "Возьмем 7 фильмов:"
   ]
  },
  {
   "cell_type": "code",
   "execution_count": 411,
   "id": "b40f072e",
   "metadata": {},
   "outputs": [
    {
     "data": {
      "text/plain": [
       "array([ 9176, 13696,  8916,  4586, 13839, 12794,   229])"
      ]
     },
     "execution_count": 411,
     "metadata": {},
     "output_type": "execute_result"
    }
   ],
   "source": [
    "avatar_1_items = np.random.choice(\n",
    "    same_genre_items, 7, replace=False\n",
    ")\n",
    "avatar_1_items"
   ]
  },
  {
   "cell_type": "markdown",
   "id": "265c9185",
   "metadata": {},
   "source": [
    "Построим интеракции с ними:"
   ]
  },
  {
   "cell_type": "code",
   "execution_count": 593,
   "id": "4d24d83d",
   "metadata": {},
   "outputs": [],
   "source": [
    "def make_avatar_interactions(\n",
    "    avatar_id, avatar_items, train_columns\n",
    "):\n",
    "    interaction_points = ['total_dur', 'watched_pct']\n",
    "    \n",
    "    avatar_interactions = pd.DataFrame(np.stack([\n",
    "        np.random.choice(train[ip], avatar_items.shape[0])\n",
    "        for ip in interaction_points\n",
    "    ])).T\n",
    "    avatar_interactions['last_watch_dt'] = np.random.choice(\n",
    "        train['last_watch_dt'], avatar_items.shape[0], replace=False\n",
    "    )\n",
    "    avatar_interactions.columns = (\n",
    "        interaction_points + ['last_watch_dt']\n",
    "    )\n",
    "    avatar_interactions['weight'] = (\n",
    "        np.where(avatar_interactions['watched_pct'] > 10, 3, 1)\n",
    "    )\n",
    "    \n",
    "    avatar_interactions['item_id'] = avatar_items\n",
    "    avatar_interactions['user_id'] = avatar_id\n",
    "    avatar_interactions = avatar_interactions[train_columns]\n",
    "    \n",
    "    return avatar_interactions"
   ]
  },
  {
   "cell_type": "code",
   "execution_count": 596,
   "id": "bde184d7",
   "metadata": {},
   "outputs": [
    {
     "data": {
      "text/html": [
       "<div>\n",
       "<style scoped>\n",
       "    .dataframe tbody tr th:only-of-type {\n",
       "        vertical-align: middle;\n",
       "    }\n",
       "\n",
       "    .dataframe tbody tr th {\n",
       "        vertical-align: top;\n",
       "    }\n",
       "\n",
       "    .dataframe thead th {\n",
       "        text-align: right;\n",
       "    }\n",
       "</style>\n",
       "<table border=\"1\" class=\"dataframe\">\n",
       "  <thead>\n",
       "    <tr style=\"text-align: right;\">\n",
       "      <th></th>\n",
       "      <th>user_id</th>\n",
       "      <th>item_id</th>\n",
       "      <th>last_watch_dt</th>\n",
       "      <th>total_dur</th>\n",
       "      <th>watched_pct</th>\n",
       "      <th>weight</th>\n",
       "    </tr>\n",
       "  </thead>\n",
       "  <tbody>\n",
       "    <tr>\n",
       "      <th>0</th>\n",
       "      <td>1097559</td>\n",
       "      <td>9176</td>\n",
       "      <td>2021-08-02</td>\n",
       "      <td>14733.0</td>\n",
       "      <td>97.0</td>\n",
       "      <td>3</td>\n",
       "    </tr>\n",
       "    <tr>\n",
       "      <th>1</th>\n",
       "      <td>1097559</td>\n",
       "      <td>13696</td>\n",
       "      <td>2021-05-07</td>\n",
       "      <td>30570.0</td>\n",
       "      <td>64.0</td>\n",
       "      <td>3</td>\n",
       "    </tr>\n",
       "    <tr>\n",
       "      <th>2</th>\n",
       "      <td>1097559</td>\n",
       "      <td>8916</td>\n",
       "      <td>2021-05-01</td>\n",
       "      <td>12117.0</td>\n",
       "      <td>100.0</td>\n",
       "      <td>3</td>\n",
       "    </tr>\n",
       "    <tr>\n",
       "      <th>3</th>\n",
       "      <td>1097559</td>\n",
       "      <td>4586</td>\n",
       "      <td>2021-07-26</td>\n",
       "      <td>5920.0</td>\n",
       "      <td>100.0</td>\n",
       "      <td>3</td>\n",
       "    </tr>\n",
       "    <tr>\n",
       "      <th>4</th>\n",
       "      <td>1097559</td>\n",
       "      <td>13839</td>\n",
       "      <td>2021-06-29</td>\n",
       "      <td>320.0</td>\n",
       "      <td>94.0</td>\n",
       "      <td>3</td>\n",
       "    </tr>\n",
       "    <tr>\n",
       "      <th>5</th>\n",
       "      <td>1097559</td>\n",
       "      <td>12794</td>\n",
       "      <td>2021-05-28</td>\n",
       "      <td>47498.0</td>\n",
       "      <td>97.0</td>\n",
       "      <td>3</td>\n",
       "    </tr>\n",
       "    <tr>\n",
       "      <th>6</th>\n",
       "      <td>1097559</td>\n",
       "      <td>229</td>\n",
       "      <td>2021-07-14</td>\n",
       "      <td>5821.0</td>\n",
       "      <td>78.0</td>\n",
       "      <td>3</td>\n",
       "    </tr>\n",
       "  </tbody>\n",
       "</table>\n",
       "</div>"
      ],
      "text/plain": [
       "   user_id  item_id last_watch_dt  total_dur  watched_pct  weight\n",
       "0  1097559     9176    2021-08-02    14733.0         97.0       3\n",
       "1  1097559    13696    2021-05-07    30570.0         64.0       3\n",
       "2  1097559     8916    2021-05-01    12117.0        100.0       3\n",
       "3  1097559     4586    2021-07-26     5920.0        100.0       3\n",
       "4  1097559    13839    2021-06-29      320.0         94.0       3\n",
       "5  1097559    12794    2021-05-28    47498.0         97.0       3\n",
       "6  1097559      229    2021-07-14     5821.0         78.0       3"
      ]
     },
     "execution_count": 596,
     "metadata": {},
     "output_type": "execute_result"
    }
   ],
   "source": [
    "avatar_1_id = users['user_id'].max() + 1\n",
    "avatar_1_interactions = make_avatar_interactions(\n",
    "    avatar_1_id, avatar_1_items, train.columns\n",
    ")\n",
    "avatar_1_interactions"
   ]
  },
  {
   "cell_type": "markdown",
   "id": "1147dd68",
   "metadata": {},
   "source": [
    "Сгенерируем пользователю средние признаки:"
   ]
  },
  {
   "cell_type": "code",
   "execution_count": 451,
   "id": "83dde079",
   "metadata": {},
   "outputs": [
    {
     "data": {
      "text/html": [
       "<div>\n",
       "<style scoped>\n",
       "    .dataframe tbody tr th:only-of-type {\n",
       "        vertical-align: middle;\n",
       "    }\n",
       "\n",
       "    .dataframe tbody tr th {\n",
       "        vertical-align: top;\n",
       "    }\n",
       "\n",
       "    .dataframe thead th {\n",
       "        text-align: right;\n",
       "    }\n",
       "</style>\n",
       "<table border=\"1\" class=\"dataframe\">\n",
       "  <thead>\n",
       "    <tr style=\"text-align: right;\">\n",
       "      <th></th>\n",
       "      <th>id</th>\n",
       "      <th>value</th>\n",
       "      <th>feature</th>\n",
       "    </tr>\n",
       "  </thead>\n",
       "  <tbody>\n",
       "    <tr>\n",
       "      <th>0</th>\n",
       "      <td>1097559</td>\n",
       "      <td>age_35_44</td>\n",
       "      <td>age</td>\n",
       "    </tr>\n",
       "    <tr>\n",
       "      <th>1</th>\n",
       "      <td>1097559</td>\n",
       "      <td>Ж</td>\n",
       "      <td>sex</td>\n",
       "    </tr>\n",
       "    <tr>\n",
       "      <th>2</th>\n",
       "      <td>1097559</td>\n",
       "      <td>income_40_60</td>\n",
       "      <td>income</td>\n",
       "    </tr>\n",
       "  </tbody>\n",
       "</table>\n",
       "</div>"
      ],
      "text/plain": [
       "        id         value feature\n",
       "0  1097559     age_35_44     age\n",
       "1  1097559             Ж     sex\n",
       "2  1097559  income_40_60  income"
      ]
     },
     "execution_count": 451,
     "metadata": {},
     "output_type": "execute_result"
    }
   ],
   "source": [
    "avatar_1_features = pd.DataFrame({\n",
    "    'id': [avatar_1_id]*3,\n",
    "    'value': ['age_35_44', 'Ж', 'income_40_60'],\n",
    "    'feature': ['age', 'sex', 'income',]\n",
    "})\n",
    "\n",
    "avatar_1_features"
   ]
  },
  {
   "cell_type": "markdown",
   "id": "419431cc",
   "metadata": {},
   "source": [
    "## 5.2. Avatar 2"
   ]
  },
  {
   "cell_type": "markdown",
   "id": "1d70c661",
   "metadata": {},
   "source": [
    "Оценим способность модели строить рекомендации на основе признаков пользователя. Возьмем самую не популярную группу пользоавтелей по значениям признаков и добавим аватара с одним просмотром какой-нибудь картины, из этой группы.\n",
    "\n",
    "Ожидаемые рекомендации от модели: популярные картины, среди выбранной группы."
   ]
  },
  {
   "cell_type": "code",
   "execution_count": 540,
   "id": "a4dc064b",
   "metadata": {},
   "outputs": [
    {
     "data": {
      "text/html": [
       "<div>\n",
       "<style scoped>\n",
       "    .dataframe tbody tr th:only-of-type {\n",
       "        vertical-align: middle;\n",
       "    }\n",
       "\n",
       "    .dataframe tbody tr th {\n",
       "        vertical-align: top;\n",
       "    }\n",
       "\n",
       "    .dataframe thead th {\n",
       "        text-align: right;\n",
       "    }\n",
       "</style>\n",
       "<table border=\"1\" class=\"dataframe\">\n",
       "  <thead>\n",
       "    <tr style=\"text-align: right;\">\n",
       "      <th></th>\n",
       "      <th>value</th>\n",
       "      <th>id</th>\n",
       "    </tr>\n",
       "    <tr>\n",
       "      <th>feature</th>\n",
       "      <th></th>\n",
       "      <th></th>\n",
       "    </tr>\n",
       "  </thead>\n",
       "  <tbody>\n",
       "    <tr>\n",
       "      <th>age</th>\n",
       "      <td>age_18_24</td>\n",
       "      <td>31750</td>\n",
       "    </tr>\n",
       "    <tr>\n",
       "      <th>income</th>\n",
       "      <td>income_0_20</td>\n",
       "      <td>832</td>\n",
       "    </tr>\n",
       "    <tr>\n",
       "      <th>sex</th>\n",
       "      <td>Ж</td>\n",
       "      <td>276357</td>\n",
       "    </tr>\n",
       "  </tbody>\n",
       "</table>\n",
       "</div>"
      ],
      "text/plain": [
       "               value      id\n",
       "feature                     \n",
       "age        age_18_24   31750\n",
       "income   income_0_20     832\n",
       "sex                Ж  276357"
      ]
     },
     "execution_count": 540,
     "metadata": {},
     "output_type": "execute_result"
    }
   ],
   "source": [
    "min_feature_values = (\n",
    "    user_features[\n",
    "    ~(user_features['value'] == 'Unknown')\n",
    "].groupby(['feature', 'value']).count()\n",
    ".reset_index().groupby('feature').min()\n",
    ")\n",
    "min_feature_values"
   ]
  },
  {
   "cell_type": "code",
   "execution_count": 571,
   "id": "c87cf349",
   "metadata": {},
   "outputs": [
    {
     "name": "stdout",
     "output_type": "stream",
     "text": [
      "random_user: [259793]\n",
      "random_item: [13865]\n"
     ]
    }
   ],
   "source": [
    "min_users_group = user_features[\n",
    "    user_features['value'].isin(min_feature_values['value'])\n",
    "]['id'].unique()\n",
    "\n",
    "random_user = np.random.choice(min_users_group, 1)\n",
    "print(f'random_user: {random_user}')\n",
    "\n",
    "random_item = np.random.choice(\n",
    "        train[train['user_id'] == random_user[0]]['item_id'], 1\n",
    "    )\n",
    "print(f'random_item: {random_item}')"
   ]
  },
  {
   "cell_type": "code",
   "execution_count": 590,
   "id": "e165955e",
   "metadata": {},
   "outputs": [
    {
     "data": {
      "text/plain": [
       "[15297, 10440, 9728, 13865, 4151, 3734, 2657, 4880, 142, 8636]"
      ]
     },
     "execution_count": 590,
     "metadata": {},
     "output_type": "execute_result"
    }
   ],
   "source": [
    "min_group_popular = train[\n",
    "    train['user_id'].isin(min_users_group)\n",
    "]['item_id'].value_counts().index.tolist()\n",
    "\n",
    "min_group_popular[:10]"
   ]
  },
  {
   "cell_type": "markdown",
   "id": "950d659c",
   "metadata": {},
   "source": [
    "Создадим аватару взаимодействия и признаки:"
   ]
  },
  {
   "cell_type": "code",
   "execution_count": 602,
   "id": "5af76b10",
   "metadata": {},
   "outputs": [
    {
     "data": {
      "text/html": [
       "<div>\n",
       "<style scoped>\n",
       "    .dataframe tbody tr th:only-of-type {\n",
       "        vertical-align: middle;\n",
       "    }\n",
       "\n",
       "    .dataframe tbody tr th {\n",
       "        vertical-align: top;\n",
       "    }\n",
       "\n",
       "    .dataframe thead th {\n",
       "        text-align: right;\n",
       "    }\n",
       "</style>\n",
       "<table border=\"1\" class=\"dataframe\">\n",
       "  <thead>\n",
       "    <tr style=\"text-align: right;\">\n",
       "      <th></th>\n",
       "      <th>user_id</th>\n",
       "      <th>item_id</th>\n",
       "      <th>last_watch_dt</th>\n",
       "      <th>total_dur</th>\n",
       "      <th>watched_pct</th>\n",
       "      <th>weight</th>\n",
       "    </tr>\n",
       "  </thead>\n",
       "  <tbody>\n",
       "    <tr>\n",
       "      <th>0</th>\n",
       "      <td>1097560</td>\n",
       "      <td>13865</td>\n",
       "      <td>2021-06-09</td>\n",
       "      <td>508.0</td>\n",
       "      <td>23.0</td>\n",
       "      <td>3</td>\n",
       "    </tr>\n",
       "  </tbody>\n",
       "</table>\n",
       "</div>"
      ],
      "text/plain": [
       "   user_id  item_id last_watch_dt  total_dur  watched_pct  weight\n",
       "0  1097560    13865    2021-06-09      508.0         23.0       3"
      ]
     },
     "execution_count": 602,
     "metadata": {},
     "output_type": "execute_result"
    }
   ],
   "source": [
    "avatar_2_id = avatar_1_id + 1\n",
    "avatar_2_interactions = make_avatar_interactions(\n",
    "    avatar_2_id, random_item, train.columns\n",
    ")\n",
    "avatar_2_interactions"
   ]
  },
  {
   "cell_type": "code",
   "execution_count": 609,
   "id": "492e7abb",
   "metadata": {},
   "outputs": [
    {
     "data": {
      "text/html": [
       "<div>\n",
       "<style scoped>\n",
       "    .dataframe tbody tr th:only-of-type {\n",
       "        vertical-align: middle;\n",
       "    }\n",
       "\n",
       "    .dataframe tbody tr th {\n",
       "        vertical-align: top;\n",
       "    }\n",
       "\n",
       "    .dataframe thead th {\n",
       "        text-align: right;\n",
       "    }\n",
       "</style>\n",
       "<table border=\"1\" class=\"dataframe\">\n",
       "  <thead>\n",
       "    <tr style=\"text-align: right;\">\n",
       "      <th></th>\n",
       "      <th>id</th>\n",
       "      <th>value</th>\n",
       "      <th>feature</th>\n",
       "    </tr>\n",
       "  </thead>\n",
       "  <tbody>\n",
       "    <tr>\n",
       "      <th>0</th>\n",
       "      <td>1097560</td>\n",
       "      <td>age_18_24</td>\n",
       "      <td>age</td>\n",
       "    </tr>\n",
       "    <tr>\n",
       "      <th>1</th>\n",
       "      <td>1097560</td>\n",
       "      <td>Ж</td>\n",
       "      <td>sex</td>\n",
       "    </tr>\n",
       "    <tr>\n",
       "      <th>2</th>\n",
       "      <td>1097560</td>\n",
       "      <td>income_0_20</td>\n",
       "      <td>income</td>\n",
       "    </tr>\n",
       "  </tbody>\n",
       "</table>\n",
       "</div>"
      ],
      "text/plain": [
       "        id        value feature\n",
       "0  1097560    age_18_24     age\n",
       "1  1097560            Ж     sex\n",
       "2  1097560  income_0_20  income"
      ]
     },
     "execution_count": 609,
     "metadata": {},
     "output_type": "execute_result"
    }
   ],
   "source": [
    "avatar_2_features = pd.DataFrame({\n",
    "    'id': [avatar_2_id]*3,\n",
    "    'value': min_feature_values.loc[\n",
    "        ['age', 'sex', 'income'], 'value'\n",
    "    ].values,\n",
    "    'feature': ['age', 'sex', 'income',]\n",
    "})\n",
    "\n",
    "avatar_2_features"
   ]
  },
  {
   "cell_type": "markdown",
   "id": "d8764462",
   "metadata": {},
   "source": [
    "## 5.3. Avatar 3"
   ]
  },
  {
   "cell_type": "markdown",
   "id": "dbabb6f3",
   "metadata": {},
   "source": [
    "Рассмотрим пятый по популярности жанр и построим аватар с большим количеством просмотров этого жанра.\n",
    "\n",
    "Ожидаемые рекомендации модели: фильмы того же жанра."
   ]
  },
  {
   "cell_type": "code",
   "execution_count": 614,
   "id": "fca3ec7b",
   "metadata": {},
   "outputs": [
    {
     "data": {
      "text/plain": [
       "value\n",
       "драмы         4923\n",
       "комедии       3479\n",
       "зарубежные    3055\n",
       "мелодрамы     2533\n",
       "триллеры      2297\n",
       "dtype: int64"
      ]
     },
     "execution_count": 614,
     "metadata": {},
     "output_type": "execute_result"
    }
   ],
   "source": [
    "genre_counts.head()"
   ]
  },
  {
   "cell_type": "code",
   "execution_count": 623,
   "id": "c0b36f4d",
   "metadata": {},
   "outputs": [
    {
     "data": {
      "text/plain": [
       "array([ 2440, 10657,  5755,  6067,  3790,  6781,  8283, 15968,  9726,\n",
       "        2950,  5809,  2032, 12259, 11735, 11117, 15306, 12114,   719,\n",
       "        8226,  2408, 12637,  3136, 11264,  4964, 15384])"
      ]
     },
     "execution_count": 623,
     "metadata": {},
     "output_type": "execute_result"
    }
   ],
   "source": [
    "triller_genre_items = genre_features[\n",
    "    genre_features['value'] == 'триллеры'\n",
    "]['id'].unique()\n",
    "\n",
    "avatar_3_items = np.random.choice(\n",
    "    triller_genre_items, 25, replace=False\n",
    ")\n",
    "avatar_3_items"
   ]
  },
  {
   "cell_type": "markdown",
   "id": "ae11f61c",
   "metadata": {},
   "source": [
    "Создадим взаимодействия аватара и средние признаки:"
   ]
  },
  {
   "cell_type": "code",
   "execution_count": 625,
   "id": "1c04e882",
   "metadata": {},
   "outputs": [
    {
     "name": "stdout",
     "output_type": "stream",
     "text": [
      "(25, 6)\n"
     ]
    },
    {
     "data": {
      "text/html": [
       "<div>\n",
       "<style scoped>\n",
       "    .dataframe tbody tr th:only-of-type {\n",
       "        vertical-align: middle;\n",
       "    }\n",
       "\n",
       "    .dataframe tbody tr th {\n",
       "        vertical-align: top;\n",
       "    }\n",
       "\n",
       "    .dataframe thead th {\n",
       "        text-align: right;\n",
       "    }\n",
       "</style>\n",
       "<table border=\"1\" class=\"dataframe\">\n",
       "  <thead>\n",
       "    <tr style=\"text-align: right;\">\n",
       "      <th></th>\n",
       "      <th>user_id</th>\n",
       "      <th>item_id</th>\n",
       "      <th>last_watch_dt</th>\n",
       "      <th>total_dur</th>\n",
       "      <th>watched_pct</th>\n",
       "      <th>weight</th>\n",
       "    </tr>\n",
       "  </thead>\n",
       "  <tbody>\n",
       "    <tr>\n",
       "      <th>0</th>\n",
       "      <td>1097561</td>\n",
       "      <td>2440</td>\n",
       "      <td>2021-07-05</td>\n",
       "      <td>8334.0</td>\n",
       "      <td>16.0</td>\n",
       "      <td>3</td>\n",
       "    </tr>\n",
       "    <tr>\n",
       "      <th>1</th>\n",
       "      <td>1097561</td>\n",
       "      <td>10657</td>\n",
       "      <td>2021-06-27</td>\n",
       "      <td>1126.0</td>\n",
       "      <td>39.0</td>\n",
       "      <td>3</td>\n",
       "    </tr>\n",
       "    <tr>\n",
       "      <th>2</th>\n",
       "      <td>1097561</td>\n",
       "      <td>5755</td>\n",
       "      <td>2021-07-18</td>\n",
       "      <td>1294.0</td>\n",
       "      <td>100.0</td>\n",
       "      <td>3</td>\n",
       "    </tr>\n",
       "    <tr>\n",
       "      <th>3</th>\n",
       "      <td>1097561</td>\n",
       "      <td>6067</td>\n",
       "      <td>2021-07-05</td>\n",
       "      <td>8625.0</td>\n",
       "      <td>100.0</td>\n",
       "      <td>3</td>\n",
       "    </tr>\n",
       "    <tr>\n",
       "      <th>4</th>\n",
       "      <td>1097561</td>\n",
       "      <td>3790</td>\n",
       "      <td>2021-06-02</td>\n",
       "      <td>4600.0</td>\n",
       "      <td>100.0</td>\n",
       "      <td>3</td>\n",
       "    </tr>\n",
       "  </tbody>\n",
       "</table>\n",
       "</div>"
      ],
      "text/plain": [
       "   user_id  item_id last_watch_dt  total_dur  watched_pct  weight\n",
       "0  1097561     2440    2021-07-05     8334.0         16.0       3\n",
       "1  1097561    10657    2021-06-27     1126.0         39.0       3\n",
       "2  1097561     5755    2021-07-18     1294.0        100.0       3\n",
       "3  1097561     6067    2021-07-05     8625.0        100.0       3\n",
       "4  1097561     3790    2021-06-02     4600.0        100.0       3"
      ]
     },
     "execution_count": 625,
     "metadata": {},
     "output_type": "execute_result"
    }
   ],
   "source": [
    "avatar_3_id = avatar_2_id + 1\n",
    "avatar_3_interactions = make_avatar_interactions(\n",
    "    avatar_3_id, avatar_3_items, train.columns\n",
    ")\n",
    "\n",
    "print(avatar_3_interactions.shape)\n",
    "avatar_3_interactions.head()"
   ]
  },
  {
   "cell_type": "code",
   "execution_count": 626,
   "id": "5da98a62",
   "metadata": {},
   "outputs": [
    {
     "data": {
      "text/html": [
       "<div>\n",
       "<style scoped>\n",
       "    .dataframe tbody tr th:only-of-type {\n",
       "        vertical-align: middle;\n",
       "    }\n",
       "\n",
       "    .dataframe tbody tr th {\n",
       "        vertical-align: top;\n",
       "    }\n",
       "\n",
       "    .dataframe thead th {\n",
       "        text-align: right;\n",
       "    }\n",
       "</style>\n",
       "<table border=\"1\" class=\"dataframe\">\n",
       "  <thead>\n",
       "    <tr style=\"text-align: right;\">\n",
       "      <th></th>\n",
       "      <th>id</th>\n",
       "      <th>value</th>\n",
       "      <th>feature</th>\n",
       "    </tr>\n",
       "  </thead>\n",
       "  <tbody>\n",
       "    <tr>\n",
       "      <th>0</th>\n",
       "      <td>1097561</td>\n",
       "      <td>age_35_44</td>\n",
       "      <td>age</td>\n",
       "    </tr>\n",
       "    <tr>\n",
       "      <th>1</th>\n",
       "      <td>1097561</td>\n",
       "      <td>Ж</td>\n",
       "      <td>sex</td>\n",
       "    </tr>\n",
       "    <tr>\n",
       "      <th>2</th>\n",
       "      <td>1097561</td>\n",
       "      <td>income_40_60</td>\n",
       "      <td>income</td>\n",
       "    </tr>\n",
       "  </tbody>\n",
       "</table>\n",
       "</div>"
      ],
      "text/plain": [
       "        id         value feature\n",
       "0  1097561     age_35_44     age\n",
       "1  1097561             Ж     sex\n",
       "2  1097561  income_40_60  income"
      ]
     },
     "execution_count": 626,
     "metadata": {},
     "output_type": "execute_result"
    }
   ],
   "source": [
    "avatar_3_features = pd.DataFrame({\n",
    "    'id': [avatar_3_id]*3,\n",
    "    'value': ['age_35_44', 'Ж', 'income_40_60'],\n",
    "    'feature': ['age', 'sex', 'income',]\n",
    "})\n",
    "\n",
    "avatar_3_features"
   ]
  },
  {
   "cell_type": "markdown",
   "id": "67a61c3f",
   "metadata": {},
   "source": [
    "## 5.4. Collect and analize avatars"
   ]
  },
  {
   "cell_type": "code",
   "execution_count": 627,
   "id": "cf7c9bd9",
   "metadata": {},
   "outputs": [],
   "source": [
    "avatars = {\n",
    "    'avatar_1': (avatar_1_interactions, avatar_1_features),\n",
    "    'avatar_2': (avatar_2_interactions, avatar_2_features),\n",
    "    'avatar_3': (avatar_3_interactions, avatar_3_features),\n",
    "}\n",
    "\n",
    "for av_name, av_features in avatars.items():\n",
    "    train = pd.concat([train, av_features[0]])\n",
    "    user_features = pd.concat([user_features, av_features[1]])"
   ]
  },
  {
   "cell_type": "markdown",
   "id": "ae4c8915",
   "metadata": {},
   "source": [
    "### Fit model with new users"
   ]
  },
  {
   "cell_type": "code",
   "execution_count": 630,
   "id": "dc81b9e3",
   "metadata": {},
   "outputs": [],
   "source": [
    "dataset_avatars = Dataset.construct(\n",
    "    interactions_df=train,\n",
    "    user_features_df=user_features,\n",
    "    cat_user_features=[\"sex\", \"age\", \"income\"],\n",
    "    item_features_df=item_features,\n",
    "    cat_item_features=[\"genre\", \"content_type\"],\n",
    ")"
   ]
  },
  {
   "cell_type": "code",
   "execution_count": 631,
   "id": "04770010",
   "metadata": {},
   "outputs": [],
   "source": [
    "MF_final_model_avatars = LightFMWrapperModel(\n",
    "    LightFM(\n",
    "        no_components=12,\n",
    "        loss='warp',\n",
    "        random_state=RANDOM_STATE,\n",
    "        learning_rate=LEARNING_RATE,\n",
    "        user_alpha=0.01,\n",
    "        item_alpha=0.01,\n",
    "    ),\n",
    "    epochs=3,\n",
    "    num_threads=NUM_THREADS,\n",
    ")"
   ]
  },
  {
   "cell_type": "code",
   "execution_count": 632,
   "id": "d77c3e90",
   "metadata": {},
   "outputs": [
    {
     "data": {
      "text/plain": [
       "<rectools.models.lightfm.LightFMWrapperModel at 0x7f269a4febb0>"
      ]
     },
     "execution_count": 632,
     "metadata": {},
     "output_type": "execute_result"
    }
   ],
   "source": [
    "MF_final_model_avatars.fit(dataset_avatars)"
   ]
  },
  {
   "cell_type": "code",
   "execution_count": 635,
   "id": "6d19c907",
   "metadata": {},
   "outputs": [
    {
     "data": {
      "text/plain": [
       "0.07407306029738925"
      ]
     },
     "execution_count": 635,
     "metadata": {},
     "output_type": "execute_result"
    }
   ],
   "source": [
    "mf_recos_avs = MF_final_model_avatars.recommend(\n",
    "    users=TEST_USERS,\n",
    "    dataset=dataset,\n",
    "    k=K_RECOS,\n",
    "    filter_viewed=True,\n",
    ")\n",
    "\n",
    "map_metric_avs = calc_metrics(\n",
    "    metrics, mf_recos_avs, test, train\n",
    ")['MAP@10']\n",
    "map_metric_avs"
   ]
  },
  {
   "cell_type": "markdown",
   "id": "495ef2ec",
   "metadata": {},
   "source": [
    "### Check by source model"
   ]
  },
  {
   "cell_type": "code",
   "execution_count": 660,
   "id": "f6ad4370",
   "metadata": {},
   "outputs": [],
   "source": [
    "mf_recos_avs_users = MF_final_model_avatars.recommend(\n",
    "    users=np.array([avatar_1_id, avatar_2_id, avatar_3_id]),\n",
    "    dataset=dataset,\n",
    "    k=K_RECOS,\n",
    "    filter_viewed=True,\n",
    ")"
   ]
  },
  {
   "cell_type": "code",
   "execution_count": 665,
   "id": "731a1099",
   "metadata": {},
   "outputs": [
    {
     "data": {
      "text/html": [
       "<div>\n",
       "<style scoped>\n",
       "    .dataframe tbody tr th:only-of-type {\n",
       "        vertical-align: middle;\n",
       "    }\n",
       "\n",
       "    .dataframe tbody tr th {\n",
       "        vertical-align: top;\n",
       "    }\n",
       "\n",
       "    .dataframe thead th {\n",
       "        text-align: right;\n",
       "    }\n",
       "</style>\n",
       "<table border=\"1\" class=\"dataframe\">\n",
       "  <thead>\n",
       "    <tr style=\"text-align: right;\">\n",
       "      <th></th>\n",
       "      <th>user_id</th>\n",
       "      <th>item_id</th>\n",
       "      <th>score</th>\n",
       "      <th>rank</th>\n",
       "    </tr>\n",
       "  </thead>\n",
       "  <tbody>\n",
       "    <tr>\n",
       "      <th>0</th>\n",
       "      <td>1097559</td>\n",
       "      <td>15297</td>\n",
       "      <td>-0.117178</td>\n",
       "      <td>1</td>\n",
       "    </tr>\n",
       "    <tr>\n",
       "      <th>1</th>\n",
       "      <td>1097559</td>\n",
       "      <td>10440</td>\n",
       "      <td>-0.117464</td>\n",
       "      <td>2</td>\n",
       "    </tr>\n",
       "    <tr>\n",
       "      <th>2</th>\n",
       "      <td>1097559</td>\n",
       "      <td>13865</td>\n",
       "      <td>-0.117654</td>\n",
       "      <td>3</td>\n",
       "    </tr>\n",
       "  </tbody>\n",
       "</table>\n",
       "</div>"
      ],
      "text/plain": [
       "   user_id  item_id     score  rank\n",
       "0  1097559    15297 -0.117178     1\n",
       "1  1097559    10440 -0.117464     2\n",
       "2  1097559    13865 -0.117654     3"
      ]
     },
     "execution_count": 665,
     "metadata": {},
     "output_type": "execute_result"
    }
   ],
   "source": [
    "mf_recos_avs_users.head(3)"
   ]
  },
  {
   "cell_type": "markdown",
   "id": "55e722be",
   "metadata": {},
   "source": [
    "#### Avatar 1"
   ]
  },
  {
   "cell_type": "markdown",
   "id": "e142890f",
   "metadata": {},
   "source": [
    "Посмотрим на жанры рекомендованных фильмов:"
   ]
  },
  {
   "cell_type": "code",
   "execution_count": 671,
   "id": "40343e0b",
   "metadata": {},
   "outputs": [],
   "source": [
    "av_1_rec_model_items = mf_recos_avs_users[\n",
    "    mf_recos_avs_users['user_id'] == avatar_1_id\n",
    "]['item_id']"
   ]
  },
  {
   "cell_type": "code",
   "execution_count": 686,
   "id": "e60fd623",
   "metadata": {},
   "outputs": [
    {
     "data": {
      "text/html": [
       "<div>\n",
       "<style scoped>\n",
       "    .dataframe tbody tr th:only-of-type {\n",
       "        vertical-align: middle;\n",
       "    }\n",
       "\n",
       "    .dataframe tbody tr th {\n",
       "        vertical-align: top;\n",
       "    }\n",
       "\n",
       "    .dataframe thead th {\n",
       "        text-align: right;\n",
       "    }\n",
       "</style>\n",
       "<table border=\"1\" class=\"dataframe\">\n",
       "  <thead>\n",
       "    <tr style=\"text-align: right;\">\n",
       "      <th></th>\n",
       "      <th>id</th>\n",
       "      <th>value</th>\n",
       "      <th>feature</th>\n",
       "    </tr>\n",
       "  </thead>\n",
       "  <tbody>\n",
       "  </tbody>\n",
       "</table>\n",
       "</div>"
      ],
      "text/plain": [
       "Empty DataFrame\n",
       "Columns: [id, value, feature]\n",
       "Index: []"
      ]
     },
     "execution_count": 686,
     "metadata": {},
     "output_type": "execute_result"
    }
   ],
   "source": [
    "item_features[\n",
    "    item_features['id'].isin(av_1_rec_model_items)\n",
    "][\n",
    "    item_features[\n",
    "        item_features['id'].isin(av_1_rec_model_items)\n",
    "    ]['value'].isin(chosen_genre)\n",
    "]"
   ]
  },
  {
   "cell_type": "markdown",
   "id": "e206634b",
   "metadata": {},
   "source": [
    "Ни один из рекомендованных фильмов не попал в искомый жанр."
   ]
  },
  {
   "cell_type": "markdown",
   "id": "725cf0e9",
   "metadata": {},
   "source": [
    "#### Avatar 2"
   ]
  },
  {
   "cell_type": "markdown",
   "id": "5edf2b22",
   "metadata": {},
   "source": [
    "Посмотрим, на каких местах стоят рекомендованные айтемы:"
   ]
  },
  {
   "cell_type": "code",
   "execution_count": 688,
   "id": "d085f5da",
   "metadata": {},
   "outputs": [],
   "source": [
    "av_2_rec_model_items = mf_recos_avs_users[\n",
    "    mf_recos_avs_users['user_id'] == avatar_2_id\n",
    "]['item_id']"
   ]
  },
  {
   "cell_type": "code",
   "execution_count": 689,
   "id": "53161d8f",
   "metadata": {},
   "outputs": [
    {
     "data": {
      "text/plain": [
       "(array([ 0,  1,  2,  4,  5,  6,  7,  8, 10, 18]),)"
      ]
     },
     "execution_count": 689,
     "metadata": {},
     "output_type": "execute_result"
    }
   ],
   "source": [
    "np.where(np.isin(min_group_popular, av_2_rec_model_items))"
   ]
  },
  {
   "cell_type": "markdown",
   "id": "b9daf8a0",
   "metadata": {},
   "source": [
    "Почти все айтемы рекомендованы и упорядочены в соответсвии с предполагаемым набором рекомендаций."
   ]
  },
  {
   "cell_type": "markdown",
   "id": "821fcce3",
   "metadata": {},
   "source": [
    "#### Avatar 3"
   ]
  },
  {
   "cell_type": "markdown",
   "id": "b6144a44",
   "metadata": {},
   "source": [
    "Изучим предлагаемые рекомендательной системой жанры:"
   ]
  },
  {
   "cell_type": "code",
   "execution_count": 695,
   "id": "5d189ff0",
   "metadata": {},
   "outputs": [],
   "source": [
    "av_3_rec_model_items = mf_recos_avs_users[\n",
    "    mf_recos_avs_users['user_id'] == avatar_3_id\n",
    "]['item_id']"
   ]
  },
  {
   "cell_type": "code",
   "execution_count": 697,
   "id": "d9b2a4b3",
   "metadata": {},
   "outputs": [
    {
     "data": {
      "text/html": [
       "<div>\n",
       "<style scoped>\n",
       "    .dataframe tbody tr th:only-of-type {\n",
       "        vertical-align: middle;\n",
       "    }\n",
       "\n",
       "    .dataframe tbody tr th {\n",
       "        vertical-align: top;\n",
       "    }\n",
       "\n",
       "    .dataframe thead th {\n",
       "        text-align: right;\n",
       "    }\n",
       "</style>\n",
       "<table border=\"1\" class=\"dataframe\">\n",
       "  <thead>\n",
       "    <tr style=\"text-align: right;\">\n",
       "      <th></th>\n",
       "      <th>id</th>\n",
       "      <th>value</th>\n",
       "      <th>feature</th>\n",
       "    </tr>\n",
       "  </thead>\n",
       "  <tbody>\n",
       "  </tbody>\n",
       "</table>\n",
       "</div>"
      ],
      "text/plain": [
       "Empty DataFrame\n",
       "Columns: [id, value, feature]\n",
       "Index: []"
      ]
     },
     "execution_count": 697,
     "metadata": {},
     "output_type": "execute_result"
    }
   ],
   "source": [
    "item_features[\n",
    "    item_features['id'].isin(av_3_rec_model_items)\n",
    "][\n",
    "    item_features[\n",
    "        item_features['id'].isin(av_3_rec_model_items)\n",
    "    ]['value'].isin(chosen_genre)\n",
    "]"
   ]
  },
  {
   "cell_type": "markdown",
   "id": "cb196534",
   "metadata": {},
   "source": [
    "Ни один из рекомендованных фильмов не попал в искомый жанр."
   ]
  },
  {
   "cell_type": "markdown",
   "id": "70a5e728",
   "metadata": {},
   "source": [
    "### Conclusion\n",
    "\n",
    "Отметим следующее.\n",
    "\n",
    "1. Модель имеет сдвиг на популярные айтемы, что было выявлено ранее. Это как минимум означает, что не популярные айтемы/жанры айтемов вряд ли попадут в рекомендованные.\n",
    "\n",
    "2. Выбраная категория людей для второго аватара смотрит популярное не меньше остальных, поэтому популярное в этой группе не отличается от популярного по всем пользователям. Это лишний раз говорит о том, что моделью рекомендуется скорее популярное.\n",
    "\n",
    "# 6. Cold users\n",
    "\n",
    "Холодным пользвателям будем рекомендовать популярное."
   ]
  },
  {
   "cell_type": "markdown",
   "id": "b4c95b70",
   "metadata": {},
   "source": [
    "# 7. Optimize HNSW model implementation for one user"
   ]
  },
  {
   "cell_type": "code",
   "execution_count": 124,
   "id": "362a9734",
   "metadata": {},
   "outputs": [],
   "source": [
    "import numpy as np\n",
    "import nmslib\n",
    "import typing as tp\n",
    "\n",
    "\n",
    "class HNSWModel:\n",
    "    def __init__(\n",
    "        self,\n",
    "        index_time_params: tp.Dict[str, int],\n",
    "        index_params: tp.Dict[str, tp.Union[int, nmslib.DataType]],\n",
    "        embeddings: tp.Dict[str, np.array],\n",
    "        maps: tp.Dict[str, Dict[int, int]],\n",
    "        pops: List[int],\n",
    "    ):\n",
    "        # Params:\n",
    "        self.index_time_params = index_time_params\n",
    "        self.index_params = index_params\n",
    "        # Embeddings:\n",
    "        self.embeddings = embeddings\n",
    "        # Index:\n",
    "        self.index = nmslib.init(\n",
    "            method = index_params['method'],\n",
    "            space = index_params['space_name'],\n",
    "            data_type = index_params['data_type']\n",
    "        )\n",
    "        self.index.addDataPointBatch(embeddings['item_embeds_aug'])\n",
    "        self.index.createIndex(index_time_params)\n",
    "        # Query params:\n",
    "        self.index.setQueryTimeParams(\n",
    "            {'efSearch': index_time_params['efConstruction']}\n",
    "        )\n",
    "        # Maps:\n",
    "        self.user_map = maps['user_map']\n",
    "        self.user_map_inv = {\n",
    "            v: k for k, v in maps['user_map'].items()\n",
    "        }\n",
    "        self.item_map = maps['item_map']\n",
    "        self.item_map_inv = {\n",
    "            v: k for k, v in maps['item_map'].items()\n",
    "        }\n",
    "        # Popular items:\n",
    "        self.pops = pops\n",
    "    \n",
    "    def predict(self, user_id: int, k: int = 10) -> List[int]:\n",
    "        in_user_id = self.user_map.get(user_id)\n",
    "        print(f'in_user_id: {in_user_id}')\n",
    "        if in_user_id is None:\n",
    "            return self.pops[:k]\n",
    "        else:\n",
    "            query = self.embeddings['user_embeds_aug'][\n",
    "                in_user_id\n",
    "            ]\n",
    "            pred_items, _ = self.index.knnQuery(query, k=k)\n",
    "            return list(map(self.item_map_inv.get, pred_items))\n",
    "    \n",
    "    \n",
    "def init_configs(\n",
    "    M_1: int, efC_1: int, num_threads_1: int,\n",
    "    method_1: str, space_name_1: str, data_type_1: nmslib.DataType,\n",
    "    user_embeds_aug_1: np.array, item_embeds_aug_1: np.array\n",
    ") -> Tuple[\n",
    "    tp.Dict[str, int],\n",
    "    tp.Dict[str, tp.Union[int, nmslib.DataType]],\n",
    "    tp.Dict[str, np.array]\n",
    "]:\n",
    "    index_time_params_0 = {\n",
    "        'M': M_1,\n",
    "        'indexThreadQty': num_threads_1,\n",
    "        'efConstruction': efC_1,\n",
    "    }\n",
    "    index_params_0 = {\n",
    "        'method': method_1,\n",
    "        'space_name': space_name_1,\n",
    "        'data_type': data_type_1\n",
    "    }\n",
    "    embeddings_0 = {\n",
    "        'user_embeds_aug': user_embeds_aug_1,\n",
    "        'item_embeds_aug': item_embeds_aug_1,\n",
    "    }\n",
    "    return index_time_params_0, index_params_0, embeddings_0"
   ]
  },
  {
   "cell_type": "code",
   "execution_count": 125,
   "id": "1b012f85",
   "metadata": {},
   "outputs": [
    {
     "name": "stdout",
     "output_type": "stream",
     "text": [
      "user embeds: (756562, 14)\n",
      "item embeds: (14019, 14)\n",
      "\n",
      "user embeds aug: (756562, 15)\n",
      "item embeds aug: (14019, 15)\n"
     ]
    }
   ],
   "source": [
    "# Prepare embeddings:\n",
    "user_embeds, item_embeds = MF_final_model.get_vectors(dataset)\n",
    "\n",
    "print(f'user embeds: {user_embeds.shape}')\n",
    "print(f'item embeds: {item_embeds.shape}\\n')\n",
    "\n",
    "\n",
    "user_embeds_aug, item_embeds_aug = augments_embeds(\n",
    "    user_embeds,\n",
    "    item_embeds\n",
    ")\n",
    "\n",
    "print(f'user embeds aug: {user_embeds_aug.shape}')\n",
    "print(f'item embeds aug: {item_embeds_aug.shape}')"
   ]
  },
  {
   "cell_type": "code",
   "execution_count": 126,
   "id": "a130f5bb",
   "metadata": {},
   "outputs": [],
   "source": [
    "# Save embeddings:\n",
    "np.save('user_embeds_aug.npy', user_embeds_aug)\n",
    "np.save('item_embeds_aug.npy', item_embeds_aug)"
   ]
  },
  {
   "cell_type": "code",
   "execution_count": 127,
   "id": "16bfe470",
   "metadata": {},
   "outputs": [
    {
     "name": "stdout",
     "output_type": "stream",
     "text": [
      "user embeds aug: (756562, 15)\n",
      "item embeds aug: (14019, 15)\n"
     ]
    }
   ],
   "source": [
    "# Load embeddings:\n",
    "user_embeds_aug = np.load('user_embeds_aug.npy')\n",
    "item_embeds_aug = np.load('item_embeds_aug.npy')\n",
    "\n",
    "print(f'user embeds aug: {user_embeds_aug.shape}')\n",
    "print(f'item embeds aug: {item_embeds_aug.shape}')"
   ]
  },
  {
   "cell_type": "code",
   "execution_count": 128,
   "id": "d4ec569a",
   "metadata": {},
   "outputs": [],
   "source": [
    "# Users/Items maps:\n",
    "items_ext = train['item_id'].unique()\n",
    "items_int = dataset.item_id_map.convert_to_internal(items_ext)\n",
    "items_map = {\n",
    "    it_ex: it_in for it_ex, it_in in zip(items_ext, items_int)\n",
    "}\n",
    "\n",
    "users_ext = train['user_id'].unique()\n",
    "users_int = dataset.user_id_map.convert_to_internal(users_ext)\n",
    "users_map = {\n",
    "    us_ex: us_in for us_ex, us_in in zip(users_ext, users_int)\n",
    "}\n",
    "\n",
    "maps = {\n",
    "    'user_map': users_map,\n",
    "    'item_map': items_map\n",
    "}"
   ]
  },
  {
   "cell_type": "code",
   "execution_count": 129,
   "id": "6b8cb799",
   "metadata": {},
   "outputs": [],
   "source": [
    "# Save popular:\n",
    "np.save('popular_items.npy', popular_items_all)"
   ]
  },
  {
   "cell_type": "code",
   "execution_count": 130,
   "id": "a6c0685c",
   "metadata": {},
   "outputs": [
    {
     "data": {
      "text/plain": [
       "[10440, 15297, 13865, 9728, 4151, 3734, 2657, 142, 6809, 8636]"
      ]
     },
     "execution_count": 130,
     "metadata": {},
     "output_type": "execute_result"
    }
   ],
   "source": [
    "# Load popular:\n",
    "popular_items_all = np.load('popular_items.npy').tolist()\n",
    "popular_items_all[:10]"
   ]
  },
  {
   "cell_type": "code",
   "execution_count": 131,
   "id": "a9029583",
   "metadata": {},
   "outputs": [],
   "source": [
    "a_best, b_best, c_best = init_configs(\n",
    "    M_1=10, efC_1=20, num_threads_1=8,\n",
    "    method_1='hnsw', space_name_1='negdotprod',\n",
    "    data_type_1=nmslib.DataType.DENSE_VECTOR,\n",
    "    user_embeds_aug_1=user_embeds_aug,\n",
    "    item_embeds_aug_1=item_embeds_aug\n",
    ")\n",
    "\n",
    "hnsw_best = HNSWModel(\n",
    "    a_best, b_best, c_best, maps, popular_items_all\n",
    ")"
   ]
  },
  {
   "cell_type": "code",
   "execution_count": 132,
   "id": "c7fcc5c2",
   "metadata": {},
   "outputs": [
    {
     "data": {
      "text/plain": [
       "array([203219, 200197,  73446, ..., 623792, 442859, 857162])"
      ]
     },
     "execution_count": 132,
     "metadata": {},
     "output_type": "execute_result"
    }
   ],
   "source": [
    "test['user_id'].unique()"
   ]
  },
  {
   "cell_type": "code",
   "execution_count": 133,
   "id": "b92abd1f",
   "metadata": {},
   "outputs": [
    {
     "name": "stdout",
     "output_type": "stream",
     "text": [
      "in_user_id: 65114\n"
     ]
    },
    {
     "data": {
      "text/plain": [
       "[2657, 9996, 5732, 5658, 7417, 7829, 14901, 7571, 1819, 7793]"
      ]
     },
     "execution_count": 133,
     "metadata": {},
     "output_type": "execute_result"
    }
   ],
   "source": [
    "hnsw_best.predict(73446, k=10)"
   ]
  },
  {
   "cell_type": "code",
   "execution_count": 146,
   "id": "ffc5eacd",
   "metadata": {},
   "outputs": [
    {
     "name": "stdout",
     "output_type": "stream",
     "text": [
      "in_user_id: 561844\n"
     ]
    },
    {
     "data": {
      "text/plain": [
       "[2657, 9996, 5732, 5658, 7417, 7829, 14901, 7571, 1819, 7793]"
      ]
     },
     "execution_count": 146,
     "metadata": {},
     "output_type": "execute_result"
    }
   ],
   "source": [
    "hnsw_best.predict(623792, k=10)"
   ]
  },
  {
   "cell_type": "code",
   "execution_count": 147,
   "id": "33fd19b2",
   "metadata": {},
   "outputs": [
    {
     "name": "stdout",
     "output_type": "stream",
     "text": [
      "in_user_id: None\n"
     ]
    },
    {
     "data": {
      "text/plain": [
       "[10440, 15297, 13865, 9728, 4151, 3734, 2657, 142, 6809, 8636]"
      ]
     },
     "execution_count": 147,
     "metadata": {},
     "output_type": "execute_result"
    }
   ],
   "source": [
    "cold_user = -1\n",
    "hnsw_best.predict(cold_user, k=10)"
   ]
  },
  {
   "cell_type": "code",
   "execution_count": null,
   "id": "df0aaae5",
   "metadata": {},
   "outputs": [],
   "source": []
  }
 ],
 "metadata": {
  "kernelspec": {
   "display_name": "Python 3 (ipykernel)",
   "language": "python",
   "name": "python3"
  },
  "language_info": {
   "codemirror_mode": {
    "name": "ipython",
    "version": 3
   },
   "file_extension": ".py",
   "mimetype": "text/x-python",
   "name": "python",
   "nbconvert_exporter": "python",
   "pygments_lexer": "ipython3",
   "version": "3.8.15"
  }
 },
 "nbformat": 4,
 "nbformat_minor": 5
}
