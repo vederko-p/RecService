{
 "cells": [
  {
   "cell_type": "code",
   "execution_count": 1,
   "id": "b96b06e0",
   "metadata": {},
   "outputs": [],
   "source": [
    "import pandas as pd\n",
    "import numpy as np"
   ]
  },
  {
   "cell_type": "code",
   "execution_count": 2,
   "id": "bb287afd",
   "metadata": {},
   "outputs": [],
   "source": [
    "train_data = pd.read_csv('train', names=['item'])\n",
    "test_data = pd.read_csv('test', names=['item'])"
   ]
  },
  {
   "cell_type": "code",
   "execution_count": 3,
   "id": "2599a1ae",
   "metadata": {},
   "outputs": [],
   "source": [
    "df = pd.concat([train_data, test_data], ignore_index=True)\n",
    "#беру не весь датасет так как ноутбук не вывозит\n",
    "df = df[:500]"
   ]
  },
  {
   "cell_type": "code",
   "execution_count": 4,
   "id": "ec93431e",
   "metadata": {},
   "outputs": [
    {
     "data": {
      "text/html": [
       "<div>\n",
       "<style scoped>\n",
       "    .dataframe tbody tr th:only-of-type {\n",
       "        vertical-align: middle;\n",
       "    }\n",
       "\n",
       "    .dataframe tbody tr th {\n",
       "        vertical-align: top;\n",
       "    }\n",
       "\n",
       "    .dataframe thead th {\n",
       "        text-align: right;\n",
       "    }\n",
       "</style>\n",
       "<table border=\"1\" class=\"dataframe\">\n",
       "  <thead>\n",
       "    <tr style=\"text-align: right;\">\n",
       "      <th></th>\n",
       "      <th>item</th>\n",
       "    </tr>\n",
       "  </thead>\n",
       "  <tbody>\n",
       "    <tr>\n",
       "      <th>0</th>\n",
       "      <td>333396 267089 155959 353335 414000 339989 2741...</td>\n",
       "    </tr>\n",
       "    <tr>\n",
       "      <th>1</th>\n",
       "      <td>174197 335779 141676 119856 376664 311755 3881...</td>\n",
       "    </tr>\n",
       "    <tr>\n",
       "      <th>2</th>\n",
       "      <td>254861 213397 462645 403619 446211 221833 1572...</td>\n",
       "    </tr>\n",
       "    <tr>\n",
       "      <th>3</th>\n",
       "      <td>132371 199878 357751 92032 94315 435049 260359...</td>\n",
       "    </tr>\n",
       "    <tr>\n",
       "      <th>4</th>\n",
       "      <td>408028 326575 425054 152422 387296 382570 3505...</td>\n",
       "    </tr>\n",
       "  </tbody>\n",
       "</table>\n",
       "</div>"
      ],
      "text/plain": [
       "                                                item\n",
       "0  333396 267089 155959 353335 414000 339989 2741...\n",
       "1  174197 335779 141676 119856 376664 311755 3881...\n",
       "2  254861 213397 462645 403619 446211 221833 1572...\n",
       "3  132371 199878 357751 92032 94315 435049 260359...\n",
       "4  408028 326575 425054 152422 387296 382570 3505..."
      ]
     },
     "execution_count": 4,
     "metadata": {},
     "output_type": "execute_result"
    }
   ],
   "source": [
    "df.head()"
   ]
  },
  {
   "cell_type": "markdown",
   "id": "d38e3a4e",
   "metadata": {},
   "source": [
    "<h2>Преобразуем датафрейм к виду {user, item, order}</h2>"
   ]
  },
  {
   "cell_type": "code",
   "execution_count": 5,
   "id": "31de89c6",
   "metadata": {},
   "outputs": [],
   "source": [
    "def preprocess_df(df_):\n",
    "    df_['order'] = df_['item'].apply(lambda x: list(range(len(x.split(' '))-1, -1, -1)))\n",
    "    df_ = df_.assign(liked_id=df_['item'].str.split(' '))\n",
    "    df_ = df_.drop('item', axis=1)\n",
    "    df_ = df_.rename(columns={\"liked_id\": \"item\"})\n",
    "    df_ = df_.explode(['item', 'order'])\n",
    "    df_ = df_.reset_index()\n",
    "    df_ = df_.rename(columns={\"index\": \"user\"})    \n",
    "    return df_\n",
    "\n",
    "    \n",
    "\n",
    "    \n",
    "\n",
    "    \n",
    "    "
   ]
  },
  {
   "cell_type": "code",
   "execution_count": 6,
   "id": "01988318",
   "metadata": {},
   "outputs": [],
   "source": [
    "# res = preprocess_df(df)\n",
    "# res.head()"
   ]
  },
  {
   "cell_type": "markdown",
   "id": "93e9922c",
   "metadata": {},
   "source": [
    "### Датафрейм до препроцесса и после для 2х юзеров с больше чем 5 лайками"
   ]
  },
  {
   "cell_type": "code",
   "execution_count": 7,
   "id": "f368c920",
   "metadata": {},
   "outputs": [],
   "source": [
    "target_df = df[df.item.str.count(' ')>4]"
   ]
  },
  {
   "cell_type": "code",
   "execution_count": 9,
   "id": "8d056c67",
   "metadata": {},
   "outputs": [],
   "source": [
    "random_sample = target_df.sample(2, random_state=1)"
   ]
  },
  {
   "cell_type": "code",
   "execution_count": 10,
   "id": "e7a19529",
   "metadata": {},
   "outputs": [
    {
     "data": {
      "text/html": [
       "<div>\n",
       "<style scoped>\n",
       "    .dataframe tbody tr th:only-of-type {\n",
       "        vertical-align: middle;\n",
       "    }\n",
       "\n",
       "    .dataframe tbody tr th {\n",
       "        vertical-align: top;\n",
       "    }\n",
       "\n",
       "    .dataframe thead th {\n",
       "        text-align: right;\n",
       "    }\n",
       "</style>\n",
       "<table border=\"1\" class=\"dataframe\">\n",
       "  <thead>\n",
       "    <tr style=\"text-align: right;\">\n",
       "      <th></th>\n",
       "      <th>item</th>\n",
       "    </tr>\n",
       "  </thead>\n",
       "  <tbody>\n",
       "    <tr>\n",
       "      <th>304</th>\n",
       "      <td>429005 201532 341324 264817 199614 216592 3919...</td>\n",
       "    </tr>\n",
       "    <tr>\n",
       "      <th>340</th>\n",
       "      <td>115281 442075 201084 405374 192394 42914 10801...</td>\n",
       "    </tr>\n",
       "  </tbody>\n",
       "</table>\n",
       "</div>"
      ],
      "text/plain": [
       "                                                  item\n",
       "304  429005 201532 341324 264817 199614 216592 3919...\n",
       "340  115281 442075 201084 405374 192394 42914 10801..."
      ]
     },
     "execution_count": 10,
     "metadata": {},
     "output_type": "execute_result"
    }
   ],
   "source": [
    "#до\n",
    "random_sample"
   ]
  },
  {
   "cell_type": "code",
   "execution_count": 11,
   "id": "04392787",
   "metadata": {},
   "outputs": [
    {
     "data": {
      "text/html": [
       "<div>\n",
       "<style scoped>\n",
       "    .dataframe tbody tr th:only-of-type {\n",
       "        vertical-align: middle;\n",
       "    }\n",
       "\n",
       "    .dataframe tbody tr th {\n",
       "        vertical-align: top;\n",
       "    }\n",
       "\n",
       "    .dataframe thead th {\n",
       "        text-align: right;\n",
       "    }\n",
       "</style>\n",
       "<table border=\"1\" class=\"dataframe\">\n",
       "  <thead>\n",
       "    <tr style=\"text-align: right;\">\n",
       "      <th></th>\n",
       "      <th>user</th>\n",
       "      <th>order</th>\n",
       "      <th>item</th>\n",
       "    </tr>\n",
       "  </thead>\n",
       "  <tbody>\n",
       "    <tr>\n",
       "      <th>0</th>\n",
       "      <td>304</td>\n",
       "      <td>226</td>\n",
       "      <td>429005</td>\n",
       "    </tr>\n",
       "    <tr>\n",
       "      <th>1</th>\n",
       "      <td>304</td>\n",
       "      <td>225</td>\n",
       "      <td>201532</td>\n",
       "    </tr>\n",
       "    <tr>\n",
       "      <th>2</th>\n",
       "      <td>304</td>\n",
       "      <td>224</td>\n",
       "      <td>341324</td>\n",
       "    </tr>\n",
       "    <tr>\n",
       "      <th>3</th>\n",
       "      <td>304</td>\n",
       "      <td>223</td>\n",
       "      <td>264817</td>\n",
       "    </tr>\n",
       "    <tr>\n",
       "      <th>4</th>\n",
       "      <td>304</td>\n",
       "      <td>222</td>\n",
       "      <td>199614</td>\n",
       "    </tr>\n",
       "    <tr>\n",
       "      <th>...</th>\n",
       "      <td>...</td>\n",
       "      <td>...</td>\n",
       "      <td>...</td>\n",
       "    </tr>\n",
       "    <tr>\n",
       "      <th>354</th>\n",
       "      <td>340</td>\n",
       "      <td>4</td>\n",
       "      <td>268304</td>\n",
       "    </tr>\n",
       "    <tr>\n",
       "      <th>355</th>\n",
       "      <td>340</td>\n",
       "      <td>3</td>\n",
       "      <td>218871</td>\n",
       "    </tr>\n",
       "    <tr>\n",
       "      <th>356</th>\n",
       "      <td>340</td>\n",
       "      <td>2</td>\n",
       "      <td>80711</td>\n",
       "    </tr>\n",
       "    <tr>\n",
       "      <th>357</th>\n",
       "      <td>340</td>\n",
       "      <td>1</td>\n",
       "      <td>403945</td>\n",
       "    </tr>\n",
       "    <tr>\n",
       "      <th>358</th>\n",
       "      <td>340</td>\n",
       "      <td>0</td>\n",
       "      <td>75425</td>\n",
       "    </tr>\n",
       "  </tbody>\n",
       "</table>\n",
       "<p>359 rows × 3 columns</p>\n",
       "</div>"
      ],
      "text/plain": [
       "     user order    item\n",
       "0     304   226  429005\n",
       "1     304   225  201532\n",
       "2     304   224  341324\n",
       "3     304   223  264817\n",
       "4     304   222  199614\n",
       "..    ...   ...     ...\n",
       "354   340     4  268304\n",
       "355   340     3  218871\n",
       "356   340     2   80711\n",
       "357   340     1  403945\n",
       "358   340     0   75425\n",
       "\n",
       "[359 rows x 3 columns]"
      ]
     },
     "execution_count": 11,
     "metadata": {},
     "output_type": "execute_result"
    }
   ],
   "source": [
    "# после\n",
    "preprocess_df(random_sample)"
   ]
  },
  {
   "cell_type": "code",
   "execution_count": null,
   "id": "15367a63",
   "metadata": {},
   "outputs": [],
   "source": []
  },
  {
   "cell_type": "markdown",
   "id": "cbbc345c",
   "metadata": {},
   "source": [
    "## Homework\n",
    "\n",
    "Исходные данные - Yandex Cup 2022 RecSys:\n",
    "- Описание соревнования - https://contest.yandex.ru/yacup/contest/41618/problems/\n",
    "- Данные - https://disk.yandex.ru/d/SI1aAooPn9i8TA\n",
    "- Описание данных - в архиве likes_data.zip три файла:\n",
    "  - train - обучающий набор данных. Каждая строка - последовательность id треков, которые лайкнул один пользователь. Гарантируется, что лайки даны в той последовательности, в которой их ставил пользователь.\n",
    "  - test - набор тестовых данных. Имеет точно такой же формат, но в каждой строке не хватает последнего лайка, который надо предсказать.\n",
    "  - track_artists.csv - информация о исполнителях треков. Гарантируется, что у каждого трека есть ровно один исполнитель. Для треков, у которых фактически несколько исполнителей, мы оставили того, который считается основным исполнителем трека.\n",
    "- Описание сабмита - в качестве решения необходимо отправить файл, в котором для каждого пользователя из test в отдельной строке будет не более 100 треков, разделенных пробелом. Гарантируется, что у каждого пользователя будет только 1 лайк в тесте\n",
    "- Метрика - MRR@100"
   ]
  },
  {
   "cell_type": "markdown",
   "id": "64b576c9",
   "metadata": {},
   "source": [
    "Промежуточная задача - преобразовать данные в pandas.DataFrame вида {user, item, order}, где order - порядковый номер с конца (0 - самый \"свежий\" лайк, чем больше order, тем позже был поставлен лайк)\n",
    "\n",
    "**Итоговая задача** - построить схему валидации для данного соревнования с учетом особенностей сорвенования\n",
    "- Между `train` и `test` не должно быть общих пользователей\n",
    "- Количество фолдов задается через параметр класса `n_folds`\n",
    "- В `test` должно быть не более `p` последних треков (параметр класса `p`)"
   ]
  },
  {
   "cell_type": "code",
   "execution_count": 12,
   "id": "4a299131",
   "metadata": {},
   "outputs": [],
   "source": [
    "class UsersKFoldPOut():\n",
    "    def __init__(self, n_folds, p, user_column, item_column, random_seed=23):\n",
    "        self.n_folds = n_folds\n",
    "        self.random_seed = random_seed\n",
    "        self.user_column = user_column\n",
    "        self.item_column = item_column\n",
    "        self.p = p\n",
    "    \n",
    "    def split(self, df):\n",
    "        users = df[self.user_column].unique()\n",
    "        users_count = len(users)\n",
    "        \n",
    "        np.random.seed(self.random_seed)\n",
    "        np.random.shuffle(users)\n",
    "        \n",
    "        fold_sizes = np.full(self.n_folds, users_count // self.n_folds, dtype=int)\n",
    "        fold_sizes[: users_count % self.n_folds] += 1\n",
    "        current = 0\n",
    "        for fold_size in fold_sizes:\n",
    "            start, stop = current, current + fold_size\n",
    "            test_fold_users = users[start:stop]\n",
    "            test_mask = df['user'].isin(test_fold_users)\n",
    "            train_mask = ~test_mask\n",
    "            test_mask = (df['user'].isin(test_fold_users)) & (df.groupby('user').cumcount() < self.p)\n",
    "            \n",
    "            yield train_mask, test_mask"
   ]
  },
  {
   "cell_type": "code",
   "execution_count": 13,
   "id": "37532755",
   "metadata": {},
   "outputs": [
    {
     "name": "stdout",
     "output_type": "stream",
     "text": [
      "Fold#0 | Train: 26284, Test: 501\n",
      "Fold#1 | Train: 26284, Test: 501\n",
      "Fold#2 | Train: 26291, Test: 498\n"
     ]
    }
   ],
   "source": [
    "prepr_df = preprocess_df(df)\n",
    "cv = UsersKFoldPOut(n_folds=3, p=3, user_column='user', item_column='item')\n",
    "\n",
    "for i, (train_mask, test_mask) in enumerate(cv.split(prepr_df)):\n",
    "    train = prepr_df[train_mask]\n",
    "    test = prepr_df[test_mask]\n",
    "    \n",
    "    #Между train и test не должно быть общих пользователей\n",
    "    assert len(set(train.user.unique()) & set(test.user.unique()))==0\n",
    "    \n",
    "    #В test должно быть не более p последних треков (параметр класса p)\n",
    "    assert len(test['user']) - len(test['user'].drop_duplicates())<=test.user.nunique() * 3\n",
    "    \n",
    "    \n",
    "    print(f'Fold#{i} | Train: {train.shape[0]}, Test: {test.shape[0]}')"
   ]
  },
  {
   "cell_type": "code",
   "execution_count": null,
   "id": "4b801e06",
   "metadata": {},
   "outputs": [],
   "source": []
  }
 ],
 "metadata": {
  "kernelspec": {
   "display_name": "Python 3 (ipykernel)",
   "language": "python",
   "name": "python3"
  },
  "language_info": {
   "codemirror_mode": {
    "name": "ipython",
    "version": 3
   },
   "file_extension": ".py",
   "mimetype": "text/x-python",
   "name": "python",
   "nbconvert_exporter": "python",
   "pygments_lexer": "ipython3",
   "version": "3.8.15"
  }
 },
 "nbformat": 4,
 "nbformat_minor": 5
}
